{
 "cells": [
  {
   "cell_type": "markdown",
   "metadata": {
    "deletable": true,
    "editable": true
   },
   "source": [
    "This is the implementation of DCGAN with normalize input and one-sided label smoothing:\n",
    "- Number of epochs: 100\n",
    "- lr: 0.0002\n",
    "- Add results dir for images and loss\n",
    "- Add weight_decay: 1e-4\n",
    "\n",
    "- input: normalize (0.5, 0.5, 0.5)\n",
    "- sided_label: 0.9 ```torch.from_numpy(np.full(batch_size, 0.9, np.float32))```\n",
    "- Freezing: stop update D when loss D < 0.7 loss G"
   ]
  },
  {
   "cell_type": "markdown",
   "metadata": {
    "deletable": true,
    "editable": true
   },
   "source": [
    "# Import"
   ]
  },
  {
   "cell_type": "code",
   "execution_count": 3,
   "metadata": {
    "collapsed": true,
    "deletable": true,
    "editable": true
   },
   "outputs": [],
   "source": [
    "import argparse\n",
    "import os\n",
    "import time\n",
    "import pickle\n",
    "import numpy as np"
   ]
  },
  {
   "cell_type": "code",
   "execution_count": 4,
   "metadata": {
    "collapsed": true,
    "deletable": true,
    "editable": true
   },
   "outputs": [],
   "source": [
    "import torch\n",
    "import torch.nn as nn\n",
    "import torch.nn.init as init\n",
    "from torch.autograd import Variable\n",
    "import torch.optim as optim\n",
    "from torch.utils.data import DataLoader\n",
    "import torchvision.datasets as datasets\n",
    "import torchvision.transforms as transforms\n",
    "from torchvision.utils import save_image\n",
    "from torchnet.meter import AverageValueMeter"
   ]
  },
  {
   "cell_type": "markdown",
   "metadata": {
    "deletable": true,
    "editable": true
   },
   "source": [
    "# Define Arguments"
   ]
  },
  {
   "cell_type": "code",
   "execution_count": 5,
   "metadata": {
    "collapsed": false,
    "deletable": true,
    "editable": true
   },
   "outputs": [
    {
     "name": "stdout",
     "output_type": "stream",
     "text": [
      "total 1568\r\n",
      "drwxrwxr-x 2 hminle  4096  4월 23 13:42 \u001b[0m\u001b[01;34m7 For All Mankind Kids\u001b[0m/\r\n",
      "drwxrwxr-x 2 hminle  4096  4월 23 13:42 \u001b[01;34madidas\u001b[0m/\r\n",
      "drwxrwxr-x 2 hminle  4096  4월 23 13:42 \u001b[01;34madidas by Stella McCartney\u001b[0m/\r\n",
      "drwxrwxr-x 2 hminle  4096  4월 23 13:42 \u001b[01;34madidas Golf\u001b[0m/\r\n",
      "drwxrwxr-x 2 hminle 12288  4월 23 13:42 \u001b[01;34madidas Kids\u001b[0m/\r\n",
      "drwxrwxr-x 2 hminle 12288  4월 23 13:42 \u001b[01;34madidas Originals\u001b[0m/\r\n",
      "drwxrwxr-x 2 hminle  4096  4월 23 13:42 \u001b[01;34madidas Originals Kids\u001b[0m/\r\n",
      "drwxrwxr-x 2 hminle  4096  4월 23 13:42 \u001b[01;34madidas Outdoor\u001b[0m/\r\n",
      "drwxrwxr-x 2 hminle 12288  4월 23 13:42 \u001b[01;34madidas Running\u001b[0m/\r\n",
      "drwxrwxr-x 2 hminle  4096  4월 23 13:42 \u001b[01;34madidas Y-3 by Yohji Yamamoto\u001b[0m/\r\n",
      "drwxrwxr-x 2 hminle  4096  4월 23 13:42 \u001b[01;34mAetrex\u001b[0m/\r\n",
      "drwxrwxr-x 2 hminle  4096  4월 23 13:42 \u001b[01;34mAgatha Ruiz De La Prada Kids\u001b[0m/\r\n",
      "drwxrwxr-x 2 hminle  4096  4월 23 13:42 \u001b[01;34mAhnu\u001b[0m/\r\n",
      "drwxrwxr-x 2 hminle  4096  4월 23 13:42 \u001b[01;34mALDO\u001b[0m/\r\n",
      "drwxrwxr-x 2 hminle  4096  4월 23 13:42 \u001b[01;34mAlexander McQueen\u001b[0m/\r\n",
      "drwxrwxr-x 2 hminle  4096  4월 23 13:42 \u001b[01;34mAllrounder by Mephisto\u001b[0m/\r\n",
      "drwxrwxr-x 2 hminle  4096  4월 23 13:42 \u001b[01;34mAltra Zero Drop Footwear\u001b[0m/\r\n",
      "drwxrwxr-x 2 hminle  4096  4월 23 13:42 \u001b[01;34mAmiana\u001b[0m/\r\n",
      "drwxrwxr-x 2 hminle  4096  4월 23 13:42 \u001b[01;34mAnne Klein\u001b[0m/\r\n",
      "drwxrwxr-x 2 hminle  4096  4월 23 13:42 \u001b[01;34mArcopedico\u001b[0m/\r\n",
      "drwxrwxr-x 2 hminle  4096  4월 23 13:42 \u001b[01;34mAriat\u001b[0m/\r\n",
      "drwxrwxr-x 2 hminle  4096  4월 23 13:42 \u001b[01;34mArmani Jeans\u001b[0m/\r\n",
      "drwxrwxr-x 2 hminle  4096  4월 23 13:42 \u001b[01;34mAshworth\u001b[0m/\r\n",
      "drwxrwxr-x 2 hminle 20480  4월 23 13:42 \u001b[01;34mASICS\u001b[0m/\r\n",
      "drwxrwxr-x 2 hminle  4096  4월 23 13:42 \u001b[01;34mASICS Kids\u001b[0m/\r\n",
      "drwxrwxr-x 2 hminle  4096  4월 23 13:42 \u001b[01;34mAsolo\u001b[0m/\r\n",
      "drwxrwxr-x 2 hminle  4096  4월 23 13:42 \u001b[01;34mAster Kids\u001b[0m/\r\n",
      "drwxrwxr-x 2 hminle  4096  4월 23 13:42 \u001b[01;34mAvia\u001b[0m/\r\n",
      "drwxrwxr-x 2 hminle  4096  4월 23 13:42 \u001b[01;34mAxion\u001b[0m/\r\n",
      "drwxrwxr-x 2 hminle  4096  4월 23 13:42 \u001b[01;34mBC Footwear\u001b[0m/\r\n",
      "drwxrwxr-x 2 hminle  4096  4월 23 13:42 \u001b[01;34mBeeko\u001b[0m/\r\n",
      "drwxrwxr-x 2 hminle  4096  4월 23 13:42 \u001b[01;34mBen Sherman\u001b[0m/\r\n",
      "drwxrwxr-x 2 hminle  4096  4월 23 13:42 \u001b[01;34mBetsey Johnson\u001b[0m/\r\n",
      "drwxrwxr-x 2 hminle  4096  4월 23 13:42 \u001b[01;34mBikkembergs\u001b[0m/\r\n",
      "drwxrwxr-x 2 hminle  4096  4월 23 13:42 \u001b[01;34mBloch\u001b[0m/\r\n",
      "drwxrwxr-x 2 hminle  4096  4월 23 13:42 \u001b[01;34mBloch Kids\u001b[0m/\r\n",
      "drwxrwxr-x 2 hminle  4096  4월 23 13:42 \u001b[01;34mBlowfish\u001b[0m/\r\n",
      "drwxrwxr-x 2 hminle  4096  4월 23 13:42 \u001b[01;34mBody Glove\u001b[0m/\r\n",
      "drwxrwxr-x 2 hminle  4096  4월 23 13:42 \u001b[01;34mBogs\u001b[0m/\r\n",
      "drwxrwxr-x 2 hminle  4096  4월 23 13:42 \u001b[01;34mBorn\u001b[0m/\r\n",
      "drwxrwxr-x 2 hminle  4096  4월 23 13:42 \u001b[01;34mBOSS Green\u001b[0m/\r\n",
      "drwxrwxr-x 2 hminle  4096  4월 23 13:42 \u001b[01;34mBOSS Orange\u001b[0m/\r\n",
      "drwxrwxr-x 2 hminle  4096  4월 23 13:42 \u001b[01;34mBottega Veneta\u001b[0m/\r\n",
      "drwxrwxr-x 2 hminle 12288  4월 23 13:42 \u001b[01;34mBrooks\u001b[0m/\r\n",
      "drwxrwxr-x 2 hminle  4096  4월 23 13:42 \u001b[01;34mBrooks Kids\u001b[0m/\r\n",
      "drwxrwxr-x 2 hminle  4096  4월 23 13:42 \u001b[01;34mBurberry\u001b[0m/\r\n",
      "drwxrwxr-x 2 hminle  4096  4월 23 13:42 \u001b[01;34mCallaway\u001b[0m/\r\n",
      "drwxrwxr-x 2 hminle  4096  4월 23 13:42 \u001b[01;34mCall it SPRING\u001b[0m/\r\n",
      "drwxrwxr-x 2 hminle  4096  4월 23 13:42 \u001b[01;34mCalvin Klein\u001b[0m/\r\n",
      "drwxrwxr-x 2 hminle  4096  4월 23 13:42 \u001b[01;34mCalvin Klein Jeans\u001b[0m/\r\n",
      "drwxrwxr-x 2 hminle  4096  4월 23 13:42 \u001b[01;34mCamper\u001b[0m/\r\n",
      "drwxrwxr-x 2 hminle  4096  4월 23 13:42 \u001b[01;34mCamper Kids\u001b[0m/\r\n",
      "drwxrwxr-x 2 hminle  4096  4월 23 13:42 \u001b[01;34mCapezio\u001b[0m/\r\n",
      "drwxrwxr-x 2 hminle  4096  4월 23 13:42 \u001b[01;34mCapezio Kids\u001b[0m/\r\n",
      "drwxrwxr-x 2 hminle  4096  4월 23 13:42 \u001b[01;34mCaterpillar\u001b[0m/\r\n",
      "drwxrwxr-x 2 hminle  4096  4월 23 13:42 \u001b[01;34mChaco\u001b[0m/\r\n",
      "drwxrwxr-x 2 hminle  4096  4월 23 13:42 \u001b[01;34mChaco Kids\u001b[0m/\r\n",
      "drwxrwxr-x 2 hminle  4096  4월 23 13:42 \u001b[01;34mChicago Skates\u001b[0m/\r\n",
      "drwxrwxr-x 2 hminle  4096  4월 23 13:42 \u001b[01;34mChrome\u001b[0m/\r\n",
      "drwxrwxr-x 2 hminle  4096  4월 23 13:42 \u001b[01;34mCienta Kids Shoes\u001b[0m/\r\n",
      "drwxrwxr-x 2 hminle  4096  4월 23 13:42 \u001b[01;34mCirca\u001b[0m/\r\n",
      "drwxrwxr-x 2 hminle  4096  4월 23 13:42 \u001b[01;34mCirca Kids\u001b[0m/\r\n",
      "drwxrwxr-x 2 hminle  4096  4월 23 13:42 \u001b[01;34mClae\u001b[0m/\r\n",
      "drwxrwxr-x 2 hminle  4096  4월 23 13:42 \u001b[01;34mClarks\u001b[0m/\r\n",
      "drwxrwxr-x 2 hminle  4096  4월 23 13:42 \u001b[01;34mCobian\u001b[0m/\r\n",
      "drwxrwxr-x 2 hminle  4096  4월 23 13:42 \u001b[01;34mCole Haan\u001b[0m/\r\n",
      "drwxrwxr-x 2 hminle  4096  4월 23 13:42 \u001b[01;34mCole Haan Kids\u001b[0m/\r\n",
      "drwxrwxr-x 2 hminle  4096  4월 23 13:42 \u001b[01;34mColumbia\u001b[0m/\r\n",
      "drwxrwxr-x 2 hminle  4096  4월 23 13:42 \u001b[01;34mConverse\u001b[0m/\r\n",
      "drwxrwxr-x 2 hminle  4096  4월 23 13:42 \u001b[01;34mConverse by John Varvatos\u001b[0m/\r\n",
      "drwxrwxr-x 2 hminle  4096  4월 23 13:42 \u001b[01;34mConverse Kids\u001b[0m/\r\n",
      "drwxrwxr-x 2 hminle  4096  4월 23 13:42 \u001b[01;34mCostume National\u001b[0m/\r\n",
      "drwxrwxr-x 2 hminle  4096  4월 23 13:42 \u001b[01;34mCreative Recreation\u001b[0m/\r\n",
      "drwxrwxr-x 2 hminle  4096  4월 23 13:42 \u001b[01;34mCreative Recreation Kids\u001b[0m/\r\n",
      "drwxrwxr-x 2 hminle  4096  4월 23 13:42 \u001b[01;34mCrocs\u001b[0m/\r\n",
      "drwxrwxr-x 2 hminle  4096  4월 23 13:42 \u001b[01;34mCrocs Kids\u001b[0m/\r\n",
      "drwxrwxr-x 2 hminle  4096  4월 23 13:42 \u001b[01;34mCushe\u001b[0m/\r\n",
      "drwxrwxr-x 2 hminle  4096  4월 23 13:42 \u001b[01;34mDansko\u001b[0m/\r\n",
      "drwxrwxr-x 2 hminle  4096  4월 23 13:42 \u001b[01;34mDavid Tate\u001b[0m/\r\n",
      "drwxrwxr-x 2 hminle  4096  4월 23 13:42 \u001b[01;34mDC\u001b[0m/\r\n",
      "drwxrwxr-x 2 hminle 12288  4월 23 13:42 \u001b[01;34mDC Kids\u001b[0m/\r\n",
      "drwxrwxr-x 2 hminle  4096  4월 23 13:42 \u001b[01;34mDeer Stags\u001b[0m/\r\n",
      "drwxrwxr-x 2 hminle  4096  4월 23 13:42 \u001b[01;34mDexter Bowling\u001b[0m/\r\n",
      "drwxrwxr-x 2 hminle  4096  4월 23 13:42 \u001b[01;34mDiadora\u001b[0m/\r\n",
      "drwxrwxr-x 2 hminle  4096  4월 23 13:42 \u001b[01;34mDiadora Kids\u001b[0m/\r\n",
      "drwxrwxr-x 2 hminle  4096  4월 23 13:42 \u001b[01;34mDiesel\u001b[0m/\r\n",
      "drwxrwxr-x 2 hminle  4096  4월 23 13:42 \u001b[01;34mDirk Bikkembergs\u001b[0m/\r\n",
      "drwxrwxr-x 2 hminle  4096  4월 23 13:42 \u001b[01;34mDKNY\u001b[0m/\r\n",
      "drwxrwxr-x 2 hminle  4096  4월 23 13:42 \u001b[01;34mDolce & Gabbana\u001b[0m/\r\n",
      "drwxrwxr-x 2 hminle  4096  4월 23 13:42 \u001b[01;34mDrew\u001b[0m/\r\n",
      "drwxrwxr-x 2 hminle  4096  4월 23 13:42 \u001b[01;34mDr. Martens\u001b[0m/\r\n",
      "drwxrwxr-x 2 hminle  4096  4월 23 13:42 \u001b[01;34mDSQUARED2\u001b[0m/\r\n",
      "drwxrwxr-x 2 hminle  4096  4월 23 13:42 \u001b[01;34mDunham\u001b[0m/\r\n",
      "drwxrwxr-x 2 hminle  4096  4월 23 13:42 \u001b[01;34mDVS Shoe Company\u001b[0m/\r\n",
      "drwxrwxr-x 2 hminle  4096  4월 23 13:42 \u001b[01;34mEasy Spirit\u001b[0m/\r\n",
      "drwxrwxr-x 2 hminle  4096  4월 23 13:42 \u001b[01;34mECCO\u001b[0m/\r\n",
      "drwxrwxr-x 2 hminle  4096  4월 23 13:42 \u001b[01;34mECCO Golf\u001b[0m/\r\n",
      "drwxrwxr-x 2 hminle  4096  4월 23 13:42 \u001b[01;34mEcco Kids\u001b[0m/\r\n",
      "drwxrwxr-x 2 hminle  4096  4월 23 13:42 \u001b[01;34mECCO Sport\u001b[0m/\r\n",
      "drwxrwxr-x 2 hminle  4096  4월 23 13:42 \u001b[01;34mEd Hardy\u001b[0m/\r\n",
      "drwxrwxr-x 2 hminle  4096  4월 23 13:42 \u001b[01;34mEktelon\u001b[0m/\r\n",
      "drwxrwxr-x 2 hminle  4096  4월 23 13:42 \u001b[01;34mElement\u001b[0m/\r\n",
      "drwxrwxr-x 2 hminle  4096  4월 23 13:42 \u001b[01;34mElizabeth and James\u001b[0m/\r\n",
      "drwxrwxr-x 2 hminle  4096  4월 23 13:42 \u001b[01;34mEl Naturalista\u001b[0m/\r\n",
      "drwxrwxr-x 2 hminle  4096  4월 23 13:42 \u001b[01;34mEmerald by Element\u001b[0m/\r\n",
      "drwxrwxr-x 2 hminle  4096  4월 23 13:42 \u001b[01;34mEmerica\u001b[0m/\r\n",
      "drwxrwxr-x 2 hminle  4096  4월 23 13:42 \u001b[01;34metnies\u001b[0m/\r\n",
      "drwxrwxr-x 2 hminle  4096  4월 23 13:42 \u001b[01;34metnies Kids\u001b[0m/\r\n",
      "drwxrwxr-x 2 hminle  4096  4월 23 13:42 \u001b[01;34mEVOLV\u001b[0m/\r\n",
      "drwxrwxr-x 2 hminle  4096  4월 23 13:42 \u001b[01;34mFallen\u001b[0m/\r\n",
      "drwxrwxr-x 2 hminle  4096  4월 23 13:42 \u001b[01;34mFila\u001b[0m/\r\n",
      "drwxrwxr-x 2 hminle  4096  4월 23 13:42 \u001b[01;34mFinn Comfort\u001b[0m/\r\n",
      "drwxrwxr-x 2 hminle  4096  4월 23 13:42 \u001b[01;34mFitFlop\u001b[0m/\r\n",
      "drwxrwxr-x 2 hminle  4096  4월 23 13:42 \u001b[01;34mFive Ten\u001b[0m/\r\n",
      "drwxrwxr-x 2 hminle  4096  4월 23 13:42 \u001b[01;34mFox\u001b[0m/\r\n",
      "drwxrwxr-x 2 hminle  4096  4월 23 13:42 \u001b[01;34mFratelli Rossetti\u001b[0m/\r\n",
      "drwxrwxr-x 2 hminle  4096  4월 23 13:42 \u001b[01;34mFred Perry\u001b[0m/\r\n",
      "drwxrwxr-x 2 hminle  4096  4월 23 13:42 \u001b[01;34mFrye\u001b[0m/\r\n",
      "drwxrwxr-x 2 hminle  4096  4월 23 13:42 \u001b[01;34mFrye Kids\u001b[0m/\r\n",
      "drwxrwxr-x 2 hminle  4096  4월 23 13:42 \u001b[01;34mGabor\u001b[0m/\r\n",
      "drwxrwxr-x 2 hminle  4096  4월 23 13:42 \u001b[01;34mGarmont\u001b[0m/\r\n",
      "drwxrwxr-x 2 hminle  4096  4월 23 13:42 \u001b[01;34mGBX\u001b[0m/\r\n",
      "drwxrwxr-x 2 hminle  4096  4월 23 13:42 \u001b[01;34mGeneric Surplus\u001b[0m/\r\n",
      "drwxrwxr-x 2 hminle  4096  4월 23 13:42 \u001b[01;34mGeox Kids\u001b[0m/\r\n",
      "drwxrwxr-x 2 hminle  4096  4월 23 13:42 \u001b[01;34mGiro\u001b[0m/\r\n",
      "drwxrwxr-x 2 hminle  4096  4월 23 13:42 \u001b[01;34mGiuseppe Zanotti\u001b[0m/\r\n",
      "drwxrwxr-x 2 hminle  4096  4월 23 13:42 \u001b[01;34mGlobe\u001b[0m/\r\n",
      "drwxrwxr-x 2 hminle  4096  4월 23 13:42 \u001b[01;34mGlobe Kids\u001b[0m/\r\n",
      "drwxrwxr-x 2 hminle  4096  4월 23 13:42 \u001b[01;34mGola\u001b[0m/\r\n",
      "drwxrwxr-x 2 hminle  4096  4월 23 13:42 \u001b[01;34mGoLite\u001b[0m/\r\n",
      "drwxrwxr-x 2 hminle  4096  4월 23 13:42 \u001b[01;34mGravis\u001b[0m/\r\n",
      "drwxrwxr-x 2 hminle  4096  4월 23 13:42 \u001b[01;34mGUESS\u001b[0m/\r\n",
      "drwxrwxr-x 2 hminle  4096  4월 23 13:42 \u001b[01;34mGUESS Kids'\u001b[0m/\r\n",
      "drwxrwxr-x 2 hminle  4096  4월 23 13:42 \u001b[01;34mHabitat\u001b[0m/\r\n",
      "drwxrwxr-x 2 hminle  4096  4월 23 13:42 \u001b[01;34mHeelys\u001b[0m/\r\n",
      "drwxrwxr-x 2 hminle  4096  4월 23 13:42 \u001b[01;34mHi-Tec\u001b[0m/\r\n",
      "drwxrwxr-x 2 hminle  4096  4월 23 13:42 \u001b[01;34mHi-Tec Kids\u001b[0m/\r\n",
      "drwxrwxr-x 2 hminle  4096  4월 23 13:42 \u001b[01;34mHoka One One\u001b[0m/\r\n",
      "drwxrwxr-x 2 hminle  4096  4월 23 13:42 \u001b[01;34mHUGO\u001b[0m/\r\n",
      "drwxrwxr-x 2 hminle  4096  4월 23 13:42 \u001b[01;34mHush Puppies\u001b[0m/\r\n",
      "drwxrwxr-x 2 hminle  4096  4월 23 13:42 \u001b[01;34mHush Puppies Kids\u001b[0m/\r\n",
      "drwxrwxr-x 2 hminle  4096  4월 23 13:42 \u001b[01;34minov-8\u001b[0m/\r\n",
      "drwxrwxr-x 2 hminle  4096  4월 23 13:42 \u001b[01;34mIpath\u001b[0m/\r\n",
      "drwxrwxr-x 2 hminle  4096  4월 23 13:42 \u001b[01;34mJ-41\u001b[0m/\r\n",
      "drwxrwxr-x 2 hminle  4096  4월 23 13:42 \u001b[01;34mJambu\u001b[0m/\r\n",
      "drwxrwxr-x 2 hminle  4096  4월 23 13:42 \u001b[01;34mJambu Kids\u001b[0m/\r\n",
      "drwxrwxr-x 2 hminle  4096  4월 23 13:42 \u001b[01;34mJessica Simpson Kids\u001b[0m/\r\n",
      "drwxrwxr-x 2 hminle  4096  4월 23 13:42 \u001b[01;34mJohn Varvatos\u001b[0m/\r\n",
      "drwxrwxr-x 2 hminle  4096  4월 23 13:42 \u001b[01;34mJosef Seibel\u001b[0m/\r\n",
      "drwxrwxr-x 2 hminle  4096  4월 23 13:42 \u001b[01;34mJuicy Couture\u001b[0m/\r\n",
      "drwxrwxr-x 2 hminle  4096  4월 23 13:42 \u001b[01;34mJuicy Couture Kids\u001b[0m/\r\n",
      "drwxrwxr-x 2 hminle  4096  4월 23 13:42 \u001b[01;34mJumping Jacks Kids\u001b[0m/\r\n",
      "drwxrwxr-x 2 hminle  4096  4월 23 13:42 \u001b[01;34mJust Cavalli\u001b[0m/\r\n",
      "drwxrwxr-x 2 hminle  4096  4월 23 13:42 \u001b[01;34mK2 Skates\u001b[0m/\r\n",
      "drwxrwxr-x 2 hminle  4096  4월 23 13:42 \u001b[01;34mKalso Earth\u001b[0m/\r\n",
      "drwxrwxr-x 2 hminle  4096  4월 23 13:42 \u001b[01;34mKamik\u001b[0m/\r\n",
      "drwxrwxr-x 2 hminle  4096  4월 23 13:42 \u001b[01;34mKangaROOS\u001b[0m/\r\n",
      "drwxrwxr-x 2 hminle  4096  4월 23 13:42 \u001b[01;34mKangaROOS Kids\u001b[0m/\r\n",
      "drwxrwxr-x 2 hminle  4096  4월 23 13:42 \u001b[01;34mKeds\u001b[0m/\r\n",
      "drwxrwxr-x 2 hminle  4096  4월 23 13:42 \u001b[01;34mKeds Kids\u001b[0m/\r\n",
      "drwxrwxr-x 2 hminle  4096  4월 23 13:42 \u001b[01;34mKeen\u001b[0m/\r\n",
      "drwxrwxr-x 2 hminle  4096  4월 23 13:42 \u001b[01;34mKeen Kids\u001b[0m/\r\n",
      "drwxrwxr-x 2 hminle  4096  4월 23 13:42 \u001b[01;34mKeen Utility\u001b[0m/\r\n",
      "drwxrwxr-x 2 hminle  4096  4월 23 13:42 \u001b[01;34mKenneth Cole New York\u001b[0m/\r\n",
      "drwxrwxr-x 2 hminle  4096  4월 23 13:42 \u001b[01;34mKenneth Cole Reaction\u001b[0m/\r\n",
      "drwxrwxr-x 2 hminle  4096  4월 23 13:42 \u001b[01;34mKenneth Cole Reaction Kids\u001b[0m/\r\n",
      "drwxrwxr-x 2 hminle  4096  4월 23 13:42 \u001b[01;34mKhombu\u001b[0m/\r\n",
      "drwxrwxr-x 2 hminle  4096  4월 23 13:42 \u001b[01;34mKid Express\u001b[0m/\r\n",
      "drwxrwxr-x 2 hminle  4096  4월 23 13:42 \u001b[01;34mKORS Michael Kors Kids\u001b[0m/\r\n",
      "drwxrwxr-x 2 hminle  4096  4월 23 13:42 \u001b[01;34mK-Swiss\u001b[0m/\r\n",
      "drwxrwxr-x 2 hminle  4096  4월 23 13:42 \u001b[01;34mK-Swiss Kids\u001b[0m/\r\n",
      "drwxrwxr-x 2 hminle 12288  4월 23 13:42 \u001b[01;34mLacoste\u001b[0m/\r\n",
      "drwxrwxr-x 2 hminle  4096  4월 23 13:42 \u001b[01;34mLacoste Kids\u001b[0m/\r\n",
      "drwxrwxr-x 2 hminle  4096  4월 23 13:42 \u001b[01;34mLakai\u001b[0m/\r\n",
      "drwxrwxr-x 2 hminle  4096  4월 23 13:42 \u001b[01;34mLa Sportiva\u001b[0m/\r\n",
      "drwxrwxr-x 2 hminle  4096  4월 23 13:42 \u001b[01;34mLevi's&#174; Kids\u001b[0m/\r\n",
      "drwxrwxr-x 2 hminle  4096  4월 23 13:42 \u001b[01;34mLevi's&#174; Shoes\u001b[0m/\r\n",
      "drwxrwxr-x 2 hminle  4096  4월 23 13:42 \u001b[01;34mLowa\u001b[0m/\r\n",
      "drwxrwxr-x 2 hminle  4096  4월 23 13:42 \u001b[01;34mLugz\u001b[0m/\r\n",
      "drwxrwxr-x 2 hminle  4096  4월 23 13:42 \u001b[01;34mMacbeth\u001b[0m/\r\n",
      "drwxrwxr-x 2 hminle  4096  4월 23 13:42 \u001b[01;34mMadden Girl\u001b[0m/\r\n",
      "drwxrwxr-x 2 hminle  4096  4월 23 13:42 \u001b[01;34mMarc by Marc Jacobs\u001b[0m/\r\n",
      "drwxrwxr-x 2 hminle  4096  4월 23 13:42 \u001b[01;34mMarc Jacobs\u001b[0m/\r\n",
      "drwxrwxr-x 2 hminle  4096  4월 23 13:42 \u001b[01;34mMephisto\u001b[0m/\r\n",
      "drwxrwxr-x 2 hminle 12288  4월 23 13:42 \u001b[01;34mMerrell\u001b[0m/\r\n",
      "drwxrwxr-x 2 hminle  4096  4월 23 13:42 \u001b[01;34mMerrell Kids\u001b[0m/\r\n",
      "drwxrwxr-x 2 hminle  4096  4월 23 13:42 \u001b[01;34mMe Too Kids\u001b[0m/\r\n",
      "drwxrwxr-x 2 hminle  4096  4월 23 13:42 \u001b[01;34mMIA\u001b[0m/\r\n",
      "drwxrwxr-x 2 hminle  4096  4월 23 13:42 \u001b[01;34mMICHAEL Michael Kors\u001b[0m/\r\n",
      "drwxrwxr-x 2 hminle  4096  4월 23 13:42 \u001b[01;34mMICHAEL Michael Kors Kids\u001b[0m/\r\n",
      "drwxrwxr-x 2 hminle 12288  4월 23 13:42 \u001b[01;34mMizuno\u001b[0m/\r\n",
      "drwxrwxr-x 2 hminle  4096  4월 23 13:42 \u001b[01;34mMizuno Kids\u001b[0m/\r\n",
      "drwxrwxr-x 2 hminle  4096  4월 23 13:42 \u001b[01;34mMontrail\u001b[0m/\r\n",
      "drwxrwxr-x 2 hminle  4096  4월 23 13:42 \u001b[01;34mMorgan&Milo Kids\u001b[0m/\r\n",
      "drwxrwxr-x 2 hminle  4096  4월 23 13:42 \u001b[01;34mMoschino\u001b[0m/\r\n",
      "drwxrwxr-x 2 hminle  4096  4월 23 13:42 \u001b[01;34mMountrek\u001b[0m/\r\n",
      "drwxrwxr-x 2 hminle  4096  4월 23 13:42 \u001b[01;34mMOZO\u001b[0m/\r\n",
      "drwxrwxr-x 2 hminle  4096  4월 23 13:42 \u001b[01;34mMunro American\u001b[0m/\r\n",
      "drwxrwxr-x 2 hminle  4096  4월 23 13:42 \u001b[01;34mNative Kids Shoes\u001b[0m/\r\n",
      "drwxrwxr-x 2 hminle  4096  4월 23 13:42 \u001b[01;34mNative Shoes\u001b[0m/\r\n",
      "drwxrwxr-x 2 hminle  4096  4월 23 13:42 \u001b[01;34mNaturino\u001b[0m/\r\n",
      "drwxrwxr-x 2 hminle 20480  4월 23 13:42 \u001b[01;34mNew Balance\u001b[0m/\r\n",
      "drwxrwxr-x 2 hminle  4096  4월 23 13:42 \u001b[01;34mNew Balance Classics\u001b[0m/\r\n",
      "drwxrwxr-x 2 hminle 12288  4월 23 13:42 \u001b[01;34mNew Balance Kids\u001b[0m/\r\n",
      "drwxrwxr-x 2 hminle  4096  4월 23 13:42 \u001b[01;34mNewton Running\u001b[0m/\r\n",
      "drwxrwxr-x 2 hminle 36864  4월 23 13:42 \u001b[01;34mNike\u001b[0m/\r\n",
      "drwxrwxr-x 2 hminle  4096  4월 23 13:42 \u001b[01;34mNike Action\u001b[0m/\r\n",
      "drwxrwxr-x 2 hminle  4096  4월 23 13:42 \u001b[01;34mNike Action Kids\u001b[0m/\r\n",
      "drwxrwxr-x 2 hminle  4096  4월 23 13:42 \u001b[01;34mNike Golf\u001b[0m/\r\n",
      "drwxrwxr-x 2 hminle 20480  4월 23 13:42 \u001b[01;34mNike Kids\u001b[0m/\r\n",
      "drwxrwxr-x 2 hminle  4096  4월 23 13:42 \u001b[01;34mNine West Sneakers\u001b[0m/\r\n",
      "drwxrwxr-x 2 hminle  4096  4월 23 13:42 \u001b[01;34mNO SOX\u001b[0m/\r\n",
      "drwxrwxr-x 2 hminle  4096  4월 23 13:42 \u001b[01;34mNunn Bush\u001b[0m/\r\n",
      "drwxrwxr-x 2 hminle  4096  4월 23 13:42 \u001b[01;34mNurse Mates\u001b[0m/\r\n",
      "drwxrwxr-x 2 hminle  4096  4월 23 13:42 \u001b[01;34mOakley\u001b[0m/\r\n",
      "drwxrwxr-x 2 hminle  4096  4월 23 13:42 \u001b[01;34mOcean Minded\u001b[0m/\r\n",
      "drwxrwxr-x 2 hminle  4096  4월 23 13:42 \u001b[01;34mOluKai\u001b[0m/\r\n",
      "drwxrwxr-x 2 hminle  4096  4월 23 13:42 \u001b[01;34mOluKai Kids\u001b[0m/\r\n",
      "drwxrwxr-x 2 hminle  4096  4월 23 13:42 \u001b[01;34mO'Neill\u001b[0m/\r\n",
      "drwxrwxr-x 2 hminle  4096  4월 23 13:42 \u001b[01;34mOnitsuka Tiger by Asics\u001b[0m/\r\n",
      "drwxrwxr-x 2 hminle  4096  4월 23 13:42 \u001b[01;34mOnitsuka Tiger Kids by Asics\u001b[0m/\r\n",
      "drwxrwxr-x 2 hminle  4096  4월 23 13:42 \u001b[01;34mOriginal Penguin\u001b[0m/\r\n",
      "drwxrwxr-x 2 hminle  4096  4월 23 13:42 \u001b[01;34mOrthaheel\u001b[0m/\r\n",
      "drwxrwxr-x 2 hminle  4096  4월 23 13:42 \u001b[01;34mOsiris\u001b[0m/\r\n",
      "drwxrwxr-x 2 hminle  4096  4월 23 13:42 \u001b[01;34mOsiris Kids\u001b[0m/\r\n",
      "drwxrwxr-x 2 hminle  4096  4월 23 13:42 \u001b[01;34mPablosky Kids\u001b[0m/\r\n",
      "drwxrwxr-x 2 hminle  4096  4월 23 13:42 \u001b[01;34mPalladium\u001b[0m/\r\n",
      "drwxrwxr-x 2 hminle  4096  4월 23 13:42 \u001b[01;34mPalladium Kids\u001b[0m/\r\n",
      "drwxrwxr-x 2 hminle  4096  4월 23 13:42 \u001b[01;34mPatagonia\u001b[0m/\r\n",
      "drwxrwxr-x 2 hminle  4096  4월 23 13:42 \u001b[01;34mPaul Smith\u001b[0m/\r\n",
      "drwxrwxr-x 2 hminle  4096  4월 23 13:42 \u001b[01;34mPaul Smith Junior\u001b[0m/\r\n",
      "drwxrwxr-x 2 hminle  4096  4월 23 13:42 \u001b[01;34mPearl Izumi\u001b[0m/\r\n",
      "drwxrwxr-x 2 hminle  4096  4월 23 13:42 \u001b[01;34mpediped\u001b[0m/\r\n",
      "drwxrwxr-x 2 hminle  4096  4월 23 13:42 \u001b[01;34mPF Flyers\u001b[0m/\r\n",
      "drwxrwxr-x 2 hminle  4096  4월 23 13:42 \u001b[01;34mPF Flyers Kids\u001b[0m/\r\n",
      "drwxrwxr-x 2 hminle  4096  4월 23 13:42 \u001b[01;34mPikolinos\u001b[0m/\r\n",
      "drwxrwxr-x 2 hminle  4096  4월 23 13:42 \u001b[01;34mPolo Ralph Lauren\u001b[0m/\r\n",
      "drwxrwxr-x 2 hminle  4096  4월 23 13:42 \u001b[01;34mPolo Ralph Lauren Kids\u001b[0m/\r\n",
      "drwxrwxr-x 2 hminle  4096  4월 23 13:42 \u001b[01;34mPrimigi Kids\u001b[0m/\r\n",
      "drwxrwxr-x 2 hminle  4096  4월 23 13:42 \u001b[01;34mPrince\u001b[0m/\r\n",
      "drwxrwxr-x 2 hminle  4096  4월 23 13:42 \u001b[01;34mPrivo by Clarks\u001b[0m/\r\n",
      "drwxrwxr-x 2 hminle  4096  4월 23 13:42 \u001b[01;34mPro-Keds\u001b[0m/\r\n",
      "drwxrwxr-x 2 hminle  4096  4월 23 13:42 \u001b[01;34mPropet\u001b[0m/\r\n",
      "drwxrwxr-x 2 hminle 28672  4월 23 13:42 \u001b[01;34mPUMA\u001b[0m/\r\n",
      "drwxrwxr-x 2 hminle 12288  4월 23 13:42 \u001b[01;34mPuma Kids\u001b[0m/\r\n",
      "drwxrwxr-x 2 hminle  4096  4월 23 13:42 \u001b[01;34mPUMA Sport Fashion\u001b[0m/\r\n",
      "drwxrwxr-x 2 hminle  4096  4월 23 13:42 \u001b[01;34mQuiksilver\u001b[0m/\r\n",
      "drwxrwxr-x 2 hminle  4096  4월 23 13:42 \u001b[01;34mRachel Zoe\u001b[0m/\r\n",
      "drwxrwxr-x 2 hminle  4096  4월 23 13:42 \u001b[01;34mRagg Kids\u001b[0m/\r\n",
      "drwxrwxr-x 2 hminle  4096  4월 23 13:42 \u001b[01;34mRalph Lauren Layette Kids\u001b[0m/\r\n",
      "drwxrwxr-x 2 hminle  4096  4월 23 13:42 \u001b[01;34mReebok\u001b[0m/\r\n",
      "drwxrwxr-x 2 hminle  4096  4월 23 13:42 \u001b[01;34mReebok Kids\u001b[0m/\r\n",
      "drwxrwxr-x 2 hminle  4096  4월 23 13:42 \u001b[01;34mReebok Lifestyle\u001b[0m/\r\n",
      "drwxrwxr-x 2 hminle  4096  4월 23 13:42 \u001b[01;34mReebok Team\u001b[0m/\r\n",
      "drwxrwxr-x 2 hminle  4096  4월 23 13:42 \u001b[01;34mReef\u001b[0m/\r\n",
      "drwxrwxr-x 2 hminle  4096  4월 23 13:42 \u001b[01;34mReport\u001b[0m/\r\n",
      "drwxrwxr-x 2 hminle  4096  4월 23 13:42 \u001b[01;34mRieker\u001b[0m/\r\n",
      "drwxrwxr-x 2 hminle  4096  4월 23 13:42 \u001b[01;34mRocket Dog\u001b[0m/\r\n",
      "drwxrwxr-x 2 hminle  4096  4월 23 13:42 \u001b[01;34mRockport\u001b[0m/\r\n",
      "drwxrwxr-x 2 hminle  4096  4월 23 13:42 \u001b[01;34mRollerblade\u001b[0m/\r\n",
      "drwxrwxr-x 2 hminle  4096  4월 23 13:42 \u001b[01;34mRomika\u001b[0m/\r\n",
      "drwxrwxr-x 2 hminle  4096  4월 23 13:42 \u001b[01;34mRoxy\u001b[0m/\r\n",
      "drwxrwxr-x 2 hminle  4096  4월 23 13:42 \u001b[01;34mRyka\u001b[0m/\r\n",
      "drwxrwxr-x 2 hminle  4096  4월 23 13:42 \u001b[01;34mSalomon\u001b[0m/\r\n",
      "drwxrwxr-x 2 hminle  4096  4월 23 13:42 \u001b[01;34mSalomon Kids\u001b[0m/\r\n",
      "drwxrwxr-x 2 hminle  4096  4월 23 13:42 \u001b[01;34mSalvatore Ferragamo\u001b[0m/\r\n",
      "drwxrwxr-x 2 hminle  4096  4월 23 13:42 \u001b[01;34mSanuk\u001b[0m/\r\n",
      "drwxrwxr-x 2 hminle  4096  4월 23 13:42 \u001b[01;34mSanuk Kids\u001b[0m/\r\n",
      "drwxrwxr-x 2 hminle 12288  4월 23 13:42 \u001b[01;34mSaucony\u001b[0m/\r\n",
      "drwxrwxr-x 2 hminle  4096  4월 23 13:42 \u001b[01;34mSaucony Kids\u001b[0m/\r\n",
      "drwxrwxr-x 2 hminle  4096  4월 23 13:42 \u001b[01;34mSaucony Originals\u001b[0m/\r\n",
      "drwxrwxr-x 2 hminle  4096  4월 23 13:42 \u001b[01;34mScarpa\u001b[0m/\r\n",
      "drwxrwxr-x 2 hminle  4096  4월 23 13:42 \u001b[01;34mSchool Issue\u001b[0m/\r\n",
      "drwxrwxr-x 2 hminle  4096  4월 23 13:42 \u001b[01;34mSeaVees\u001b[0m/\r\n",
      "drwxrwxr-x 2 hminle  4096  4월 23 13:42 \u001b[01;34mSebago\u001b[0m/\r\n",
      "drwxrwxr-x 2 hminle  4096  4월 23 13:42 \u001b[01;34mSee Kai Run Kids\u001b[0m/\r\n",
      "drwxrwxr-x 2 hminle  4096  4월 23 13:42 \u001b[01;34mShimano\u001b[0m/\r\n",
      "drwxrwxr-x 2 hminle  4096  4월 23 13:42 \u001b[01;34mSIDI\u001b[0m/\r\n",
      "drwxrwxr-x 2 hminle 20480  4월 23 13:42 \u001b[01;34mSKECHERS\u001b[0m/\r\n",
      "drwxrwxr-x 2 hminle  4096  4월 23 13:42 \u001b[01;34mSKECHERS KIDS\u001b[0m/\r\n",
      "drwxrwxr-x 2 hminle  4096  4월 23 13:42 \u001b[01;34mSKECHERS Work\u001b[0m/\r\n",
      "drwxrwxr-x 2 hminle  4096  4월 23 13:42 \u001b[01;34mSLVR\u001b[0m/\r\n",
      "drwxrwxr-x 2 hminle  4096  4월 23 13:42 \u001b[01;34mSoft Style\u001b[0m/\r\n",
      "drwxrwxr-x 2 hminle  4096  4월 23 13:42 \u001b[01;34mSpeedo\u001b[0m/\r\n",
      "drwxrwxr-x 2 hminle  4096  4월 23 13:42 \u001b[01;34mSperry Kids\u001b[0m/\r\n",
      "drwxrwxr-x 2 hminle  4096  4월 23 13:42 \u001b[01;34mSperry Top-Sider\u001b[0m/\r\n",
      "drwxrwxr-x 2 hminle  4096  4월 23 13:42 \u001b[01;34mSpira\u001b[0m/\r\n",
      "drwxrwxr-x 2 hminle  4096  4월 23 13:42 \u001b[01;34mSteve Madden\u001b[0m/\r\n",
      "drwxrwxr-x 2 hminle  4096  4월 23 13:42 \u001b[01;34mSteve Madden Kids\u001b[0m/\r\n",
      "drwxrwxr-x 2 hminle  4096  4월 23 13:42 \u001b[01;34mStride Rite\u001b[0m/\r\n",
      "drwxrwxr-x 2 hminle  4096  4월 23 13:42 \u001b[01;34mStuart Weitzman\u001b[0m/\r\n",
      "drwxrwxr-x 2 hminle  4096  4월 23 13:42 \u001b[01;34mStuart Weitzman for The Cool People\u001b[0m/\r\n",
      "drwxrwxr-x 2 hminle  4096  4월 23 13:42 \u001b[01;34mSuperga\u001b[0m/\r\n",
      "drwxrwxr-x 2 hminle  4096  4월 23 13:42 \u001b[01;34mSuperga Kids\u001b[0m/\r\n",
      "drwxrwxr-x 2 hminle  4096  4월 23 13:42 \u001b[01;34mSupra\u001b[0m/\r\n",
      "drwxrwxr-x 2 hminle  4096  4월 23 13:42 \u001b[01;34mTecnica\u001b[0m/\r\n",
      "drwxrwxr-x 2 hminle  4096  4월 23 13:42 \u001b[01;34mTed Baker\u001b[0m/\r\n",
      "drwxrwxr-x 2 hminle  4096  4월 23 13:42 \u001b[01;34mTeva\u001b[0m/\r\n",
      "drwxrwxr-x 2 hminle  4096  4월 23 13:42 \u001b[01;34mTeva Kids\u001b[0m/\r\n",
      "drwxrwxr-x 2 hminle  4096  4월 23 13:42 \u001b[01;34mThe North Face\u001b[0m/\r\n",
      "drwxrwxr-x 2 hminle  4096  4월 23 13:42 \u001b[01;34mThe North Face Kids\u001b[0m/\r\n",
      "drwxrwxr-x 2 hminle  4096  4월 23 13:42 \u001b[01;34mTIC TAC TOES\u001b[0m/\r\n",
      "drwxrwxr-x 2 hminle  4096  4월 23 13:42 \u001b[01;34mTimberland\u001b[0m/\r\n",
      "drwxrwxr-x 2 hminle  4096  4월 23 13:42 \u001b[01;34mTimberland Kids\u001b[0m/\r\n",
      "drwxrwxr-x 2 hminle  4096  4월 23 13:42 \u001b[01;34mTimberland PRO\u001b[0m/\r\n",
      "drwxrwxr-x 2 hminle  4096  4월 23 13:42 \u001b[01;34mTommy Bahama\u001b[0m/\r\n",
      "drwxrwxr-x 2 hminle  4096  4월 23 13:42 \u001b[01;34mTommy Hilfiger\u001b[0m/\r\n",
      "drwxrwxr-x 2 hminle  4096  4월 23 13:42 \u001b[01;34mTommy Hilfiger Kids\u001b[0m/\r\n",
      "drwxrwxr-x 2 hminle  4096  4월 23 13:42 \u001b[01;34mTravis Mathew\u001b[0m/\r\n",
      "drwxrwxr-x 2 hminle  4096  4월 23 13:42 \u001b[01;34mTretorn\u001b[0m/\r\n",
      "drwxrwxr-x 2 hminle  4096  4월 23 13:42 \u001b[01;34mTretorn Kids\u001b[0m/\r\n",
      "drwxrwxr-x 2 hminle  4096  4월 23 13:42 \u001b[01;34mTrue Religion\u001b[0m/\r\n",
      "drwxrwxr-x 2 hminle  4096  4월 23 13:42 \u001b[01;34mTsubo\u001b[0m/\r\n",
      "drwxrwxr-x 2 hminle  4096  4월 23 13:42 \u001b[01;34mTsukihoshi Kids\u001b[0m/\r\n",
      "drwxrwxr-x 2 hminle  4096  4월 23 13:42 \u001b[01;34mTwig Kids\u001b[0m/\r\n",
      "drwxrwxr-x 2 hminle  4096  4월 23 13:42 \u001b[01;34mUGG\u001b[0m/\r\n",
      "drwxrwxr-x 2 hminle  4096  4월 23 13:42 \u001b[01;34mUGG Kids\u001b[0m/\r\n",
      "drwxrwxr-x 2 hminle  4096  4월 23 13:42 \u001b[01;34mUmi Kids\u001b[0m/\r\n",
      "drwxrwxr-x 2 hminle  4096  4월 23 13:42 \u001b[01;34mUnder Armour\u001b[0m/\r\n",
      "drwxrwxr-x 2 hminle  4096  4월 23 13:42 \u001b[01;34mUnder Armour Kids\u001b[0m/\r\n",
      "drwxrwxr-x 2 hminle 12288  4월 23 13:42 \u001b[01;34mVans\u001b[0m/\r\n",
      "drwxrwxr-x 2 hminle 12288  4월 23 13:42 \u001b[01;34mVans Kids\u001b[0m/\r\n",
      "drwxrwxr-x 2 hminle  4096  4월 23 13:42 \u001b[01;34mVasque\u001b[0m/\r\n",
      "drwxrwxr-x 2 hminle  4096  4월 23 13:42 \u001b[01;34mVenettini Kids\u001b[0m/\r\n",
      "drwxrwxr-x 2 hminle  4096  4월 23 13:42 \u001b[01;34mVersace Collection\u001b[0m/\r\n",
      "drwxrwxr-x 2 hminle  4096  4월 23 13:42 \u001b[01;34mVibram FiveFingers\u001b[0m/\r\n",
      "drwxrwxr-x 2 hminle  4096  4월 23 13:42 \u001b[01;34mVivienne Westwood\u001b[0m/\r\n",
      "drwxrwxr-x 2 hminle  4096  4월 23 13:42 \u001b[01;34mVivobarefoot\u001b[0m/\r\n",
      "drwxrwxr-x 2 hminle  4096  4월 23 13:42 \u001b[01;34mVOLATILE\u001b[0m/\r\n",
      "drwxrwxr-x 2 hminle  4096  4월 23 13:42 \u001b[01;34mVolatile Kids\u001b[0m/\r\n",
      "drwxrwxr-x 2 hminle  4096  4월 23 13:42 \u001b[01;34mWilson\u001b[0m/\r\n",
      "drwxrwxr-x 2 hminle  4096  4월 23 13:42 \u001b[01;34mWolverine\u001b[0m/\r\n",
      "drwxrwxr-x 2 hminle  4096  4월 23 13:42 \u001b[01;34mZamberlan\u001b[0m/\r\n",
      "drwxrwxr-x 2 hminle  4096  4월 23 13:42 \u001b[01;34mZero\u001b[0m/\r\n",
      "drwxrwxr-x 2 hminle  4096  4월 23 13:42 \u001b[01;34mZigi\u001b[0m/\r\n",
      "drwxrwxr-x 2 hminle  4096  4월 23 13:42 \u001b[01;34mZoot Sports\u001b[0m/\r\n"
     ]
    }
   ],
   "source": [
    "%ll ./data/ut-zap50k/Shoes/Sneakers_and_athletic_shoes/"
   ]
  },
  {
   "cell_type": "code",
   "execution_count": 6,
   "metadata": {
    "collapsed": true,
    "deletable": true,
    "editable": true
   },
   "outputs": [],
   "source": [
    "parser = {\n",
    "    'data_path': './data/ut-zap50k/Shoes/Sneakers_and_athletic_shoes/',\n",
    "    'epochs': 100,\n",
    "    'batch_size': 64,\n",
    "    'lr': 0.0002,\n",
    "    'image_size': 136,\n",
    "    'scale_size': 64,\n",
    "    'z_dim': 100,\n",
    "    'G_features': 64,\n",
    "    'D_features': 64,\n",
    "    'image_channels': 3,\n",
    "    'beta1': 0.5,\n",
    "    'cuda': True,\n",
    "    'seed': 7,\n",
    "    'workers': 2,\n",
    "    'results': './resultsDCGAN4_0529/'\n",
    "}\n",
    "args = argparse.Namespace(**parser)\n",
    "args.image_results = args.results + 'images/'\n",
    "args.loss_results = args.results + 'loss/'\n",
    "args.cuda = args.cuda and torch.cuda.is_available()\n",
    "\n",
    "if not os.path.isdir(args.data_path):\n",
    "    os.makedirs(args.data_path)\n",
    "if not os.path.isdir(args.results):\n",
    "    os.makedirs(args.results)\n",
    "if not os.path.isdir(args.image_results):\n",
    "    os.makedirs(args.image_results)\n",
    "if not os.path.isdir(args.loss_results):\n",
    "    os.makedirs(args.loss_results)\n",
    "    \n",
    "torch.manual_seed(args.seed)\n",
    "if args.cuda:\n",
    "    torch.cuda.manual_seed(args.seed)"
   ]
  },
  {
   "cell_type": "markdown",
   "metadata": {
    "deletable": true,
    "editable": true
   },
   "source": [
    "# Prepare Data"
   ]
  },
  {
   "cell_type": "markdown",
   "metadata": {
    "deletable": true,
    "editable": true
   },
   "source": [
    "**Note: all iamges have size 136x102**"
   ]
  },
  {
   "cell_type": "code",
   "execution_count": 7,
   "metadata": {
    "collapsed": true,
    "deletable": true,
    "editable": true
   },
   "outputs": [],
   "source": [
    "from folder import ImageFolder"
   ]
  },
  {
   "cell_type": "code",
   "execution_count": 8,
   "metadata": {
    "collapsed": true,
    "deletable": true,
    "editable": true
   },
   "outputs": [],
   "source": [
    "from torchvision.transforms import ToPILImage\n",
    "to_image = ToPILImage()"
   ]
  },
  {
   "cell_type": "code",
   "execution_count": 9,
   "metadata": {
    "collapsed": true,
    "deletable": true,
    "editable": true
   },
   "outputs": [],
   "source": [
    "def get_loader(image_root, batch_size, scale_size, num_workers=2, shuffle=True):\n",
    "    #image_root = os.path.join(root, 'splits', split)\n",
    "    dataset = ImageFolder(root=image_root, transform=transforms.Compose([\n",
    "            transforms.Pad(34, fill=(255, 255, 255)), # padding images with (255,255,255) --> pad 255 in 3 channels\n",
    "            transforms.CenterCrop((136,136)),\n",
    "            transforms.Scale(scale_size),\n",
    "            transforms.ToTensor(),\n",
    "            transforms.Normalize((0.5, 0.5, 0.5), (0.5, 0.5, 0.5)),\n",
    "    ]))\n",
    "\n",
    "    data_loader = torch.utils.data.DataLoader(\n",
    "        dataset, batch_size=batch_size, shuffle=shuffle, num_workers=int(num_workers))\n",
    "    #data_loader.shape = [int(num) for num in dataset[0][0].size()]\n",
    "\n",
    "    return data_loader"
   ]
  },
  {
   "cell_type": "code",
   "execution_count": 10,
   "metadata": {
    "collapsed": false,
    "deletable": true,
    "editable": true
   },
   "outputs": [
    {
     "name": "stdout",
     "output_type": "stream",
     "text": [
      "Found 12856 images in subfolders of: ./data/ut-zap50k/Shoes/Sneakers_and_athletic_shoes/\n"
     ]
    }
   ],
   "source": [
    "dataloader = get_loader(args.data_path, args.batch_size, args.scale_size)"
   ]
  },
  {
   "cell_type": "markdown",
   "metadata": {
    "deletable": true,
    "editable": true
   },
   "source": [
    "## Test One Image"
   ]
  },
  {
   "cell_type": "code",
   "execution_count": 11,
   "metadata": {
    "collapsed": false,
    "deletable": true,
    "editable": true
   },
   "outputs": [
    {
     "name": "stdout",
     "output_type": "stream",
     "text": [
      "\n",
      "(0 ,.,.) = \n",
      "  1.0000  1.0000  1.0000  ...   1.0000  1.0000  1.0000\n",
      "  1.0000  1.0000  1.0000  ...   1.0000  1.0000  1.0000\n",
      "  1.0000  1.0000  1.0000  ...   1.0000  1.0000  1.0000\n",
      "           ...             ⋱             ...          \n",
      "  1.0000  1.0000  1.0000  ...   1.0000  1.0000  1.0000\n",
      "  1.0000  1.0000  1.0000  ...   1.0000  1.0000  1.0000\n",
      "  1.0000  1.0000  1.0000  ...   1.0000  1.0000  1.0000\n",
      "\n",
      "(1 ,.,.) = \n",
      "  1.0000  1.0000  1.0000  ...   1.0000  1.0000  1.0000\n",
      "  1.0000  1.0000  1.0000  ...   1.0000  1.0000  1.0000\n",
      "  1.0000  1.0000  1.0000  ...   1.0000  1.0000  1.0000\n",
      "           ...             ⋱             ...          \n",
      "  1.0000  1.0000  1.0000  ...   1.0000  1.0000  1.0000\n",
      "  1.0000  1.0000  1.0000  ...   1.0000  1.0000  1.0000\n",
      "  1.0000  1.0000  1.0000  ...   1.0000  1.0000  1.0000\n",
      "\n",
      "(2 ,.,.) = \n",
      "  1.0000  1.0000  1.0000  ...   1.0000  1.0000  1.0000\n",
      "  1.0000  1.0000  1.0000  ...   1.0000  1.0000  1.0000\n",
      "  1.0000  1.0000  1.0000  ...   1.0000  1.0000  1.0000\n",
      "           ...             ⋱             ...          \n",
      "  1.0000  1.0000  1.0000  ...   1.0000  1.0000  1.0000\n",
      "  1.0000  1.0000  1.0000  ...   1.0000  1.0000  1.0000\n",
      "  1.0000  1.0000  1.0000  ...   1.0000  1.0000  1.0000\n",
      "[torch.FloatTensor of size 3x64x64]\n",
      "\n"
     ]
    }
   ],
   "source": [
    "test_image = 0\n",
    "for data, _ in dataloader:\n",
    "    print(data[0])\n",
    "    test_image = data[0]\n",
    "    break"
   ]
  },
  {
   "cell_type": "code",
   "execution_count": 12,
   "metadata": {
    "collapsed": false,
    "deletable": true,
    "editable": true
   },
   "outputs": [
    {
     "data": {
      "image/png": "[encoded data removed]",
      "text/plain": [
       "<PIL.Image.Image image mode=RGB size=64x64 at 0x7FA2F477C4E0>"
      ]
     },
     "execution_count": 12,
     "metadata": {},
     "output_type": "execute_result"
    }
   ],
   "source": [
    "to_image(test_image)"
   ]
  },
  {
   "cell_type": "markdown",
   "metadata": {
    "deletable": true,
    "editable": true
   },
   "source": [
    "# Define Model"
   ]
  },
  {
   "cell_type": "markdown",
   "metadata": {
    "deletable": true,
    "editable": true
   },
   "source": [
    "## Define G"
   ]
  },
  {
   "cell_type": "code",
   "execution_count": 13,
   "metadata": {
    "collapsed": true,
    "deletable": true,
    "editable": true
   },
   "outputs": [],
   "source": [
    "class _netG(nn.Module):\n",
    "    def __init__(self):\n",
    "        super(_netG, self).__init__()\n",
    "        self.main = nn.Sequential(\n",
    "            # input is Z, going into a convolution\n",
    "            nn.ConvTranspose2d(args.z_dim, args.G_features * 8,\n",
    "                               4, 1, 0, bias=False),\n",
    "            nn.BatchNorm2d(args.G_features * 8),\n",
    "            nn.ReLU(True),\n",
    "            nn.ConvTranspose2d(args.G_features * 8, args.G_features * 4,\n",
    "                               4, 2, 1, bias=False),\n",
    "            nn.BatchNorm2d(args.G_features * 4),\n",
    "            nn.ReLU(True),\n",
    "            # state size. (ngf*8) x 4 x 4\n",
    "            nn.ConvTranspose2d(args.G_features * 4, args.G_features * 2,\n",
    "                               4, 2, 1, bias=False),\n",
    "            nn.BatchNorm2d(args.G_features * 2),\n",
    "            nn.ReLU(True),\n",
    "            # state size. (ngf*4) x 8 x 8\n",
    "            nn.ConvTranspose2d(args.G_features * 2, args.G_features,\n",
    "                               4, 2, 1, bias=False),\n",
    "            nn.BatchNorm2d(args.G_features),\n",
    "            nn.ReLU(True),\n",
    "            # state size. (ngf) x 16 x 16\n",
    "            nn.ConvTranspose2d(args.G_features, args.image_channels,\n",
    "                               4, 2, 1, bias=False),\n",
    "            nn.Tanh()\n",
    "            # state size. (nc) x 32 x 32\n",
    "        )\n",
    "        self._initialize_weights()\n",
    "        \n",
    "    # custom weight initialization\n",
    "    def _initialize_weights(self):\n",
    "        for m in self.modules():\n",
    "            if isinstance(m, nn.ConvTranspose2d):\n",
    "                n = m.kernel_size[0] * m.kernel_size[1] * m.out_channels\n",
    "                init.normal(m.weight, mean=0, std=0.02)\n",
    "            elif isinstance(m, nn.BatchNorm2d):\n",
    "                init.normal(m.weight, mean=1, std=0.02)\n",
    "                init.constant(m.bias, 0)\n",
    "\n",
    "    def forward(self, x):\n",
    "        return self.main(x)"
   ]
  },
  {
   "cell_type": "markdown",
   "metadata": {
    "deletable": true,
    "editable": true
   },
   "source": [
    "## Define D"
   ]
  },
  {
   "cell_type": "code",
   "execution_count": 14,
   "metadata": {
    "collapsed": true,
    "deletable": true,
    "editable": true
   },
   "outputs": [],
   "source": [
    "class _netD(nn.Module):\n",
    "    def __init__(self):\n",
    "        super(_netD, self).__init__()\n",
    "        self.main = nn.Sequential(\n",
    "            # input is (nc) x 32 x 32\n",
    "            nn.Conv2d(args.image_channels, args.D_features,\n",
    "                      4, 2, 1, bias=False),\n",
    "            nn.LeakyReLU(0.2, inplace=True),\n",
    "            # state size. (ndf) x 16 x 16\n",
    "            nn.Conv2d(args.D_features, args.D_features * 2,\n",
    "                      4, 2, 1, bias=False),\n",
    "            nn.BatchNorm2d(args.D_features * 2),\n",
    "            nn.LeakyReLU(0.2, inplace=True),\n",
    "            # state size. (ndf*2) x 8 x 8\n",
    "            nn.Conv2d(args.D_features * 2, args.D_features * 4,\n",
    "                      4, 2, 1, bias=False),\n",
    "            nn.BatchNorm2d(args.D_features * 4),\n",
    "            nn.LeakyReLU(0.2, inplace=True),\n",
    "            nn.Conv2d(args.D_features * 4, args.D_features * 8,\n",
    "                      4, 2, 1, bias=False),\n",
    "            nn.BatchNorm2d(args.D_features * 8),\n",
    "            nn.LeakyReLU(0.2, inplace=True),\n",
    "            # state size. (ndf*4) x 4 x 4\n",
    "            nn.Conv2d(args.D_features * 8, 1, 4, 1, 0, bias=False),\n",
    "            nn.Sigmoid()\n",
    "        )\n",
    "        self._initialize_weights()\n",
    "        \n",
    "    # custom weight initialization\n",
    "    def _initialize_weights(self):\n",
    "        for m in self.modules():\n",
    "            if isinstance(m, nn.Conv2d):\n",
    "                n = m.kernel_size[0] * m.kernel_size[1] * m.out_channels\n",
    "                init.normal(m.weight, mean=0, std=0.02)\n",
    "            elif isinstance(m, nn.BatchNorm2d):\n",
    "                init.normal(m.weight, mean=1, std=0.02)\n",
    "                init.constant(m.bias, 0)\n",
    "\n",
    "    def forward(self, input):\n",
    "        output = self.main(input)\n",
    "        return output.view(-1, 1)"
   ]
  },
  {
   "cell_type": "markdown",
   "metadata": {
    "deletable": true,
    "editable": true
   },
   "source": [
    "## Save losses"
   ]
  },
  {
   "cell_type": "code",
   "execution_count": 15,
   "metadata": {
    "collapsed": true,
    "deletable": true,
    "editable": true
   },
   "outputs": [],
   "source": [
    "class Results():\n",
    "    def __init__(self, results_path):\n",
    "        self.D_losses = []\n",
    "        self.G_losses = []\n",
    "        self.D_reals = []\n",
    "        self.D_fakes = []\n",
    "        self.G_reals = []\n",
    "        self.results_path = results_path\n",
    "    \n",
    "    def save_losses(self, D_loss, G_loss, D_real, D_fake, G_real):\n",
    "        self.D_losses.append(D_loss)\n",
    "        self.G_losses.append(G_loss)\n",
    "        self.D_reals.append(D_real)\n",
    "        self.D_fakes.append(D_fake)\n",
    "        self.G_reals.append(G_real)\n",
    "        \n",
    "    def save_to_disk(self):\n",
    "        f = open(self.results_path + \"D_losses.pkl\", \"wb\")\n",
    "        pickle.dump(self.D_losses, f)\n",
    "        f= open(self.results_path + \"G_losses.pkl\", \"wb\")\n",
    "        pickle.dump(self.G_losses, f)\n",
    "        f = open(self.results_path + \"D_reals.pkl\", \"wb\")\n",
    "        pickle.dump(self.D_reals, f)\n",
    "        f = open(self.results_path + \"D_fakes.pkl\", \"wb\")\n",
    "        pickle.dump(self.D_fakes, f)\n",
    "        f = open(self.results_path + \"G_reals.pkl\", \"wb\")\n",
    "        pickle.dump(self.G_reals, f)\n",
    "        "
   ]
  },
  {
   "cell_type": "markdown",
   "metadata": {
    "deletable": true,
    "editable": true
   },
   "source": [
    "## Define Train and Generate"
   ]
  },
  {
   "cell_type": "code",
   "execution_count": 16,
   "metadata": {
    "collapsed": true,
    "deletable": true,
    "editable": true
   },
   "outputs": [],
   "source": [
    "c = np.full(5, 1, np.float32)"
   ]
  },
  {
   "cell_type": "code",
   "execution_count": 17,
   "metadata": {
    "collapsed": true,
    "deletable": true,
    "editable": true
   },
   "outputs": [],
   "source": [
    "c = torch.from_numpy(np.full(5, 1, np.float32))"
   ]
  },
  {
   "cell_type": "code",
   "execution_count": 18,
   "metadata": {
    "collapsed": false,
    "deletable": true,
    "editable": true
   },
   "outputs": [
    {
     "data": {
      "text/plain": [
       "\n",
       " 1\n",
       " 1\n",
       " 1\n",
       " 1\n",
       " 1\n",
       "[torch.FloatTensor of size 5]"
      ]
     },
     "execution_count": 18,
     "metadata": {},
     "output_type": "execute_result"
    }
   ],
   "source": [
    "c"
   ]
  },
  {
   "cell_type": "code",
   "execution_count": 19,
   "metadata": {
    "collapsed": true,
    "deletable": true,
    "editable": true
   },
   "outputs": [],
   "source": [
    "real_label = torch.ones(5)"
   ]
  },
  {
   "cell_type": "code",
   "execution_count": 20,
   "metadata": {
    "collapsed": false,
    "deletable": true,
    "editable": true
   },
   "outputs": [
    {
     "data": {
      "text/plain": [
       "\n",
       " 1\n",
       " 1\n",
       " 1\n",
       " 1\n",
       " 1\n",
       "[torch.FloatTensor of size 5]"
      ]
     },
     "execution_count": 20,
     "metadata": {},
     "output_type": "execute_result"
    }
   ],
   "source": [
    "real_label"
   ]
  },
  {
   "cell_type": "code",
   "execution_count": 21,
   "metadata": {
    "collapsed": false,
    "deletable": true,
    "editable": true
   },
   "outputs": [
    {
     "data": {
      "text/plain": [
       "\n",
       " 1\n",
       " 1\n",
       " 1\n",
       " 1\n",
       " 1\n",
       "[torch.ByteTensor of size 5]"
      ]
     },
     "execution_count": 21,
     "metadata": {},
     "output_type": "execute_result"
    }
   ],
   "source": [
    "c == real_label"
   ]
  },
  {
   "cell_type": "code",
   "execution_count": 22,
   "metadata": {
    "collapsed": true,
    "deletable": true,
    "editable": true
   },
   "outputs": [],
   "source": [
    "def train(args, data_loader, netG, netD, G_optimizer, D_optimizer,\n",
    "          criterion, epoch, result_losses):\n",
    "    D_losses = AverageValueMeter()\n",
    "    G_losses = AverageValueMeter()\n",
    "    D_reals = AverageValueMeter()\n",
    "    D_fakes = AverageValueMeter()\n",
    "    G_reals = AverageValueMeter()\n",
    "    \n",
    "    start = time.time()\n",
    "    # call Variable after .cuda()\n",
    "    for i, (real, _) in enumerate(data_loader):\n",
    "        batch_size = real.size(0)\n",
    "        real_label = torch.from_numpy(np.full(batch_size, 0.9, np.float32)) #modify here\n",
    "        fake_label = torch.zeros(batch_size)\n",
    "        z = torch.randn(batch_size, args.z_dim, 1, 1)\n",
    "        \n",
    "        if args.cuda:\n",
    "            real_label = real_label.cuda()\n",
    "            fake_label = fake_label.cuda()\n",
    "            real = real.cuda()\n",
    "            z = z.cuda()\n",
    "        real_label = Variable(real_label)\n",
    "        fake_label = Variable(fake_label)\n",
    "        real = Variable(real)\n",
    "        z = Variable(z)\n",
    "        \n",
    "        if D_losses.value()[0] < 0.7*G_losses.value()[0]:\n",
    "            # Stop training D\n",
    "            #----------TRAIN G---------------\n",
    "            output = netD(fake)\n",
    "            G_loss = criterion(output, real_label)\n",
    "            G_real = output.data.mean()\n",
    "            netG.zero_grad()\n",
    "            G_loss.backward()\n",
    "            G_optimizer.step()    \n",
    "        else:\n",
    "            #----------TRAIN D---------------\n",
    "            # train with real\n",
    "            real_output = netD(real)\n",
    "            D_real_loss = criterion(real_output, real_label)\n",
    "            D_real = real_output.data.mean()\n",
    "        \n",
    "            # train with fake\n",
    "            fake = netG(z)\n",
    "            fake_output = netD(fake.detach())\n",
    "            D_fake_loss = criterion(fake_output, fake_label)\n",
    "            D_fake = fake_output.data.mean()\n",
    "        \n",
    "            # loss D\n",
    "            D_loss = D_real_loss + D_fake_loss\n",
    "            netD.zero_grad()\n",
    "            D_loss.backward()\n",
    "            D_optimizer.step()\n",
    "            \n",
    "            #----------TRAIN G---------------\n",
    "            output = netD(fake)\n",
    "            G_loss = criterion(output, real_label)\n",
    "            G_real = output.data.mean()\n",
    "            netG.zero_grad()\n",
    "            G_loss.backward()\n",
    "            G_optimizer.step()\n",
    "        \n",
    "        \n",
    "        # update loss\n",
    "        D_losses.add(D_loss.data.cpu()[0] * batch_size, batch_size)\n",
    "        G_losses.add(G_loss.data.cpu()[0] * batch_size, batch_size)\n",
    "        D_reals.add(D_real * batch_size, batch_size)\n",
    "        D_fakes.add(D_fake * batch_size, batch_size)\n",
    "        G_reals.add(G_real * batch_size, batch_size)\n",
    "        \n",
    "    print(\"=> EPOCH {} | Time: {}s | D_loss: {:.4f} | G_loss: {:.4f}\"\n",
    "          \" | D_real: {:.4f} | D_fake: {:.4f} | G_real: {:.4f}\"\n",
    "          .format(epoch, round(time.time()-start), D_losses.value()[0],\n",
    "                  G_losses.value()[0], D_reals.value()[0],\n",
    "                  D_fakes.value()[0], G_reals.value()[0]))\n",
    "    result_losses.save_losses(D_losses.value()[0],\n",
    "                  G_losses.value()[0], D_reals.value()[0],\n",
    "                  D_fakes.value()[0], G_reals.value()[0])"
   ]
  },
  {
   "cell_type": "code",
   "execution_count": null,
   "metadata": {
    "collapsed": true
   },
   "outputs": [],
   "source": []
  },
  {
   "cell_type": "code",
   "execution_count": 23,
   "metadata": {
    "collapsed": true,
    "deletable": true,
    "editable": true
   },
   "outputs": [],
   "source": [
    "def generate(args, netG, epoch):\n",
    "    z = torch.randn(args.batch_size, args.z_dim, 1, 1)\n",
    "    if args.cuda:\n",
    "        z = z.cuda()\n",
    "    fake = netG(Variable(z, volatile=True))\n",
    "    save_image(fake.data.cpu(), os.path.join(args.image_results,\n",
    "        \"fake_sample_epoch_{:02d}.png\".format(epoch)), normalize=True)"
   ]
  },
  {
   "cell_type": "markdown",
   "metadata": {
    "deletable": true,
    "editable": true
   },
   "source": [
    "## Create Model, Define Loss and Optimizer"
   ]
  },
  {
   "cell_type": "code",
   "execution_count": 24,
   "metadata": {
    "collapsed": true,
    "deletable": true,
    "editable": true
   },
   "outputs": [],
   "source": [
    "netG = _netG()\n",
    "netD = _netD()\n",
    "criterion = nn.BCELoss()\n",
    "if args.cuda:\n",
    "    netD.cuda()\n",
    "    netG.cuda()\n",
    "    criterion.cuda()"
   ]
  },
  {
   "cell_type": "code",
   "execution_count": 25,
   "metadata": {
    "collapsed": true,
    "deletable": true,
    "editable": true
   },
   "outputs": [],
   "source": [
    "D_optimizer = optim.Adam(netD.parameters(), lr=args.lr,\n",
    "                         betas=(args.beta1, 0.999), weight_decay=1e-4)\n",
    "G_optimizer = optim.Adam(netG.parameters(), lr=args.lr,\n",
    "                         betas=(args.beta1, 0.999), weight_decay=1e-4)"
   ]
  },
  {
   "cell_type": "markdown",
   "metadata": {
    "deletable": true,
    "editable": true
   },
   "source": [
    "## Run Train"
   ]
  },
  {
   "cell_type": "code",
   "execution_count": 26,
   "metadata": {
    "collapsed": false,
    "deletable": true,
    "editable": true
   },
   "outputs": [
    {
     "name": "stdout",
     "output_type": "stream",
     "text": [
      "=> EPOCH 0 | Time: 124s | D_loss: 0.3883 | G_loss: 3.0636 | D_real: 0.8980 | D_fake: 0.0053 | G_real: 0.0428\n",
      "=> EPOCH 1 | Time: 27s | D_loss: 0.3322 | G_loss: 9.1563 | D_real: 0.9000 | D_fake: 0.0003 | G_real: 0.0001\n",
      "=> EPOCH 2 | Time: 27s | D_loss: 0.3306 | G_loss: 8.9183 | D_real: 0.8998 | D_fake: 0.0002 | G_real: 0.0001\n",
      "=> EPOCH 3 | Time: 27s | D_loss: 0.3296 | G_loss: 9.3039 | D_real: 0.8998 | D_fake: 0.0002 | G_real: 0.0001\n",
      "=> EPOCH 4 | Time: 27s | D_loss: 0.3285 | G_loss: 9.5262 | D_real: 0.8998 | D_fake: 0.0001 | G_real: 0.0000\n",
      "=> EPOCH 5 | Time: 27s | D_loss: 0.3279 | G_loss: 9.9656 | D_real: 0.8999 | D_fake: 0.0001 | G_real: 0.0000\n",
      "=> EPOCH 6 | Time: 27s | D_loss: 0.3286 | G_loss: 9.7917 | D_real: 0.8999 | D_fake: 0.0001 | G_real: 0.0000\n",
      "=> EPOCH 7 | Time: 28s | D_loss: 0.3279 | G_loss: 9.7222 | D_real: 0.8998 | D_fake: 0.0001 | G_real: 0.0000\n",
      "=> EPOCH 8 | Time: 27s | D_loss: 0.3277 | G_loss: 9.8360 | D_real: 0.8999 | D_fake: 0.0001 | G_real: 0.0000\n",
      "=> EPOCH 9 | Time: 27s | D_loss: 0.3276 | G_loss: 9.8310 | D_real: 0.8998 | D_fake: 0.0001 | G_real: 0.0000\n",
      "=> EPOCH 10 | Time: 27s | D_loss: 0.3280 | G_loss: 10.2497 | D_real: 0.8999 | D_fake: 0.0001 | G_real: 0.0000\n",
      "=> EPOCH 11 | Time: 27s | D_loss: 0.5480 | G_loss: 10.5328 | D_real: 0.8865 | D_fake: 0.0115 | G_real: 0.0000\n",
      "=> EPOCH 12 | Time: 27s | D_loss: 0.3291 | G_loss: 6.5056 | D_real: 0.8988 | D_fake: 0.0010 | G_real: 0.0010\n",
      "=> EPOCH 13 | Time: 27s | D_loss: 0.3284 | G_loss: 6.9911 | D_real: 0.8990 | D_fake: 0.0009 | G_real: 0.0006\n",
      "=> EPOCH 14 | Time: 27s | D_loss: 0.3282 | G_loss: 7.1467 | D_real: 0.8992 | D_fake: 0.0008 | G_real: 0.0004\n",
      "=> EPOCH 15 | Time: 27s | D_loss: 0.3289 | G_loss: 7.5269 | D_real: 0.8993 | D_fake: 0.0008 | G_real: 0.0003\n",
      "=> EPOCH 16 | Time: 27s | D_loss: 0.3284 | G_loss: 7.6880 | D_real: 0.8993 | D_fake: 0.0008 | G_real: 0.0003\n",
      "=> EPOCH 17 | Time: 27s | D_loss: 0.3283 | G_loss: 8.0885 | D_real: 0.8995 | D_fake: 0.0006 | G_real: 0.0002\n",
      "=> EPOCH 18 | Time: 27s | D_loss: 0.3407 | G_loss: 7.9313 | D_real: 0.8987 | D_fake: 0.0011 | G_real: 0.0003\n",
      "=> EPOCH 19 | Time: 27s | D_loss: 0.3272 | G_loss: 10.0118 | D_real: 0.8994 | D_fake: 0.0006 | G_real: 0.0001\n",
      "=> EPOCH 20 | Time: 27s | D_loss: 0.3683 | G_loss: 7.9102 | D_real: 0.8954 | D_fake: 0.0041 | G_real: 0.0003\n",
      "=> EPOCH 21 | Time: 27s | D_loss: 0.3276 | G_loss: 7.5711 | D_real: 0.8993 | D_fake: 0.0008 | G_real: 0.0003\n",
      "=> EPOCH 22 | Time: 27s | D_loss: 0.3270 | G_loss: 8.1549 | D_real: 0.8996 | D_fake: 0.0005 | G_real: 0.0002\n",
      "=> EPOCH 23 | Time: 27s | D_loss: 0.3271 | G_loss: 8.5378 | D_real: 0.8996 | D_fake: 0.0004 | G_real: 0.0001\n",
      "=> EPOCH 24 | Time: 27s | D_loss: 0.3273 | G_loss: 8.4909 | D_real: 0.8997 | D_fake: 0.0003 | G_real: 0.0001\n",
      "=> EPOCH 25 | Time: 27s | D_loss: 0.3281 | G_loss: 8.5392 | D_real: 0.8996 | D_fake: 0.0004 | G_real: 0.0001\n",
      "=> EPOCH 26 | Time: 27s | D_loss: 0.3278 | G_loss: 8.9909 | D_real: 0.8998 | D_fake: 0.0003 | G_real: 0.0001\n",
      "=> EPOCH 27 | Time: 27s | D_loss: 0.3270 | G_loss: 9.5011 | D_real: 0.8998 | D_fake: 0.0002 | G_real: 0.0000\n",
      "=> EPOCH 28 | Time: 27s | D_loss: 0.3273 | G_loss: 8.9439 | D_real: 0.8999 | D_fake: 0.0002 | G_real: 0.0001\n",
      "=> EPOCH 29 | Time: 27s | D_loss: 0.4026 | G_loss: 8.9702 | D_real: 0.8943 | D_fake: 0.0059 | G_real: 0.0001\n",
      "=> EPOCH 30 | Time: 27s | D_loss: 0.3303 | G_loss: 7.3414 | D_real: 0.8984 | D_fake: 0.0019 | G_real: 0.0006\n",
      "=> EPOCH 31 | Time: 27s | D_loss: 0.3721 | G_loss: 8.1495 | D_real: 0.8941 | D_fake: 0.0063 | G_real: 0.0002\n",
      "=> EPOCH 32 | Time: 27s | D_loss: 0.3536 | G_loss: 8.0508 | D_real: 0.8947 | D_fake: 0.0052 | G_real: 0.0002\n",
      "=> EPOCH 33 | Time: 27s | D_loss: 0.3281 | G_loss: 7.4829 | D_real: 0.8995 | D_fake: 0.0006 | G_real: 0.0003\n",
      "=> EPOCH 34 | Time: 27s | D_loss: 0.3288 | G_loss: 8.0133 | D_real: 0.8994 | D_fake: 0.0007 | G_real: 0.0002\n",
      "=> EPOCH 35 | Time: 27s | D_loss: 0.3543 | G_loss: 8.0835 | D_real: 0.8957 | D_fake: 0.0041 | G_real: 0.0002\n",
      "=> EPOCH 36 | Time: 27s | D_loss: 0.3270 | G_loss: 8.1846 | D_real: 0.8997 | D_fake: 0.0003 | G_real: 0.0001\n",
      "=> EPOCH 37 | Time: 27s | D_loss: 0.3285 | G_loss: 8.6329 | D_real: 0.8995 | D_fake: 0.0008 | G_real: 0.0001\n",
      "=> EPOCH 38 | Time: 27s | D_loss: 0.3529 | G_loss: 8.9266 | D_real: 0.8956 | D_fake: 0.0042 | G_real: 0.0001\n",
      "=> EPOCH 39 | Time: 27s | D_loss: 0.3269 | G_loss: 7.8982 | D_real: 0.8998 | D_fake: 0.0003 | G_real: 0.0003\n",
      "=> EPOCH 40 | Time: 27s | D_loss: 0.3268 | G_loss: 8.5617 | D_real: 0.8999 | D_fake: 0.0004 | G_real: 0.0001\n",
      "=> EPOCH 41 | Time: 27s | D_loss: 0.3846 | G_loss: 8.8703 | D_real: 0.8913 | D_fake: 0.0092 | G_real: 0.0001\n",
      "=> EPOCH 42 | Time: 27s | D_loss: 0.3274 | G_loss: 7.9063 | D_real: 0.8997 | D_fake: 0.0004 | G_real: 0.0002\n",
      "=> EPOCH 43 | Time: 27s | D_loss: 0.3280 | G_loss: 8.1820 | D_real: 0.8995 | D_fake: 0.0006 | G_real: 0.0002\n",
      "=> EPOCH 44 | Time: 27s | D_loss: 0.3582 | G_loss: 8.3745 | D_real: 0.8939 | D_fake: 0.0068 | G_real: 0.0001\n",
      "=> EPOCH 45 | Time: 27s | D_loss: 0.3275 | G_loss: 7.4928 | D_real: 0.8996 | D_fake: 0.0004 | G_real: 0.0003\n",
      "=> EPOCH 46 | Time: 27s | D_loss: 0.3275 | G_loss: 7.9645 | D_real: 0.8996 | D_fake: 0.0005 | G_real: 0.0002\n",
      "=> EPOCH 47 | Time: 27s | D_loss: 0.3636 | G_loss: 8.4029 | D_real: 0.8935 | D_fake: 0.0062 | G_real: 0.0001\n",
      "=> EPOCH 48 | Time: 27s | D_loss: 0.3270 | G_loss: 7.9206 | D_real: 0.8997 | D_fake: 0.0003 | G_real: 0.0002\n",
      "=> EPOCH 49 | Time: 27s | D_loss: 0.3273 | G_loss: 8.4319 | D_real: 0.8996 | D_fake: 0.0004 | G_real: 0.0001\n",
      "=> EPOCH 50 | Time: 27s | D_loss: 0.3873 | G_loss: 8.6184 | D_real: 0.8917 | D_fake: 0.0079 | G_real: 0.0001\n",
      "=> EPOCH 51 | Time: 27s | D_loss: 0.3266 | G_loss: 7.6848 | D_real: 0.8998 | D_fake: 0.0003 | G_real: 0.0003\n",
      "=> EPOCH 52 | Time: 27s | D_loss: 0.3265 | G_loss: 8.7151 | D_real: 0.8997 | D_fake: 0.0003 | G_real: 0.0001\n",
      "=> EPOCH 53 | Time: 27s | D_loss: 0.3307 | G_loss: 8.4228 | D_real: 0.8989 | D_fake: 0.0010 | G_real: 0.0001\n",
      "=> EPOCH 54 | Time: 27s | D_loss: 0.3280 | G_loss: 8.5895 | D_real: 0.8992 | D_fake: 0.0005 | G_real: 0.0001\n",
      "=> EPOCH 55 | Time: 27s | D_loss: 0.3615 | G_loss: 9.2438 | D_real: 0.8924 | D_fake: 0.0045 | G_real: 0.0000\n",
      "=> EPOCH 56 | Time: 27s | D_loss: 0.3260 | G_loss: 8.8105 | D_real: 0.8999 | D_fake: 0.0002 | G_real: 0.0001\n",
      "=> EPOCH 57 | Time: 27s | D_loss: 0.3267 | G_loss: 8.6264 | D_real: 0.8998 | D_fake: 0.0003 | G_real: 0.0001\n",
      "=> EPOCH 58 | Time: 27s | D_loss: 0.3752 | G_loss: 8.8377 | D_real: 0.8932 | D_fake: 0.0070 | G_real: 0.0001\n",
      "=> EPOCH 59 | Time: 27s | D_loss: 0.3266 | G_loss: 7.8814 | D_real: 0.8997 | D_fake: 0.0003 | G_real: 0.0002\n",
      "=> EPOCH 60 | Time: 27s | D_loss: 0.3270 | G_loss: 8.7092 | D_real: 0.8996 | D_fake: 0.0004 | G_real: 0.0001\n",
      "=> EPOCH 61 | Time: 27s | D_loss: 0.3695 | G_loss: 8.9857 | D_real: 0.8924 | D_fake: 0.0068 | G_real: 0.0001\n",
      "=> EPOCH 62 | Time: 27s | D_loss: 0.3267 | G_loss: 8.1439 | D_real: 0.8996 | D_fake: 0.0003 | G_real: 0.0001\n",
      "=> EPOCH 63 | Time: 27s | D_loss: 0.3265 | G_loss: 8.5552 | D_real: 0.8996 | D_fake: 0.0003 | G_real: 0.0001\n",
      "=> EPOCH 64 | Time: 27s | D_loss: 0.3265 | G_loss: 8.5684 | D_real: 0.8997 | D_fake: 0.0003 | G_real: 0.0001\n",
      "=> EPOCH 65 | Time: 27s | D_loss: 0.3263 | G_loss: 8.9816 | D_real: 0.8997 | D_fake: 0.0002 | G_real: 0.0001\n",
      "=> EPOCH 66 | Time: 27s | D_loss: 0.3264 | G_loss: 9.3921 | D_real: 0.8997 | D_fake: 0.0002 | G_real: 0.0000\n",
      "=> EPOCH 67 | Time: 27s | D_loss: 0.3265 | G_loss: 9.5869 | D_real: 0.8997 | D_fake: 0.0002 | G_real: 0.0000\n",
      "=> EPOCH 68 | Time: 27s | D_loss: 0.3262 | G_loss: 9.3342 | D_real: 0.8997 | D_fake: 0.0001 | G_real: 0.0000\n",
      "=> EPOCH 69 | Time: 27s | D_loss: 0.3274 | G_loss: 9.6354 | D_real: 0.8996 | D_fake: 0.0002 | G_real: 0.0000\n",
      "=> EPOCH 70 | Time: 27s | D_loss: 0.3256 | G_loss: 10.2562 | D_real: 0.8999 | D_fake: 0.0001 | G_real: 0.0000\n",
      "=> EPOCH 71 | Time: 27s | D_loss: 0.3260 | G_loss: 10.2993 | D_real: 0.8998 | D_fake: 0.0001 | G_real: 0.0000\n",
      "=> EPOCH 72 | Time: 27s | D_loss: 0.3722 | G_loss: 9.3147 | D_real: 0.8943 | D_fake: 0.0054 | G_real: 0.0000\n",
      "=> EPOCH 73 | Time: 27s | D_loss: 0.3270 | G_loss: 8.4542 | D_real: 0.8997 | D_fake: 0.0003 | G_real: 0.0001\n",
      "=> EPOCH 74 | Time: 27s | D_loss: 0.3325 | G_loss: 8.7099 | D_real: 0.8986 | D_fake: 0.0014 | G_real: 0.0001\n",
      "=> EPOCH 75 | Time: 27s | D_loss: 0.3267 | G_loss: 8.5713 | D_real: 0.8996 | D_fake: 0.0004 | G_real: 0.0001\n",
      "=> EPOCH 76 | Time: 27s | D_loss: 0.3604 | G_loss: 8.4872 | D_real: 0.8944 | D_fake: 0.0044 | G_real: 0.0001\n",
      "=> EPOCH 77 | Time: 27s | D_loss: 0.3267 | G_loss: 7.5591 | D_real: 0.8997 | D_fake: 0.0004 | G_real: 0.0003\n",
      "=> EPOCH 78 | Time: 27s | D_loss: 0.3268 | G_loss: 7.9029 | D_real: 0.8998 | D_fake: 0.0004 | G_real: 0.0002\n",
      "=> EPOCH 79 | Time: 27s | D_loss: 0.3320 | G_loss: 7.8398 | D_real: 0.8985 | D_fake: 0.0016 | G_real: 0.0002\n",
      "=> EPOCH 80 | Time: 27s | D_loss: 0.3273 | G_loss: 8.6569 | D_real: 0.8996 | D_fake: 0.0005 | G_real: 0.0001\n",
      "=> EPOCH 81 | Time: 27s | D_loss: 0.3433 | G_loss: 8.6384 | D_real: 0.8963 | D_fake: 0.0034 | G_real: 0.0001\n",
      "=> EPOCH 82 | Time: 27s | D_loss: 0.3272 | G_loss: 7.5322 | D_real: 0.8998 | D_fake: 0.0004 | G_real: 0.0003\n",
      "=> EPOCH 83 | Time: 27s | D_loss: 0.3333 | G_loss: 7.8169 | D_real: 0.8989 | D_fake: 0.0017 | G_real: 0.0002\n",
      "=> EPOCH 84 | Time: 27s | D_loss: 0.3260 | G_loss: 8.1116 | D_real: 0.8999 | D_fake: 0.0003 | G_real: 0.0001\n",
      "=> EPOCH 85 | Time: 27s | D_loss: 0.3592 | G_loss: 8.6343 | D_real: 0.8923 | D_fake: 0.0058 | G_real: 0.0001\n",
      "=> EPOCH 86 | Time: 27s | D_loss: 0.3267 | G_loss: 7.4972 | D_real: 0.8997 | D_fake: 0.0005 | G_real: 0.0003\n",
      "=> EPOCH 87 | Time: 27s | D_loss: 0.3540 | G_loss: 8.3122 | D_real: 0.8927 | D_fake: 0.0064 | G_real: 0.0001\n",
      "=> EPOCH 88 | Time: 27s | D_loss: 0.3263 | G_loss: 7.4061 | D_real: 0.8998 | D_fake: 0.0003 | G_real: 0.0003\n",
      "=> EPOCH 89 | Time: 27s | D_loss: 0.3264 | G_loss: 7.9433 | D_real: 0.8997 | D_fake: 0.0004 | G_real: 0.0002\n",
      "=> EPOCH 90 | Time: 27s | D_loss: 0.3582 | G_loss: 8.4360 | D_real: 0.8928 | D_fake: 0.0070 | G_real: 0.0001\n",
      "=> EPOCH 91 | Time: 27s | D_loss: 0.3263 | G_loss: 7.2279 | D_real: 0.8998 | D_fake: 0.0004 | G_real: 0.0003\n",
      "=> EPOCH 92 | Time: 27s | D_loss: 0.3260 | G_loss: 7.9670 | D_real: 0.8999 | D_fake: 0.0003 | G_real: 0.0002\n",
      "=> EPOCH 93 | Time: 27s | D_loss: 0.3323 | G_loss: 8.4327 | D_real: 0.8982 | D_fake: 0.0021 | G_real: 0.0001\n",
      "=> EPOCH 94 | Time: 27s | D_loss: 0.3261 | G_loss: 8.2614 | D_real: 0.8998 | D_fake: 0.0003 | G_real: 0.0001\n",
      "=> EPOCH 95 | Time: 27s | D_loss: 0.3513 | G_loss: 8.2925 | D_real: 0.8939 | D_fake: 0.0049 | G_real: 0.0001\n",
      "=> EPOCH 96 | Time: 27s | D_loss: 0.3270 | G_loss: 7.4590 | D_real: 0.8998 | D_fake: 0.0003 | G_real: 0.0003\n",
      "=> EPOCH 97 | Time: 27s | D_loss: 0.3265 | G_loss: 7.7933 | D_real: 0.8998 | D_fake: 0.0004 | G_real: 0.0002\n",
      "=> EPOCH 98 | Time: 27s | D_loss: 0.3570 | G_loss: 8.3732 | D_real: 0.8918 | D_fake: 0.0078 | G_real: 0.0001\n",
      "=> EPOCH 99 | Time: 27s | D_loss: 0.3262 | G_loss: 7.5292 | D_real: 0.8998 | D_fake: 0.0003 | G_real: 0.0003\n"
     ]
    }
   ],
   "source": [
    "result_losses = Results(args.loss_results)\n",
    "for epoch in range(0, args.epochs):\n",
    "    train(args, dataloader, netG, netD, G_optimizer, D_optimizer,\n",
    "          criterion, epoch, result_losses)\n",
    "    generate(args, netG, epoch)"
   ]
  },
  {
   "cell_type": "markdown",
   "metadata": {
    "deletable": true,
    "editable": true
   },
   "source": [
    "## Save loss"
   ]
  },
  {
   "cell_type": "code",
   "execution_count": null,
   "metadata": {
    "collapsed": true,
    "deletable": true,
    "editable": true
   },
   "outputs": [],
   "source": [
    "result_losses.save_to_disk()"
   ]
  },
  {
   "cell_type": "markdown",
   "metadata": {
    "deletable": true,
    "editable": true
   },
   "source": [
    "## Get one REAL Image"
   ]
  },
  {
   "cell_type": "code",
   "execution_count": 72,
   "metadata": {
    "collapsed": true,
    "deletable": true,
    "editable": true
   },
   "outputs": [],
   "source": [
    "sample, _ = iter(dataloader).next()\n",
    "save_image(sample, os.path.join(args.results, \"real_sample.png\"))"
   ]
  }
 ],
 "metadata": {
  "kernelspec": {
   "display_name": "Python 3",
   "language": "python",
   "name": "python3"
  },
  "language_info": {
   "codemirror_mode": {
    "name": "ipython",
    "version": 3
   },
   "file_extension": ".py",
   "mimetype": "text/x-python",
   "name": "python",
   "nbconvert_exporter": "python",
   "pygments_lexer": "ipython3",
   "version": "3.5.2"
  },
  "toc": {
   "colors": {
    "hover_highlight": "#DAA520",
    "running_highlight": "#FF0000",
    "selected_highlight": "#FFD700"
   },
   "moveMenuLeft": true,
   "nav_menu": {
    "height": "246px",
    "width": "252px"
   },
   "navigate_menu": true,
   "number_sections": true,
   "sideBar": true,
   "threshold": 4,
   "toc_cell": false,
   "toc_section_display": "block",
   "toc_window_display": false
  }
 },
 "nbformat": 4,
 "nbformat_minor": 2
}
