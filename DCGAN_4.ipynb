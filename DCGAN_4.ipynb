{
 "cells": [
  {
   "cell_type": "markdown",
   "metadata": {
    "deletable": true,
    "editable": true
   },
   "source": [
    "This is the implementation of DCGAN with normalize input and one-sided label smoothing:\n",
    "- Number of epochs: 100\n",
    "- lr: 0.0002\n",
    "- Add results dir for images and loss\n",
    "- Add weight_decay: 1e-4\n",
    "\n",
    "- input: normalize (0.5, 0.5, 0.5)\n",
    "- sided_label: 0.9 ```torch.from_numpy(np.full(batch_size, 0.9, np.float32))```\n",
    "- Freezing: stop update D when loss D < 0.7 loss G"
   ]
  },
  {
   "cell_type": "markdown",
   "metadata": {
    "deletable": true,
    "editable": true
   },
   "source": [
    "# Import"
   ]
  },
  {
   "cell_type": "code",
   "execution_count": 1,
   "metadata": {
    "collapsed": true,
    "deletable": true,
    "editable": true
   },
   "outputs": [],
   "source": [
    "import argparse\n",
    "import os\n",
    "import time\n",
    "import pickle\n",
    "import numpy as np"
   ]
  },
  {
   "cell_type": "code",
   "execution_count": 2,
   "metadata": {
    "collapsed": true,
    "deletable": true,
    "editable": true
   },
   "outputs": [],
   "source": [
    "import torch\n",
    "import torch.nn as nn\n",
    "import torch.nn.init as init\n",
    "from torch.autograd import Variable\n",
    "import torch.optim as optim\n",
    "from torch.utils.data import DataLoader\n",
    "import torchvision.datasets as datasets\n",
    "import torchvision.transforms as transforms\n",
    "from torchvision.utils import save_image\n",
    "from torchnet.meter import AverageValueMeter"
   ]
  },
  {
   "cell_type": "markdown",
   "metadata": {
    "deletable": true,
    "editable": true
   },
   "source": [
    "# Define Arguments"
   ]
  },
  {
   "cell_type": "code",
   "execution_count": 3,
   "metadata": {
    "collapsed": false,
    "deletable": true,
    "editable": true
   },
   "outputs": [
    {
     "name": "stdout",
     "output_type": "stream",
     "text": [
      "total 0\r\n",
      "drwxr-xr-x    3 hoangnguyen  staff    102 24 May 11:21 \u001b[34m7 For All Mankind Kids\u001b[m\u001b[m/\r\n",
      "drwxr-xr-x   18 hoangnguyen  staff    612 24 May 11:21 \u001b[34mALDO\u001b[m\u001b[m/\r\n",
      "drwxr-xr-x  351 hoangnguyen  staff  11934 24 May 11:21 \u001b[34mASICS\u001b[m\u001b[m/\r\n",
      "drwxr-xr-x   47 hoangnguyen  staff   1598 24 May 11:21 \u001b[34mASICS Kids\u001b[m\u001b[m/\r\n",
      "drwxr-xr-x   12 hoangnguyen  staff    408 24 May 11:21 \u001b[34mAetrex\u001b[m\u001b[m/\r\n",
      "drwxr-xr-x    7 hoangnguyen  staff    238 24 May 11:21 \u001b[34mAgatha Ruiz De La Prada Kids\u001b[m\u001b[m/\r\n",
      "drwxr-xr-x   20 hoangnguyen  staff    680 24 May 11:21 \u001b[34mAhnu\u001b[m\u001b[m/\r\n",
      "drwxr-xr-x    6 hoangnguyen  staff    204 24 May 11:21 \u001b[34mAlexander McQueen\u001b[m\u001b[m/\r\n",
      "drwxr-xr-x   29 hoangnguyen  staff    986 24 May 11:21 \u001b[34mAllrounder by Mephisto\u001b[m\u001b[m/\r\n",
      "drwxr-xr-x   14 hoangnguyen  staff    476 24 May 11:21 \u001b[34mAltra Zero Drop Footwear\u001b[m\u001b[m/\r\n",
      "drwxr-xr-x   22 hoangnguyen  staff    748 24 May 11:21 \u001b[34mAmiana\u001b[m\u001b[m/\r\n",
      "drwxr-xr-x    3 hoangnguyen  staff    102 24 May 11:21 \u001b[34mAnne Klein\u001b[m\u001b[m/\r\n",
      "drwxr-xr-x    4 hoangnguyen  staff    136 24 May 11:21 \u001b[34mArcopedico\u001b[m\u001b[m/\r\n",
      "drwxr-xr-x    3 hoangnguyen  staff    102 24 May 11:21 \u001b[34mAriat\u001b[m\u001b[m/\r\n",
      "drwxr-xr-x    7 hoangnguyen  staff    238 24 May 11:21 \u001b[34mArmani Jeans\u001b[m\u001b[m/\r\n",
      "drwxr-xr-x    8 hoangnguyen  staff    272 24 May 11:21 \u001b[34mAshworth\u001b[m\u001b[m/\r\n",
      "drwxr-xr-x   11 hoangnguyen  staff    374 24 May 11:21 \u001b[34mAsolo\u001b[m\u001b[m/\r\n",
      "drwxr-xr-x    4 hoangnguyen  staff    136 24 May 11:21 \u001b[34mAster Kids\u001b[m\u001b[m/\r\n",
      "drwxr-xr-x   47 hoangnguyen  staff   1598 24 May 11:21 \u001b[34mAvia\u001b[m\u001b[m/\r\n",
      "drwxr-xr-x   10 hoangnguyen  staff    340 24 May 11:21 \u001b[34mAxion\u001b[m\u001b[m/\r\n",
      "drwxr-xr-x    4 hoangnguyen  staff    136 24 May 11:21 \u001b[34mBC Footwear\u001b[m\u001b[m/\r\n",
      "drwxr-xr-x    4 hoangnguyen  staff    136 24 May 11:21 \u001b[34mBOSS Green\u001b[m\u001b[m/\r\n",
      "drwxr-xr-x   20 hoangnguyen  staff    680 24 May 11:21 \u001b[34mBOSS Orange\u001b[m\u001b[m/\r\n",
      "drwxr-xr-x   12 hoangnguyen  staff    408 24 May 11:21 \u001b[34mBeeko\u001b[m\u001b[m/\r\n",
      "drwxr-xr-x    5 hoangnguyen  staff    170 24 May 11:21 \u001b[34mBen Sherman\u001b[m\u001b[m/\r\n",
      "drwxr-xr-x    7 hoangnguyen  staff    238 24 May 11:21 \u001b[34mBetsey Johnson\u001b[m\u001b[m/\r\n",
      "drwxr-xr-x   35 hoangnguyen  staff   1190 24 May 11:21 \u001b[34mBikkembergs\u001b[m\u001b[m/\r\n",
      "drwxr-xr-x   38 hoangnguyen  staff   1292 24 May 11:21 \u001b[34mBloch\u001b[m\u001b[m/\r\n",
      "drwxr-xr-x   10 hoangnguyen  staff    340 24 May 11:21 \u001b[34mBloch Kids\u001b[m\u001b[m/\r\n",
      "drwxr-xr-x   14 hoangnguyen  staff    476 24 May 11:21 \u001b[34mBlowfish\u001b[m\u001b[m/\r\n",
      "drwxr-xr-x    3 hoangnguyen  staff    102 24 May 11:21 \u001b[34mBody Glove\u001b[m\u001b[m/\r\n",
      "drwxr-xr-x    3 hoangnguyen  staff    102 24 May 11:21 \u001b[34mBogs\u001b[m\u001b[m/\r\n",
      "drwxr-xr-x   10 hoangnguyen  staff    340 24 May 11:21 \u001b[34mBorn\u001b[m\u001b[m/\r\n",
      "drwxr-xr-x    4 hoangnguyen  staff    136 24 May 11:21 \u001b[34mBottega Veneta\u001b[m\u001b[m/\r\n",
      "drwxr-xr-x  186 hoangnguyen  staff   6324 24 May 11:21 \u001b[34mBrooks\u001b[m\u001b[m/\r\n",
      "drwxr-xr-x   13 hoangnguyen  staff    442 24 May 11:21 \u001b[34mBrooks Kids\u001b[m\u001b[m/\r\n",
      "drwxr-xr-x    5 hoangnguyen  staff    170 24 May 11:21 \u001b[34mBurberry\u001b[m\u001b[m/\r\n",
      "drwxr-xr-x   25 hoangnguyen  staff    850 24 May 11:21 \u001b[34mCall it SPRING\u001b[m\u001b[m/\r\n",
      "drwxr-xr-x   23 hoangnguyen  staff    782 24 May 11:21 \u001b[34mCallaway\u001b[m\u001b[m/\r\n",
      "drwxr-xr-x    6 hoangnguyen  staff    204 24 May 11:21 \u001b[34mCalvin Klein\u001b[m\u001b[m/\r\n",
      "drwxr-xr-x    6 hoangnguyen  staff    204 24 May 11:21 \u001b[34mCalvin Klein Jeans\u001b[m\u001b[m/\r\n",
      "drwxr-xr-x   20 hoangnguyen  staff    680 24 May 11:21 \u001b[34mCamper\u001b[m\u001b[m/\r\n",
      "drwxr-xr-x    7 hoangnguyen  staff    238 24 May 11:21 \u001b[34mCamper Kids\u001b[m\u001b[m/\r\n",
      "drwxr-xr-x   10 hoangnguyen  staff    340 24 May 11:21 \u001b[34mCapezio\u001b[m\u001b[m/\r\n",
      "drwxr-xr-x   14 hoangnguyen  staff    476 24 May 11:21 \u001b[34mCapezio Kids\u001b[m\u001b[m/\r\n",
      "drwxr-xr-x   22 hoangnguyen  staff    748 24 May 11:21 \u001b[34mCaterpillar\u001b[m\u001b[m/\r\n",
      "drwxr-xr-x   20 hoangnguyen  staff    680 24 May 11:21 \u001b[34mChaco\u001b[m\u001b[m/\r\n",
      "drwxr-xr-x    8 hoangnguyen  staff    272 24 May 11:21 \u001b[34mChaco Kids\u001b[m\u001b[m/\r\n",
      "drwxr-xr-x   10 hoangnguyen  staff    340 24 May 11:21 \u001b[34mChicago Skates\u001b[m\u001b[m/\r\n",
      "drwxr-xr-x   17 hoangnguyen  staff    578 24 May 11:21 \u001b[34mChrome\u001b[m\u001b[m/\r\n",
      "drwxr-xr-x   11 hoangnguyen  staff    374 24 May 11:21 \u001b[34mCienta Kids Shoes\u001b[m\u001b[m/\r\n",
      "drwxr-xr-x   34 hoangnguyen  staff   1156 24 May 11:21 \u001b[34mCirca\u001b[m\u001b[m/\r\n",
      "drwxr-xr-x   17 hoangnguyen  staff    578 24 May 11:21 \u001b[34mCirca Kids\u001b[m\u001b[m/\r\n",
      "drwxr-xr-x   22 hoangnguyen  staff    748 24 May 11:21 \u001b[34mClae\u001b[m\u001b[m/\r\n",
      "drwxr-xr-x   23 hoangnguyen  staff    782 24 May 11:21 \u001b[34mClarks\u001b[m\u001b[m/\r\n",
      "drwxr-xr-x    6 hoangnguyen  staff    204 24 May 11:21 \u001b[34mCobian\u001b[m\u001b[m/\r\n",
      "drwxr-xr-x   22 hoangnguyen  staff    748 24 May 11:21 \u001b[34mCole Haan\u001b[m\u001b[m/\r\n",
      "drwxr-xr-x    3 hoangnguyen  staff    102 24 May 11:21 \u001b[34mCole Haan Kids\u001b[m\u001b[m/\r\n",
      "drwxr-xr-x   47 hoangnguyen  staff   1598 24 May 11:21 \u001b[34mColumbia\u001b[m\u001b[m/\r\n",
      "drwxr-xr-x  128 hoangnguyen  staff   4352 24 May 11:21 \u001b[34mConverse\u001b[m\u001b[m/\r\n",
      "drwxr-xr-x  100 hoangnguyen  staff   3400 24 May 11:21 \u001b[34mConverse Kids\u001b[m\u001b[m/\r\n",
      "drwxr-xr-x   11 hoangnguyen  staff    374 24 May 11:21 \u001b[34mConverse by John Varvatos\u001b[m\u001b[m/\r\n",
      "drwxr-xr-x    3 hoangnguyen  staff    102 24 May 11:21 \u001b[34mCostume National\u001b[m\u001b[m/\r\n",
      "drwxr-xr-x   54 hoangnguyen  staff   1836 24 May 11:21 \u001b[34mCreative Recreation\u001b[m\u001b[m/\r\n",
      "drwxr-xr-x   64 hoangnguyen  staff   2176 24 May 11:21 \u001b[34mCreative Recreation Kids\u001b[m\u001b[m/\r\n",
      "drwxr-xr-x    7 hoangnguyen  staff    238 24 May 11:21 \u001b[34mCrocs\u001b[m\u001b[m/\r\n",
      "drwxr-xr-x    3 hoangnguyen  staff    102 24 May 11:21 \u001b[34mCrocs Kids\u001b[m\u001b[m/\r\n",
      "drwxr-xr-x   28 hoangnguyen  staff    952 24 May 11:21 \u001b[34mCushe\u001b[m\u001b[m/\r\n",
      "drwxr-xr-x  135 hoangnguyen  staff   4590 24 May 11:21 \u001b[34mDC\u001b[m\u001b[m/\r\n",
      "drwxr-xr-x  165 hoangnguyen  staff   5610 24 May 11:21 \u001b[34mDC Kids\u001b[m\u001b[m/\r\n",
      "drwxr-xr-x   17 hoangnguyen  staff    578 24 May 11:21 \u001b[34mDKNY\u001b[m\u001b[m/\r\n",
      "drwxr-xr-x   13 hoangnguyen  staff    442 24 May 11:21 \u001b[34mDSQUARED2\u001b[m\u001b[m/\r\n",
      "drwxr-xr-x   70 hoangnguyen  staff   2380 24 May 11:21 \u001b[34mDVS Shoe Company\u001b[m\u001b[m/\r\n",
      "drwxr-xr-x   15 hoangnguyen  staff    510 24 May 11:21 \u001b[34mDansko\u001b[m\u001b[m/\r\n",
      "drwxr-xr-x    3 hoangnguyen  staff    102 24 May 11:21 \u001b[34mDavid Tate\u001b[m\u001b[m/\r\n",
      "drwxr-xr-x    3 hoangnguyen  staff    102 24 May 11:21 \u001b[34mDeer Stags\u001b[m\u001b[m/\r\n",
      "drwxr-xr-x    6 hoangnguyen  staff    204 24 May 11:21 \u001b[34mDexter Bowling\u001b[m\u001b[m/\r\n",
      "drwxr-xr-x   30 hoangnguyen  staff   1020 24 May 11:21 \u001b[34mDiadora\u001b[m\u001b[m/\r\n",
      "drwxr-xr-x   20 hoangnguyen  staff    680 24 May 11:21 \u001b[34mDiadora Kids\u001b[m\u001b[m/\r\n",
      "drwxr-xr-x   79 hoangnguyen  staff   2686 24 May 11:21 \u001b[34mDiesel\u001b[m\u001b[m/\r\n",
      "drwxr-xr-x    3 hoangnguyen  staff    102 24 May 11:21 \u001b[34mDirk Bikkembergs\u001b[m\u001b[m/\r\n",
      "drwxr-xr-x   14 hoangnguyen  staff    476 24 May 11:21 \u001b[34mDolce & Gabbana\u001b[m\u001b[m/\r\n",
      "drwxr-xr-x    5 hoangnguyen  staff    170 24 May 11:21 \u001b[34mDr. Martens\u001b[m\u001b[m/\r\n",
      "drwxr-xr-x    7 hoangnguyen  staff    238 24 May 11:21 \u001b[34mDrew\u001b[m\u001b[m/\r\n",
      "drwxr-xr-x    8 hoangnguyen  staff    272 24 May 11:21 \u001b[34mDunham\u001b[m\u001b[m/\r\n",
      "drwxr-xr-x   35 hoangnguyen  staff   1190 24 May 11:21 \u001b[34mECCO\u001b[m\u001b[m/\r\n",
      "drwxr-xr-x   56 hoangnguyen  staff   1904 24 May 11:21 \u001b[34mECCO Golf\u001b[m\u001b[m/\r\n",
      "drwxr-xr-x   97 hoangnguyen  staff   3298 24 May 11:21 \u001b[34mECCO Sport\u001b[m\u001b[m/\r\n",
      "drwxr-xr-x   28 hoangnguyen  staff    952 24 May 11:21 \u001b[34mEVOLV\u001b[m\u001b[m/\r\n",
      "drwxr-xr-x   30 hoangnguyen  staff   1020 24 May 11:21 \u001b[34mEasy Spirit\u001b[m\u001b[m/\r\n",
      "drwxr-xr-x    3 hoangnguyen  staff    102 24 May 11:21 \u001b[34mEcco Kids\u001b[m\u001b[m/\r\n",
      "drwxr-xr-x    3 hoangnguyen  staff    102 24 May 11:21 \u001b[34mEd Hardy\u001b[m\u001b[m/\r\n",
      "drwxr-xr-x    5 hoangnguyen  staff    170 24 May 11:21 \u001b[34mEktelon\u001b[m\u001b[m/\r\n",
      "drwxr-xr-x    8 hoangnguyen  staff    272 24 May 11:21 \u001b[34mEl Naturalista\u001b[m\u001b[m/\r\n",
      "drwxr-xr-x    9 hoangnguyen  staff    306 24 May 11:21 \u001b[34mElement\u001b[m\u001b[m/\r\n",
      "drwxr-xr-x    3 hoangnguyen  staff    102 24 May 11:21 \u001b[34mElizabeth and James\u001b[m\u001b[m/\r\n",
      "drwxr-xr-x    9 hoangnguyen  staff    306 24 May 11:21 \u001b[34mEmerald by Element\u001b[m\u001b[m/\r\n",
      "drwxr-xr-x   56 hoangnguyen  staff   1904 24 May 11:21 \u001b[34mEmerica\u001b[m\u001b[m/\r\n",
      "drwxr-xr-x   43 hoangnguyen  staff   1462 24 May 11:21 \u001b[34mFallen\u001b[m\u001b[m/\r\n",
      "drwxr-xr-x    3 hoangnguyen  staff    102 24 May 11:21 \u001b[34mFila\u001b[m\u001b[m/\r\n",
      "drwxr-xr-x   15 hoangnguyen  staff    510 24 May 11:21 \u001b[34mFinn Comfort\u001b[m\u001b[m/\r\n",
      "drwxr-xr-x   22 hoangnguyen  staff    748 24 May 11:21 \u001b[34mFitFlop\u001b[m\u001b[m/\r\n",
      "drwxr-xr-x   58 hoangnguyen  staff   1972 24 May 11:21 \u001b[34mFive Ten\u001b[m\u001b[m/\r\n",
      "drwxr-xr-x    5 hoangnguyen  staff    170 24 May 11:21 \u001b[34mFox\u001b[m\u001b[m/\r\n",
      "drwxr-xr-x    3 hoangnguyen  staff    102 24 May 11:21 \u001b[34mFratelli Rossetti\u001b[m\u001b[m/\r\n",
      "drwxr-xr-x   20 hoangnguyen  staff    680 24 May 11:21 \u001b[34mFred Perry\u001b[m\u001b[m/\r\n",
      "drwxr-xr-x   23 hoangnguyen  staff    782 24 May 11:21 \u001b[34mFrye\u001b[m\u001b[m/\r\n",
      "drwxr-xr-x   10 hoangnguyen  staff    340 24 May 11:21 \u001b[34mFrye Kids\u001b[m\u001b[m/\r\n",
      "drwxr-xr-x    5 hoangnguyen  staff    170 24 May 11:21 \u001b[34mGBX\u001b[m\u001b[m/\r\n",
      "drwxr-xr-x   21 hoangnguyen  staff    714 24 May 11:21 \u001b[34mGUESS\u001b[m\u001b[m/\r\n",
      "drwxr-xr-x   13 hoangnguyen  staff    442 24 May 11:21 \u001b[34mGUESS Kids'\u001b[m\u001b[m/\r\n",
      "drwxr-xr-x    4 hoangnguyen  staff    136 24 May 11:21 \u001b[34mGabor\u001b[m\u001b[m/\r\n",
      "drwxr-xr-x   17 hoangnguyen  staff    578 24 May 11:21 \u001b[34mGarmont\u001b[m\u001b[m/\r\n",
      "drwxr-xr-x    4 hoangnguyen  staff    136 24 May 11:21 \u001b[34mGeneric Surplus\u001b[m\u001b[m/\r\n",
      "drwxr-xr-x   78 hoangnguyen  staff   2652 24 May 11:21 \u001b[34mGeox Kids\u001b[m\u001b[m/\r\n",
      "drwxr-xr-x   23 hoangnguyen  staff    782 24 May 11:21 \u001b[34mGiro\u001b[m\u001b[m/\r\n",
      "drwxr-xr-x    4 hoangnguyen  staff    136 24 May 11:21 \u001b[34mGiuseppe Zanotti\u001b[m\u001b[m/\r\n",
      "drwxr-xr-x   64 hoangnguyen  staff   2176 24 May 11:21 \u001b[34mGlobe\u001b[m\u001b[m/\r\n",
      "drwxr-xr-x   15 hoangnguyen  staff    510 24 May 11:21 \u001b[34mGlobe Kids\u001b[m\u001b[m/\r\n",
      "drwxr-xr-x   28 hoangnguyen  staff    952 24 May 11:21 \u001b[34mGoLite\u001b[m\u001b[m/\r\n",
      "drwxr-xr-x   20 hoangnguyen  staff    680 24 May 11:21 \u001b[34mGola\u001b[m\u001b[m/\r\n",
      "drwxr-xr-x   19 hoangnguyen  staff    646 24 May 11:21 \u001b[34mGravis\u001b[m\u001b[m/\r\n",
      "drwxr-xr-x    4 hoangnguyen  staff    136 24 May 11:21 \u001b[34mHUGO\u001b[m\u001b[m/\r\n",
      "drwxr-xr-x   13 hoangnguyen  staff    442 24 May 11:21 \u001b[34mHabitat\u001b[m\u001b[m/\r\n",
      "drwxr-xr-x   56 hoangnguyen  staff   1904 24 May 11:21 \u001b[34mHeelys\u001b[m\u001b[m/\r\n",
      "drwxr-xr-x   15 hoangnguyen  staff    510 24 May 11:21 \u001b[34mHi-Tec\u001b[m\u001b[m/\r\n",
      "drwxr-xr-x    4 hoangnguyen  staff    136 24 May 11:21 \u001b[34mHi-Tec Kids\u001b[m\u001b[m/\r\n",
      "drwxr-xr-x   14 hoangnguyen  staff    476 24 May 11:21 \u001b[34mHoka One One\u001b[m\u001b[m/\r\n",
      "drwxr-xr-x    9 hoangnguyen  staff    306 24 May 11:21 \u001b[34mHush Puppies\u001b[m\u001b[m/\r\n",
      "drwxr-xr-x    6 hoangnguyen  staff    204 24 May 11:21 \u001b[34mHush Puppies Kids\u001b[m\u001b[m/\r\n",
      "drwxr-xr-x   21 hoangnguyen  staff    714 24 May 11:21 \u001b[34mIpath\u001b[m\u001b[m/\r\n",
      "drwxr-xr-x    5 hoangnguyen  staff    170 24 May 11:21 \u001b[34mJ-41\u001b[m\u001b[m/\r\n",
      "drwxr-xr-x    3 hoangnguyen  staff    102 24 May 11:21 \u001b[34mJambu\u001b[m\u001b[m/\r\n",
      "drwxr-xr-x    6 hoangnguyen  staff    204 24 May 11:21 \u001b[34mJambu Kids\u001b[m\u001b[m/\r\n",
      "drwxr-xr-x    3 hoangnguyen  staff    102 24 May 11:21 \u001b[34mJessica Simpson Kids\u001b[m\u001b[m/\r\n",
      "drwxr-xr-x    3 hoangnguyen  staff    102 24 May 11:21 \u001b[34mJohn Varvatos\u001b[m\u001b[m/\r\n",
      "drwxr-xr-x   16 hoangnguyen  staff    544 24 May 11:21 \u001b[34mJosef Seibel\u001b[m\u001b[m/\r\n",
      "drwxr-xr-x    4 hoangnguyen  staff    136 24 May 11:21 \u001b[34mJuicy Couture\u001b[m\u001b[m/\r\n",
      "drwxr-xr-x    4 hoangnguyen  staff    136 24 May 11:21 \u001b[34mJuicy Couture Kids\u001b[m\u001b[m/\r\n",
      "drwxr-xr-x   18 hoangnguyen  staff    612 24 May 11:21 \u001b[34mJumping Jacks Kids\u001b[m\u001b[m/\r\n",
      "drwxr-xr-x    8 hoangnguyen  staff    272 24 May 11:21 \u001b[34mJust Cavalli\u001b[m\u001b[m/\r\n",
      "drwxr-xr-x   69 hoangnguyen  staff   2346 24 May 11:21 \u001b[34mK-Swiss\u001b[m\u001b[m/\r\n",
      "drwxr-xr-x   33 hoangnguyen  staff   1122 24 May 11:21 \u001b[34mK-Swiss Kids\u001b[m\u001b[m/\r\n",
      "drwxr-xr-x   15 hoangnguyen  staff    510 24 May 11:21 \u001b[34mK2 Skates\u001b[m\u001b[m/\r\n",
      "drwxr-xr-x    4 hoangnguyen  staff    136 24 May 11:21 \u001b[34mKORS Michael Kors Kids\u001b[m\u001b[m/\r\n",
      "drwxr-xr-x    4 hoangnguyen  staff    136 24 May 11:21 \u001b[34mKalso Earth\u001b[m\u001b[m/\r\n",
      "drwxr-xr-x    4 hoangnguyen  staff    136 24 May 11:21 \u001b[34mKamik\u001b[m\u001b[m/\r\n",
      "drwxr-xr-x   15 hoangnguyen  staff    510 24 May 11:21 \u001b[34mKangaROOS\u001b[m\u001b[m/\r\n",
      "drwxr-xr-x    8 hoangnguyen  staff    272 24 May 11:21 \u001b[34mKangaROOS Kids\u001b[m\u001b[m/\r\n",
      "drwxr-xr-x   35 hoangnguyen  staff   1190 24 May 11:21 \u001b[34mKeds\u001b[m\u001b[m/\r\n",
      "drwxr-xr-x   33 hoangnguyen  staff   1122 24 May 11:21 \u001b[34mKeds Kids\u001b[m\u001b[m/\r\n",
      "drwxr-xr-x   98 hoangnguyen  staff   3332 24 May 11:21 \u001b[34mKeen\u001b[m\u001b[m/\r\n",
      "drwxr-xr-x   96 hoangnguyen  staff   3264 24 May 11:21 \u001b[34mKeen Kids\u001b[m\u001b[m/\r\n",
      "drwxr-xr-x    8 hoangnguyen  staff    272 24 May 11:21 \u001b[34mKeen Utility\u001b[m\u001b[m/\r\n",
      "drwxr-xr-x    4 hoangnguyen  staff    136 24 May 11:21 \u001b[34mKenneth Cole New York\u001b[m\u001b[m/\r\n",
      "drwxr-xr-x   12 hoangnguyen  staff    408 24 May 11:21 \u001b[34mKenneth Cole Reaction\u001b[m\u001b[m/\r\n",
      "drwxr-xr-x    4 hoangnguyen  staff    136 24 May 11:21 \u001b[34mKenneth Cole Reaction Kids\u001b[m\u001b[m/\r\n",
      "drwxr-xr-x    3 hoangnguyen  staff    102 24 May 11:21 \u001b[34mKhombu\u001b[m\u001b[m/\r\n",
      "drwxr-xr-x    7 hoangnguyen  staff    238 24 May 11:21 \u001b[34mKid Express\u001b[m\u001b[m/\r\n",
      "drwxr-xr-x   22 hoangnguyen  staff    748 24 May 11:21 \u001b[34mLa Sportiva\u001b[m\u001b[m/\r\n",
      "drwxr-xr-x  173 hoangnguyen  staff   5882 24 May 11:21 \u001b[34mLacoste\u001b[m\u001b[m/\r\n",
      "drwxr-xr-x   75 hoangnguyen  staff   2550 24 May 11:21 \u001b[34mLacoste Kids\u001b[m\u001b[m/\r\n",
      "drwxr-xr-x   45 hoangnguyen  staff   1530 24 May 11:21 \u001b[34mLakai\u001b[m\u001b[m/\r\n",
      "drwxr-xr-x   43 hoangnguyen  staff   1462 24 May 11:21 \u001b[34mLevi's&#174; Kids\u001b[m\u001b[m/\r\n",
      "drwxr-xr-x   28 hoangnguyen  staff    952 24 May 11:21 \u001b[34mLevi's&#174; Shoes\u001b[m\u001b[m/\r\n",
      "drwxr-xr-x   19 hoangnguyen  staff    646 24 May 11:21 \u001b[34mLowa\u001b[m\u001b[m/\r\n",
      "drwxr-xr-x    6 hoangnguyen  staff    204 24 May 11:21 \u001b[34mLugz\u001b[m\u001b[m/\r\n",
      "drwxr-xr-x    5 hoangnguyen  staff    170 24 May 11:21 \u001b[34mMIA\u001b[m\u001b[m/\r\n",
      "drwxr-xr-x   16 hoangnguyen  staff    544 24 May 11:21 \u001b[34mMICHAEL Michael Kors\u001b[m\u001b[m/\r\n",
      "drwxr-xr-x    4 hoangnguyen  staff    136 24 May 11:21 \u001b[34mMICHAEL Michael Kors Kids\u001b[m\u001b[m/\r\n",
      "drwxr-xr-x    3 hoangnguyen  staff    102 24 May 11:21 \u001b[34mMOZO\u001b[m\u001b[m/\r\n",
      "drwxr-xr-x   37 hoangnguyen  staff   1258 24 May 11:21 \u001b[34mMacbeth\u001b[m\u001b[m/\r\n",
      "drwxr-xr-x    5 hoangnguyen  staff    170 24 May 11:21 \u001b[34mMadden Girl\u001b[m\u001b[m/\r\n",
      "drwxr-xr-x    7 hoangnguyen  staff    238 24 May 11:21 \u001b[34mMarc Jacobs\u001b[m\u001b[m/\r\n",
      "drwxr-xr-x    3 hoangnguyen  staff    102 24 May 11:21 \u001b[34mMarc by Marc Jacobs\u001b[m\u001b[m/\r\n",
      "drwxr-xr-x    4 hoangnguyen  staff    136 24 May 11:21 \u001b[34mMe Too Kids\u001b[m\u001b[m/\r\n",
      "drwxr-xr-x   37 hoangnguyen  staff   1258 24 May 11:21 \u001b[34mMephisto\u001b[m\u001b[m/\r\n",
      "drwxr-xr-x  200 hoangnguyen  staff   6800 24 May 11:21 \u001b[34mMerrell\u001b[m\u001b[m/\r\n",
      "drwxr-xr-x   35 hoangnguyen  staff   1190 24 May 11:21 \u001b[34mMerrell Kids\u001b[m\u001b[m/\r\n",
      "drwxr-xr-x  161 hoangnguyen  staff   5474 24 May 11:21 \u001b[34mMizuno\u001b[m\u001b[m/\r\n",
      "drwxr-xr-x    9 hoangnguyen  staff    306 24 May 11:21 \u001b[34mMizuno Kids\u001b[m\u001b[m/\r\n",
      "drwxr-xr-x   38 hoangnguyen  staff   1292 24 May 11:21 \u001b[34mMontrail\u001b[m\u001b[m/\r\n",
      "drwxr-xr-x   18 hoangnguyen  staff    612 24 May 11:21 \u001b[34mMorgan&Milo Kids\u001b[m\u001b[m/\r\n",
      "drwxr-xr-x    3 hoangnguyen  staff    102 24 May 11:21 \u001b[34mMoschino\u001b[m\u001b[m/\r\n",
      "drwxr-xr-x   16 hoangnguyen  staff    544 24 May 11:21 \u001b[34mMountrek\u001b[m\u001b[m/\r\n",
      "drwxr-xr-x    4 hoangnguyen  staff    136 24 May 11:21 \u001b[34mMunro American\u001b[m\u001b[m/\r\n",
      "drwxr-xr-x   13 hoangnguyen  staff    442 24 May 11:21 \u001b[34mNO SOX\u001b[m\u001b[m/\r\n",
      "drwxr-xr-x   23 hoangnguyen  staff    782 24 May 11:21 \u001b[34mNative Kids Shoes\u001b[m\u001b[m/\r\n",
      "drwxr-xr-x   20 hoangnguyen  staff    680 24 May 11:21 \u001b[34mNative Shoes\u001b[m\u001b[m/\r\n",
      "drwxr-xr-x   13 hoangnguyen  staff    442 24 May 11:21 \u001b[34mNaturino\u001b[m\u001b[m/\r\n",
      "drwxr-xr-x  428 hoangnguyen  staff  14552 24 May 11:21 \u001b[34mNew Balance\u001b[m\u001b[m/\r\n",
      "drwxr-xr-x   94 hoangnguyen  staff   3196 24 May 11:21 \u001b[34mNew Balance Classics\u001b[m\u001b[m/\r\n",
      "drwxr-xr-x  197 hoangnguyen  staff   6698 24 May 11:21 \u001b[34mNew Balance Kids\u001b[m\u001b[m/\r\n",
      "drwxr-xr-x   24 hoangnguyen  staff    816 24 May 11:21 \u001b[34mNewton Running\u001b[m\u001b[m/\r\n",
      "drwxr-xr-x  836 hoangnguyen  staff  28424 24 May 11:21 \u001b[34mNike\u001b[m\u001b[m/\r\n",
      "drwxr-xr-x   59 hoangnguyen  staff   2006 24 May 11:21 \u001b[34mNike Action\u001b[m\u001b[m/\r\n",
      "drwxr-xr-x   70 hoangnguyen  staff   2380 24 May 11:21 \u001b[34mNike Action Kids\u001b[m\u001b[m/\r\n",
      "drwxr-xr-x   52 hoangnguyen  staff   1768 24 May 11:21 \u001b[34mNike Golf\u001b[m\u001b[m/\r\n",
      "drwxr-xr-x  369 hoangnguyen  staff  12546 24 May 11:21 \u001b[34mNike Kids\u001b[m\u001b[m/\r\n",
      "drwxr-xr-x    7 hoangnguyen  staff    238 24 May 11:21 \u001b[34mNine West Sneakers\u001b[m\u001b[m/\r\n",
      "drwxr-xr-x    5 hoangnguyen  staff    170 24 May 11:21 \u001b[34mNunn Bush\u001b[m\u001b[m/\r\n",
      "drwxr-xr-x    7 hoangnguyen  staff    238 24 May 11:21 \u001b[34mNurse Mates\u001b[m\u001b[m/\r\n",
      "drwxr-xr-x    7 hoangnguyen  staff    238 24 May 11:21 \u001b[34mO'Neill\u001b[m\u001b[m/\r\n",
      "drwxr-xr-x   12 hoangnguyen  staff    408 24 May 11:21 \u001b[34mOakley\u001b[m\u001b[m/\r\n",
      "drwxr-xr-x    5 hoangnguyen  staff    170 24 May 11:21 \u001b[34mOcean Minded\u001b[m\u001b[m/\r\n",
      "drwxr-xr-x   49 hoangnguyen  staff   1666 24 May 11:21 \u001b[34mOluKai\u001b[m\u001b[m/\r\n",
      "drwxr-xr-x    4 hoangnguyen  staff    136 24 May 11:21 \u001b[34mOluKai Kids\u001b[m\u001b[m/\r\n",
      "drwxr-xr-x    6 hoangnguyen  staff    204 24 May 11:21 \u001b[34mOnitsuka Tiger Kids by Asics\u001b[m\u001b[m/\r\n",
      "drwxr-xr-x   70 hoangnguyen  staff   2380 24 May 11:21 \u001b[34mOnitsuka Tiger by Asics\u001b[m\u001b[m/\r\n",
      "drwxr-xr-x   17 hoangnguyen  staff    578 24 May 11:21 \u001b[34mOriginal Penguin\u001b[m\u001b[m/\r\n",
      "drwxr-xr-x   15 hoangnguyen  staff    510 24 May 11:21 \u001b[34mOrthaheel\u001b[m\u001b[m/\r\n",
      "drwxr-xr-x   43 hoangnguyen  staff   1462 24 May 11:21 \u001b[34mOsiris\u001b[m\u001b[m/\r\n",
      "drwxr-xr-x   17 hoangnguyen  staff    578 24 May 11:21 \u001b[34mOsiris Kids\u001b[m\u001b[m/\r\n",
      "drwxr-xr-x   51 hoangnguyen  staff   1734 24 May 11:21 \u001b[34mPF Flyers\u001b[m\u001b[m/\r\n",
      "drwxr-xr-x    7 hoangnguyen  staff    238 24 May 11:21 \u001b[34mPF Flyers Kids\u001b[m\u001b[m/\r\n",
      "drwxr-xr-x  578 hoangnguyen  staff  19652 24 May 11:21 \u001b[34mPUMA\u001b[m\u001b[m/\r\n",
      "drwxr-xr-x    6 hoangnguyen  staff    204 24 May 11:21 \u001b[34mPUMA Sport Fashion\u001b[m\u001b[m/\r\n",
      "drwxr-xr-x   11 hoangnguyen  staff    374 24 May 11:21 \u001b[34mPablosky Kids\u001b[m\u001b[m/\r\n",
      "drwxr-xr-x    7 hoangnguyen  staff    238 24 May 11:21 \u001b[34mPalladium\u001b[m\u001b[m/\r\n",
      "drwxr-xr-x    8 hoangnguyen  staff    272 24 May 11:21 \u001b[34mPalladium Kids\u001b[m\u001b[m/\r\n",
      "drwxr-xr-x   70 hoangnguyen  staff   2380 24 May 11:21 \u001b[34mPatagonia\u001b[m\u001b[m/\r\n",
      "drwxr-xr-x   13 hoangnguyen  staff    442 24 May 11:21 \u001b[34mPaul Smith\u001b[m\u001b[m/\r\n",
      "drwxr-xr-x   13 hoangnguyen  staff    442 24 May 11:21 \u001b[34mPaul Smith Junior\u001b[m\u001b[m/\r\n",
      "drwxr-xr-x   27 hoangnguyen  staff    918 24 May 11:22 \u001b[34mPearl Izumi\u001b[m\u001b[m/\r\n",
      "drwxr-xr-x   11 hoangnguyen  staff    374 24 May 11:22 \u001b[34mPikolinos\u001b[m\u001b[m/\r\n",
      "drwxr-xr-x   77 hoangnguyen  staff   2618 24 May 11:22 \u001b[34mPolo Ralph Lauren\u001b[m\u001b[m/\r\n",
      "drwxr-xr-x   18 hoangnguyen  staff    612 24 May 11:22 \u001b[34mPolo Ralph Lauren Kids\u001b[m\u001b[m/\r\n",
      "drwxr-xr-x   28 hoangnguyen  staff    952 24 May 11:22 \u001b[34mPrimigi Kids\u001b[m\u001b[m/\r\n",
      "drwxr-xr-x   25 hoangnguyen  staff    850 24 May 11:22 \u001b[34mPrince\u001b[m\u001b[m/\r\n",
      "drwxr-xr-x    5 hoangnguyen  staff    170 24 May 11:22 \u001b[34mPrivo by Clarks\u001b[m\u001b[m/\r\n",
      "drwxr-xr-x   19 hoangnguyen  staff    646 24 May 11:22 \u001b[34mPro-Keds\u001b[m\u001b[m/\r\n",
      "drwxr-xr-x   39 hoangnguyen  staff   1326 24 May 11:22 \u001b[34mPropet\u001b[m\u001b[m/\r\n",
      "drwxr-xr-x  254 hoangnguyen  staff   8636 24 May 11:22 \u001b[34mPuma Kids\u001b[m\u001b[m/\r\n",
      "drwxr-xr-x   14 hoangnguyen  staff    476 24 May 11:22 \u001b[34mQuiksilver\u001b[m\u001b[m/\r\n",
      "drwxr-xr-x    4 hoangnguyen  staff    136 24 May 11:22 \u001b[34mRachel Zoe\u001b[m\u001b[m/\r\n",
      "drwxr-xr-x    7 hoangnguyen  staff    238 24 May 11:22 \u001b[34mRagg Kids\u001b[m\u001b[m/\r\n",
      "drwxr-xr-x    8 hoangnguyen  staff    272 24 May 11:22 \u001b[34mRalph Lauren Layette Kids\u001b[m\u001b[m/\r\n",
      "drwxr-xr-x  145 hoangnguyen  staff   4930 24 May 11:22 \u001b[34mReebok\u001b[m\u001b[m/\r\n",
      "drwxr-xr-x  143 hoangnguyen  staff   4862 24 May 11:22 \u001b[34mReebok Kids\u001b[m\u001b[m/\r\n",
      "drwxr-xr-x   54 hoangnguyen  staff   1836 24 May 11:22 \u001b[34mReebok Lifestyle\u001b[m\u001b[m/\r\n",
      "drwxr-xr-x   10 hoangnguyen  staff    340 24 May 11:22 \u001b[34mReebok Team\u001b[m\u001b[m/\r\n",
      "drwxr-xr-x   22 hoangnguyen  staff    748 24 May 11:22 \u001b[34mReef\u001b[m\u001b[m/\r\n",
      "drwxr-xr-x    3 hoangnguyen  staff    102 24 May 11:22 \u001b[34mReport\u001b[m\u001b[m/\r\n",
      "drwxr-xr-x   11 hoangnguyen  staff    374 24 May 11:22 \u001b[34mRieker\u001b[m\u001b[m/\r\n",
      "drwxr-xr-x   28 hoangnguyen  staff    952 24 May 11:22 \u001b[34mRocket Dog\u001b[m\u001b[m/\r\n",
      "drwxr-xr-x   27 hoangnguyen  staff    918 24 May 11:22 \u001b[34mRockport\u001b[m\u001b[m/\r\n",
      "drwxr-xr-x    6 hoangnguyen  staff    204 24 May 11:22 \u001b[34mRollerblade\u001b[m\u001b[m/\r\n",
      "drwxr-xr-x    6 hoangnguyen  staff    204 24 May 11:22 \u001b[34mRomika\u001b[m\u001b[m/\r\n",
      "drwxr-xr-x   21 hoangnguyen  staff    714 24 May 11:22 \u001b[34mRoxy\u001b[m\u001b[m/\r\n",
      "drwxr-xr-x   58 hoangnguyen  staff   1972 24 May 11:22 \u001b[34mRyka\u001b[m\u001b[m/\r\n",
      "drwxr-xr-x   18 hoangnguyen  staff    612 24 May 11:22 \u001b[34mSIDI\u001b[m\u001b[m/\r\n",
      "drwxr-xr-x  395 hoangnguyen  staff  13430 24 May 11:22 \u001b[34mSKECHERS\u001b[m\u001b[m/\r\n",
      "drwxr-xr-x  115 hoangnguyen  staff   3910 24 May 11:22 \u001b[34mSKECHERS KIDS\u001b[m\u001b[m/\r\n",
      "drwxr-xr-x   38 hoangnguyen  staff   1292 24 May 11:22 \u001b[34mSKECHERS Work\u001b[m\u001b[m/\r\n",
      "drwxr-xr-x   17 hoangnguyen  staff    578 24 May 11:22 \u001b[34mSLVR\u001b[m\u001b[m/\r\n",
      "drwxr-xr-x   96 hoangnguyen  staff   3264 24 May 11:22 \u001b[34mSalomon\u001b[m\u001b[m/\r\n",
      "drwxr-xr-x    7 hoangnguyen  staff    238 24 May 11:22 \u001b[34mSalomon Kids\u001b[m\u001b[m/\r\n",
      "drwxr-xr-x    9 hoangnguyen  staff    306 24 May 11:22 \u001b[34mSalvatore Ferragamo\u001b[m\u001b[m/\r\n",
      "drwxr-xr-x  127 hoangnguyen  staff   4318 24 May 11:22 \u001b[34mSanuk\u001b[m\u001b[m/\r\n",
      "drwxr-xr-x   20 hoangnguyen  staff    680 24 May 11:22 \u001b[34mSanuk Kids\u001b[m\u001b[m/\r\n",
      "drwxr-xr-x  260 hoangnguyen  staff   8840 24 May 11:22 \u001b[34mSaucony\u001b[m\u001b[m/\r\n",
      "drwxr-xr-x   56 hoangnguyen  staff   1904 24 May 11:22 \u001b[34mSaucony Kids\u001b[m\u001b[m/\r\n",
      "drwxr-xr-x   65 hoangnguyen  staff   2210 24 May 11:22 \u001b[34mSaucony Originals\u001b[m\u001b[m/\r\n",
      "drwxr-xr-x   36 hoangnguyen  staff   1224 24 May 11:22 \u001b[34mScarpa\u001b[m\u001b[m/\r\n",
      "drwxr-xr-x    6 hoangnguyen  staff    204 24 May 11:22 \u001b[34mSchool Issue\u001b[m\u001b[m/\r\n",
      "drwxr-xr-x   33 hoangnguyen  staff   1122 24 May 11:22 \u001b[34mSeaVees\u001b[m\u001b[m/\r\n",
      "drwxr-xr-x    3 hoangnguyen  staff    102 24 May 11:22 \u001b[34mSebago\u001b[m\u001b[m/\r\n",
      "drwxr-xr-x   13 hoangnguyen  staff    442 24 May 11:22 \u001b[34mSee Kai Run Kids\u001b[m\u001b[m/\r\n",
      "drwxr-xr-x   27 hoangnguyen  staff    918 24 May 11:22 \u001b[34mShimano\u001b[m\u001b[m/\r\n",
      "drwxr-xr-x    3 hoangnguyen  staff    102 24 May 11:22 \u001b[34mSoft Style\u001b[m\u001b[m/\r\n",
      "drwxr-xr-x   28 hoangnguyen  staff    952 24 May 11:22 \u001b[34mSpeedo\u001b[m\u001b[m/\r",
      "\r\n",
      "drwxr-xr-x    8 hoangnguyen  staff    272 24 May 11:22 \u001b[34mSperry Kids\u001b[m\u001b[m/\r\n",
      "drwxr-xr-x   28 hoangnguyen  staff    952 24 May 11:22 \u001b[34mSperry Top-Sider\u001b[m\u001b[m/\r\n",
      "drwxr-xr-x   20 hoangnguyen  staff    680 24 May 11:22 \u001b[34mSpira\u001b[m\u001b[m/\r\n",
      "drwxr-xr-x   22 hoangnguyen  staff    748 24 May 11:22 \u001b[34mSteve Madden\u001b[m\u001b[m/\r\n",
      "drwxr-xr-x    3 hoangnguyen  staff    102 24 May 11:22 \u001b[34mSteve Madden Kids\u001b[m\u001b[m/\r\n",
      "drwxr-xr-x  108 hoangnguyen  staff   3672 24 May 11:22 \u001b[34mStride Rite\u001b[m\u001b[m/\r\n",
      "drwxr-xr-x    5 hoangnguyen  staff    170 24 May 11:22 \u001b[34mStuart Weitzman\u001b[m\u001b[m/\r\n",
      "drwxr-xr-x    3 hoangnguyen  staff    102 24 May 11:22 \u001b[34mStuart Weitzman for The Cool People\u001b[m\u001b[m/\r\n",
      "drwxr-xr-x   77 hoangnguyen  staff   2618 24 May 11:22 \u001b[34mSuperga\u001b[m\u001b[m/\r\n",
      "drwxr-xr-x   35 hoangnguyen  staff   1190 24 May 11:22 \u001b[34mSuperga Kids\u001b[m\u001b[m/\r\n",
      "drwxr-xr-x   53 hoangnguyen  staff   1802 24 May 11:22 \u001b[34mSupra\u001b[m\u001b[m/\r\n",
      "drwxr-xr-x    7 hoangnguyen  staff    238 24 May 11:22 \u001b[34mTIC TAC TOES\u001b[m\u001b[m/\r\n",
      "drwxr-xr-x    5 hoangnguyen  staff    170 24 May 11:22 \u001b[34mTecnica\u001b[m\u001b[m/\r\n",
      "drwxr-xr-x    4 hoangnguyen  staff    136 24 May 11:22 \u001b[34mTed Baker\u001b[m\u001b[m/\r\n",
      "drwxr-xr-x   41 hoangnguyen  staff   1394 24 May 11:22 \u001b[34mTeva\u001b[m\u001b[m/\r\n",
      "drwxr-xr-x   18 hoangnguyen  staff    612 24 May 11:22 \u001b[34mTeva Kids\u001b[m\u001b[m/\r\n",
      "drwxr-xr-x   83 hoangnguyen  staff   2822 24 May 11:22 \u001b[34mThe North Face\u001b[m\u001b[m/\r\n",
      "drwxr-xr-x    8 hoangnguyen  staff    272 24 May 11:22 \u001b[34mThe North Face Kids\u001b[m\u001b[m/\r\n",
      "drwxr-xr-x    5 hoangnguyen  staff    170 24 May 11:22 \u001b[34mTimberland\u001b[m\u001b[m/\r\n",
      "drwxr-xr-x   12 hoangnguyen  staff    408 24 May 11:22 \u001b[34mTimberland Kids\u001b[m\u001b[m/\r\n",
      "drwxr-xr-x   18 hoangnguyen  staff    612 24 May 11:22 \u001b[34mTimberland PRO\u001b[m\u001b[m/\r\n",
      "drwxr-xr-x    6 hoangnguyen  staff    204 24 May 11:22 \u001b[34mTommy Bahama\u001b[m\u001b[m/\r\n",
      "drwxr-xr-x    8 hoangnguyen  staff    272 24 May 11:22 \u001b[34mTommy Hilfiger\u001b[m\u001b[m/\r\n",
      "drwxr-xr-x    3 hoangnguyen  staff    102 24 May 11:22 \u001b[34mTommy Hilfiger Kids\u001b[m\u001b[m/\r\n",
      "drwxr-xr-x    8 hoangnguyen  staff    272 24 May 11:22 \u001b[34mTravis Mathew\u001b[m\u001b[m/\r\n",
      "drwxr-xr-x   20 hoangnguyen  staff    680 24 May 11:22 \u001b[34mTretorn\u001b[m\u001b[m/\r\n",
      "drwxr-xr-x    6 hoangnguyen  staff    204 24 May 11:22 \u001b[34mTretorn Kids\u001b[m\u001b[m/\r\n",
      "drwxr-xr-x    4 hoangnguyen  staff    136 24 May 11:22 \u001b[34mTrue Religion\u001b[m\u001b[m/\r\n",
      "drwxr-xr-x   12 hoangnguyen  staff    408 24 May 11:22 \u001b[34mTsubo\u001b[m\u001b[m/\r\n",
      "drwxr-xr-x  147 hoangnguyen  staff   4998 24 May 11:22 \u001b[34mTsukihoshi Kids\u001b[m\u001b[m/\r\n",
      "drwxr-xr-x   16 hoangnguyen  staff    544 24 May 11:22 \u001b[34mTwig Kids\u001b[m\u001b[m/\r\n",
      "drwxr-xr-x   49 hoangnguyen  staff   1666 24 May 11:22 \u001b[34mUGG\u001b[m\u001b[m/\r\n",
      "drwxr-xr-x    9 hoangnguyen  staff    306 24 May 11:22 \u001b[34mUGG Kids\u001b[m\u001b[m/\r\n",
      "drwxr-xr-x   12 hoangnguyen  staff    408 24 May 11:22 \u001b[34mUmi Kids\u001b[m\u001b[m/\r\n",
      "drwxr-xr-x   52 hoangnguyen  staff   1768 24 May 11:22 \u001b[34mUnder Armour\u001b[m\u001b[m/\r\n",
      "drwxr-xr-x   26 hoangnguyen  staff    884 24 May 11:22 \u001b[34mUnder Armour Kids\u001b[m\u001b[m/\r\n",
      "drwxr-xr-x    8 hoangnguyen  staff    272 24 May 11:22 \u001b[34mVOLATILE\u001b[m\u001b[m/\r\n",
      "drwxr-xr-x  252 hoangnguyen  staff   8568 24 May 11:22 \u001b[34mVans\u001b[m\u001b[m/\r\n",
      "drwxr-xr-x  222 hoangnguyen  staff   7548 24 May 11:22 \u001b[34mVans Kids\u001b[m\u001b[m/\r\n",
      "drwxr-xr-x   36 hoangnguyen  staff   1224 24 May 11:22 \u001b[34mVasque\u001b[m\u001b[m/\r\n",
      "drwxr-xr-x    3 hoangnguyen  staff    102 24 May 11:22 \u001b[34mVenettini Kids\u001b[m\u001b[m/\r\n",
      "drwxr-xr-x    9 hoangnguyen  staff    306 24 May 11:22 \u001b[34mVersace Collection\u001b[m\u001b[m/\r\n",
      "drwxr-xr-x   21 hoangnguyen  staff    714 24 May 11:22 \u001b[34mVibram FiveFingers\u001b[m\u001b[m/\r\n",
      "drwxr-xr-x    7 hoangnguyen  staff    238 24 May 11:22 \u001b[34mVivienne Westwood\u001b[m\u001b[m/\r\n",
      "drwxr-xr-x  107 hoangnguyen  staff   3638 24 May 11:22 \u001b[34mVivobarefoot\u001b[m\u001b[m/\r\n",
      "drwxr-xr-x    4 hoangnguyen  staff    136 24 May 11:22 \u001b[34mVolatile Kids\u001b[m\u001b[m/\r\n",
      "drwxr-xr-x   21 hoangnguyen  staff    714 24 May 11:22 \u001b[34mWilson\u001b[m\u001b[m/\r\n",
      "drwxr-xr-x    4 hoangnguyen  staff    136 24 May 11:22 \u001b[34mWolverine\u001b[m\u001b[m/\r\n",
      "drwxr-xr-x    3 hoangnguyen  staff    102 24 May 11:22 \u001b[34mZamberlan\u001b[m\u001b[m/\r\n",
      "drwxr-xr-x    3 hoangnguyen  staff    102 24 May 11:22 \u001b[34mZero\u001b[m\u001b[m/\r\n",
      "drwxr-xr-x   20 hoangnguyen  staff    680 24 May 11:22 \u001b[34mZigi\u001b[m\u001b[m/\r\n",
      "drwxr-xr-x   25 hoangnguyen  staff    850 24 May 11:22 \u001b[34mZoot Sports\u001b[m\u001b[m/\r\n",
      "drwxr-xr-x  141 hoangnguyen  staff   4794 24 May 11:22 \u001b[34madidas\u001b[m\u001b[m/\r\n",
      "drwxr-xr-x   54 hoangnguyen  staff   1836 24 May 11:22 \u001b[34madidas Golf\u001b[m\u001b[m/\r\n",
      "drwxr-xr-x  169 hoangnguyen  staff   5746 24 May 11:22 \u001b[34madidas Kids\u001b[m\u001b[m/\r\n",
      "drwxr-xr-x  207 hoangnguyen  staff   7038 24 May 11:22 \u001b[34madidas Originals\u001b[m\u001b[m/\r\n",
      "drwxr-xr-x  135 hoangnguyen  staff   4590 24 May 11:22 \u001b[34madidas Originals Kids\u001b[m\u001b[m/\r\n",
      "drwxr-xr-x   81 hoangnguyen  staff   2754 24 May 11:22 \u001b[34madidas Outdoor\u001b[m\u001b[m/\r\n",
      "drwxr-xr-x  231 hoangnguyen  staff   7854 24 May 11:22 \u001b[34madidas Running\u001b[m\u001b[m/\r\n",
      "drwxr-xr-x   27 hoangnguyen  staff    918 24 May 11:22 \u001b[34madidas Y-3 by Yohji Yamamoto\u001b[m\u001b[m/\r\n",
      "drwxr-xr-x   12 hoangnguyen  staff    408 24 May 11:22 \u001b[34madidas by Stella McCartney\u001b[m\u001b[m/\r\n",
      "drwxr-xr-x   72 hoangnguyen  staff   2448 24 May 11:22 \u001b[34metnies\u001b[m\u001b[m/\r\n",
      "drwxr-xr-x   40 hoangnguyen  staff   1360 24 May 11:22 \u001b[34metnies Kids\u001b[m\u001b[m/\r\n",
      "drwxr-xr-x   67 hoangnguyen  staff   2278 24 May 11:22 \u001b[34minov-8\u001b[m\u001b[m/\r\n",
      "drwxr-xr-x   36 hoangnguyen  staff   1224 24 May 11:22 \u001b[34mpediped\u001b[m\u001b[m/\r\n"
     ]
    }
   ],
   "source": [
    "%ll ./data/ut-zap50k/Shoes/Sneakers_and_athletic_shoes/"
   ]
  },
  {
   "cell_type": "code",
   "execution_count": 4,
   "metadata": {
    "collapsed": true,
    "deletable": true,
    "editable": true
   },
   "outputs": [],
   "source": [
    "parser = {\n",
    "    'data_path': './data/ut-zap50k/Shoes/Sneakers_and_athletic_shoes/',\n",
    "    'epochs': 100,\n",
    "    'batch_size': 64,\n",
    "    'lr': 0.0002,\n",
    "    'image_size': 136,\n",
    "    'scale_size': 64,\n",
    "    'z_dim': 100,\n",
    "    'G_features': 64,\n",
    "    'D_features': 64,\n",
    "    'image_channels': 3,\n",
    "    'beta1': 0.5,\n",
    "    'cuda': True,\n",
    "    'seed': 7,\n",
    "    'workers': 2,\n",
    "    'results': './resultsDCGAN3_0523/'\n",
    "}\n",
    "args = argparse.Namespace(**parser)\n",
    "args.image_results = args.results + 'images/'\n",
    "args.loss_results = args.results + 'loss/'\n",
    "args.cuda = args.cuda and torch.cuda.is_available()\n",
    "\n",
    "if not os.path.isdir(args.data_path):\n",
    "    os.makedirs(args.data_path)\n",
    "if not os.path.isdir(args.results):\n",
    "    os.makedirs(args.results)\n",
    "if not os.path.isdir(args.image_results):\n",
    "    os.makedirs(args.image_results)\n",
    "if not os.path.isdir(args.loss_results):\n",
    "    os.makedirs(args.loss_results)\n",
    "    \n",
    "torch.manual_seed(args.seed)\n",
    "if args.cuda:\n",
    "    torch.cuda.manual_seed(args.seed)"
   ]
  },
  {
   "cell_type": "markdown",
   "metadata": {
    "deletable": true,
    "editable": true
   },
   "source": [
    "# Prepare Data"
   ]
  },
  {
   "cell_type": "markdown",
   "metadata": {
    "deletable": true,
    "editable": true
   },
   "source": [
    "**Note: all iamges have size 136x102**"
   ]
  },
  {
   "cell_type": "code",
   "execution_count": 5,
   "metadata": {
    "collapsed": true,
    "deletable": true,
    "editable": true
   },
   "outputs": [],
   "source": [
    "from folder import ImageFolder"
   ]
  },
  {
   "cell_type": "code",
   "execution_count": 6,
   "metadata": {
    "collapsed": true,
    "deletable": true,
    "editable": true
   },
   "outputs": [],
   "source": [
    "from torchvision.transforms import ToPILImage\n",
    "to_image = ToPILImage()"
   ]
  },
  {
   "cell_type": "code",
   "execution_count": 7,
   "metadata": {
    "collapsed": true,
    "deletable": true,
    "editable": true
   },
   "outputs": [],
   "source": [
    "def get_loader(image_root, batch_size, scale_size, num_workers=2, shuffle=True):\n",
    "    #image_root = os.path.join(root, 'splits', split)\n",
    "    dataset = ImageFolder(root=image_root, transform=transforms.Compose([\n",
    "            transforms.Pad(34, fill=(255, 255, 255)), # padding images with (255,255,255) --> pad 255 in 3 channels\n",
    "            transforms.CenterCrop((136,136)),\n",
    "            transforms.Scale(scale_size),\n",
    "            transforms.ToTensor(),\n",
    "            transforms.Normalize((0.5, 0.5, 0.5), (0.5, 0.5, 0.5)),\n",
    "    ]))\n",
    "\n",
    "    data_loader = torch.utils.data.DataLoader(\n",
    "        dataset, batch_size=batch_size, shuffle=shuffle, num_workers=int(num_workers))\n",
    "    #data_loader.shape = [int(num) for num in dataset[0][0].size()]\n",
    "\n",
    "    return data_loader"
   ]
  },
  {
   "cell_type": "code",
   "execution_count": 8,
   "metadata": {
    "collapsed": false,
    "deletable": true,
    "editable": true
   },
   "outputs": [
    {
     "name": "stdout",
     "output_type": "stream",
     "text": [
      "Found 12856 images in subfolders of: ./data/ut-zap50k/Shoes/Sneakers_and_athletic_shoes/\n"
     ]
    }
   ],
   "source": [
    "dataloader = get_loader(args.data_path, args.batch_size, args.scale_size)"
   ]
  },
  {
   "cell_type": "markdown",
   "metadata": {
    "deletable": true,
    "editable": true
   },
   "source": [
    "## Test One Image"
   ]
  },
  {
   "cell_type": "code",
   "execution_count": 9,
   "metadata": {
    "collapsed": false,
    "deletable": true,
    "editable": true
   },
   "outputs": [
    {
     "name": "stdout",
     "output_type": "stream",
     "text": [
      "\n",
      "(0 ,.,.) = \n",
      "  1.0000  1.0000  1.0000  ...   1.0000  1.0000  1.0000\n",
      "  1.0000  1.0000  1.0000  ...   1.0000  1.0000  1.0000\n",
      "  1.0000  1.0000  1.0000  ...   1.0000  1.0000  1.0000\n",
      "           ...             ⋱             ...          \n",
      "  1.0000  1.0000  1.0000  ...   1.0000  1.0000  1.0000\n",
      "  1.0000  1.0000  1.0000  ...   1.0000  1.0000  1.0000\n",
      "  1.0000  1.0000  1.0000  ...   1.0000  1.0000  1.0000\n",
      "\n",
      "(1 ,.,.) = \n",
      "  1.0000  1.0000  1.0000  ...   1.0000  1.0000  1.0000\n",
      "  1.0000  1.0000  1.0000  ...   1.0000  1.0000  1.0000\n",
      "  1.0000  1.0000  1.0000  ...   1.0000  1.0000  1.0000\n",
      "           ...             ⋱             ...          \n",
      "  1.0000  1.0000  1.0000  ...   1.0000  1.0000  1.0000\n",
      "  1.0000  1.0000  1.0000  ...   1.0000  1.0000  1.0000\n",
      "  1.0000  1.0000  1.0000  ...   1.0000  1.0000  1.0000\n",
      "\n",
      "(2 ,.,.) = \n",
      "  1.0000  1.0000  1.0000  ...   1.0000  1.0000  1.0000\n",
      "  1.0000  1.0000  1.0000  ...   1.0000  1.0000  1.0000\n",
      "  1.0000  1.0000  1.0000  ...   1.0000  1.0000  1.0000\n",
      "           ...             ⋱             ...          \n",
      "  1.0000  1.0000  1.0000  ...   1.0000  1.0000  1.0000\n",
      "  1.0000  1.0000  1.0000  ...   1.0000  1.0000  1.0000\n",
      "  1.0000  1.0000  1.0000  ...   1.0000  1.0000  1.0000\n",
      "[torch.FloatTensor of size 3x64x64]\n",
      "\n"
     ]
    }
   ],
   "source": [
    "test_image = 0\n",
    "for data, _ in dataloader:\n",
    "    print(data[0])\n",
    "    test_image = data[0]\n",
    "    break"
   ]
  },
  {
   "cell_type": "code",
   "execution_count": 10,
   "metadata": {
    "collapsed": false,
    "deletable": true,
    "editable": true
   },
   "outputs": [
    {
     "data": {
      "image/png": "[encoded data removed]",
      "text/plain": [
       "<PIL.Image.Image image mode=RGB size=64x64 at 0x10B05A2E8>"
      ]
     },
     "execution_count": 10,
     "metadata": {},
     "output_type": "execute_result"
    }
   ],
   "source": [
    "to_image(test_image)"
   ]
  },
  {
   "cell_type": "markdown",
   "metadata": {
    "deletable": true,
    "editable": true
   },
   "source": [
    "# Define Model"
   ]
  },
  {
   "cell_type": "markdown",
   "metadata": {
    "deletable": true,
    "editable": true
   },
   "source": [
    "## Define G"
   ]
  },
  {
   "cell_type": "code",
   "execution_count": 11,
   "metadata": {
    "collapsed": true,
    "deletable": true,
    "editable": true
   },
   "outputs": [],
   "source": [
    "class _netG(nn.Module):\n",
    "    def __init__(self):\n",
    "        super(_netG, self).__init__()\n",
    "        self.main = nn.Sequential(\n",
    "            # input is Z, going into a convolution\n",
    "            nn.ConvTranspose2d(args.z_dim, args.G_features * 8,\n",
    "                               4, 1, 0, bias=False),\n",
    "            nn.BatchNorm2d(args.G_features * 8),\n",
    "            nn.ReLU(True),\n",
    "            nn.ConvTranspose2d(args.G_features * 8, args.G_features * 4,\n",
    "                               4, 2, 1, bias=False),\n",
    "            nn.BatchNorm2d(args.G_features * 4),\n",
    "            nn.ReLU(True),\n",
    "            # state size. (ngf*8) x 4 x 4\n",
    "            nn.ConvTranspose2d(args.G_features * 4, args.G_features * 2,\n",
    "                               4, 2, 1, bias=False),\n",
    "            nn.BatchNorm2d(args.G_features * 2),\n",
    "            nn.ReLU(True),\n",
    "            # state size. (ngf*4) x 8 x 8\n",
    "            nn.ConvTranspose2d(args.G_features * 2, args.G_features,\n",
    "                               4, 2, 1, bias=False),\n",
    "            nn.BatchNorm2d(args.G_features),\n",
    "            nn.ReLU(True),\n",
    "            # state size. (ngf) x 16 x 16\n",
    "            nn.ConvTranspose2d(args.G_features, args.image_channels,\n",
    "                               4, 2, 1, bias=False),\n",
    "            nn.Tanh()\n",
    "            # state size. (nc) x 32 x 32\n",
    "        )\n",
    "        self._initialize_weights()\n",
    "        \n",
    "    # custom weight initialization\n",
    "    def _initialize_weights(self):\n",
    "        for m in self.modules():\n",
    "            if isinstance(m, nn.ConvTranspose2d):\n",
    "                n = m.kernel_size[0] * m.kernel_size[1] * m.out_channels\n",
    "                init.normal(m.weight, mean=0, std=0.02)\n",
    "            elif isinstance(m, nn.BatchNorm2d):\n",
    "                init.normal(m.weight, mean=1, std=0.02)\n",
    "                init.constant(m.bias, 0)\n",
    "\n",
    "    def forward(self, x):\n",
    "        return self.main(x)"
   ]
  },
  {
   "cell_type": "markdown",
   "metadata": {
    "deletable": true,
    "editable": true
   },
   "source": [
    "## Define D"
   ]
  },
  {
   "cell_type": "code",
   "execution_count": 12,
   "metadata": {
    "collapsed": true,
    "deletable": true,
    "editable": true
   },
   "outputs": [],
   "source": [
    "class _netD(nn.Module):\n",
    "    def __init__(self):\n",
    "        super(_netD, self).__init__()\n",
    "        self.main = nn.Sequential(\n",
    "            # input is (nc) x 32 x 32\n",
    "            nn.Conv2d(args.image_channels, args.D_features,\n",
    "                      4, 2, 1, bias=False),\n",
    "            nn.LeakyReLU(0.2, inplace=True),\n",
    "            # state size. (ndf) x 16 x 16\n",
    "            nn.Conv2d(args.D_features, args.D_features * 2,\n",
    "                      4, 2, 1, bias=False),\n",
    "            nn.BatchNorm2d(args.D_features * 2),\n",
    "            nn.LeakyReLU(0.2, inplace=True),\n",
    "            # state size. (ndf*2) x 8 x 8\n",
    "            nn.Conv2d(args.D_features * 2, args.D_features * 4,\n",
    "                      4, 2, 1, bias=False),\n",
    "            nn.BatchNorm2d(args.D_features * 4),\n",
    "            nn.LeakyReLU(0.2, inplace=True),\n",
    "            nn.Conv2d(args.D_features * 4, args.D_features * 8,\n",
    "                      4, 2, 1, bias=False),\n",
    "            nn.BatchNorm2d(args.D_features * 8),\n",
    "            nn.LeakyReLU(0.2, inplace=True),\n",
    "            # state size. (ndf*4) x 4 x 4\n",
    "            nn.Conv2d(args.D_features * 8, 1, 4, 1, 0, bias=False),\n",
    "            nn.Sigmoid()\n",
    "        )\n",
    "        self._initialize_weights()\n",
    "        \n",
    "    # custom weight initialization\n",
    "    def _initialize_weights(self):\n",
    "        for m in self.modules():\n",
    "            if isinstance(m, nn.Conv2d):\n",
    "                n = m.kernel_size[0] * m.kernel_size[1] * m.out_channels\n",
    "                init.normal(m.weight, mean=0, std=0.02)\n",
    "            elif isinstance(m, nn.BatchNorm2d):\n",
    "                init.normal(m.weight, mean=1, std=0.02)\n",
    "                init.constant(m.bias, 0)\n",
    "\n",
    "    def forward(self, input):\n",
    "        output = self.main(input)\n",
    "        return output.view(-1, 1)"
   ]
  },
  {
   "cell_type": "markdown",
   "metadata": {
    "deletable": true,
    "editable": true
   },
   "source": [
    "## Save losses"
   ]
  },
  {
   "cell_type": "code",
   "execution_count": 13,
   "metadata": {
    "collapsed": true,
    "deletable": true,
    "editable": true
   },
   "outputs": [],
   "source": [
    "class Results():\n",
    "    def __init__(self, results_path):\n",
    "        self.D_losses = []\n",
    "        self.G_losses = []\n",
    "        self.D_reals = []\n",
    "        self.D_fakes = []\n",
    "        self.G_reals = []\n",
    "        self.results_path = results_path\n",
    "    \n",
    "    def save_losses(self, D_loss, G_loss, D_real, D_fake, G_real):\n",
    "        self.D_losses.append(D_loss)\n",
    "        self.G_losses.append(G_loss)\n",
    "        self.D_reals.append(D_real)\n",
    "        self.D_fakes.append(D_fake)\n",
    "        self.G_reals.append(G_real)\n",
    "        \n",
    "    def save_to_disk(self):\n",
    "        f = open(self.results_path + \"D_losses.pkl\", \"wb\")\n",
    "        pickle.dump(self.D_losses, f)\n",
    "        f= open(self.results_path + \"G_losses.pkl\", \"wb\")\n",
    "        pickle.dump(self.G_losses, f)\n",
    "        f = open(self.results_path + \"D_reals.pkl\", \"wb\")\n",
    "        pickle.dump(self.D_reals, f)\n",
    "        f = open(self.results_path + \"D_fakes.pkl\", \"wb\")\n",
    "        pickle.dump(self.D_fakes, f)\n",
    "        f = open(self.results_path + \"G_reals.pkl\", \"wb\")\n",
    "        pickle.dump(self.G_reals, f)\n",
    "        "
   ]
  },
  {
   "cell_type": "markdown",
   "metadata": {
    "deletable": true,
    "editable": true
   },
   "source": [
    "## Define Train and Generate"
   ]
  },
  {
   "cell_type": "code",
   "execution_count": 14,
   "metadata": {
    "collapsed": true,
    "deletable": true,
    "editable": true
   },
   "outputs": [],
   "source": [
    "c = np.full(5, 1, np.float32)"
   ]
  },
  {
   "cell_type": "code",
   "execution_count": 15,
   "metadata": {
    "collapsed": true,
    "deletable": true,
    "editable": true
   },
   "outputs": [],
   "source": [
    "c = torch.from_numpy(np.full(5, 1, np.float32))"
   ]
  },
  {
   "cell_type": "code",
   "execution_count": 16,
   "metadata": {
    "collapsed": false,
    "deletable": true,
    "editable": true
   },
   "outputs": [
    {
     "data": {
      "text/plain": [
       "\n",
       " 1\n",
       " 1\n",
       " 1\n",
       " 1\n",
       " 1\n",
       "[torch.FloatTensor of size 5]"
      ]
     },
     "execution_count": 16,
     "metadata": {},
     "output_type": "execute_result"
    }
   ],
   "source": [
    "c"
   ]
  },
  {
   "cell_type": "code",
   "execution_count": 17,
   "metadata": {
    "collapsed": true,
    "deletable": true,
    "editable": true
   },
   "outputs": [],
   "source": [
    "real_label = torch.ones(5)"
   ]
  },
  {
   "cell_type": "code",
   "execution_count": 18,
   "metadata": {
    "collapsed": false,
    "deletable": true,
    "editable": true
   },
   "outputs": [
    {
     "data": {
      "text/plain": [
       "\n",
       " 1\n",
       " 1\n",
       " 1\n",
       " 1\n",
       " 1\n",
       "[torch.FloatTensor of size 5]"
      ]
     },
     "execution_count": 18,
     "metadata": {},
     "output_type": "execute_result"
    }
   ],
   "source": [
    "real_label"
   ]
  },
  {
   "cell_type": "code",
   "execution_count": 19,
   "metadata": {
    "collapsed": false,
    "deletable": true,
    "editable": true
   },
   "outputs": [
    {
     "data": {
      "text/plain": [
       "\n",
       " 1\n",
       " 1\n",
       " 1\n",
       " 1\n",
       " 1\n",
       "[torch.ByteTensor of size 5]"
      ]
     },
     "execution_count": 19,
     "metadata": {},
     "output_type": "execute_result"
    }
   ],
   "source": [
    "c == real_label"
   ]
  },
  {
   "cell_type": "code",
   "execution_count": 20,
   "metadata": {
    "collapsed": true,
    "deletable": true,
    "editable": true
   },
   "outputs": [],
   "source": [
    "def train(args, data_loader, netG, netD, G_optimizer, D_optimizer,\n",
    "          criterion, epoch, result_losses):\n",
    "    D_losses = AverageValueMeter()\n",
    "    G_losses = AverageValueMeter()\n",
    "    D_reals = AverageValueMeter()\n",
    "    D_fakes = AverageValueMeter()\n",
    "    G_reals = AverageValueMeter()\n",
    "    \n",
    "    start = time.time()\n",
    "    # call Variable after .cuda()\n",
    "    for i, (real, _) in enumerate(data_loader):\n",
    "        batch_size = real.size(0)\n",
    "        real_label = torch.from_numpy(np.full(batch_size, 0.9, np.float32)) #modify here\n",
    "        fake_label = torch.zeros(batch_size)\n",
    "        z = torch.randn(batch_size, args.z_dim, 1, 1)\n",
    "        \n",
    "        if args.cuda:\n",
    "            real_label = real_label.cuda()\n",
    "            fake_label = fake_label.cuda()\n",
    "            real = real.cuda()\n",
    "            z = z.cuda()\n",
    "        real_label = Variable(real_label)\n",
    "        fake_label = Variable(fake_label)\n",
    "        real = Variable(real)\n",
    "        z = Variable(z)\n",
    "        \n",
    "        real_output = netD(real)\n",
    "        D_real_loss = criterion(real_output, real_label)\n",
    "        D_real = real_output.data.mean()\n",
    "        \n",
    "        if D_losses.value()[0] < 0.7*G_losses.value()[0]:\n",
    "            # train G\n",
    "            fake = netG(z)\n",
    "            fake_output = netD(fake.detach())\n",
    "            D_fake_loss = criterion(fake_output, fake_label)\n",
    "            D_fake = fake_output.data.mean()\n",
    "        \n",
    "            D_loss = D_real_loss + D_fake_loss\n",
    "            netD.zero_grad()\n",
    "            D_loss.backward()\n",
    "            D_optimizer.step()\n",
    "        \n",
    "        else:\n",
    "            # train G\n",
    "            fake = netG(z)\n",
    "            fake_output = netD(fake.detach())\n",
    "            D_fake_loss = criterion(fake_output, fake_label)\n",
    "            D_fake = fake_output.data.mean()\n",
    "        \n",
    "            D_loss = D_real_loss + D_fake_loss\n",
    "            netD.zero_grad()\n",
    "            D_loss.backward()\n",
    "            D_optimizer.step()\n",
    "            \n",
    "            #train D\n",
    "            output = netD(fake)\n",
    "            G_loss = criterion(output, real_label)\n",
    "            G_real = output.data.mean()\n",
    "            netG.zero_grad()\n",
    "            G_loss.backward()\n",
    "            G_optimizer.step()\n",
    "        \n",
    "        # update loss\n",
    "        D_losses.add(D_loss.data.cpu()[0] * batch_size, batch_size)\n",
    "        G_losses.add(G_loss.data.cpu()[0] * batch_size, batch_size)\n",
    "        D_reals.add(D_real * batch_size, batch_size)\n",
    "        D_fakes.add(D_fake * batch_size, batch_size)\n",
    "        G_reals.add(G_real * batch_size, batch_size)\n",
    "        \n",
    "    print(\"=> EPOCH {} | Time: {}s | D_loss: {:.4f} | G_loss: {:.4f}\"\n",
    "          \" | D_real: {:.4f} | D_fake: {:.4f} | G_real: {:.4f}\"\n",
    "          .format(epoch, round(time.time()-start), D_losses.value()[0],\n",
    "                  G_losses.value()[0], D_reals.value()[0],\n",
    "                  D_fakes.value()[0], G_reals.value()[0]))\n",
    "    result_losses.save_losses(D_losses.value()[0],\n",
    "                  G_losses.value()[0], D_reals.value()[0],\n",
    "                  D_fakes.value()[0], G_reals.value()[0])"
   ]
  },
  {
   "cell_type": "code",
   "execution_count": 21,
   "metadata": {
    "collapsed": true,
    "deletable": true,
    "editable": true
   },
   "outputs": [],
   "source": [
    "def generate(args, netG, epoch):\n",
    "    z = torch.randn(args.batch_size, args.z_dim, 1, 1)\n",
    "    if args.cuda:\n",
    "        z = z.cuda()\n",
    "    fake = netG(Variable(z, volatile=True))\n",
    "    save_image(fake.data.cpu(), os.path.join(args.image_results,\n",
    "        \"fake_sample_epoch_{:02d}.png\".format(epoch)), normalize=True)"
   ]
  },
  {
   "cell_type": "markdown",
   "metadata": {
    "deletable": true,
    "editable": true
   },
   "source": [
    "## Create Model, Define Loss and Optimizer"
   ]
  },
  {
   "cell_type": "code",
   "execution_count": 22,
   "metadata": {
    "collapsed": true,
    "deletable": true,
    "editable": true
   },
   "outputs": [],
   "source": [
    "netG = _netG()\n",
    "netD = _netD()\n",
    "criterion = nn.BCELoss()\n",
    "if args.cuda:\n",
    "    netD.cuda()\n",
    "    netG.cuda()\n",
    "    criterion.cuda()"
   ]
  },
  {
   "cell_type": "code",
   "execution_count": 23,
   "metadata": {
    "collapsed": true,
    "deletable": true,
    "editable": true
   },
   "outputs": [],
   "source": [
    "D_optimizer = optim.Adam(netD.parameters(), lr=args.lr,\n",
    "                         betas=(args.beta1, 0.999), weight_decay=1e-4)\n",
    "G_optimizer = optim.Adam(netG.parameters(), lr=args.lr,\n",
    "                         betas=(args.beta1, 0.999), weight_decay=1e-4)"
   ]
  },
  {
   "cell_type": "markdown",
   "metadata": {
    "deletable": true,
    "editable": true
   },
   "source": [
    "## Run Train"
   ]
  },
  {
   "cell_type": "code",
   "execution_count": 24,
   "metadata": {
    "collapsed": false,
    "deletable": true,
    "editable": true
   },
   "outputs": [
    {
     "name": "stderr",
     "output_type": "stream",
     "text": [
      "Process Process-4:\n",
      "Process Process-3:\n",
      "Traceback (most recent call last):\n",
      "Traceback (most recent call last):\n",
      "  File \"/Users/hoangnguyen/miniconda3/envs/pydata/lib/python3.5/multiprocessing/process.py\", line 249, in _bootstrap\n",
      "    self.run()\n",
      "  File \"/Users/hoangnguyen/miniconda3/envs/pydata/lib/python3.5/multiprocessing/process.py\", line 249, in _bootstrap\n",
      "    self.run()\n",
      "  File \"/Users/hoangnguyen/miniconda3/envs/pydata/lib/python3.5/multiprocessing/process.py\", line 93, in run\n",
      "    self._target(*self._args, **self._kwargs)\n",
      "  File \"/Users/hoangnguyen/miniconda3/envs/pydata/lib/python3.5/multiprocessing/process.py\", line 93, in run\n",
      "    self._target(*self._args, **self._kwargs)\n",
      "  File \"/Users/hoangnguyen/miniconda3/envs/pydata/lib/python3.5/site-packages/torch/utils/data/dataloader.py\", line 35, in _worker_loop\n",
      "    r = index_queue.get()\n",
      "  File \"/Users/hoangnguyen/miniconda3/envs/pydata/lib/python3.5/site-packages/torch/utils/data/dataloader.py\", line 35, in _worker_loop\n",
      "    r = index_queue.get()\n",
      "  File \"/Users/hoangnguyen/miniconda3/envs/pydata/lib/python3.5/multiprocessing/queues.py\", line 343, in get\n",
      "    res = self._reader.recv_bytes()\n",
      "  File \"/Users/hoangnguyen/miniconda3/envs/pydata/lib/python3.5/multiprocessing/queues.py\", line 342, in get\n",
      "    with self._rlock:\n",
      "  File \"/Users/hoangnguyen/miniconda3/envs/pydata/lib/python3.5/multiprocessing/connection.py\", line 216, in recv_bytes\n",
      "    buf = self._recv_bytes(maxlength)\n",
      "  File \"/Users/hoangnguyen/miniconda3/envs/pydata/lib/python3.5/multiprocessing/synchronize.py\", line 96, in __enter__\n",
      "    return self._semlock.__enter__()\n",
      "  File \"/Users/hoangnguyen/miniconda3/envs/pydata/lib/python3.5/multiprocessing/connection.py\", line 407, in _recv_bytes\n",
      "    buf = self._recv(4)\n",
      "KeyboardInterrupt\n",
      "  File \"/Users/hoangnguyen/miniconda3/envs/pydata/lib/python3.5/multiprocessing/connection.py\", line 379, in _recv\n",
      "    chunk = read(handle, remaining)\n",
      "KeyboardInterrupt\n"
     ]
    },
    {
     "ename": "KeyboardInterrupt",
     "evalue": "",
     "output_type": "error",
     "traceback": [
      "\u001b[0;31m---------------------------------------------------------------------------\u001b[0m",
      "\u001b[0;31mKeyboardInterrupt\u001b[0m                         Traceback (most recent call last)",
      "\u001b[0;32m<ipython-input-24-2546f434b2b1>\u001b[0m in \u001b[0;36m<module>\u001b[0;34m()\u001b[0m\n\u001b[1;32m      2\u001b[0m \u001b[0;32mfor\u001b[0m \u001b[0mepoch\u001b[0m \u001b[0;32min\u001b[0m \u001b[0mrange\u001b[0m\u001b[0;34m(\u001b[0m\u001b[0;36m0\u001b[0m\u001b[0;34m,\u001b[0m \u001b[0margs\u001b[0m\u001b[0;34m.\u001b[0m\u001b[0mepochs\u001b[0m\u001b[0;34m)\u001b[0m\u001b[0;34m:\u001b[0m\u001b[0;34m\u001b[0m\u001b[0m\n\u001b[1;32m      3\u001b[0m     train(args, dataloader, netG, netD, G_optimizer, D_optimizer,\n\u001b[0;32m----> 4\u001b[0;31m           criterion, epoch, result_losses)\n\u001b[0m\u001b[1;32m      5\u001b[0m     \u001b[0mgenerate\u001b[0m\u001b[0;34m(\u001b[0m\u001b[0margs\u001b[0m\u001b[0;34m,\u001b[0m \u001b[0mnetG\u001b[0m\u001b[0;34m,\u001b[0m \u001b[0mepoch\u001b[0m\u001b[0;34m)\u001b[0m\u001b[0;34m\u001b[0m\u001b[0m\n",
      "\u001b[0;32m<ipython-input-20-a6abcc87b749>\u001b[0m in \u001b[0;36mtrain\u001b[0;34m(args, data_loader, netG, netD, G_optimizer, D_optimizer, criterion, epoch, result_losses)\u001b[0m\n\u001b[1;32m     38\u001b[0m             \u001b[0mD_loss\u001b[0m \u001b[0;34m=\u001b[0m \u001b[0mD_real_loss\u001b[0m \u001b[0;34m+\u001b[0m \u001b[0mD_fake_loss\u001b[0m\u001b[0;34m\u001b[0m\u001b[0m\n\u001b[1;32m     39\u001b[0m             \u001b[0mnetD\u001b[0m\u001b[0;34m.\u001b[0m\u001b[0mzero_grad\u001b[0m\u001b[0;34m(\u001b[0m\u001b[0;34m)\u001b[0m\u001b[0;34m\u001b[0m\u001b[0m\n\u001b[0;32m---> 40\u001b[0;31m             \u001b[0mD_loss\u001b[0m\u001b[0;34m.\u001b[0m\u001b[0mbackward\u001b[0m\u001b[0;34m(\u001b[0m\u001b[0;34m)\u001b[0m\u001b[0;34m\u001b[0m\u001b[0m\n\u001b[0m\u001b[1;32m     41\u001b[0m             \u001b[0mD_optimizer\u001b[0m\u001b[0;34m.\u001b[0m\u001b[0mstep\u001b[0m\u001b[0;34m(\u001b[0m\u001b[0;34m)\u001b[0m\u001b[0;34m\u001b[0m\u001b[0m\n\u001b[1;32m     42\u001b[0m \u001b[0;34m\u001b[0m\u001b[0m\n",
      "\u001b[0;32m/Users/hoangnguyen/miniconda3/envs/pydata/lib/python3.5/site-packages/torch/autograd/variable.py\u001b[0m in \u001b[0;36mbackward\u001b[0;34m(self, gradient, retain_variables)\u001b[0m\n\u001b[1;32m    144\u001b[0m                     'or with gradient w.r.t. the variable')\n\u001b[1;32m    145\u001b[0m             \u001b[0mgradient\u001b[0m \u001b[0;34m=\u001b[0m \u001b[0mself\u001b[0m\u001b[0;34m.\u001b[0m\u001b[0mdata\u001b[0m\u001b[0;34m.\u001b[0m\u001b[0mnew\u001b[0m\u001b[0;34m(\u001b[0m\u001b[0;34m)\u001b[0m\u001b[0;34m.\u001b[0m\u001b[0mresize_as_\u001b[0m\u001b[0;34m(\u001b[0m\u001b[0mself\u001b[0m\u001b[0;34m.\u001b[0m\u001b[0mdata\u001b[0m\u001b[0;34m)\u001b[0m\u001b[0;34m.\u001b[0m\u001b[0mfill_\u001b[0m\u001b[0;34m(\u001b[0m\u001b[0;36m1\u001b[0m\u001b[0;34m)\u001b[0m\u001b[0;34m\u001b[0m\u001b[0m\n\u001b[0;32m--> 146\u001b[0;31m         \u001b[0mself\u001b[0m\u001b[0;34m.\u001b[0m\u001b[0m_execution_engine\u001b[0m\u001b[0;34m.\u001b[0m\u001b[0mrun_backward\u001b[0m\u001b[0;34m(\u001b[0m\u001b[0;34m(\u001b[0m\u001b[0mself\u001b[0m\u001b[0;34m,\u001b[0m\u001b[0;34m)\u001b[0m\u001b[0;34m,\u001b[0m \u001b[0;34m(\u001b[0m\u001b[0mgradient\u001b[0m\u001b[0;34m,\u001b[0m\u001b[0;34m)\u001b[0m\u001b[0;34m,\u001b[0m \u001b[0mretain_variables\u001b[0m\u001b[0;34m)\u001b[0m\u001b[0;34m\u001b[0m\u001b[0m\n\u001b[0m\u001b[1;32m    147\u001b[0m \u001b[0;34m\u001b[0m\u001b[0m\n\u001b[1;32m    148\u001b[0m     \u001b[0;32mdef\u001b[0m \u001b[0mregister_hook\u001b[0m\u001b[0;34m(\u001b[0m\u001b[0mself\u001b[0m\u001b[0;34m,\u001b[0m \u001b[0mhook\u001b[0m\u001b[0;34m)\u001b[0m\u001b[0;34m:\u001b[0m\u001b[0;34m\u001b[0m\u001b[0m\n",
      "\u001b[0;31mKeyboardInterrupt\u001b[0m: "
     ]
    }
   ],
   "source": [
    "result_losses = Results(args.loss_results)\n",
    "for epoch in range(0, args.epochs):\n",
    "    train(args, dataloader, netG, netD, G_optimizer, D_optimizer,\n",
    "          criterion, epoch, result_losses)\n",
    "    generate(args, netG, epoch)"
   ]
  },
  {
   "cell_type": "markdown",
   "metadata": {
    "deletable": true,
    "editable": true
   },
   "source": [
    "## Save loss"
   ]
  },
  {
   "cell_type": "code",
   "execution_count": null,
   "metadata": {
    "collapsed": true,
    "deletable": true,
    "editable": true
   },
   "outputs": [],
   "source": [
    "result_losses.save_to_disk()"
   ]
  },
  {
   "cell_type": "markdown",
   "metadata": {
    "deletable": true,
    "editable": true
   },
   "source": [
    "## Get one REAL Image"
   ]
  },
  {
   "cell_type": "code",
   "execution_count": 72,
   "metadata": {
    "collapsed": true,
    "deletable": true,
    "editable": true
   },
   "outputs": [],
   "source": [
    "sample, _ = iter(dataloader).next()\n",
    "save_image(sample, os.path.join(args.results, \"real_sample.png\"))"
   ]
  }
 ],
 "metadata": {
  "kernelspec": {
   "display_name": "Python 3",
   "language": "python",
   "name": "python3"
  },
  "language_info": {
   "codemirror_mode": {
    "name": "ipython",
    "version": 3
   },
   "file_extension": ".py",
   "mimetype": "text/x-python",
   "name": "python",
   "nbconvert_exporter": "python",
   "pygments_lexer": "ipython3",
   "version": "3.5.2"
  },
  "toc": {
   "colors": {
    "hover_highlight": "#DAA520",
    "running_highlight": "#FF0000",
    "selected_highlight": "#FFD700"
   },
   "moveMenuLeft": true,
   "nav_menu": {
    "height": "246px",
    "width": "252px"
   },
   "navigate_menu": true,
   "number_sections": true,
   "sideBar": true,
   "threshold": 4,
   "toc_cell": false,
   "toc_section_display": "block",
   "toc_window_display": false
  }
 },
 "nbformat": 4,
 "nbformat_minor": 2
}
