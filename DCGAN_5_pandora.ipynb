{
 "cells": [
  {
   "cell_type": "markdown",
   "metadata": {},
   "source": [
    "This is the implementation of DCGAN with normalize input and one-sided label smoothing:\n",
    "- Number of epochs: 100\n",
    "- lr: 0.0002\n",
    "- Add results dir for images and loss\n",
    "- Add weight_decay: 1e-4\n",
    "\n",
    "- input: normalize (0.5, 0.5, 0.5)\n",
    "- sided_label: 0.9 ```torch.from_numpy(np.full(batch_size, 0.9, np.float32))```\n",
    "- Freezing: stop update D when loss D < 0.7 loss G"
   ]
  },
  {
   "cell_type": "markdown",
   "metadata": {},
   "source": [
    "# Import"
   ]
  },
  {
   "cell_type": "code",
   "execution_count": 1,
   "metadata": {
    "collapsed": true
   },
   "outputs": [],
   "source": [
    "import argparse\n",
    "import os\n",
    "import time\n",
    "import pickle\n",
    "import numpy as np"
   ]
  },
  {
   "cell_type": "code",
   "execution_count": 2,
   "metadata": {
    "collapsed": true
   },
   "outputs": [],
   "source": [
    "import torch\n",
    "import torch.nn as nn\n",
    "import torch.nn.init as init\n",
    "from torch.autograd import Variable\n",
    "import torch.optim as optim\n",
    "from torch.utils.data import DataLoader\n",
    "import torchvision.datasets as datasets\n",
    "import torchvision.transforms as transforms\n",
    "from torchvision.utils import save_image\n",
    "from torchnet.meter import AverageValueMeter"
   ]
  },
  {
   "cell_type": "markdown",
   "metadata": {},
   "source": [
    "# Define Arguments"
   ]
  },
  {
   "cell_type": "code",
   "execution_count": 3,
   "metadata": {},
   "outputs": [
    {
     "name": "stdout",
     "output_type": "stream",
     "text": [
      "total 32\r\n",
      "drwxrwxr-x 2 hminle 28672  5월 13 21:52 \u001b[0m\u001b[01;34mpandora\u001b[0m/\r\n",
      "drwxrwxr-x 3 hminle  4096  4월 23 13:42 \u001b[01;34mut-zap50k\u001b[0m/\r\n"
     ]
    }
   ],
   "source": [
    "%ll ./data/pandora"
   ]
  },
  {
   "cell_type": "code",
   "execution_count": 18,
   "metadata": {
    "collapsed": true
   },
   "outputs": [],
   "source": [
    "parser = {\n",
    "    'data_path': './data/pandora/',\n",
    "    'epochs': 200,\n",
    "    'batch_size': 64,\n",
    "    'lr': 0.0002,\n",
    "    'image_size': 340,\n",
    "    'scale_size': 64,\n",
    "    'z_dim': 100,\n",
    "    'G_features': 64,\n",
    "    'D_features': 64,\n",
    "    'image_channels': 3,\n",
    "    'beta1': 0.5,\n",
    "    'cuda': True,\n",
    "    'seed': 7,\n",
    "    'workers': 2,\n",
    "    'results': './resultDCGAN5_pandora_0531/'\n",
    "}\n",
    "args = argparse.Namespace(**parser)\n",
    "args.image_results = args.results + 'images/'\n",
    "args.loss_results = args.results + 'loss/'\n",
    "args.cuda = args.cuda and torch.cuda.is_available()\n",
    "\n",
    "if not os.path.isdir(args.data_path):\n",
    "    os.makedirs(args.data_path)\n",
    "if not os.path.isdir(args.results):\n",
    "    os.makedirs(args.results)\n",
    "if not os.path.isdir(args.image_results):\n",
    "    os.makedirs(args.image_results)\n",
    "if not os.path.isdir(args.loss_results):\n",
    "    os.makedirs(args.loss_results)\n",
    "    \n",
    "torch.manual_seed(args.seed)\n",
    "if args.cuda:\n",
    "    torch.cuda.manual_seed(args.seed)"
   ]
  },
  {
   "cell_type": "markdown",
   "metadata": {},
   "source": [
    "# Prepare Data"
   ]
  },
  {
   "cell_type": "markdown",
   "metadata": {},
   "source": [
    "**Note: all iamges have size 136x102**"
   ]
  },
  {
   "cell_type": "code",
   "execution_count": 5,
   "metadata": {
    "collapsed": true
   },
   "outputs": [],
   "source": [
    "from folder import ImageFolder"
   ]
  },
  {
   "cell_type": "code",
   "execution_count": 6,
   "metadata": {
    "collapsed": true
   },
   "outputs": [],
   "source": [
    "from torchvision.transforms import ToPILImage\n",
    "to_image = ToPILImage()"
   ]
  },
  {
   "cell_type": "code",
   "execution_count": 7,
   "metadata": {
    "collapsed": true
   },
   "outputs": [],
   "source": [
    "def get_loader(image_root, batch_size, scale_size, num_workers=2, shuffle=True):\n",
    "    #image_root = os.path.join(root, 'splits', split)\n",
    "    dataset = ImageFolder(root=image_root, transform=transforms.Compose([\n",
    "            transforms.Scale(scale_size),\n",
    "            transforms.ToTensor(),\n",
    "            transforms.Normalize((0.5, 0.5, 0.5), (0.5, 0.5, 0.5)),\n",
    "    ]))\n",
    "\n",
    "    data_loader = torch.utils.data.DataLoader(\n",
    "        dataset, batch_size=batch_size, shuffle=shuffle, num_workers=int(num_workers))\n",
    "    #data_loader.shape = [int(num) for num in dataset[0][0].size()]\n",
    "\n",
    "    return data_loader"
   ]
  },
  {
   "cell_type": "code",
   "execution_count": 8,
   "metadata": {},
   "outputs": [
    {
     "name": "stdout",
     "output_type": "stream",
     "text": [
      "Found 662 images in subfolders of: ./data/pandora/\n"
     ]
    }
   ],
   "source": [
    "dataloader = get_loader(args.data_path, args.batch_size, args.scale_size)"
   ]
  },
  {
   "cell_type": "markdown",
   "metadata": {},
   "source": [
    "## Test One Image"
   ]
  },
  {
   "cell_type": "code",
   "execution_count": 9,
   "metadata": {},
   "outputs": [
    {
     "name": "stdout",
     "output_type": "stream",
     "text": [
      "\n",
      "(0 ,.,.) = \n",
      "  1.0000  1.0000  1.0000  ...   1.0000  1.0000  1.0000\n",
      "  1.0000  1.0000  1.0000  ...   1.0000  1.0000  1.0000\n",
      "  1.0000  1.0000  1.0000  ...   1.0000  1.0000  1.0000\n",
      "           ...             ⋱             ...          \n",
      "  1.0000  1.0000  1.0000  ...   1.0000  1.0000  1.0000\n",
      "  1.0000  1.0000  1.0000  ...   1.0000  1.0000  1.0000\n",
      "  1.0000  1.0000  1.0000  ...   1.0000  1.0000  1.0000\n",
      "\n",
      "(1 ,.,.) = \n",
      "  1.0000  1.0000  1.0000  ...   1.0000  1.0000  1.0000\n",
      "  1.0000  1.0000  1.0000  ...   1.0000  1.0000  1.0000\n",
      "  1.0000  1.0000  1.0000  ...   1.0000  1.0000  1.0000\n",
      "           ...             ⋱             ...          \n",
      "  1.0000  1.0000  1.0000  ...   1.0000  1.0000  1.0000\n",
      "  1.0000  1.0000  1.0000  ...   1.0000  1.0000  1.0000\n",
      "  1.0000  1.0000  1.0000  ...   1.0000  1.0000  1.0000\n",
      "\n",
      "(2 ,.,.) = \n",
      "  1.0000  1.0000  1.0000  ...   1.0000  1.0000  1.0000\n",
      "  1.0000  1.0000  1.0000  ...   1.0000  1.0000  1.0000\n",
      "  1.0000  1.0000  1.0000  ...   1.0000  1.0000  1.0000\n",
      "           ...             ⋱             ...          \n",
      "  1.0000  1.0000  1.0000  ...   1.0000  1.0000  1.0000\n",
      "  1.0000  1.0000  1.0000  ...   1.0000  1.0000  1.0000\n",
      "  1.0000  1.0000  1.0000  ...   1.0000  1.0000  1.0000\n",
      "[torch.FloatTensor of size 3x64x64]\n",
      "\n"
     ]
    }
   ],
   "source": [
    "test_image = 0\n",
    "for data, _ in dataloader:\n",
    "    print(data[0])\n",
    "    test_image = data[0]\n",
    "    break"
   ]
  },
  {
   "cell_type": "code",
   "execution_count": 10,
   "metadata": {},
   "outputs": [
    {
     "data": {
      "image/png": "[encoded data removed]",
      "text/plain": [
       "<PIL.Image.Image image mode=RGB size=64x64 at 0x7F869CA30160>"
      ]
     },
     "execution_count": 10,
     "metadata": {},
     "output_type": "execute_result"
    }
   ],
   "source": [
    "to_image(test_image)"
   ]
  },
  {
   "cell_type": "markdown",
   "metadata": {},
   "source": [
    "# Define Model"
   ]
  },
  {
   "cell_type": "markdown",
   "metadata": {},
   "source": [
    "## Define G"
   ]
  },
  {
   "cell_type": "code",
   "execution_count": 11,
   "metadata": {
    "collapsed": true
   },
   "outputs": [],
   "source": [
    "class _netG(nn.Module):\n",
    "    def __init__(self):\n",
    "        super(_netG, self).__init__()\n",
    "        self.main = nn.Sequential(\n",
    "            # input is Z, going into a convolution\n",
    "            nn.ConvTranspose2d(args.z_dim, args.G_features * 8,\n",
    "                               4, 1, 0, bias=False),\n",
    "            nn.BatchNorm2d(args.G_features * 8),\n",
    "            nn.ReLU(True),\n",
    "            nn.ConvTranspose2d(args.G_features * 8, args.G_features * 4,\n",
    "                               4, 2, 1, bias=False),\n",
    "            nn.BatchNorm2d(args.G_features * 4),\n",
    "            nn.ReLU(True),\n",
    "            # state size. (ngf*8) x 4 x 4\n",
    "            nn.ConvTranspose2d(args.G_features * 4, args.G_features * 2,\n",
    "                               4, 2, 1, bias=False),\n",
    "            nn.BatchNorm2d(args.G_features * 2),\n",
    "            nn.ReLU(True),\n",
    "            # state size. (ngf*4) x 8 x 8\n",
    "            nn.ConvTranspose2d(args.G_features * 2, args.G_features,\n",
    "                               4, 2, 1, bias=False),\n",
    "            nn.BatchNorm2d(args.G_features),\n",
    "            nn.ReLU(True),\n",
    "            # state size. (ngf) x 16 x 16\n",
    "            nn.ConvTranspose2d(args.G_features, args.image_channels,\n",
    "                               4, 2, 1, bias=False),\n",
    "            nn.Tanh()\n",
    "            # state size. (nc) x 32 x 32\n",
    "        )\n",
    "        self._initialize_weights()\n",
    "        \n",
    "    # custom weight initialization\n",
    "    def _initialize_weights(self):\n",
    "        for m in self.modules():\n",
    "            if isinstance(m, nn.ConvTranspose2d):\n",
    "                n = m.kernel_size[0] * m.kernel_size[1] * m.out_channels\n",
    "                init.normal(m.weight, mean=0, std=0.02)\n",
    "            elif isinstance(m, nn.BatchNorm2d):\n",
    "                init.normal(m.weight, mean=1, std=0.02)\n",
    "                init.constant(m.bias, 0)\n",
    "\n",
    "    def forward(self, x):\n",
    "        return self.main(x)"
   ]
  },
  {
   "cell_type": "markdown",
   "metadata": {},
   "source": [
    "## Define D"
   ]
  },
  {
   "cell_type": "code",
   "execution_count": 12,
   "metadata": {
    "collapsed": true
   },
   "outputs": [],
   "source": [
    "class _netD(nn.Module):\n",
    "    def __init__(self):\n",
    "        super(_netD, self).__init__()\n",
    "        self.main = nn.Sequential(\n",
    "            # input is (nc) x 32 x 32\n",
    "            nn.Conv2d(args.image_channels, args.D_features,\n",
    "                      4, 2, 1, bias=False),\n",
    "            nn.LeakyReLU(0.2, inplace=True),\n",
    "            # state size. (ndf) x 16 x 16\n",
    "            nn.Conv2d(args.D_features, args.D_features * 2,\n",
    "                      4, 2, 1, bias=False),\n",
    "            nn.BatchNorm2d(args.D_features * 2),\n",
    "            nn.LeakyReLU(0.2, inplace=True),\n",
    "            # state size. (ndf*2) x 8 x 8\n",
    "            nn.Conv2d(args.D_features * 2, args.D_features * 4,\n",
    "                      4, 2, 1, bias=False),\n",
    "            nn.BatchNorm2d(args.D_features * 4),\n",
    "            nn.LeakyReLU(0.2, inplace=True),\n",
    "            nn.Conv2d(args.D_features * 4, args.D_features * 8,\n",
    "                      4, 2, 1, bias=False),\n",
    "            nn.BatchNorm2d(args.D_features * 8),\n",
    "            nn.LeakyReLU(0.2, inplace=True),\n",
    "            # state size. (ndf*4) x 4 x 4\n",
    "            nn.Conv2d(args.D_features * 8, 1, 4, 1, 0, bias=False),\n",
    "            nn.Sigmoid()\n",
    "        )\n",
    "        self._initialize_weights()\n",
    "        \n",
    "    # custom weight initialization\n",
    "    def _initialize_weights(self):\n",
    "        for m in self.modules():\n",
    "            if isinstance(m, nn.Conv2d):\n",
    "                n = m.kernel_size[0] * m.kernel_size[1] * m.out_channels\n",
    "                init.normal(m.weight, mean=0, std=0.02)\n",
    "            elif isinstance(m, nn.BatchNorm2d):\n",
    "                init.normal(m.weight, mean=1, std=0.02)\n",
    "                init.constant(m.bias, 0)\n",
    "\n",
    "    def forward(self, input):\n",
    "        output = self.main(input)\n",
    "        return output.view(-1, 1)"
   ]
  },
  {
   "cell_type": "markdown",
   "metadata": {},
   "source": [
    "## Save losses"
   ]
  },
  {
   "cell_type": "code",
   "execution_count": 13,
   "metadata": {
    "collapsed": true
   },
   "outputs": [],
   "source": [
    "class Results():\n",
    "    def __init__(self, results_path):\n",
    "        self.D_losses = []\n",
    "        self.G_losses = []\n",
    "        self.D_reals = []\n",
    "        self.D_fakes = []\n",
    "        self.G_reals = []\n",
    "        self.results_path = results_path\n",
    "    \n",
    "    def save_losses(self, D_loss, G_loss, D_real, D_fake, G_real):\n",
    "        self.D_losses.append(D_loss)\n",
    "        self.G_losses.append(G_loss)\n",
    "        self.D_reals.append(D_real)\n",
    "        self.D_fakes.append(D_fake)\n",
    "        self.G_reals.append(G_real)\n",
    "        \n",
    "    def save_to_disk(self):\n",
    "        f = open(self.results_path + \"D_losses.pkl\", \"wb\")\n",
    "        pickle.dump(self.D_losses, f)\n",
    "        f= open(self.results_path + \"G_losses.pkl\", \"wb\")\n",
    "        pickle.dump(self.G_losses, f)\n",
    "        f = open(self.results_path + \"D_reals.pkl\", \"wb\")\n",
    "        pickle.dump(self.D_reals, f)\n",
    "        f = open(self.results_path + \"D_fakes.pkl\", \"wb\")\n",
    "        pickle.dump(self.D_fakes, f)\n",
    "        f = open(self.results_path + \"G_reals.pkl\", \"wb\")\n",
    "        pickle.dump(self.G_reals, f)\n",
    "        "
   ]
  },
  {
   "cell_type": "markdown",
   "metadata": {},
   "source": [
    "## Define Train and Generate"
   ]
  },
  {
   "cell_type": "code",
   "execution_count": 14,
   "metadata": {
    "collapsed": true
   },
   "outputs": [],
   "source": [
    "def train(args, data_loader, netG, netD, G_optimizer, D_optimizer,\n",
    "          criterion, epoch, result_losses):\n",
    "    D_losses = AverageValueMeter()\n",
    "    G_losses = AverageValueMeter()\n",
    "    D_reals = AverageValueMeter()\n",
    "    D_fakes = AverageValueMeter()\n",
    "    G_reals = AverageValueMeter()\n",
    "    \n",
    "    start = time.time()\n",
    "    # call Variable after .cuda()\n",
    "    for i, (real, _) in enumerate(data_loader):\n",
    "        batch_size = real.size(0)\n",
    "        real_label = torch.from_numpy(np.full(batch_size, 0.9, np.float32)) #modify here\n",
    "        fake_label = torch.zeros(batch_size)\n",
    "        z = torch.randn(batch_size, args.z_dim, 1, 1)\n",
    "        \n",
    "        if args.cuda:\n",
    "            real_label = real_label.cuda()\n",
    "            fake_label = fake_label.cuda()\n",
    "            real = real.cuda()\n",
    "            z = z.cuda()\n",
    "        real_label = Variable(real_label)\n",
    "        fake_label = Variable(fake_label)\n",
    "        real = Variable(real)\n",
    "        z = Variable(z)\n",
    "        \n",
    "        if D_losses.value()[0] < 0.7*G_losses.value()[0]:\n",
    "            # Stop training D\n",
    "            #----------TRAIN D---------------\n",
    "            # train with real\n",
    "            real_output = netD(real)\n",
    "            D_real_loss = criterion(real_output, real_label)\n",
    "            D_real = real_output.data.mean()\n",
    "        \n",
    "            # train with fake\n",
    "            fake = netG(z)\n",
    "            fake_output = netD(fake.detach())\n",
    "            D_fake_loss = criterion(fake_output, fake_label)\n",
    "            D_fake = fake_output.data.mean()\n",
    "        \n",
    "            # loss D\n",
    "            D_loss = D_real_loss + D_fake_loss\n",
    "            #netD.zero_grad()\n",
    "            #D_loss.backward()\n",
    "            #D_optimizer.step()\n",
    "            \n",
    "            #----------TRAIN G---------------\n",
    "            output = netD(fake)\n",
    "            G_loss = criterion(output, real_label)\n",
    "            G_real = output.data.mean()\n",
    "            netG.zero_grad()\n",
    "            G_loss.backward()\n",
    "            G_optimizer.step()    \n",
    "        else:\n",
    "            #----------TRAIN D---------------\n",
    "            # train with real\n",
    "            real_output = netD(real)\n",
    "            D_real_loss = criterion(real_output, real_label)\n",
    "            D_real = real_output.data.mean()\n",
    "        \n",
    "            # train with fake\n",
    "            fake = netG(z)\n",
    "            fake_output = netD(fake.detach())\n",
    "            D_fake_loss = criterion(fake_output, fake_label)\n",
    "            D_fake = fake_output.data.mean()\n",
    "        \n",
    "            # loss D\n",
    "            D_loss = D_real_loss + D_fake_loss\n",
    "            netD.zero_grad()\n",
    "            D_loss.backward()\n",
    "            D_optimizer.step()\n",
    "            \n",
    "            #----------TRAIN G---------------\n",
    "            output = netD(fake)\n",
    "            G_loss = criterion(output, real_label)\n",
    "            G_real = output.data.mean()\n",
    "            netG.zero_grad()\n",
    "            G_loss.backward()\n",
    "            G_optimizer.step()\n",
    "        \n",
    "        \n",
    "        # update loss\n",
    "        D_losses.add(D_loss.data.cpu()[0] * batch_size, batch_size)\n",
    "        G_losses.add(G_loss.data.cpu()[0] * batch_size, batch_size)\n",
    "        D_reals.add(D_real * batch_size, batch_size)\n",
    "        D_fakes.add(D_fake * batch_size, batch_size)\n",
    "        G_reals.add(G_real * batch_size, batch_size)\n",
    "        \n",
    "    print(\"=> EPOCH {} | Time: {}s | D_loss: {:.4f} | G_loss: {:.4f}\"\n",
    "          \" | D_real: {:.4f} | D_fake: {:.4f} | G_real: {:.4f}\"\n",
    "          .format(epoch, round(time.time()-start), D_losses.value()[0],\n",
    "                  G_losses.value()[0], D_reals.value()[0],\n",
    "                  D_fakes.value()[0], G_reals.value()[0]))\n",
    "    result_losses.save_losses(D_losses.value()[0],\n",
    "                  G_losses.value()[0], D_reals.value()[0],\n",
    "                  D_fakes.value()[0], G_reals.value()[0])"
   ]
  },
  {
   "cell_type": "code",
   "execution_count": 15,
   "metadata": {
    "collapsed": true
   },
   "outputs": [],
   "source": [
    "def generate(args, netG, epoch):\n",
    "    z = torch.randn(args.batch_size, args.z_dim, 1, 1)\n",
    "    if args.cuda:\n",
    "        z = z.cuda()\n",
    "    fake = netG(Variable(z, volatile=True))\n",
    "    save_image(fake.data.cpu(), os.path.join(args.image_results,\n",
    "        \"fake_sample_epoch_{:02d}.png\".format(epoch)), normalize=True)"
   ]
  },
  {
   "cell_type": "markdown",
   "metadata": {},
   "source": [
    "## Create Model, Define Loss and Optimizer"
   ]
  },
  {
   "cell_type": "code",
   "execution_count": 16,
   "metadata": {
    "collapsed": true
   },
   "outputs": [],
   "source": [
    "netG = _netG()\n",
    "netD = _netD()\n",
    "criterion = nn.BCELoss()\n",
    "if args.cuda:\n",
    "    netD.cuda()\n",
    "    netG.cuda()\n",
    "    criterion.cuda()"
   ]
  },
  {
   "cell_type": "code",
   "execution_count": 17,
   "metadata": {
    "collapsed": true
   },
   "outputs": [],
   "source": [
    "D_optimizer = optim.Adam(netD.parameters(), lr=args.lr,\n",
    "                         betas=(args.beta1, 0.999), weight_decay=1e-4)\n",
    "G_optimizer = optim.Adam(netG.parameters(), lr=args.lr,\n",
    "                         betas=(args.beta1, 0.999), weight_decay=1e-4)"
   ]
  },
  {
   "cell_type": "markdown",
   "metadata": {},
   "source": [
    "## Run Train"
   ]
  },
  {
   "cell_type": "code",
   "execution_count": 19,
   "metadata": {},
   "outputs": [
    {
     "name": "stdout",
     "output_type": "stream",
     "text": [
      "=> EPOCH 0 | Time: 98s | D_loss: 2.5114 | G_loss: 2.9463 | D_real: 0.7546 | D_fake: 0.5746 | G_real: 0.3566\n",
      "=> EPOCH 1 | Time: 2s | D_loss: 2.0054 | G_loss: 3.7166 | D_real: 0.9187 | D_fake: 0.4542 | G_real: 0.3369\n",
      "=> EPOCH 2 | Time: 2s | D_loss: 2.1921 | G_loss: 5.4620 | D_real: 0.9010 | D_fake: 0.4786 | G_real: 0.2932\n",
      "=> EPOCH 3 | Time: 2s | D_loss: 2.3462 | G_loss: 5.4314 | D_real: 0.8400 | D_fake: 0.5139 | G_real: 0.3301\n",
      "=> EPOCH 4 | Time: 2s | D_loss: 2.4983 | G_loss: 5.4662 | D_real: 0.7454 | D_fake: 0.5781 | G_real: 0.4334\n",
      "=> EPOCH 5 | Time: 2s | D_loss: 2.0867 | G_loss: 5.3134 | D_real: 0.8581 | D_fake: 0.4248 | G_real: 0.3290\n",
      "=> EPOCH 6 | Time: 2s | D_loss: 2.4666 | G_loss: 4.9286 | D_real: 0.6064 | D_fake: 0.5501 | G_real: 0.4645\n",
      "=> EPOCH 7 | Time: 2s | D_loss: 2.3172 | G_loss: 4.9441 | D_real: 0.7529 | D_fake: 0.5574 | G_real: 0.4700\n",
      "=> EPOCH 8 | Time: 2s | D_loss: 2.2504 | G_loss: 5.0146 | D_real: 0.7647 | D_fake: 0.5469 | G_real: 0.4660\n",
      "=> EPOCH 9 | Time: 2s | D_loss: 2.2541 | G_loss: 5.2025 | D_real: 0.7134 | D_fake: 0.5429 | G_real: 0.4599\n",
      "=> EPOCH 10 | Time: 2s | D_loss: 2.0174 | G_loss: 5.6682 | D_real: 0.6923 | D_fake: 0.4757 | G_real: 0.3917\n",
      "=> EPOCH 11 | Time: 2s | D_loss: 1.9891 | G_loss: 6.0368 | D_real: 0.7226 | D_fake: 0.4594 | G_real: 0.3736\n",
      "=> EPOCH 12 | Time: 2s | D_loss: 1.9819 | G_loss: 5.9187 | D_real: 0.7387 | D_fake: 0.4637 | G_real: 0.3760\n",
      "=> EPOCH 13 | Time: 2s | D_loss: 1.7511 | G_loss: 5.8758 | D_real: 0.7132 | D_fake: 0.3987 | G_real: 0.3172\n",
      "=> EPOCH 14 | Time: 2s | D_loss: 1.9561 | G_loss: 5.6569 | D_real: 0.7292 | D_fake: 0.4405 | G_real: 0.3524\n",
      "=> EPOCH 15 | Time: 2s | D_loss: 1.6550 | G_loss: 6.4469 | D_real: 0.6660 | D_fake: 0.3460 | G_real: 0.2591\n",
      "=> EPOCH 16 | Time: 2s | D_loss: 1.4770 | G_loss: 6.9483 | D_real: 0.6698 | D_fake: 0.2943 | G_real: 0.2068\n",
      "=> EPOCH 17 | Time: 2s | D_loss: 1.8637 | G_loss: 5.9792 | D_real: 0.6554 | D_fake: 0.3823 | G_real: 0.2909\n",
      "=> EPOCH 18 | Time: 2s | D_loss: 2.3068 | G_loss: 5.0083 | D_real: 0.6140 | D_fake: 0.5055 | G_real: 0.4187\n",
      "=> EPOCH 19 | Time: 2s | D_loss: 2.1561 | G_loss: 5.7343 | D_real: 0.5816 | D_fake: 0.4410 | G_real: 0.3534\n",
      "=> EPOCH 20 | Time: 2s | D_loss: 2.5467 | G_loss: 6.0163 | D_real: 0.3253 | D_fake: 0.3750 | G_real: 0.2885\n",
      "=> EPOCH 21 | Time: 2s | D_loss: 2.7911 | G_loss: 4.6731 | D_real: 0.3412 | D_fake: 0.4453 | G_real: 0.3554\n",
      "=> EPOCH 22 | Time: 2s | D_loss: 3.5076 | G_loss: 5.2281 | D_real: 0.1779 | D_fake: 0.4451 | G_real: 0.2655\n",
      "=> EPOCH 23 | Time: 2s | D_loss: 3.5428 | G_loss: 4.9844 | D_real: 0.4325 | D_fake: 0.3152 | G_real: 0.1781\n",
      "=> EPOCH 24 | Time: 3s | D_loss: 2.4146 | G_loss: 3.9117 | D_real: 0.4323 | D_fake: 0.2753 | G_real: 0.1018\n",
      "=> EPOCH 25 | Time: 2s | D_loss: 2.1903 | G_loss: 3.1205 | D_real: 0.3696 | D_fake: 0.2886 | G_real: 0.2281\n",
      "=> EPOCH 26 | Time: 2s | D_loss: 2.4501 | G_loss: 3.4378 | D_real: 0.3887 | D_fake: 0.2701 | G_real: 0.1119\n",
      "=> EPOCH 27 | Time: 2s | D_loss: 2.5038 | G_loss: 2.9601 | D_real: 0.3288 | D_fake: 0.3645 | G_real: 0.2363\n",
      "=> EPOCH 28 | Time: 2s | D_loss: 1.9631 | G_loss: 2.2629 | D_real: 0.3639 | D_fake: 0.3706 | G_real: 0.2660\n",
      "=> EPOCH 29 | Time: 2s | D_loss: 1.9675 | G_loss: 2.2854 | D_real: 0.3368 | D_fake: 0.3375 | G_real: 0.1953\n",
      "=> EPOCH 30 | Time: 2s | D_loss: 1.5690 | G_loss: 1.7773 | D_real: 0.4741 | D_fake: 0.3416 | G_real: 0.2391\n",
      "=> EPOCH 31 | Time: 2s | D_loss: 1.5705 | G_loss: 1.7816 | D_real: 0.4278 | D_fake: 0.3150 | G_real: 0.2457\n",
      "=> EPOCH 32 | Time: 2s | D_loss: 1.6000 | G_loss: 1.7956 | D_real: 0.5244 | D_fake: 0.3270 | G_real: 0.2486\n",
      "=> EPOCH 33 | Time: 2s | D_loss: 1.2408 | G_loss: 1.6303 | D_real: 0.5119 | D_fake: 0.3050 | G_real: 0.2328\n",
      "=> EPOCH 34 | Time: 2s | D_loss: 1.9386 | G_loss: 2.2930 | D_real: 0.4245 | D_fake: 0.2562 | G_real: 0.2270\n",
      "=> EPOCH 35 | Time: 2s | D_loss: 1.4080 | G_loss: 1.6685 | D_real: 0.4672 | D_fake: 0.3114 | G_real: 0.2477\n",
      "=> EPOCH 36 | Time: 2s | D_loss: 1.4645 | G_loss: 1.8224 | D_real: 0.4713 | D_fake: 0.2987 | G_real: 0.2082\n",
      "=> EPOCH 37 | Time: 2s | D_loss: 1.6638 | G_loss: 1.9399 | D_real: 0.5479 | D_fake: 0.3610 | G_real: 0.2740\n",
      "=> EPOCH 38 | Time: 2s | D_loss: 1.2499 | G_loss: 1.8865 | D_real: 0.6032 | D_fake: 0.3684 | G_real: 0.2208\n",
      "=> EPOCH 39 | Time: 2s | D_loss: 1.3996 | G_loss: 1.8891 | D_real: 0.5897 | D_fake: 0.3678 | G_real: 0.2558\n",
      "=> EPOCH 40 | Time: 2s | D_loss: 1.6607 | G_loss: 1.8679 | D_real: 0.4258 | D_fake: 0.3365 | G_real: 0.2396\n",
      "=> EPOCH 41 | Time: 2s | D_loss: 1.5285 | G_loss: 2.0390 | D_real: 0.4597 | D_fake: 0.2822 | G_real: 0.2136\n",
      "=> EPOCH 42 | Time: 2s | D_loss: 1.3012 | G_loss: 2.1637 | D_real: 0.4546 | D_fake: 0.2661 | G_real: 0.1429\n",
      "=> EPOCH 43 | Time: 2s | D_loss: 1.5787 | G_loss: 2.4295 | D_real: 0.3852 | D_fake: 0.2346 | G_real: 0.1052\n",
      "=> EPOCH 44 | Time: 2s | D_loss: 1.9982 | G_loss: 2.4457 | D_real: 0.3946 | D_fake: 0.2728 | G_real: 0.2067\n",
      "=> EPOCH 45 | Time: 2s | D_loss: 1.4324 | G_loss: 1.8893 | D_real: 0.6115 | D_fake: 0.3799 | G_real: 0.2525\n",
      "=> EPOCH 46 | Time: 2s | D_loss: 1.9406 | G_loss: 2.2804 | D_real: 0.4233 | D_fake: 0.3286 | G_real: 0.1778\n",
      "=> EPOCH 47 | Time: 2s | D_loss: 2.1886 | G_loss: 2.8005 | D_real: 0.4157 | D_fake: 0.2605 | G_real: 0.1893\n",
      "=> EPOCH 48 | Time: 2s | D_loss: 1.4648 | G_loss: 1.9755 | D_real: 0.5078 | D_fake: 0.3282 | G_real: 0.1953\n",
      "=> EPOCH 49 | Time: 2s | D_loss: 1.1646 | G_loss: 1.6701 | D_real: 0.5334 | D_fake: 0.2969 | G_real: 0.1992\n",
      "=> EPOCH 50 | Time: 2s | D_loss: 1.2633 | G_loss: 1.9197 | D_real: 0.5559 | D_fake: 0.3145 | G_real: 0.2078\n",
      "=> EPOCH 51 | Time: 2s | D_loss: 1.2839 | G_loss: 1.9744 | D_real: 0.5754 | D_fake: 0.3234 | G_real: 0.2148\n",
      "=> EPOCH 52 | Time: 2s | D_loss: 1.2681 | G_loss: 1.9676 | D_real: 0.5915 | D_fake: 0.3201 | G_real: 0.2163\n",
      "=> EPOCH 53 | Time: 2s | D_loss: 1.4535 | G_loss: 2.0064 | D_real: 0.4988 | D_fake: 0.2736 | G_real: 0.1921\n",
      "=> EPOCH 54 | Time: 2s | D_loss: 1.2930 | G_loss: 1.7708 | D_real: 0.5497 | D_fake: 0.3478 | G_real: 0.2376\n",
      "=> EPOCH 55 | Time: 2s | D_loss: 1.0425 | G_loss: 1.5998 | D_real: 0.6520 | D_fake: 0.3310 | G_real: 0.2408\n",
      "=> EPOCH 56 | Time: 2s | D_loss: 1.4195 | G_loss: 1.9912 | D_real: 0.4412 | D_fake: 0.2951 | G_real: 0.1731\n",
      "=> EPOCH 57 | Time: 2s | D_loss: 1.8322 | G_loss: 2.0771 | D_real: 0.3980 | D_fake: 0.2968 | G_real: 0.2086\n",
      "=> EPOCH 58 | Time: 2s | D_loss: 1.5938 | G_loss: 2.6602 | D_real: 0.5374 | D_fake: 0.2870 | G_real: 0.2004\n",
      "=> EPOCH 59 | Time: 2s | D_loss: 1.7226 | G_loss: 2.3007 | D_real: 0.4735 | D_fake: 0.2869 | G_real: 0.1797\n",
      "=> EPOCH 60 | Time: 2s | D_loss: 1.4473 | G_loss: 2.1745 | D_real: 0.5371 | D_fake: 0.4008 | G_real: 0.2037\n",
      "=> EPOCH 61 | Time: 2s | D_loss: 1.3549 | G_loss: 2.1153 | D_real: 0.5139 | D_fake: 0.2897 | G_real: 0.1658\n",
      "=> EPOCH 62 | Time: 2s | D_loss: 1.3460 | G_loss: 1.7735 | D_real: 0.5740 | D_fake: 0.3663 | G_real: 0.2678\n",
      "=> EPOCH 63 | Time: 2s | D_loss: 1.3977 | G_loss: 1.7250 | D_real: 0.4524 | D_fake: 0.3115 | G_real: 0.2046\n",
      "=> EPOCH 64 | Time: 2s | D_loss: 1.3725 | G_loss: 1.8077 | D_real: 0.4531 | D_fake: 0.2695 | G_real: 0.2000\n",
      "=> EPOCH 65 | Time: 2s | D_loss: 1.3917 | G_loss: 1.7647 | D_real: 0.4588 | D_fake: 0.3508 | G_real: 0.2321\n",
      "=> EPOCH 66 | Time: 2s | D_loss: 1.4086 | G_loss: 1.7811 | D_real: 0.4881 | D_fake: 0.3102 | G_real: 0.2174\n",
      "=> EPOCH 67 | Time: 2s | D_loss: 1.2332 | G_loss: 1.7627 | D_real: 0.6220 | D_fake: 0.3537 | G_real: 0.2518\n",
      "=> EPOCH 68 | Time: 2s | D_loss: 1.4677 | G_loss: 1.9777 | D_real: 0.4909 | D_fake: 0.2933 | G_real: 0.2067\n",
      "=> EPOCH 69 | Time: 2s | D_loss: 1.3636 | G_loss: 1.9921 | D_real: 0.5347 | D_fake: 0.3269 | G_real: 0.1960\n",
      "=> EPOCH 70 | Time: 2s | D_loss: 1.3921 | G_loss: 1.9716 | D_real: 0.4386 | D_fake: 0.2883 | G_real: 0.1862\n",
      "=> EPOCH 71 | Time: 2s | D_loss: 1.4843 | G_loss: 1.7526 | D_real: 0.5150 | D_fake: 0.3412 | G_real: 0.2349\n",
      "=> EPOCH 72 | Time: 2s | D_loss: 1.2826 | G_loss: 1.6877 | D_real: 0.5028 | D_fake: 0.3129 | G_real: 0.2294\n",
      "=> EPOCH 73 | Time: 2s | D_loss: 1.5867 | G_loss: 1.9526 | D_real: 0.4514 | D_fake: 0.2688 | G_real: 0.2129\n",
      "=> EPOCH 74 | Time: 2s | D_loss: 1.2123 | G_loss: 1.7533 | D_real: 0.5601 | D_fake: 0.3102 | G_real: 0.2151\n",
      "=> EPOCH 75 | Time: 2s | D_loss: 1.0837 | G_loss: 1.7303 | D_real: 0.5855 | D_fake: 0.3059 | G_real: 0.2160\n"
     ]
    },
    {
     "name": "stdout",
     "output_type": "stream",
     "text": [
      "=> EPOCH 76 | Time: 2s | D_loss: 1.0952 | G_loss: 1.6216 | D_real: 0.5354 | D_fake: 0.2938 | G_real: 0.1930\n",
      "=> EPOCH 77 | Time: 2s | D_loss: 1.4098 | G_loss: 1.7156 | D_real: 0.4277 | D_fake: 0.3163 | G_real: 0.2022\n",
      "=> EPOCH 78 | Time: 2s | D_loss: 1.4900 | G_loss: 1.8183 | D_real: 0.4331 | D_fake: 0.2825 | G_real: 0.2038\n",
      "=> EPOCH 79 | Time: 2s | D_loss: 1.1350 | G_loss: 1.6795 | D_real: 0.5584 | D_fake: 0.3203 | G_real: 0.2175\n",
      "=> EPOCH 80 | Time: 2s | D_loss: 1.1866 | G_loss: 1.7084 | D_real: 0.5391 | D_fake: 0.3082 | G_real: 0.2078\n",
      "=> EPOCH 81 | Time: 2s | D_loss: 1.2906 | G_loss: 1.6184 | D_real: 0.5990 | D_fake: 0.3645 | G_real: 0.2703\n",
      "=> EPOCH 82 | Time: 2s | D_loss: 1.4705 | G_loss: 2.0614 | D_real: 0.4813 | D_fake: 0.2917 | G_real: 0.1695\n",
      "=> EPOCH 83 | Time: 2s | D_loss: 1.4637 | G_loss: 1.8979 | D_real: 0.5103 | D_fake: 0.3129 | G_real: 0.2285\n",
      "=> EPOCH 84 | Time: 2s | D_loss: 1.2080 | G_loss: 1.8042 | D_real: 0.5934 | D_fake: 0.3434 | G_real: 0.2094\n",
      "=> EPOCH 85 | Time: 2s | D_loss: 1.3180 | G_loss: 1.8989 | D_real: 0.4770 | D_fake: 0.2696 | G_real: 0.1500\n",
      "=> EPOCH 86 | Time: 2s | D_loss: 1.2836 | G_loss: 1.8572 | D_real: 0.4716 | D_fake: 0.2929 | G_real: 0.1865\n",
      "=> EPOCH 87 | Time: 2s | D_loss: 1.3223 | G_loss: 1.6828 | D_real: 0.4734 | D_fake: 0.2887 | G_real: 0.2179\n",
      "=> EPOCH 88 | Time: 2s | D_loss: 1.3409 | G_loss: 1.7943 | D_real: 0.5325 | D_fake: 0.3179 | G_real: 0.2340\n",
      "=> EPOCH 89 | Time: 2s | D_loss: 1.2113 | G_loss: 1.7816 | D_real: 0.5375 | D_fake: 0.3053 | G_real: 0.2242\n",
      "=> EPOCH 90 | Time: 2s | D_loss: 1.2522 | G_loss: 1.8468 | D_real: 0.4993 | D_fake: 0.2778 | G_real: 0.1826\n",
      "=> EPOCH 91 | Time: 2s | D_loss: 1.0794 | G_loss: 1.5050 | D_real: 0.5984 | D_fake: 0.3257 | G_real: 0.2636\n",
      "=> EPOCH 92 | Time: 2s | D_loss: 1.7835 | G_loss: 2.5563 | D_real: 0.3764 | D_fake: 0.2306 | G_real: 0.0998\n",
      "=> EPOCH 93 | Time: 3s | D_loss: 1.2608 | G_loss: 1.8873 | D_real: 0.5049 | D_fake: 0.2889 | G_real: 0.1607\n",
      "=> EPOCH 94 | Time: 2s | D_loss: 1.2754 | G_loss: 1.9362 | D_real: 0.4648 | D_fake: 0.2517 | G_real: 0.1451\n",
      "=> EPOCH 95 | Time: 2s | D_loss: 1.1914 | G_loss: 1.7152 | D_real: 0.5389 | D_fake: 0.3171 | G_real: 0.2155\n",
      "=> EPOCH 96 | Time: 2s | D_loss: 1.3807 | G_loss: 1.8860 | D_real: 0.5043 | D_fake: 0.2881 | G_real: 0.2261\n",
      "=> EPOCH 97 | Time: 2s | D_loss: 1.2175 | G_loss: 1.7224 | D_real: 0.5158 | D_fake: 0.3121 | G_real: 0.2158\n",
      "=> EPOCH 98 | Time: 2s | D_loss: 1.6313 | G_loss: 2.3190 | D_real: 0.4840 | D_fake: 0.3062 | G_real: 0.1888\n",
      "=> EPOCH 99 | Time: 2s | D_loss: 1.4880 | G_loss: 1.9816 | D_real: 0.5341 | D_fake: 0.3467 | G_real: 0.1903\n",
      "=> EPOCH 100 | Time: 2s | D_loss: 1.5044 | G_loss: 1.9963 | D_real: 0.4405 | D_fake: 0.2805 | G_real: 0.2103\n",
      "=> EPOCH 101 | Time: 2s | D_loss: 1.2740 | G_loss: 1.6689 | D_real: 0.4657 | D_fake: 0.3111 | G_real: 0.1994\n",
      "=> EPOCH 102 | Time: 2s | D_loss: 1.3903 | G_loss: 1.7211 | D_real: 0.4944 | D_fake: 0.3105 | G_real: 0.2536\n",
      "=> EPOCH 103 | Time: 2s | D_loss: 1.1836 | G_loss: 1.5621 | D_real: 0.5632 | D_fake: 0.3487 | G_real: 0.2739\n",
      "=> EPOCH 104 | Time: 2s | D_loss: 1.0846 | G_loss: 1.5923 | D_real: 0.5921 | D_fake: 0.3239 | G_real: 0.2224\n",
      "=> EPOCH 105 | Time: 2s | D_loss: 1.1101 | G_loss: 1.7614 | D_real: 0.5272 | D_fake: 0.2824 | G_real: 0.1860\n",
      "=> EPOCH 106 | Time: 2s | D_loss: 1.1524 | G_loss: 1.8654 | D_real: 0.5332 | D_fake: 0.3084 | G_real: 0.1752\n",
      "=> EPOCH 107 | Time: 2s | D_loss: 1.2378 | G_loss: 1.6694 | D_real: 0.4693 | D_fake: 0.2767 | G_real: 0.2087\n",
      "=> EPOCH 108 | Time: 2s | D_loss: 1.3575 | G_loss: 1.7213 | D_real: 0.5936 | D_fake: 0.4053 | G_real: 0.2557\n",
      "=> EPOCH 109 | Time: 2s | D_loss: 1.2083 | G_loss: 1.6525 | D_real: 0.5066 | D_fake: 0.3210 | G_real: 0.2105\n",
      "=> EPOCH 110 | Time: 2s | D_loss: 1.2683 | G_loss: 1.5962 | D_real: 0.4826 | D_fake: 0.3180 | G_real: 0.2162\n",
      "=> EPOCH 111 | Time: 2s | D_loss: 1.1859 | G_loss: 1.5425 | D_real: 0.5605 | D_fake: 0.3421 | G_real: 0.2653\n",
      "=> EPOCH 112 | Time: 2s | D_loss: 1.0062 | G_loss: 1.4622 | D_real: 0.6276 | D_fake: 0.3311 | G_real: 0.2505\n",
      "=> EPOCH 113 | Time: 2s | D_loss: 1.2776 | G_loss: 1.9144 | D_real: 0.5075 | D_fake: 0.2748 | G_real: 0.2004\n",
      "=> EPOCH 114 | Time: 2s | D_loss: 1.1552 | G_loss: 1.7166 | D_real: 0.5562 | D_fake: 0.3055 | G_real: 0.1995\n",
      "=> EPOCH 115 | Time: 2s | D_loss: 1.0820 | G_loss: 1.5593 | D_real: 0.5609 | D_fake: 0.2946 | G_real: 0.2196\n",
      "=> EPOCH 116 | Time: 2s | D_loss: 1.0581 | G_loss: 1.5038 | D_real: 0.5496 | D_fake: 0.2941 | G_real: 0.2231\n",
      "=> EPOCH 117 | Time: 2s | D_loss: 1.3193 | G_loss: 1.6110 | D_real: 0.4586 | D_fake: 0.2971 | G_real: 0.2519\n",
      "=> EPOCH 118 | Time: 2s | D_loss: 1.2932 | G_loss: 1.6458 | D_real: 0.4611 | D_fake: 0.3066 | G_real: 0.2050\n",
      "=> EPOCH 119 | Time: 2s | D_loss: 1.2470 | G_loss: 1.5703 | D_real: 0.5323 | D_fake: 0.3230 | G_real: 0.2329\n",
      "=> EPOCH 120 | Time: 2s | D_loss: 1.1514 | G_loss: 1.4577 | D_real: 0.5802 | D_fake: 0.3502 | G_real: 0.2530\n",
      "=> EPOCH 121 | Time: 2s | D_loss: 1.0696 | G_loss: 1.5249 | D_real: 0.5500 | D_fake: 0.3195 | G_real: 0.2156\n",
      "=> EPOCH 122 | Time: 2s | D_loss: 1.1706 | G_loss: 1.5507 | D_real: 0.5023 | D_fake: 0.3229 | G_real: 0.2094\n",
      "=> EPOCH 123 | Time: 2s | D_loss: 1.1472 | G_loss: 1.6987 | D_real: 0.5200 | D_fake: 0.3117 | G_real: 0.1885\n",
      "=> EPOCH 124 | Time: 2s | D_loss: 1.0442 | G_loss: 1.6454 | D_real: 0.5701 | D_fake: 0.3001 | G_real: 0.1953\n",
      "=> EPOCH 125 | Time: 2s | D_loss: 1.2418 | G_loss: 1.8290 | D_real: 0.4684 | D_fake: 0.2906 | G_real: 0.1674\n",
      "=> EPOCH 126 | Time: 2s | D_loss: 1.3668 | G_loss: 1.7471 | D_real: 0.4893 | D_fake: 0.3468 | G_real: 0.2310\n",
      "=> EPOCH 127 | Time: 2s | D_loss: 1.3897 | G_loss: 1.8034 | D_real: 0.4488 | D_fake: 0.3083 | G_real: 0.2057\n",
      "=> EPOCH 128 | Time: 2s | D_loss: 1.1295 | G_loss: 1.5292 | D_real: 0.5240 | D_fake: 0.3148 | G_real: 0.2184\n",
      "=> EPOCH 129 | Time: 2s | D_loss: 1.0810 | G_loss: 1.5539 | D_real: 0.5402 | D_fake: 0.3095 | G_real: 0.2025\n",
      "=> EPOCH 130 | Time: 2s | D_loss: 1.1072 | G_loss: 1.5139 | D_real: 0.5294 | D_fake: 0.3138 | G_real: 0.2318\n",
      "=> EPOCH 131 | Time: 2s | D_loss: 1.3450 | G_loss: 1.9988 | D_real: 0.5118 | D_fake: 0.3063 | G_real: 0.1875\n",
      "=> EPOCH 132 | Time: 2s | D_loss: 1.3313 | G_loss: 1.8128 | D_real: 0.4693 | D_fake: 0.3118 | G_real: 0.1707\n",
      "=> EPOCH 133 | Time: 2s | D_loss: 1.2772 | G_loss: 1.7692 | D_real: 0.4883 | D_fake: 0.3217 | G_real: 0.1892\n",
      "=> EPOCH 134 | Time: 2s | D_loss: 1.1733 | G_loss: 1.6184 | D_real: 0.5204 | D_fake: 0.3240 | G_real: 0.2034\n",
      "=> EPOCH 135 | Time: 2s | D_loss: 1.1307 | G_loss: 1.6301 | D_real: 0.5368 | D_fake: 0.3156 | G_real: 0.2047\n",
      "=> EPOCH 136 | Time: 2s | D_loss: 1.4317 | G_loss: 1.8967 | D_real: 0.4546 | D_fake: 0.3178 | G_real: 0.2035\n",
      "=> EPOCH 137 | Time: 2s | D_loss: 1.5853 | G_loss: 1.9170 | D_real: 0.5171 | D_fake: 0.3544 | G_real: 0.2266\n",
      "=> EPOCH 138 | Time: 2s | D_loss: 1.3169 | G_loss: 1.6479 | D_real: 0.4771 | D_fake: 0.3270 | G_real: 0.2194\n",
      "=> EPOCH 139 | Time: 2s | D_loss: 1.3194 | G_loss: 1.7174 | D_real: 0.4763 | D_fake: 0.3316 | G_real: 0.2108\n",
      "=> EPOCH 140 | Time: 2s | D_loss: 1.3555 | G_loss: 1.8460 | D_real: 0.4632 | D_fake: 0.3131 | G_real: 0.1980\n",
      "=> EPOCH 141 | Time: 2s | D_loss: 1.0577 | G_loss: 1.5023 | D_real: 0.5784 | D_fake: 0.3262 | G_real: 0.2306\n",
      "=> EPOCH 142 | Time: 2s | D_loss: 1.2029 | G_loss: 1.5354 | D_real: 0.5216 | D_fake: 0.3273 | G_real: 0.2441\n",
      "=> EPOCH 143 | Time: 2s | D_loss: 1.2842 | G_loss: 1.6365 | D_real: 0.5479 | D_fake: 0.3588 | G_real: 0.2536\n",
      "=> EPOCH 144 | Time: 2s | D_loss: 1.2802 | G_loss: 1.5871 | D_real: 0.4582 | D_fake: 0.2897 | G_real: 0.2255\n",
      "=> EPOCH 145 | Time: 2s | D_loss: 1.3255 | G_loss: 1.7404 | D_real: 0.4427 | D_fake: 0.3091 | G_real: 0.2017\n",
      "=> EPOCH 146 | Time: 2s | D_loss: 1.0975 | G_loss: 1.5873 | D_real: 0.5829 | D_fake: 0.3317 | G_real: 0.2258\n",
      "=> EPOCH 147 | Time: 2s | D_loss: 1.1638 | G_loss: 1.6781 | D_real: 0.5749 | D_fake: 0.3373 | G_real: 0.2285\n",
      "=> EPOCH 148 | Time: 2s | D_loss: 1.1955 | G_loss: 1.5286 | D_real: 0.5147 | D_fake: 0.3416 | G_real: 0.2251\n",
      "=> EPOCH 149 | Time: 2s | D_loss: 1.0875 | G_loss: 1.6092 | D_real: 0.5649 | D_fake: 0.3256 | G_real: 0.2261\n",
      "=> EPOCH 150 | Time: 2s | D_loss: 1.2974 | G_loss: 1.8805 | D_real: 0.4882 | D_fake: 0.3129 | G_real: 0.1967\n",
      "=> EPOCH 151 | Time: 2s | D_loss: 1.1999 | G_loss: 1.6905 | D_real: 0.4972 | D_fake: 0.3164 | G_real: 0.1884\n"
     ]
    },
    {
     "name": "stdout",
     "output_type": "stream",
     "text": [
      "=> EPOCH 152 | Time: 2s | D_loss: 1.3293 | G_loss: 1.6601 | D_real: 0.4443 | D_fake: 0.3047 | G_real: 0.2006\n",
      "=> EPOCH 153 | Time: 2s | D_loss: 1.1850 | G_loss: 1.6458 | D_real: 0.5868 | D_fake: 0.3398 | G_real: 0.2415\n",
      "=> EPOCH 154 | Time: 2s | D_loss: 1.1793 | G_loss: 1.6983 | D_real: 0.5372 | D_fake: 0.3196 | G_real: 0.2112\n",
      "=> EPOCH 155 | Time: 2s | D_loss: 1.1579 | G_loss: 1.6794 | D_real: 0.5126 | D_fake: 0.3026 | G_real: 0.1878\n",
      "=> EPOCH 156 | Time: 2s | D_loss: 1.1495 | G_loss: 1.7320 | D_real: 0.5680 | D_fake: 0.3256 | G_real: 0.2077\n",
      "=> EPOCH 157 | Time: 2s | D_loss: 1.1399 | G_loss: 1.6023 | D_real: 0.5823 | D_fake: 0.3523 | G_real: 0.2382\n",
      "=> EPOCH 158 | Time: 2s | D_loss: 1.1263 | G_loss: 1.4988 | D_real: 0.5836 | D_fake: 0.3138 | G_real: 0.2459\n",
      "=> EPOCH 159 | Time: 2s | D_loss: 1.1912 | G_loss: 1.7295 | D_real: 0.5004 | D_fake: 0.3061 | G_real: 0.1999\n",
      "=> EPOCH 160 | Time: 2s | D_loss: 1.2700 | G_loss: 1.8823 | D_real: 0.4900 | D_fake: 0.3143 | G_real: 0.1961\n",
      "=> EPOCH 161 | Time: 2s | D_loss: 1.1316 | G_loss: 1.5988 | D_real: 0.5411 | D_fake: 0.3149 | G_real: 0.2251\n",
      "=> EPOCH 162 | Time: 2s | D_loss: 1.0765 | G_loss: 1.5911 | D_real: 0.5736 | D_fake: 0.3229 | G_real: 0.2195\n",
      "=> EPOCH 163 | Time: 2s | D_loss: 1.3107 | G_loss: 1.8820 | D_real: 0.4543 | D_fake: 0.2818 | G_real: 0.1625\n",
      "=> EPOCH 164 | Time: 2s | D_loss: 1.2777 | G_loss: 1.7224 | D_real: 0.4902 | D_fake: 0.2928 | G_real: 0.2166\n",
      "=> EPOCH 165 | Time: 2s | D_loss: 1.5969 | G_loss: 2.0325 | D_real: 0.4654 | D_fake: 0.3607 | G_real: 0.2179\n",
      "=> EPOCH 166 | Time: 2s | D_loss: 1.1623 | G_loss: 1.6390 | D_real: 0.5500 | D_fake: 0.3282 | G_real: 0.2191\n",
      "=> EPOCH 167 | Time: 2s | D_loss: 1.2456 | G_loss: 1.7456 | D_real: 0.5048 | D_fake: 0.3022 | G_real: 0.1982\n",
      "=> EPOCH 168 | Time: 2s | D_loss: 1.3129 | G_loss: 1.7166 | D_real: 0.4664 | D_fake: 0.2924 | G_real: 0.2237\n",
      "=> EPOCH 169 | Time: 2s | D_loss: 1.2814 | G_loss: 1.8178 | D_real: 0.5209 | D_fake: 0.3046 | G_real: 0.2183\n",
      "=> EPOCH 170 | Time: 2s | D_loss: 1.1161 | G_loss: 1.6008 | D_real: 0.5571 | D_fake: 0.3045 | G_real: 0.2197\n",
      "=> EPOCH 171 | Time: 2s | D_loss: 1.3576 | G_loss: 1.9955 | D_real: 0.4185 | D_fake: 0.2482 | G_real: 0.1503\n",
      "=> EPOCH 172 | Time: 2s | D_loss: 1.1509 | G_loss: 1.8254 | D_real: 0.5651 | D_fake: 0.3205 | G_real: 0.1988\n",
      "=> EPOCH 173 | Time: 2s | D_loss: 1.3390 | G_loss: 1.9065 | D_real: 0.4723 | D_fake: 0.3126 | G_real: 0.1788\n",
      "=> EPOCH 174 | Time: 2s | D_loss: 1.3498 | G_loss: 1.8184 | D_real: 0.4852 | D_fake: 0.3096 | G_real: 0.1966\n",
      "=> EPOCH 175 | Time: 2s | D_loss: 1.3489 | G_loss: 1.8876 | D_real: 0.4904 | D_fake: 0.2931 | G_real: 0.1910\n",
      "=> EPOCH 176 | Time: 2s | D_loss: 1.4356 | G_loss: 1.8529 | D_real: 0.4588 | D_fake: 0.2882 | G_real: 0.2014\n",
      "=> EPOCH 177 | Time: 2s | D_loss: 1.1139 | G_loss: 1.5705 | D_real: 0.6616 | D_fake: 0.3751 | G_real: 0.2781\n",
      "=> EPOCH 178 | Time: 2s | D_loss: 1.4119 | G_loss: 1.8344 | D_real: 0.4306 | D_fake: 0.2593 | G_real: 0.1927\n",
      "=> EPOCH 179 | Time: 2s | D_loss: 1.1914 | G_loss: 1.6160 | D_real: 0.5453 | D_fake: 0.3356 | G_real: 0.2373\n",
      "=> EPOCH 180 | Time: 2s | D_loss: 1.3585 | G_loss: 1.6954 | D_real: 0.5011 | D_fake: 0.3462 | G_real: 0.2330\n",
      "=> EPOCH 181 | Time: 2s | D_loss: 1.0707 | G_loss: 1.6095 | D_real: 0.5966 | D_fake: 0.3253 | G_real: 0.2362\n",
      "=> EPOCH 182 | Time: 2s | D_loss: 1.1158 | G_loss: 1.6843 | D_real: 0.5666 | D_fake: 0.3244 | G_real: 0.2133\n",
      "=> EPOCH 183 | Time: 2s | D_loss: 1.2130 | G_loss: 1.6072 | D_real: 0.4896 | D_fake: 0.2945 | G_real: 0.2141\n",
      "=> EPOCH 184 | Time: 2s | D_loss: 1.3003 | G_loss: 1.5780 | D_real: 0.5164 | D_fake: 0.3000 | G_real: 0.2465\n",
      "=> EPOCH 185 | Time: 2s | D_loss: 1.2766 | G_loss: 1.5425 | D_real: 0.5253 | D_fake: 0.3604 | G_real: 0.2754\n",
      "=> EPOCH 186 | Time: 2s | D_loss: 1.2084 | G_loss: 1.8304 | D_real: 0.5152 | D_fake: 0.2850 | G_real: 0.1883\n",
      "=> EPOCH 187 | Time: 2s | D_loss: 1.3124 | G_loss: 1.8987 | D_real: 0.4924 | D_fake: 0.3017 | G_real: 0.1731\n",
      "=> EPOCH 188 | Time: 2s | D_loss: 1.2074 | G_loss: 1.6981 | D_real: 0.5727 | D_fake: 0.3229 | G_real: 0.2265\n",
      "=> EPOCH 189 | Time: 2s | D_loss: 1.0437 | G_loss: 1.4537 | D_real: 0.6252 | D_fake: 0.3471 | G_real: 0.2610\n",
      "=> EPOCH 190 | Time: 2s | D_loss: 1.1469 | G_loss: 1.5209 | D_real: 0.5589 | D_fake: 0.3284 | G_real: 0.2455\n",
      "=> EPOCH 191 | Time: 2s | D_loss: 1.2758 | G_loss: 1.7087 | D_real: 0.5133 | D_fake: 0.2846 | G_real: 0.2211\n",
      "=> EPOCH 192 | Time: 2s | D_loss: 1.1666 | G_loss: 1.5534 | D_real: 0.5815 | D_fake: 0.3565 | G_real: 0.2358\n",
      "=> EPOCH 193 | Time: 2s | D_loss: 1.0715 | G_loss: 1.6471 | D_real: 0.5668 | D_fake: 0.3048 | G_real: 0.2147\n",
      "=> EPOCH 194 | Time: 2s | D_loss: 1.0730 | G_loss: 1.5581 | D_real: 0.5874 | D_fake: 0.2978 | G_real: 0.2391\n",
      "=> EPOCH 195 | Time: 2s | D_loss: 1.0858 | G_loss: 1.5020 | D_real: 0.6178 | D_fake: 0.3487 | G_real: 0.2640\n",
      "=> EPOCH 196 | Time: 2s | D_loss: 1.1092 | G_loss: 1.6481 | D_real: 0.6142 | D_fake: 0.3150 | G_real: 0.2463\n",
      "=> EPOCH 197 | Time: 2s | D_loss: 1.1114 | G_loss: 1.5545 | D_real: 0.5529 | D_fake: 0.2961 | G_real: 0.2288\n",
      "=> EPOCH 198 | Time: 2s | D_loss: 1.1592 | G_loss: 1.8050 | D_real: 0.5325 | D_fake: 0.3023 | G_real: 0.2183\n",
      "=> EPOCH 199 | Time: 2s | D_loss: 1.1557 | G_loss: 1.5783 | D_real: 0.6126 | D_fake: 0.3546 | G_real: 0.2570\n"
     ]
    }
   ],
   "source": [
    "result_losses = Results(args.loss_results)\n",
    "for epoch in range(0, args.epochs):\n",
    "    train(args, dataloader, netG, netD, G_optimizer, D_optimizer,\n",
    "          criterion, epoch, result_losses)\n",
    "    generate(args, netG, epoch)"
   ]
  },
  {
   "cell_type": "markdown",
   "metadata": {},
   "source": [
    "## Save loss"
   ]
  },
  {
   "cell_type": "code",
   "execution_count": 20,
   "metadata": {
    "collapsed": true
   },
   "outputs": [],
   "source": [
    "result_losses.save_to_disk()"
   ]
  },
  {
   "cell_type": "markdown",
   "metadata": {},
   "source": [
    "## Get one REAL Image"
   ]
  },
  {
   "cell_type": "code",
   "execution_count": 21,
   "metadata": {
    "collapsed": true
   },
   "outputs": [],
   "source": [
    "sample, _ = iter(dataloader).next()\n",
    "save_image(sample, os.path.join(args.results, \"real_sample.png\"))"
   ]
  },
  {
   "cell_type": "code",
   "execution_count": null,
   "metadata": {
    "collapsed": true
   },
   "outputs": [],
   "source": []
  }
 ],
 "metadata": {
  "kernelspec": {
   "display_name": "Python 3",
   "language": "python",
   "name": "python3"
  },
  "language_info": {
   "codemirror_mode": {
    "name": "ipython",
    "version": 3
   },
   "file_extension": ".py",
   "mimetype": "text/x-python",
   "name": "python",
   "nbconvert_exporter": "python",
   "pygments_lexer": "ipython3",
   "version": "3.5.3"
  },
  "toc": {
   "colors": {
    "hover_highlight": "#DAA520",
    "running_highlight": "#FF0000",
    "selected_highlight": "#FFD700"
   },
   "moveMenuLeft": true,
   "nav_menu": {
    "height": "246px",
    "width": "252px"
   },
   "navigate_menu": true,
   "number_sections": true,
   "sideBar": true,
   "threshold": 4,
   "toc_cell": false,
   "toc_section_display": "block",
   "toc_window_display": false
  }
 },
 "nbformat": 4,
 "nbformat_minor": 2
}
