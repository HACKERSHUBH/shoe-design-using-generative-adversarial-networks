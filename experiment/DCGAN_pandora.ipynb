{
 "cells": [
  {
   "cell_type": "markdown",
   "metadata": {
    "deletable": true,
    "editable": true
   },
   "source": [
    "# Build DCGAN"
   ]
  },
  {
   "cell_type": "markdown",
   "metadata": {
    "deletable": true,
    "editable": true
   },
   "source": [
    "## Import"
   ]
  },
  {
   "cell_type": "code",
   "execution_count": 1,
   "metadata": {
    "collapsed": true,
    "deletable": true,
    "editable": true
   },
   "outputs": [],
   "source": [
    "import argparse\n",
    "import os\n",
    "import time"
   ]
  },
  {
   "cell_type": "code",
   "execution_count": 2,
   "metadata": {
    "collapsed": true,
    "deletable": true,
    "editable": true
   },
   "outputs": [],
   "source": [
    "import torch\n",
    "import torch.nn as nn\n",
    "import torch.nn.init as init\n",
    "from torch.autograd import Variable\n",
    "import torch.optim as optim\n",
    "from torch.utils.data import DataLoader\n",
    "import torchvision.datasets as datasets\n",
    "import torchvision.transforms as transforms\n",
    "from torchvision.utils import save_image\n",
    "from torchnet.meter import AverageValueMeter"
   ]
  },
  {
   "cell_type": "markdown",
   "metadata": {
    "deletable": true,
    "editable": true
   },
   "source": [
    "## Define Arguments"
   ]
  },
  {
   "cell_type": "code",
   "execution_count": 3,
   "metadata": {
    "collapsed": false,
    "deletable": true,
    "editable": true
   },
   "outputs": [
    {
     "name": "stdout",
     "output_type": "stream",
     "text": [
      "total 4736\r\n",
      "-rwxr-xr-x  1 hoangnguyen  staff  13206 30 Apr 20:38 \u001b[31m780004EN12-1.jpg\u001b[m\u001b[m*\r\n",
      "-rwxr-xr-x  1 hoangnguyen  staff  10060 30 Apr 20:38 \u001b[31m781051CZ-1.jpg\u001b[m\u001b[m*\r\n",
      "-rwxr-xr-x  1 hoangnguyen  staff   9136 30 Apr 20:38 \u001b[31m781359CZ-1.jpg\u001b[m\u001b[m*\r\n",
      "-rwxr-xr-x  1 hoangnguyen  staff   8296 30 Apr 20:38 \u001b[31m781389-1.jpg\u001b[m\u001b[m*\r\n",
      "-rwxr-xr-x  1 hoangnguyen  staff   9062 30 Apr 20:38 \u001b[31m781817CZ-1.jpg\u001b[m\u001b[m*\r\n",
      "-rwxr-xr-x  1 hoangnguyen  staff  12024 30 Apr 20:38 \u001b[31m781880CZ-1.jpg\u001b[m\u001b[m*\r\n",
      "-rwxr-xr-x  1 hoangnguyen  staff   8736 30 Apr 20:38 \u001b[31m790346-1.jpg\u001b[m\u001b[m*\r\n",
      "-rwxr-xr-x  1 hoangnguyen  staff   8440 30 Apr 20:38 \u001b[31m790362-1.jpg\u001b[m\u001b[m*\r\n",
      "-rwxr-xr-x  1 hoangnguyen  staff   4627 30 Apr 20:38 \u001b[31m790398MPW-1.jpg\u001b[m\u001b[m*\r\n",
      "-rwxr-xr-x  1 hoangnguyen  staff   5724 30 Apr 20:38 \u001b[31m790478-1.jpg\u001b[m\u001b[m*\r\n",
      "-rwxr-xr-x  1 hoangnguyen  staff   8812 30 Apr 20:38 \u001b[31m790534-1.jpg\u001b[m\u001b[m*\r\n",
      "-rwxr-xr-x  1 hoangnguyen  staff  10159 30 Apr 20:38 \u001b[31m790930-1.jpg\u001b[m\u001b[m*\r\n",
      "-rwxr-xr-x  1 hoangnguyen  staff   6582 30 Apr 20:38 \u001b[31m790947-1.jpg\u001b[m\u001b[m*\r\n",
      "-rwxr-xr-x  1 hoangnguyen  staff   9712 30 Apr 20:38 \u001b[31m790964-1.jpg\u001b[m\u001b[m*\r\n",
      "-rwxr-xr-x  1 hoangnguyen  staff  10430 30 Apr 20:38 \u001b[31m790965-1.jpg\u001b[m\u001b[m*\r\n",
      "-rwxr-xr-x  1 hoangnguyen  staff   9972 30 Apr 20:38 \u001b[31m790989EN05-1.jpg\u001b[m\u001b[m*\r\n",
      "-rwxr-xr-x  1 hoangnguyen  staff   6548 30 Apr 20:38 \u001b[31m790990-1.jpg\u001b[m\u001b[m*\r\n",
      "-rwxr-xr-x  1 hoangnguyen  staff   9941 30 Apr 20:38 \u001b[31m791039-1.jpg\u001b[m\u001b[m*\r\n",
      "-rwxr-xr-x  1 hoangnguyen  staff   9488 30 Apr 20:38 \u001b[31m791049ER-1.jpg\u001b[m\u001b[m*\r\n",
      "-rwxr-xr-x  1 hoangnguyen  staff   9557 30 Apr 20:38 \u001b[31m791066-1.jpg\u001b[m\u001b[m*\r\n",
      "-rwxr-xr-x  1 hoangnguyen  staff   6466 30 Apr 20:38 \u001b[31m791070-1.jpg\u001b[m\u001b[m*\r\n",
      "-rwxr-xr-x  1 hoangnguyen  staff   7643 30 Apr 20:38 \u001b[31m791071-1.jpg\u001b[m\u001b[m*\r\n",
      "-rwxr-xr-x  1 hoangnguyen  staff   7364 30 Apr 20:38 \u001b[31m791112-1.jpg\u001b[m\u001b[m*\r\n",
      "-rwxr-xr-x  1 hoangnguyen  staff  10098 30 Apr 20:38 \u001b[31m791119-1.jpg\u001b[m\u001b[m*\r\n",
      "-rwxr-xr-x  1 hoangnguyen  staff   9139 30 Apr 20:38 \u001b[31m791132EN24-1.jpg\u001b[m\u001b[m*\r\n",
      "-rwxr-xr-x  1 hoangnguyen  staff   6784 30 Apr 20:38 \u001b[31m791204-1.jpg\u001b[m\u001b[m*\r\n",
      "-rwxr-xr-x  1 hoangnguyen  staff   8518 30 Apr 20:38 \u001b[31m791206-1.jpg\u001b[m\u001b[m*\r\n",
      "-rwxr-xr-x  1 hoangnguyen  staff   9321 30 Apr 20:38 \u001b[31m791250CZS-1.jpg\u001b[m\u001b[m*\r\n",
      "-rwxr-xr-x  1 hoangnguyen  staff  10684 30 Apr 20:38 \u001b[31m791261ACZMX-1.jpg\u001b[m\u001b[m*\r\n",
      "-rwxr-xr-x  1 hoangnguyen  staff  13101 30 Apr 20:38 \u001b[31m791261MCZMX-1.jpg\u001b[m\u001b[m*\r\n",
      "-rwxr-xr-x  1 hoangnguyen  staff   8877 30 Apr 20:38 \u001b[31m791267-1.jpg\u001b[m\u001b[m*\r\n",
      "-rwxr-xr-x  1 hoangnguyen  staff   7434 30 Apr 20:38 \u001b[31m791280PCZ-1.jpg\u001b[m\u001b[m*\r\n",
      "-rwxr-xr-x  1 hoangnguyen  staff   7549 30 Apr 20:38 \u001b[31m791281CZB-1.jpg\u001b[m\u001b[m*\r\n",
      "-rwxr-xr-x  1 hoangnguyen  staff  10180 30 Apr 20:38 \u001b[31m791282-1.jpg\u001b[m\u001b[m*\r\n",
      "-rwxr-xr-x  1 hoangnguyen  staff   8129 30 Apr 20:38 \u001b[31m791283EN23-1.jpg\u001b[m\u001b[m*\r\n",
      "-rwxr-xr-x  1 hoangnguyen  staff   9799 30 Apr 20:38 \u001b[31m791289-1.jpg\u001b[m\u001b[m*\r\n",
      "-rwxr-xr-x  1 hoangnguyen  staff   7411 30 Apr 20:38 \u001b[31m791301-1.jpg\u001b[m\u001b[m*\r\n",
      "-rwxr-xr-x  1 hoangnguyen  staff   8797 30 Apr 20:38 \u001b[31m791363-1.jpg\u001b[m\u001b[m*\r\n",
      "-rwxr-xr-x  1 hoangnguyen  staff  10854 30 Apr 20:38 \u001b[31m791370CCZ-1.jpg\u001b[m\u001b[m*\r\n",
      "-rwxr-xr-x  1 hoangnguyen  staff  11375 30 Apr 20:38 \u001b[31m791371CZ-1.jpg\u001b[m\u001b[m*\r\n",
      "-rwxr-xr-x  1 hoangnguyen  staff   8617 30 Apr 20:38 \u001b[31m791375PCZ-1.jpg\u001b[m\u001b[m*\r\n",
      "-rwxr-xr-x  1 hoangnguyen  staff   9546 30 Apr 20:38 \u001b[31m791377-1.jpg\u001b[m\u001b[m*\r\n",
      "-rwxr-xr-x  1 hoangnguyen  staff   8118 30 Apr 20:38 \u001b[31m791381CZ-1.jpg\u001b[m\u001b[m*\r\n",
      "-rwxr-xr-x  1 hoangnguyen  staff   8986 30 Apr 20:38 \u001b[31m791388CZ-1.jpg\u001b[m\u001b[m*\r\n",
      "-rwxr-xr-x  1 hoangnguyen  staff   9328 30 Apr 20:38 \u001b[31m791399EN62-1.jpg\u001b[m\u001b[m*\r\n",
      "-rwxr-xr-x  1 hoangnguyen  staff   8941 30 Apr 20:38 \u001b[31m791405ENMX-1.jpg\u001b[m\u001b[m*\r\n",
      "-rwxr-xr-x  1 hoangnguyen  staff   7874 30 Apr 20:38 \u001b[31m791406ENMX-1.jpg\u001b[m\u001b[m*\r\n",
      "-rwxr-xr-x  1 hoangnguyen  staff   6332 30 Apr 20:38 \u001b[31m791422-1.jpg\u001b[m\u001b[m*\r\n",
      "-rwxr-xr-x  1 hoangnguyen  staff  10030 30 Apr 20:38 \u001b[31m791425-1.jpg\u001b[m\u001b[m*\r\n",
      "-rwxr-xr-x  1 hoangnguyen  staff   7571 30 Apr 20:38 \u001b[31m791443ENMX-1.jpg\u001b[m\u001b[m*\r\n",
      "-rwxr-xr-x  1 hoangnguyen  staff   9107 30 Apr 20:38 \u001b[31m791449CZ-1.jpg\u001b[m\u001b[m*\r\n",
      "-rwxr-xr-x  1 hoangnguyen  staff  10069 30 Apr 20:38 \u001b[31m791450CZ-1.jpg\u001b[m\u001b[m*\r\n",
      "-rwxr-xr-x  1 hoangnguyen  staff   5651 30 Apr 20:38 \u001b[31m791470CFL-1.jpg\u001b[m\u001b[m*\r\n",
      "-rwxr-xr-x  1 hoangnguyen  staff  12764 30 Apr 20:38 \u001b[31m791486NLG-1.jpg\u001b[m\u001b[m*\r\n",
      "-rwxr-xr-x  1 hoangnguyen  staff  10056 30 Apr 20:38 \u001b[31m791489-1.jpg\u001b[m\u001b[m*\r\n",
      "-rwxr-xr-x  1 hoangnguyen  staff   7197 30 Apr 20:38 \u001b[31m791495EN12-1.jpg\u001b[m\u001b[m*\r\n",
      "-rwxr-xr-x  1 hoangnguyen  staff   7049 30 Apr 20:38 \u001b[31m791499PCZ-1.jpg\u001b[m\u001b[m*\r\n",
      "-rwxr-xr-x  1 hoangnguyen  staff  11599 30 Apr 20:38 \u001b[31m791502NSB-1.jpg\u001b[m\u001b[m*\r\n",
      "-rwxr-xr-x  1 hoangnguyen  staff   7300 30 Apr 20:38 \u001b[31m791518-1.jpg\u001b[m\u001b[m*\r\n",
      "-rwxr-xr-x  1 hoangnguyen  staff  10506 30 Apr 20:38 \u001b[31m791519-1.jpg\u001b[m\u001b[m*\r\n",
      "-rwxr-xr-x  1 hoangnguyen  staff  11413 30 Apr 20:38 \u001b[31m791537CZ-1.jpg\u001b[m\u001b[m*\r\n",
      "-rwxr-xr-x  1 hoangnguyen  staff   7174 30 Apr 20:38 \u001b[31m791565CZ-1.jpg\u001b[m\u001b[m*\r\n",
      "-rwxr-xr-x  1 hoangnguyen  staff   9833 30 Apr 20:38 \u001b[31m791567EN80-1.jpg\u001b[m\u001b[m*\r\n",
      "-rwxr-xr-x  1 hoangnguyen  staff   9875 30 Apr 20:38 \u001b[31m791572EN73-1.jpg\u001b[m\u001b[m*\r\n",
      "-rwxr-xr-x  1 hoangnguyen  staff  14169 30 Apr 20:38 \u001b[31m791573CZ-1.jpg\u001b[m\u001b[m*\r\n",
      "-rwxr-xr-x  1 hoangnguyen  staff   8479 30 Apr 20:38 \u001b[31m791576ENMX-1.jpg\u001b[m\u001b[m*\r\n",
      "-rwxr-xr-x  1 hoangnguyen  staff   8029 30 Apr 20:38 \u001b[31m791586-1.jpg\u001b[m\u001b[m*\r\n",
      "-rwxr-xr-x  1 hoangnguyen  staff   9758 30 Apr 20:38 \u001b[31m791587-1.jpg\u001b[m\u001b[m*\r\n",
      "-rwxr-xr-x  1 hoangnguyen  staff  12271 30 Apr 20:38 \u001b[31m791592CFL-1.jpg\u001b[m\u001b[m*\r\n",
      "-rwxr-xr-x  1 hoangnguyen  staff   9075 30 Apr 20:38 \u001b[31m791593CFL-1.jpg\u001b[m\u001b[m*\r\n",
      "-rwxr-xr-x  1 hoangnguyen  staff   9884 30 Apr 20:38 \u001b[31m791606-1.jpg\u001b[m\u001b[m*\r\n",
      "-rwxr-xr-x  1 hoangnguyen  staff   8799 30 Apr 20:38 \u001b[31m791616CZ-1.jpg\u001b[m\u001b[m*\r\n",
      "-rwxr-xr-x  1 hoangnguyen  staff   6168 30 Apr 20:38 \u001b[31m791617CZ-1 (1).jpg\u001b[m\u001b[m*\r\n",
      "-rwxr-xr-x  1 hoangnguyen  staff   6168 30 Apr 20:38 \u001b[31m791617CZ-1.jpg\u001b[m\u001b[m*\r\n",
      "-rwxr-xr-x  1 hoangnguyen  staff   6864 30 Apr 20:38 \u001b[31m791632PCZ-1.jpg\u001b[m\u001b[m*\r\n",
      "-rwxr-xr-x  1 hoangnguyen  staff   9500 30 Apr 20:38 \u001b[31m791640-1.jpg\u001b[m\u001b[m*\r\n",
      "-rwxr-xr-x  1 hoangnguyen  staff  10010 30 Apr 20:38 \u001b[31m791643-1.jpg\u001b[m\u001b[m*\r\n",
      "-rwxr-xr-x  1 hoangnguyen  staff  11153 30 Apr 20:38 \u001b[31m791646-1.jpg\u001b[m\u001b[m*\r\n",
      "-rwxr-xr-x  1 hoangnguyen  staff  10193 30 Apr 20:38 \u001b[31m791648-1.jpg\u001b[m\u001b[m*\r\n",
      "-rwxr-xr-x  1 hoangnguyen  staff   9107 30 Apr 20:38 \u001b[31m791649-1.jpg\u001b[m\u001b[m*\r\n",
      "-rwxr-xr-x  1 hoangnguyen  staff   9082 30 Apr 20:38 \u001b[31m791650-1.jpg\u001b[m\u001b[m*\r\n",
      "-rwxr-xr-x  1 hoangnguyen  staff  10468 30 Apr 20:38 \u001b[31m791651-1.jpg\u001b[m\u001b[m*\r\n",
      "-rwxr-xr-x  1 hoangnguyen  staff   5976 30 Apr 20:38 \u001b[31m791653-1.jpg\u001b[m\u001b[m*\r\n",
      "-rwxr-xr-x  1 hoangnguyen  staff  10666 30 Apr 20:38 \u001b[31m791657-1.jpg\u001b[m\u001b[m*\r\n",
      "-rwxr-xr-x  1 hoangnguyen  staff  12504 30 Apr 20:38 \u001b[31m791662CZ-1.jpg\u001b[m\u001b[m*\r\n",
      "-rwxr-xr-x  1 hoangnguyen  staff   8885 30 Apr 20:38 \u001b[31m791664PCZ-1.jpg\u001b[m\u001b[m*\r\n",
      "-rwxr-xr-x  1 hoangnguyen  staff   7174 30 Apr 20:38 \u001b[31m791665-1.jpg\u001b[m\u001b[m*\r\n",
      "-rwxr-xr-x  1 hoangnguyen  staff   8145 30 Apr 20:38 \u001b[31m791667-1.jpg\u001b[m\u001b[m*\r\n",
      "-rwxr-xr-x  1 hoangnguyen  staff   7990 30 Apr 20:38 \u001b[31m791700ENMX-1.jpg\u001b[m\u001b[m*\r\n",
      "-rwxr-xr-x  1 hoangnguyen  staff   6744 30 Apr 20:38 \u001b[31m791706-1.jpg\u001b[m\u001b[m*\r\n",
      "-rwxr-xr-x  1 hoangnguyen  staff   7425 30 Apr 20:38 \u001b[31m791707-1.jpg\u001b[m\u001b[m*\r\n",
      "-rwxr-xr-x  1 hoangnguyen  staff   8848 30 Apr 20:38 \u001b[31m791709CZ-1.jpg\u001b[m\u001b[m*\r\n",
      "-rwxr-xr-x  1 hoangnguyen  staff   8192 30 Apr 20:38 \u001b[31m791713CZ-1.jpg\u001b[m\u001b[m*\r\n",
      "-rwxr-xr-x  1 hoangnguyen  staff  11427 30 Apr 20:38 \u001b[31m791714CZ-1.jpg\u001b[m\u001b[m*\r\n",
      "-rwxr-xr-x  1 hoangnguyen  staff   9963 30 Apr 20:38 \u001b[31m791718CZ-1.jpg\u001b[m\u001b[m*\r\n",
      "-rwxr-xr-x  1 hoangnguyen  staff   6678 30 Apr 20:38 \u001b[31m791722SRU-1.jpg\u001b[m\u001b[m*\r\n",
      "-rwxr-xr-x  1 hoangnguyen  staff  12007 30 Apr 20:38 \u001b[31m791725CZ-1.jpg\u001b[m\u001b[m*\r\n",
      "-rwxr-xr-x  1 hoangnguyen  staff   9965 30 Apr 20:38 \u001b[31m791725NBP-1.jpg\u001b[m\u001b[m*\r\n",
      "-rwxr-xr-x  1 hoangnguyen  staff  10062 30 Apr 20:38 \u001b[31m791725NBS-1.jpg\u001b[m\u001b[m*\r\n",
      "-rwxr-xr-x  1 hoangnguyen  staff  13099 30 Apr 20:38 \u001b[31m791725NCC-1.jpg\u001b[m\u001b[m*\r\n",
      "-rwxr-xr-x  1 hoangnguyen  staff  12853 30 Apr 20:38 \u001b[31m791725NMB-1.jpg\u001b[m\u001b[m*\r\n",
      "-rwxr-xr-x  1 hoangnguyen  staff  12408 30 Apr 20:38 \u001b[31m791725NOP-1.jpg\u001b[m\u001b[m*\r\n",
      "-rwxr-xr-x  1 hoangnguyen  staff   9356 30 Apr 20:38 \u001b[31m791725NRP-1.jpg\u001b[m\u001b[m*\r\n",
      "-rwxr-xr-x  1 hoangnguyen  staff   7994 30 Apr 20:38 \u001b[31m791726PCZ-1.jpg\u001b[m\u001b[m*\r\n",
      "-rwxr-xr-x  1 hoangnguyen  staff   8378 30 Apr 20:38 \u001b[31m791727CZ-1.jpg\u001b[m\u001b[m*\r\n",
      "-rwxr-xr-x  1 hoangnguyen  staff  10341 30 Apr 20:38 \u001b[31m791728CZ-1.jpg\u001b[m\u001b[m*\r\n",
      "-rwxr-xr-x  1 hoangnguyen  staff   8351 30 Apr 20:38 \u001b[31m791729NBP-1.jpg\u001b[m\u001b[m*\r\n",
      "-rwxr-xr-x  1 hoangnguyen  staff   9415 30 Apr 20:38 \u001b[31m791733CZ-1.jpg\u001b[m\u001b[m*\r\n",
      "-rwxr-xr-x  1 hoangnguyen  staff  10179 30 Apr 20:38 \u001b[31m791751-1.jpg\u001b[m\u001b[m*\r\n",
      "-rwxr-xr-x  1 hoangnguyen  staff  10103 30 Apr 20:38 \u001b[31m791760NBLMX-1.jpg\u001b[m\u001b[m*\r\n",
      "-rwxr-xr-x  1 hoangnguyen  staff   9591 30 Apr 20:38 \u001b[31m791764CZ-1.jpg\u001b[m\u001b[m*\r\n",
      "-rwxr-xr-x  1 hoangnguyen  staff   8870 30 Apr 20:38 \u001b[31m791765CZ-1.jpg\u001b[m\u001b[m*\r\n",
      "-rwxr-xr-x  1 hoangnguyen  staff   8664 30 Apr 20:38 \u001b[31m791770-1.jpg\u001b[m\u001b[m*\r\n",
      "-rwxr-xr-x  1 hoangnguyen  staff   6293 30 Apr 20:38 \u001b[31m791773CZ-1.jpg\u001b[m\u001b[m*\r\n",
      "-rwxr-xr-x  1 hoangnguyen  staff  11335 30 Apr 20:38 \u001b[31m791776CZ-1.jpg\u001b[m\u001b[m*\r\n",
      "-rwxr-xr-x  1 hoangnguyen  staff   9312 30 Apr 20:38 \u001b[31m791784NAB-1.jpg\u001b[m\u001b[m*\r\n",
      "-rwxr-xr-x  1 hoangnguyen  staff   9554 30 Apr 20:38 \u001b[31m791784NLB-1.jpg\u001b[m\u001b[m*\r\n",
      "-rwxr-xr-x  1 hoangnguyen  staff   9467 30 Apr 20:38 \u001b[31m791784NRG-1.jpg\u001b[m\u001b[m*\r\n",
      "-rwxr-xr-x  1 hoangnguyen  staff   9436 30 Apr 20:38 \u001b[31m791784SAM-1.jpg\u001b[m\u001b[m*\r\n",
      "-rwxr-xr-x  1 hoangnguyen  staff   7201 30 Apr 20:38 \u001b[31m791791ENMX-1.jpg\u001b[m\u001b[m*\r\n",
      "-rwxr-xr-x  1 hoangnguyen  staff  12374 30 Apr 20:38 \u001b[31m791808CZ-1.jpg\u001b[m\u001b[m*\r\n",
      "-rwxr-xr-x  1 hoangnguyen  staff   7777 30 Apr 20:38 \u001b[31m791809ENMX-1.jpg\u001b[m\u001b[m*\r\n",
      "-rwxr-xr-x  1 hoangnguyen  staff   9328 30 Apr 20:38 \u001b[31m791813CZ-1.jpg\u001b[m\u001b[m*\r\n",
      "-rwxr-xr-x  1 hoangnguyen  staff   7301 30 Apr 20:38 \u001b[31m791814EN62-1.jpg\u001b[m\u001b[m*\r\n",
      "-rwxr-xr-x  1 hoangnguyen  staff  10041 30 Apr 20:38 \u001b[31m791815CZS-1.jpg\u001b[m\u001b[m*\r\n",
      "-rwxr-xr-x  1 hoangnguyen  staff   7809 30 Apr 20:38 \u001b[31m791816CZ-1.jpg\u001b[m\u001b[m*\r\n",
      "-rwxr-xr-x  1 hoangnguyen  staff   5621 30 Apr 20:38 \u001b[31m791818MOP-1.jpg\u001b[m\u001b[m*\r\n",
      "-rwxr-xr-x  1 hoangnguyen  staff   9409 30 Apr 20:38 \u001b[31m791825ENMX-1.jpg\u001b[m\u001b[m*\r\n",
      "-rwxr-xr-x  1 hoangnguyen  staff   6966 30 Apr 20:38 \u001b[31m791827EN40-1.jpg\u001b[m\u001b[m*\r\n",
      "-rwxr-xr-x  1 hoangnguyen  staff   9896 30 Apr 20:38 \u001b[31m791829CZ-1.jpg\u001b[m\u001b[m*\r\n",
      "-rwxr-xr-x  1 hoangnguyen  staff  11056 30 Apr 20:38 \u001b[31m791831NBP-1.jpg\u001b[m\u001b[m*\r\n",
      "-rwxr-xr-x  1 hoangnguyen  staff   6933 30 Apr 20:38 \u001b[31m791838-1.jpg\u001b[m\u001b[m*\r\n",
      "-rwxr-xr-x  1 hoangnguyen  staff  10643 30 Apr 20:38 \u001b[31m791842ENMX-1.jpg\u001b[m\u001b[m*\r\n",
      "-rwxr-xr-x  1 hoangnguyen  staff   9772 30 Apr 20:38 \u001b[31m791845CZ-1.jpg\u001b[m\u001b[m*\r\n",
      "-rwxr-xr-x  1 hoangnguyen  staff   9423 30 Apr 20:38 \u001b[31m791847CZ-1.jpg\u001b[m\u001b[m*\r\n",
      "-rwxr-xr-x  1 hoangnguyen  staff   9699 30 Apr 20:38 \u001b[31m791849CZ-1.jpg\u001b[m\u001b[m*\r\n",
      "-rwxr-xr-x  1 hoangnguyen  staff   9519 30 Apr 20:38 \u001b[31m791854CZ-1.jpg\u001b[m\u001b[m*\r\n",
      "-rwxr-xr-x  1 hoangnguyen  staff   9446 30 Apr 20:38 \u001b[31m791856CZ-1.jpg\u001b[m\u001b[m*\r\n",
      "-rwxr-xr-x  1 hoangnguyen  staff   9378 30 Apr 20:38 \u001b[31m791857CZ-1.jpg\u001b[m\u001b[m*\r\n",
      "-rwxr-xr-x  1 hoangnguyen  staff   9652 30 Apr 20:38 \u001b[31m791863CZ-1.jpg\u001b[m\u001b[m*\r\n",
      "-rwxr-xr-x  1 hoangnguyen  staff   8997 30 Apr 20:38 \u001b[31m791872-1.jpg\u001b[m\u001b[m*\r\n",
      "-rwxr-xr-x  1 hoangnguyen  staff   7427 30 Apr 20:38 \u001b[31m791876CZ-1.jpg\u001b[m\u001b[m*\r\n",
      "-rwxr-xr-x  1 hoangnguyen  staff   7664 30 Apr 20:38 \u001b[31m791881PCZ-1.jpg\u001b[m\u001b[m*\r\n",
      "-rwxr-xr-x  1 hoangnguyen  staff   9916 30 Apr 20:38 \u001b[31m791882-1.jpg\u001b[m\u001b[m*\r\n",
      "-rwxr-xr-x  1 hoangnguyen  staff   8856 30 Apr 20:38 \u001b[31m791883CZ-1.jpg\u001b[m\u001b[m*\r\n",
      "-rwxr-xr-x  1 hoangnguyen  staff   8270 30 Apr 20:38 \u001b[31m791884CZ-1.jpg\u001b[m\u001b[m*\r\n",
      "-rwxr-xr-x  1 hoangnguyen  staff   9639 30 Apr 20:38 \u001b[31m791889CZ-1.jpg\u001b[m\u001b[m*\r\n",
      "-rwxr-xr-x  1 hoangnguyen  staff   5603 30 Apr 20:38 \u001b[31m791890CZ-1.jpg\u001b[m\u001b[m*\r\n",
      "-rwxr-xr-x  1 hoangnguyen  staff  10604 30 Apr 20:38 \u001b[31m791899CZR-1.jpg\u001b[m\u001b[m*\r\n",
      "-rwxr-xr-x  1 hoangnguyen  staff   9828 30 Apr 20:38 \u001b[31m791900EN73-1.jpg\u001b[m\u001b[m*\r\n",
      "-rwxr-xr-x  1 hoangnguyen  staff   8068 30 Apr 20:38 \u001b[31m791902-1.jpg\u001b[m\u001b[m*\r\n",
      "-rwxr-xr-x  1 hoangnguyen  staff  10492 30 Apr 20:38 \u001b[31m791905CZF-1.jpg\u001b[m\u001b[m*\r\n",
      "-rwxr-xr-x  1 hoangnguyen  staff   9382 30 Apr 20:38 \u001b[31m791937-1.jpg\u001b[m\u001b[m*\r\n",
      "-rwxr-xr-x  1 hoangnguyen  staff   7843 30 Apr 20:38 \u001b[31m791946PCZ-1.jpg\u001b[m\u001b[m*\r\n",
      "-rwxr-xr-x  1 hoangnguyen  staff   7269 30 Apr 20:38 \u001b[31m791948CZ-1.jpg\u001b[m\u001b[m*\r\n",
      "-rwxr-xr-x  1 hoangnguyen  staff   8174 30 Apr 20:38 \u001b[31m791951-1.jpg\u001b[m\u001b[m*\r\n",
      "-rwxr-xr-x  1 hoangnguyen  staff   5275 30 Apr 20:38 \u001b[31m791953-1.jpg\u001b[m\u001b[m*\r\n",
      "-rwxr-xr-x  1 hoangnguyen  staff  10553 30 Apr 20:38 \u001b[31m791958NCK-1.jpg\u001b[m\u001b[m*\r\n",
      "-rwxr-xr-x  1 hoangnguyen  staff   7898 30 Apr 20:38 \u001b[31m791960-1.jpg\u001b[m\u001b[m*\r\n",
      "-rwxr-xr-x  1 hoangnguyen  staff  11646 30 Apr 20:38 \u001b[31m791961CZ-1.jpg\u001b[m\u001b[m*\r\n",
      "-rwxr-xr-x  1 hoangnguyen  staff   6039 30 Apr 20:38 \u001b[31m791963CZ-1.jpg\u001b[m\u001b[m*\r\n",
      "-rwxr-xr-x  1 hoangnguyen  staff  12653 30 Apr 20:38 \u001b[31m791966-1.jpg\u001b[m\u001b[m*\r\n",
      "-rwxr-xr-x  1 hoangnguyen  staff   8459 30 Apr 20:38 \u001b[31m791967-1.jpg\u001b[m\u001b[m*\r\n",
      "-rwxr-xr-x  1 hoangnguyen  staff  13661 30 Apr 20:38 \u001b[31m791970CZ-1.jpg\u001b[m\u001b[m*\r\n",
      "-rwxr-xr-x  1 hoangnguyen  staff   7057 30 Apr 20:38 \u001b[31m791972CZ-1.jpg\u001b[m\u001b[m*\r\n",
      "-rwxr-xr-x  1 hoangnguyen  staff  11739 30 Apr 20:38 \u001b[31m791980-1.jpg\u001b[m\u001b[m*\r\n",
      "-rwxr-xr-x  1 hoangnguyen  staff   9201 30 Apr 20:38 \u001b[31m791987-1.jpg\u001b[m\u001b[m*\r\n",
      "-rwxr-xr-x  1 hoangnguyen  staff  12632 30 Apr 20:38 \u001b[31m791992CZ-1.jpg\u001b[m\u001b[m*\r\n",
      "-rwxr-xr-x  1 hoangnguyen  staff   8875 30 Apr 20:38 \u001b[31m791993CZ-1.jpg\u001b[m\u001b[m*\r\n",
      "-rwxr-xr-x  1 hoangnguyen  staff   6947 30 Apr 20:38 \u001b[31m791994CZ-1.jpg\u001b[m\u001b[m*\r\n",
      "-rwxr-xr-x  1 hoangnguyen  staff  13386 30 Apr 20:38 \u001b[31m791995NMBMX-1.jpg\u001b[m\u001b[m*\r\n",
      "-rwxr-xr-x  1 hoangnguyen  staff   9969 30 Apr 20:38 \u001b[31m791997NMB-1.jpg\u001b[m\u001b[m*\r\n",
      "-rwxr-xr-x  1 hoangnguyen  staff   7887 30 Apr 20:38 \u001b[31m792027CZ-1.jpg\u001b[m\u001b[m*\r\n",
      "-rwxr-xr-x  1 hoangnguyen  staff  10115 30 Apr 20:38 \u001b[31m792036NCC-1.jpg\u001b[m\u001b[m*\r\n",
      "-rwxr-xr-x  1 hoangnguyen  staff  10091 30 Apr 20:38 \u001b[31m792037CZ-1.jpg\u001b[m\u001b[m*\r\n",
      "-rwxr-xr-x  1 hoangnguyen  staff   6216 30 Apr 20:38 \u001b[31m792042CZ-1.jpg\u001b[m\u001b[m*\r\n",
      "-rwxr-xr-x  1 hoangnguyen  staff   8205 30 Apr 20:38 \u001b[31m792044ENMX-1.jpg\u001b[m\u001b[m*\r\n",
      "-rwxr-xr-x  1 hoangnguyen  staff   9533 30 Apr 20:38 \u001b[31m792048EN117-1.jpg\u001b[m\u001b[m*\r\n",
      "-rwxr-xr-x  1 hoangnguyen  staff   7945 30 Apr 20:38 \u001b[31m792053CZ-1.jpg\u001b[m\u001b[m*\r\n",
      "-rwxr-xr-x  1 hoangnguyen  staff  10659 30 Apr 20:38 \u001b[31m792055PCZ-1.jpg\u001b[m\u001b[m*\r\n",
      "-rwxr-xr-x  1 hoangnguyen  staff   8689 30 Apr 20:38 \u001b[31m792061ENMX-1.jpg\u001b[m\u001b[m*\r\n",
      "-rwxr-xr-x  1 hoangnguyen  staff   9825 30 Apr 20:38 \u001b[31m792067EN23-1.jpg\u001b[m\u001b[m*\r\n",
      "-rwxr-xr-x  1 hoangnguyen  staff   7061 30 Apr 20:38 \u001b[31m792068CZ-1.jpg\u001b[m\u001b[m*\r\n",
      "-rwxr-xr-x  1 hoangnguyen  staff   9313 30 Apr 20:38 \u001b[31m792070CZ-1.jpg\u001b[m\u001b[m*\r\n",
      "-rwxr-xr-x  1 hoangnguyen  staff   6659 30 Apr 20:38 \u001b[31m792071CZ-1.jpg\u001b[m\u001b[m*\r\n",
      "-rwxr-xr-x  1 hoangnguyen  staff   7015 30 Apr 20:38 \u001b[31m792072EN40-1.jpg\u001b[m\u001b[m*\r\n",
      "-rwxr-xr-x  1 hoangnguyen  staff   9108 30 Apr 20:38 \u001b[31m792073EN23-1.jpg\u001b[m\u001b[m*\r\n",
      "-rwxr-xr-x  1 hoangnguyen  staff   6672 30 Apr 20:38 \u001b[31m792077PCZ-1.jpg\u001b[m\u001b[m*\r\n",
      "-rwxr-xr-x  1 hoangnguyen  staff   6304 30 Apr 20:38 \u001b[31m792078PCZ-1.jpg\u001b[m\u001b[m*\r\n",
      "-rwxr-xr-x  1 hoangnguyen  staff  10042 30 Apr 20:38 \u001b[31m792084CZ-1.jpg\u001b[m\u001b[m*\r\n",
      "-rwxr-xr-x  1 hoangnguyen  staff   5257 30 Apr 20:38 \u001b[31m792086PCZ-1.jpg\u001b[m\u001b[m*\r\n",
      "-rwxr-xr-x  1 hoangnguyen  staff   8216 30 Apr 20:38 \u001b[31m792087PCZ-1.jpg\u001b[m\u001b[m*\r\n",
      "-rwxr-xr-x  1 hoangnguyen  staff   6406 30 Apr 20:38 \u001b[31m792088PCZ-1.jpg\u001b[m\u001b[m*\r\n",
      "-rwxr-xr-x  1 hoangnguyen  staff   5316 30 Apr 20:38 \u001b[31m792092D-1.jpg\u001b[m\u001b[m*\r\n",
      "-rwxr-xr-x  1 hoangnguyen  staff   8421 30 Apr 20:38 \u001b[31m792095PCZ-1.jpg\u001b[m\u001b[m*\r\n",
      "-rwxr-xr-x  1 hoangnguyen  staff   6185 30 Apr 20:38 \u001b[31m792096CZ-1.jpg\u001b[m\u001b[m*\r\n",
      "-rwxr-xr-x  1 hoangnguyen  staff  10016 30 Apr 20:38 \u001b[31m792098CZ-1.jpg\u001b[m\u001b[m*\r\n",
      "-rwxr-xr-x  1 hoangnguyen  staff   7165 30 Apr 20:38 \u001b[31m792099CZ-1.jpg\u001b[m\u001b[m*\r\n",
      "-rwxr-xr-x  1 hoangnguyen  staff   6417 30 Apr 20:38 \u001b[31m792100CZ-1.jpg\u001b[m\u001b[m*\r\n",
      "-rwxr-xr-x  1 hoangnguyen  staff   5550 30 Apr 20:38 \u001b[31m792101CZ-1.jpg\u001b[m\u001b[m*\r\n",
      "-rwxr-xr-x  1 hoangnguyen  staff   9959 30 Apr 20:38 \u001b[31m792102CZ-1.jpg\u001b[m\u001b[m*\r\n",
      "-rwxr-xr-x  1 hoangnguyen  staff   7165 30 Apr 20:38 \u001b[31m792104CZ-1.jpg\u001b[m\u001b[m*\r\n",
      "-rwxr-xr-x  1 hoangnguyen  staff   8989 30 Apr 20:38 \u001b[31m792105WCP-1.jpg\u001b[m\u001b[m*\r\n",
      "-rwxr-xr-x  1 hoangnguyen  staff   7776 30 Apr 20:38 \u001b[31m792106EN23-1.jpg\u001b[m\u001b[m*\r\n",
      "-rwxr-xr-x  1 hoangnguyen  staff  10156 30 Apr 20:38 \u001b[31m792108CZ-1.jpg\u001b[m\u001b[m*\r\n",
      "-rwxr-xr-x  1 hoangnguyen  staff   9786 30 Apr 20:38 \u001b[31m792109CZ-1.jpg\u001b[m\u001b[m*\r\n",
      "-rwxr-xr-x  1 hoangnguyen  staff   6830 30 Apr 20:38 \u001b[31m792110-1.jpg\u001b[m\u001b[m*\r\n",
      "-rwxr-xr-x  1 hoangnguyen  staff   7400 30 Apr 20:38 \u001b[31m792111CZ-1.jpg\u001b[m\u001b[m*\r\n",
      "-rwxr-xr-x  1 hoangnguyen  staff   6252 30 Apr 20:38 \u001b[31m792134EN117-1.jpg\u001b[m\u001b[m*\r\n",
      "-rwxr-xr-x  1 hoangnguyen  staff   7915 30 Apr 20:38 \u001b[31m792136-1.jpg\u001b[m\u001b[m*\r\n",
      "-rwxr-xr-x  1 hoangnguyen  staff   8582 30 Apr 20:38 \u001b[31m792137-1.jpg\u001b[m\u001b[m*\r\n",
      "-rwxr-xr-x  1 hoangnguyen  staff   6173 30 Apr 20:38 \u001b[31m792138EN93-1.jpg\u001b[m\u001b[m*\r\n",
      "-rwxr-xr-x  1 hoangnguyen  staff  11010 30 Apr 20:38 \u001b[31m792142CZ-1.jpg\u001b[m\u001b[m*\r\n",
      "-rwxr-xr-x  1 hoangnguyen  staff   9880 30 Apr 20:38 \u001b[31m792143CZ-1.jpg\u001b[m\u001b[m*\r\n",
      "-rwxr-xr-x  1 hoangnguyen  staff   6002 30 Apr 20:38 \u001b[31m792144CZ-1.jpg\u001b[m\u001b[m*\r\n",
      "-rwxr-xr-x  1 hoangnguyen  staff   5038 30 Apr 20:38 \u001b[31m796007SRU-1.jpg\u001b[m\u001b[m*\r\n",
      "-rwxr-xr-x  1 hoangnguyen  staff   3729 30 Apr 20:38 \u001b[31m796068P-1.jpg\u001b[m\u001b[m*\r\n",
      "-rwxr-xr-x  1 hoangnguyen  staff   6119 30 Apr 20:38 \u001b[31m796070-1.jpg\u001b[m\u001b[m*\r\n",
      "-rwxr-xr-x  1 hoangnguyen  staff   8496 30 Apr 20:38 \u001b[31m796073CZ-1.jpg\u001b[m\u001b[m*\r\n",
      "-rwxr-xr-x  1 hoangnguyen  staff   5156 30 Apr 20:38 \u001b[31m796087EN141-1.jpg\u001b[m\u001b[m*\r\n",
      "-rwxr-xr-x  1 hoangnguyen  staff   3983 30 Apr 20:38 \u001b[31m796089-1.jpg\u001b[m\u001b[m*\r\n"
     ]
    }
   ],
   "source": [
    "%ll ./data/pandora"
   ]
  },
  {
   "cell_type": "code",
   "execution_count": 4,
   "metadata": {
    "collapsed": false,
    "deletable": true,
    "editable": true
   },
   "outputs": [],
   "source": [
    "parser = {\n",
    "    'data_path': './data/pandora/',\n",
    "    'epochs': 50,\n",
    "    'batch_size': 64,\n",
    "    'lr': 0.0002,\n",
    "    'image_size': 340,\n",
    "    'scale_size': 64,\n",
    "    'z_dim': 100,\n",
    "    'G_features': 64,\n",
    "    'D_features': 64,\n",
    "    'image_channels': 3,\n",
    "    'beta1': 0.5,\n",
    "    'cuda': False,\n",
    "    'seed': 7,\n",
    "    'workers': 2,\n",
    "    'results': './results_pandora/'\n",
    "}\n",
    "args = argparse.Namespace(**parser)\n",
    "\n",
    "args.cuda = args.cuda and torch.cuda.is_available()\n",
    "\n",
    "if not os.path.isdir(args.data_path):\n",
    "    os.makedirs(args.data_path)\n",
    "if not os.path.isdir(args.results):\n",
    "    os.makedirs(args.results)\n",
    "    \n",
    "torch.manual_seed(args.seed)\n",
    "if args.cuda:\n",
    "    torch.cuda.manual_seed(args.seed)"
   ]
  },
  {
   "cell_type": "markdown",
   "metadata": {
    "deletable": true,
    "editable": true
   },
   "source": [
    "## Prepare Data"
   ]
  },
  {
   "cell_type": "markdown",
   "metadata": {
    "deletable": true,
    "editable": true
   },
   "source": [
    "**Note: all iamges have size 136x102**"
   ]
  },
  {
   "cell_type": "code",
   "execution_count": 5,
   "metadata": {
    "collapsed": true,
    "deletable": true,
    "editable": true
   },
   "outputs": [],
   "source": [
    "from folder import ImageFolder"
   ]
  },
  {
   "cell_type": "code",
   "execution_count": 6,
   "metadata": {
    "collapsed": false,
    "deletable": true,
    "editable": true
   },
   "outputs": [],
   "source": [
    "from torchvision.transforms import ToPILImage\n",
    "to_image = ToPILImage()"
   ]
  },
  {
   "cell_type": "code",
   "execution_count": 7,
   "metadata": {
    "collapsed": true,
    "deletable": true,
    "editable": true
   },
   "outputs": [],
   "source": [
    "def get_loader(image_root, batch_size, scale_size, num_workers=2, shuffle=True):\n",
    "    #image_root = os.path.join(root, 'splits', split)\n",
    "    dataset = ImageFolder(root=image_root, transform=transforms.Compose([\n",
    "            transforms.Scale(scale_size),\n",
    "            transforms.ToTensor(),\n",
    "            #transforms.Normalize((0.5, 0.5, 0.5), (0.5, 0.5, 0.5)),\n",
    "    ]))\n",
    "\n",
    "    data_loader = torch.utils.data.DataLoader(\n",
    "        dataset, batch_size=batch_size, shuffle=shuffle, num_workers=int(num_workers))\n",
    "    #data_loader.shape = [int(num) for num in dataset[0][0].size()]\n",
    "\n",
    "    return data_loader"
   ]
  },
  {
   "cell_type": "code",
   "execution_count": 8,
   "metadata": {
    "collapsed": false,
    "deletable": true,
    "editable": true
   },
   "outputs": [
    {
     "name": "stdout",
     "output_type": "stream",
     "text": [
      "Found 221 images in subfolders of: ./data/pandora/\n"
     ]
    }
   ],
   "source": [
    "dataloader = get_loader(args.data_path, args.batch_size, args.scale_size)"
   ]
  },
  {
   "cell_type": "markdown",
   "metadata": {
    "deletable": true,
    "editable": true
   },
   "source": [
    "### Test One Image"
   ]
  },
  {
   "cell_type": "code",
   "execution_count": 9,
   "metadata": {
    "collapsed": false,
    "deletable": true,
    "editable": true
   },
   "outputs": [
    {
     "name": "stdout",
     "output_type": "stream",
     "text": [
      "\n",
      "(0 ,.,.) = \n",
      "  1.0000  1.0000  1.0000  ...   1.0000  1.0000  1.0000\n",
      "  1.0000  1.0000  1.0000  ...   1.0000  1.0000  1.0000\n",
      "  1.0000  1.0000  1.0000  ...   1.0000  1.0000  1.0000\n",
      "           ...             ⋱             ...          \n",
      "  1.0000  1.0000  1.0000  ...   1.0000  1.0000  1.0000\n",
      "  1.0000  1.0000  1.0000  ...   1.0000  1.0000  1.0000\n",
      "  1.0000  1.0000  1.0000  ...   1.0000  1.0000  1.0000\n",
      "\n",
      "(1 ,.,.) = \n",
      "  1.0000  1.0000  1.0000  ...   1.0000  1.0000  1.0000\n",
      "  1.0000  1.0000  1.0000  ...   1.0000  1.0000  1.0000\n",
      "  1.0000  1.0000  1.0000  ...   1.0000  1.0000  1.0000\n",
      "           ...             ⋱             ...          \n",
      "  1.0000  1.0000  1.0000  ...   1.0000  1.0000  1.0000\n",
      "  1.0000  1.0000  1.0000  ...   1.0000  1.0000  1.0000\n",
      "  1.0000  1.0000  1.0000  ...   1.0000  1.0000  1.0000\n",
      "\n",
      "(2 ,.,.) = \n",
      "  1.0000  1.0000  1.0000  ...   1.0000  1.0000  1.0000\n",
      "  1.0000  1.0000  1.0000  ...   1.0000  1.0000  1.0000\n",
      "  1.0000  1.0000  1.0000  ...   1.0000  1.0000  1.0000\n",
      "           ...             ⋱             ...          \n",
      "  1.0000  1.0000  1.0000  ...   1.0000  1.0000  1.0000\n",
      "  1.0000  1.0000  1.0000  ...   1.0000  1.0000  1.0000\n",
      "  1.0000  1.0000  1.0000  ...   1.0000  1.0000  1.0000\n",
      "[torch.FloatTensor of size 3x64x64]\n",
      "\n"
     ]
    }
   ],
   "source": [
    "test_image = 0\n",
    "for data, _ in dataloader:\n",
    "    print(data[0])\n",
    "    test_image = data[0]\n",
    "    break"
   ]
  },
  {
   "cell_type": "code",
   "execution_count": 10,
   "metadata": {
    "collapsed": false,
    "deletable": true,
    "editable": true
   },
   "outputs": [
    {
     "data": {
      "image/png": "[encoded data removed]",
      "text/plain": [
       "<PIL.Image.Image image mode=RGB size=64x64 at 0x10AC59D30>"
      ]
     },
     "execution_count": 10,
     "metadata": {},
     "output_type": "execute_result"
    }
   ],
   "source": [
    "to_image(test_image)"
   ]
  },
  {
   "cell_type": "markdown",
   "metadata": {
    "deletable": true,
    "editable": true
   },
   "source": [
    "## Define Model"
   ]
  },
  {
   "cell_type": "markdown",
   "metadata": {
    "deletable": true,
    "editable": true
   },
   "source": [
    "### Define G"
   ]
  },
  {
   "cell_type": "code",
   "execution_count": 11,
   "metadata": {
    "collapsed": false,
    "deletable": true,
    "editable": true
   },
   "outputs": [],
   "source": [
    "class _netG(nn.Module):\n",
    "    def __init__(self):\n",
    "        super(_netG, self).__init__()\n",
    "        self.main = nn.Sequential(\n",
    "            # input is Z, going into a convolution\n",
    "            nn.ConvTranspose2d(args.z_dim, args.G_features * 8,\n",
    "                               4, 1, 0, bias=False),\n",
    "            nn.BatchNorm2d(args.G_features * 8),\n",
    "            nn.ReLU(True),\n",
    "            nn.ConvTranspose2d(args.G_features * 8, args.G_features * 4,\n",
    "                               4, 2, 1, bias=False),\n",
    "            nn.BatchNorm2d(args.G_features * 4),\n",
    "            nn.ReLU(True),\n",
    "            # state size. (ngf*8) x 4 x 4\n",
    "            nn.ConvTranspose2d(args.G_features * 4, args.G_features * 2,\n",
    "                               4, 2, 1, bias=False),\n",
    "            nn.BatchNorm2d(args.G_features * 2),\n",
    "            nn.ReLU(True),\n",
    "            # state size. (ngf*4) x 8 x 8\n",
    "            nn.ConvTranspose2d(args.G_features * 2, args.G_features,\n",
    "                               4, 2, 1, bias=False),\n",
    "            nn.BatchNorm2d(args.G_features),\n",
    "            nn.ReLU(True),\n",
    "            # state size. (ngf) x 16 x 16\n",
    "            nn.ConvTranspose2d(args.G_features, args.image_channels,\n",
    "                               4, 2, 1, bias=False),\n",
    "            nn.Tanh()\n",
    "            # state size. (nc) x 32 x 32\n",
    "        )\n",
    "        self._initialize_weights()\n",
    "        \n",
    "    # custom weight initialization\n",
    "    def _initialize_weights(self):\n",
    "        for m in self.modules():\n",
    "            if isinstance(m, nn.ConvTranspose2d):\n",
    "                n = m.kernel_size[0] * m.kernel_size[1] * m.out_channels\n",
    "                init.normal(m.weight, mean=0, std=0.02)\n",
    "            elif isinstance(m, nn.BatchNorm2d):\n",
    "                init.normal(m.weight, mean=1, std=0.02)\n",
    "                init.constant(m.bias, 0)\n",
    "\n",
    "    def forward(self, x):\n",
    "        return self.main(x)"
   ]
  },
  {
   "cell_type": "markdown",
   "metadata": {
    "deletable": true,
    "editable": true
   },
   "source": [
    "### Define D"
   ]
  },
  {
   "cell_type": "code",
   "execution_count": 12,
   "metadata": {
    "collapsed": true,
    "deletable": true,
    "editable": true
   },
   "outputs": [],
   "source": [
    "class _netD(nn.Module):\n",
    "    def __init__(self):\n",
    "        super(_netD, self).__init__()\n",
    "        self.main = nn.Sequential(\n",
    "            # input is (nc) x 32 x 32\n",
    "            nn.Conv2d(args.image_channels, args.D_features,\n",
    "                      4, 2, 1, bias=False),\n",
    "            nn.LeakyReLU(0.2, inplace=True),\n",
    "            # state size. (ndf) x 16 x 16\n",
    "            nn.Conv2d(args.D_features, args.D_features * 2,\n",
    "                      4, 2, 1, bias=False),\n",
    "            nn.BatchNorm2d(args.D_features * 2),\n",
    "            nn.LeakyReLU(0.2, inplace=True),\n",
    "            # state size. (ndf*2) x 8 x 8\n",
    "            nn.Conv2d(args.D_features * 2, args.D_features * 4,\n",
    "                      4, 2, 1, bias=False),\n",
    "            nn.BatchNorm2d(args.D_features * 4),\n",
    "            nn.LeakyReLU(0.2, inplace=True),\n",
    "            nn.Conv2d(args.D_features * 4, args.D_features * 8,\n",
    "                      4, 2, 1, bias=False),\n",
    "            nn.BatchNorm2d(args.D_features * 8),\n",
    "            nn.LeakyReLU(0.2, inplace=True),\n",
    "            # state size. (ndf*4) x 4 x 4\n",
    "            nn.Conv2d(args.D_features * 8, 1, 4, 1, 0, bias=False),\n",
    "            nn.Sigmoid()\n",
    "        )\n",
    "        self._initialize_weights()\n",
    "        \n",
    "    # custom weight initialization\n",
    "    def _initialize_weights(self):\n",
    "        for m in self.modules():\n",
    "            if isinstance(m, nn.Conv2d):\n",
    "                n = m.kernel_size[0] * m.kernel_size[1] * m.out_channels\n",
    "                init.normal(m.weight, mean=0, std=0.02)\n",
    "            elif isinstance(m, nn.BatchNorm2d):\n",
    "                init.normal(m.weight, mean=1, std=0.02)\n",
    "                init.constant(m.bias, 0)\n",
    "\n",
    "    def forward(self, input):\n",
    "        output = self.main(input)\n",
    "        return output.view(-1, 1)"
   ]
  },
  {
   "cell_type": "markdown",
   "metadata": {
    "deletable": true,
    "editable": true
   },
   "source": [
    "## Define Train and Generate"
   ]
  },
  {
   "cell_type": "code",
   "execution_count": 13,
   "metadata": {
    "collapsed": true,
    "deletable": true,
    "editable": true
   },
   "outputs": [],
   "source": [
    "def train(args, data_loader, netG, netD, G_optimizer, D_optimizer,\n",
    "          criterion, epoch):\n",
    "    D_losses = AverageValueMeter()\n",
    "    G_losses = AverageValueMeter()\n",
    "    D_reals = AverageValueMeter()\n",
    "    D_fakes = AverageValueMeter()\n",
    "    G_reals = AverageValueMeter()\n",
    "    \n",
    "    start = time.time()\n",
    "    # call Variable after .cuda()\n",
    "    for i, (real, _) in enumerate(data_loader):\n",
    "        batch_size = real.size(0)\n",
    "        real_label = torch.ones(batch_size)\n",
    "        fake_label = torch.zeros(batch_size)\n",
    "        z = torch.randn(batch_size, args.z_dim, 1, 1)\n",
    "        if args.cuda:\n",
    "            real_label = real_label.cuda()\n",
    "            fake_label = fake_label.cuda()\n",
    "            real = real.cuda()\n",
    "            z = z.cuda()\n",
    "        real_label = Variable(real_label)\n",
    "        fake_label = Variable(fake_label)\n",
    "        real = Variable(real)\n",
    "        z = Variable(z)\n",
    "        \n",
    "        real_output = netD(real)\n",
    "        D_real_loss = criterion(real_output, real_label)\n",
    "        D_real = real_output.data.mean()\n",
    "        \n",
    "        fake = netG(z)\n",
    "        fake_output = netD(fake.detach())\n",
    "        D_fake_loss = criterion(fake_output, fake_label)\n",
    "        D_fake = fake_output.data.mean()\n",
    "        \n",
    "        D_loss = D_real_loss + D_fake_loss\n",
    "        netD.zero_grad()\n",
    "        D_loss.backward()\n",
    "        D_optimizer.step()\n",
    "        \n",
    "        output = netD(fake)\n",
    "        G_loss = criterion(output, real_label)\n",
    "        G_real = output.data.mean()\n",
    "        netG.zero_grad()\n",
    "        G_loss.backward()\n",
    "        G_optimizer.step()\n",
    "        \n",
    "        D_losses.add(D_loss.data.cpu()[0] * batch_size, batch_size)\n",
    "        G_losses.add(G_loss.data.cpu()[0] * batch_size, batch_size)\n",
    "        D_reals.add(D_real * batch_size, batch_size)\n",
    "        D_fakes.add(D_fake * batch_size, batch_size)\n",
    "        G_reals.add(G_real * batch_size, batch_size)\n",
    "        \n",
    "    print(\"=> EPOCH {} | Time: {}s | D_loss: {:.4f} | G_loss: {:.4f}\"\n",
    "          \" | D_real: {:.4f} | D_fake: {:.4f} | G_real: {:.4f}\"\n",
    "          .format(epoch, round(time.time()-start), D_losses.value()[0],\n",
    "                  G_losses.value()[0], D_reals.value()[0],\n",
    "                  D_fakes.value()[0], G_reals.value()[0]))"
   ]
  },
  {
   "cell_type": "code",
   "execution_count": 14,
   "metadata": {
    "collapsed": true,
    "deletable": true,
    "editable": true
   },
   "outputs": [],
   "source": [
    "def generate(args, netG, epoch):\n",
    "    z = torch.randn(args.batch_size, args.z_dim, 1, 1)\n",
    "    if args.cuda:\n",
    "        z = z.cuda()\n",
    "    fake = netG(Variable(z, volatile=True))\n",
    "    save_image(fake.data.cpu(), os.path.join(args.results,\n",
    "        \"fake_sample_epoch_{:02d}.png\".format(epoch)), normalize=True)"
   ]
  },
  {
   "cell_type": "markdown",
   "metadata": {
    "deletable": true,
    "editable": true
   },
   "source": [
    "## Create Model, Define Loss and Optimizer"
   ]
  },
  {
   "cell_type": "code",
   "execution_count": 15,
   "metadata": {
    "collapsed": true,
    "deletable": true,
    "editable": true
   },
   "outputs": [],
   "source": [
    "netG = _netG()\n",
    "netD = _netD()\n",
    "criterion = nn.BCELoss()\n",
    "if args.cuda:\n",
    "    netD.cuda()\n",
    "    netG.cuda()\n",
    "    criterion.cuda()"
   ]
  },
  {
   "cell_type": "code",
   "execution_count": 16,
   "metadata": {
    "collapsed": true,
    "deletable": true,
    "editable": true
   },
   "outputs": [],
   "source": [
    "D_optimizer = optim.Adam(netD.parameters(), lr=args.lr,\n",
    "                         betas=(args.beta1, 0.999))\n",
    "G_optimizer = optim.Adam(netG.parameters(), lr=args.lr,\n",
    "                         betas=(args.beta1, 0.999))"
   ]
  },
  {
   "cell_type": "markdown",
   "metadata": {
    "deletable": true,
    "editable": true
   },
   "source": [
    "## Run Train"
   ]
  },
  {
   "cell_type": "code",
   "execution_count": 17,
   "metadata": {
    "collapsed": false,
    "deletable": true,
    "editable": true,
    "scrolled": true
   },
   "outputs": [
    {
     "name": "stdout",
     "output_type": "stream",
     "text": [
      "=> EPOCH 1 | Time: 17s | D_loss: 1.0301 | G_loss: 5.3933 | D_real: 0.8397 | D_fake: 0.4466 | G_real: 0.0145\n",
      "=> EPOCH 2 | Time: 18s | D_loss: 0.1418 | G_loss: 6.5549 | D_real: 1.0000 | D_fake: 0.1221 | G_real: 0.0026\n",
      "=> EPOCH 3 | Time: 19s | D_loss: 0.0728 | G_loss: 7.3963 | D_real: 0.9999 | D_fake: 0.0670 | G_real: 0.0009\n",
      "=> EPOCH 4 | Time: 19s | D_loss: 0.0520 | G_loss: 8.0240 | D_real: 0.9987 | D_fake: 0.0460 | G_real: 0.0006\n",
      "=> EPOCH 5 | Time: 26s | D_loss: 0.0321 | G_loss: 8.2157 | D_real: 0.9965 | D_fake: 0.0275 | G_real: 0.0004\n",
      "=> EPOCH 6 | Time: 24s | D_loss: 0.0229 | G_loss: 8.0567 | D_real: 0.9971 | D_fake: 0.0195 | G_real: 0.0005\n",
      "=> EPOCH 7 | Time: 22s | D_loss: 0.0227 | G_loss: 8.6091 | D_real: 0.9975 | D_fake: 0.0198 | G_real: 0.0003\n",
      "=> EPOCH 8 | Time: 22s | D_loss: 0.0278 | G_loss: 9.8786 | D_real: 0.9957 | D_fake: 0.0226 | G_real: 0.0001\n",
      "=> EPOCH 9 | Time: 23s | D_loss: 0.0182 | G_loss: 9.4021 | D_real: 0.9982 | D_fake: 0.0160 | G_real: 0.0002\n",
      "=> EPOCH 10 | Time: 25s | D_loss: 0.0168 | G_loss: 9.1660 | D_real: 0.9980 | D_fake: 0.0147 | G_real: 0.0001\n",
      "=> EPOCH 11 | Time: 22s | D_loss: 0.0128 | G_loss: 9.0052 | D_real: 0.9976 | D_fake: 0.0103 | G_real: 0.0002\n",
      "=> EPOCH 12 | Time: 20s | D_loss: 0.0134 | G_loss: 9.4168 | D_real: 0.9981 | D_fake: 0.0114 | G_real: 0.0001\n",
      "=> EPOCH 13 | Time: 20s | D_loss: 0.0107 | G_loss: 9.3820 | D_real: 0.9982 | D_fake: 0.0088 | G_real: 0.0001\n"
     ]
    },
    {
     "name": "stderr",
     "output_type": "stream",
     "text": [
      "Process Process-30:\n",
      "Process Process-29:\n",
      "Traceback (most recent call last):\n",
      "Traceback (most recent call last):\n",
      "  File \"/Users/hoangnguyen/miniconda3/envs/pydata/lib/python3.5/multiprocessing/process.py\", line 249, in _bootstrap\n",
      "    self.run()\n",
      "  File \"/Users/hoangnguyen/miniconda3/envs/pydata/lib/python3.5/multiprocessing/process.py\", line 249, in _bootstrap\n",
      "    self.run()\n",
      "  File \"/Users/hoangnguyen/miniconda3/envs/pydata/lib/python3.5/multiprocessing/process.py\", line 93, in run\n",
      "    self._target(*self._args, **self._kwargs)\n",
      "  File \"/Users/hoangnguyen/miniconda3/envs/pydata/lib/python3.5/multiprocessing/process.py\", line 93, in run\n",
      "    self._target(*self._args, **self._kwargs)\n",
      "  File \"/Users/hoangnguyen/miniconda3/envs/pydata/lib/python3.5/site-packages/torch/utils/data/dataloader.py\", line 28, in _worker_loop\n",
      "    r = index_queue.get()\n",
      "  File \"/Users/hoangnguyen/miniconda3/envs/pydata/lib/python3.5/site-packages/torch/utils/data/dataloader.py\", line 28, in _worker_loop\n",
      "    r = index_queue.get()\n",
      "  File \"/Users/hoangnguyen/miniconda3/envs/pydata/lib/python3.5/multiprocessing/queues.py\", line 342, in get\n",
      "    with self._rlock:\n",
      "  File \"/Users/hoangnguyen/miniconda3/envs/pydata/lib/python3.5/multiprocessing/queues.py\", line 343, in get\n",
      "    res = self._reader.recv_bytes()\n",
      "  File \"/Users/hoangnguyen/miniconda3/envs/pydata/lib/python3.5/multiprocessing/synchronize.py\", line 96, in __enter__\n",
      "    return self._semlock.__enter__()\n",
      "  File \"/Users/hoangnguyen/miniconda3/envs/pydata/lib/python3.5/multiprocessing/connection.py\", line 216, in recv_bytes\n",
      "    buf = self._recv_bytes(maxlength)\n",
      "KeyboardInterrupt\n",
      "  File \"/Users/hoangnguyen/miniconda3/envs/pydata/lib/python3.5/multiprocessing/connection.py\", line 407, in _recv_bytes\n",
      "    buf = self._recv(4)\n",
      "  File \"/Users/hoangnguyen/miniconda3/envs/pydata/lib/python3.5/multiprocessing/connection.py\", line 379, in _recv\n",
      "    chunk = read(handle, remaining)\n",
      "KeyboardInterrupt\n"
     ]
    },
    {
     "ename": "KeyboardInterrupt",
     "evalue": "",
     "output_type": "error",
     "traceback": [
      "\u001b[0;31m---------------------------------------------------------------------------\u001b[0m",
      "\u001b[0;31mKeyboardInterrupt\u001b[0m                         Traceback (most recent call last)",
      "\u001b[0;32m<ipython-input-17-28de20aa8390>\u001b[0m in \u001b[0;36m<module>\u001b[0;34m()\u001b[0m\n\u001b[1;32m      1\u001b[0m \u001b[0;32mfor\u001b[0m \u001b[0mepoch\u001b[0m \u001b[0;32min\u001b[0m \u001b[0mrange\u001b[0m\u001b[0;34m(\u001b[0m\u001b[0;36m1\u001b[0m\u001b[0;34m,\u001b[0m \u001b[0margs\u001b[0m\u001b[0;34m.\u001b[0m\u001b[0mepochs\u001b[0m\u001b[0;34m+\u001b[0m\u001b[0;36m1\u001b[0m\u001b[0;34m)\u001b[0m\u001b[0;34m:\u001b[0m\u001b[0;34m\u001b[0m\u001b[0m\n\u001b[1;32m      2\u001b[0m     train(args, dataloader, netG, netD, G_optimizer, D_optimizer,\n\u001b[0;32m----> 3\u001b[0;31m           criterion, epoch)\n\u001b[0m\u001b[1;32m      4\u001b[0m     \u001b[0mgenerate\u001b[0m\u001b[0;34m(\u001b[0m\u001b[0margs\u001b[0m\u001b[0;34m,\u001b[0m \u001b[0mnetG\u001b[0m\u001b[0;34m,\u001b[0m \u001b[0mepoch\u001b[0m\u001b[0;34m)\u001b[0m\u001b[0;34m\u001b[0m\u001b[0m\n",
      "\u001b[0;32m<ipython-input-13-fd256939ead5>\u001b[0m in \u001b[0;36mtrain\u001b[0;34m(args, data_loader, netG, netD, G_optimizer, D_optimizer, criterion, epoch)\u001b[0m\n\u001b[1;32m     24\u001b[0m         \u001b[0mz\u001b[0m \u001b[0;34m=\u001b[0m \u001b[0mVariable\u001b[0m\u001b[0;34m(\u001b[0m\u001b[0mz\u001b[0m\u001b[0;34m)\u001b[0m\u001b[0;34m\u001b[0m\u001b[0m\n\u001b[1;32m     25\u001b[0m \u001b[0;34m\u001b[0m\u001b[0m\n\u001b[0;32m---> 26\u001b[0;31m         \u001b[0mreal_output\u001b[0m \u001b[0;34m=\u001b[0m \u001b[0mnetD\u001b[0m\u001b[0;34m(\u001b[0m\u001b[0mreal\u001b[0m\u001b[0;34m)\u001b[0m\u001b[0;34m\u001b[0m\u001b[0m\n\u001b[0m\u001b[1;32m     27\u001b[0m         \u001b[0mD_real_loss\u001b[0m \u001b[0;34m=\u001b[0m \u001b[0mcriterion\u001b[0m\u001b[0;34m(\u001b[0m\u001b[0mreal_output\u001b[0m\u001b[0;34m,\u001b[0m \u001b[0mreal_label\u001b[0m\u001b[0;34m)\u001b[0m\u001b[0;34m\u001b[0m\u001b[0m\n\u001b[1;32m     28\u001b[0m         \u001b[0mD_real\u001b[0m \u001b[0;34m=\u001b[0m \u001b[0mreal_output\u001b[0m\u001b[0;34m.\u001b[0m\u001b[0mdata\u001b[0m\u001b[0;34m.\u001b[0m\u001b[0mmean\u001b[0m\u001b[0;34m(\u001b[0m\u001b[0;34m)\u001b[0m\u001b[0;34m\u001b[0m\u001b[0m\n",
      "\u001b[0;32m/Users/hoangnguyen/miniconda3/envs/pydata/lib/python3.5/site-packages/torch/nn/modules/module.py\u001b[0m in \u001b[0;36m__call__\u001b[0;34m(self, *input, **kwargs)\u001b[0m\n\u001b[1;32m    204\u001b[0m \u001b[0;34m\u001b[0m\u001b[0m\n\u001b[1;32m    205\u001b[0m     \u001b[0;32mdef\u001b[0m \u001b[0m__call__\u001b[0m\u001b[0;34m(\u001b[0m\u001b[0mself\u001b[0m\u001b[0;34m,\u001b[0m \u001b[0;34m*\u001b[0m\u001b[0minput\u001b[0m\u001b[0;34m,\u001b[0m \u001b[0;34m**\u001b[0m\u001b[0mkwargs\u001b[0m\u001b[0;34m)\u001b[0m\u001b[0;34m:\u001b[0m\u001b[0;34m\u001b[0m\u001b[0m\n\u001b[0;32m--> 206\u001b[0;31m         \u001b[0mresult\u001b[0m \u001b[0;34m=\u001b[0m \u001b[0mself\u001b[0m\u001b[0;34m.\u001b[0m\u001b[0mforward\u001b[0m\u001b[0;34m(\u001b[0m\u001b[0;34m*\u001b[0m\u001b[0minput\u001b[0m\u001b[0;34m,\u001b[0m \u001b[0;34m**\u001b[0m\u001b[0mkwargs\u001b[0m\u001b[0;34m)\u001b[0m\u001b[0;34m\u001b[0m\u001b[0m\n\u001b[0m\u001b[1;32m    207\u001b[0m         \u001b[0;32mfor\u001b[0m \u001b[0mhook\u001b[0m \u001b[0;32min\u001b[0m \u001b[0mself\u001b[0m\u001b[0;34m.\u001b[0m\u001b[0m_forward_hooks\u001b[0m\u001b[0;34m.\u001b[0m\u001b[0mvalues\u001b[0m\u001b[0;34m(\u001b[0m\u001b[0;34m)\u001b[0m\u001b[0;34m:\u001b[0m\u001b[0;34m\u001b[0m\u001b[0m\n\u001b[1;32m    208\u001b[0m             \u001b[0mhook_result\u001b[0m \u001b[0;34m=\u001b[0m \u001b[0mhook\u001b[0m\u001b[0;34m(\u001b[0m\u001b[0mself\u001b[0m\u001b[0;34m,\u001b[0m \u001b[0minput\u001b[0m\u001b[0;34m,\u001b[0m \u001b[0mresult\u001b[0m\u001b[0;34m)\u001b[0m\u001b[0;34m\u001b[0m\u001b[0m\n",
      "\u001b[0;32m<ipython-input-12-57601d9e0cba>\u001b[0m in \u001b[0;36mforward\u001b[0;34m(self, input)\u001b[0m\n\u001b[1;32m     38\u001b[0m \u001b[0;34m\u001b[0m\u001b[0m\n\u001b[1;32m     39\u001b[0m     \u001b[0;32mdef\u001b[0m \u001b[0mforward\u001b[0m\u001b[0;34m(\u001b[0m\u001b[0mself\u001b[0m\u001b[0;34m,\u001b[0m \u001b[0minput\u001b[0m\u001b[0;34m)\u001b[0m\u001b[0;34m:\u001b[0m\u001b[0;34m\u001b[0m\u001b[0m\n\u001b[0;32m---> 40\u001b[0;31m         \u001b[0moutput\u001b[0m \u001b[0;34m=\u001b[0m \u001b[0mself\u001b[0m\u001b[0;34m.\u001b[0m\u001b[0mmain\u001b[0m\u001b[0;34m(\u001b[0m\u001b[0minput\u001b[0m\u001b[0;34m)\u001b[0m\u001b[0;34m\u001b[0m\u001b[0m\n\u001b[0m\u001b[1;32m     41\u001b[0m         \u001b[0;32mreturn\u001b[0m \u001b[0moutput\u001b[0m\u001b[0;34m.\u001b[0m\u001b[0mview\u001b[0m\u001b[0;34m(\u001b[0m\u001b[0;34m-\u001b[0m\u001b[0;36m1\u001b[0m\u001b[0;34m,\u001b[0m \u001b[0;36m1\u001b[0m\u001b[0;34m)\u001b[0m\u001b[0;34m\u001b[0m\u001b[0m\n",
      "\u001b[0;32m/Users/hoangnguyen/miniconda3/envs/pydata/lib/python3.5/site-packages/torch/nn/modules/module.py\u001b[0m in \u001b[0;36m__call__\u001b[0;34m(self, *input, **kwargs)\u001b[0m\n\u001b[1;32m    204\u001b[0m \u001b[0;34m\u001b[0m\u001b[0m\n\u001b[1;32m    205\u001b[0m     \u001b[0;32mdef\u001b[0m \u001b[0m__call__\u001b[0m\u001b[0;34m(\u001b[0m\u001b[0mself\u001b[0m\u001b[0;34m,\u001b[0m \u001b[0;34m*\u001b[0m\u001b[0minput\u001b[0m\u001b[0;34m,\u001b[0m \u001b[0;34m**\u001b[0m\u001b[0mkwargs\u001b[0m\u001b[0;34m)\u001b[0m\u001b[0;34m:\u001b[0m\u001b[0;34m\u001b[0m\u001b[0m\n\u001b[0;32m--> 206\u001b[0;31m         \u001b[0mresult\u001b[0m \u001b[0;34m=\u001b[0m \u001b[0mself\u001b[0m\u001b[0;34m.\u001b[0m\u001b[0mforward\u001b[0m\u001b[0;34m(\u001b[0m\u001b[0;34m*\u001b[0m\u001b[0minput\u001b[0m\u001b[0;34m,\u001b[0m \u001b[0;34m**\u001b[0m\u001b[0mkwargs\u001b[0m\u001b[0;34m)\u001b[0m\u001b[0;34m\u001b[0m\u001b[0m\n\u001b[0m\u001b[1;32m    207\u001b[0m         \u001b[0;32mfor\u001b[0m \u001b[0mhook\u001b[0m \u001b[0;32min\u001b[0m \u001b[0mself\u001b[0m\u001b[0;34m.\u001b[0m\u001b[0m_forward_hooks\u001b[0m\u001b[0;34m.\u001b[0m\u001b[0mvalues\u001b[0m\u001b[0;34m(\u001b[0m\u001b[0;34m)\u001b[0m\u001b[0;34m:\u001b[0m\u001b[0;34m\u001b[0m\u001b[0m\n\u001b[1;32m    208\u001b[0m             \u001b[0mhook_result\u001b[0m \u001b[0;34m=\u001b[0m \u001b[0mhook\u001b[0m\u001b[0;34m(\u001b[0m\u001b[0mself\u001b[0m\u001b[0;34m,\u001b[0m \u001b[0minput\u001b[0m\u001b[0;34m,\u001b[0m \u001b[0mresult\u001b[0m\u001b[0;34m)\u001b[0m\u001b[0;34m\u001b[0m\u001b[0m\n",
      "\u001b[0;32m/Users/hoangnguyen/miniconda3/envs/pydata/lib/python3.5/site-packages/torch/nn/modules/container.py\u001b[0m in \u001b[0;36mforward\u001b[0;34m(self, input)\u001b[0m\n\u001b[1;32m     62\u001b[0m     \u001b[0;32mdef\u001b[0m \u001b[0mforward\u001b[0m\u001b[0;34m(\u001b[0m\u001b[0mself\u001b[0m\u001b[0;34m,\u001b[0m \u001b[0minput\u001b[0m\u001b[0;34m)\u001b[0m\u001b[0;34m:\u001b[0m\u001b[0;34m\u001b[0m\u001b[0m\n\u001b[1;32m     63\u001b[0m         \u001b[0;32mfor\u001b[0m \u001b[0mmodule\u001b[0m \u001b[0;32min\u001b[0m \u001b[0mself\u001b[0m\u001b[0;34m.\u001b[0m\u001b[0m_modules\u001b[0m\u001b[0;34m.\u001b[0m\u001b[0mvalues\u001b[0m\u001b[0;34m(\u001b[0m\u001b[0;34m)\u001b[0m\u001b[0;34m:\u001b[0m\u001b[0;34m\u001b[0m\u001b[0m\n\u001b[0;32m---> 64\u001b[0;31m             \u001b[0minput\u001b[0m \u001b[0;34m=\u001b[0m \u001b[0mmodule\u001b[0m\u001b[0;34m(\u001b[0m\u001b[0minput\u001b[0m\u001b[0;34m)\u001b[0m\u001b[0;34m\u001b[0m\u001b[0m\n\u001b[0m\u001b[1;32m     65\u001b[0m         \u001b[0;32mreturn\u001b[0m \u001b[0minput\u001b[0m\u001b[0;34m\u001b[0m\u001b[0m\n\u001b[1;32m     66\u001b[0m \u001b[0;34m\u001b[0m\u001b[0m\n",
      "\u001b[0;32m/Users/hoangnguyen/miniconda3/envs/pydata/lib/python3.5/site-packages/torch/nn/modules/module.py\u001b[0m in \u001b[0;36m__call__\u001b[0;34m(self, *input, **kwargs)\u001b[0m\n\u001b[1;32m    204\u001b[0m \u001b[0;34m\u001b[0m\u001b[0m\n\u001b[1;32m    205\u001b[0m     \u001b[0;32mdef\u001b[0m \u001b[0m__call__\u001b[0m\u001b[0;34m(\u001b[0m\u001b[0mself\u001b[0m\u001b[0;34m,\u001b[0m \u001b[0;34m*\u001b[0m\u001b[0minput\u001b[0m\u001b[0;34m,\u001b[0m \u001b[0;34m**\u001b[0m\u001b[0mkwargs\u001b[0m\u001b[0;34m)\u001b[0m\u001b[0;34m:\u001b[0m\u001b[0;34m\u001b[0m\u001b[0m\n\u001b[0;32m--> 206\u001b[0;31m         \u001b[0mresult\u001b[0m \u001b[0;34m=\u001b[0m \u001b[0mself\u001b[0m\u001b[0;34m.\u001b[0m\u001b[0mforward\u001b[0m\u001b[0;34m(\u001b[0m\u001b[0;34m*\u001b[0m\u001b[0minput\u001b[0m\u001b[0;34m,\u001b[0m \u001b[0;34m**\u001b[0m\u001b[0mkwargs\u001b[0m\u001b[0;34m)\u001b[0m\u001b[0;34m\u001b[0m\u001b[0m\n\u001b[0m\u001b[1;32m    207\u001b[0m         \u001b[0;32mfor\u001b[0m \u001b[0mhook\u001b[0m \u001b[0;32min\u001b[0m \u001b[0mself\u001b[0m\u001b[0;34m.\u001b[0m\u001b[0m_forward_hooks\u001b[0m\u001b[0;34m.\u001b[0m\u001b[0mvalues\u001b[0m\u001b[0;34m(\u001b[0m\u001b[0;34m)\u001b[0m\u001b[0;34m:\u001b[0m\u001b[0;34m\u001b[0m\u001b[0m\n\u001b[1;32m    208\u001b[0m             \u001b[0mhook_result\u001b[0m \u001b[0;34m=\u001b[0m \u001b[0mhook\u001b[0m\u001b[0;34m(\u001b[0m\u001b[0mself\u001b[0m\u001b[0;34m,\u001b[0m \u001b[0minput\u001b[0m\u001b[0;34m,\u001b[0m \u001b[0mresult\u001b[0m\u001b[0;34m)\u001b[0m\u001b[0;34m\u001b[0m\u001b[0m\n",
      "\u001b[0;32m/Users/hoangnguyen/miniconda3/envs/pydata/lib/python3.5/site-packages/torch/nn/modules/conv.py\u001b[0m in \u001b[0;36mforward\u001b[0;34m(self, input)\u001b[0m\n\u001b[1;32m    235\u001b[0m     \u001b[0;32mdef\u001b[0m \u001b[0mforward\u001b[0m\u001b[0;34m(\u001b[0m\u001b[0mself\u001b[0m\u001b[0;34m,\u001b[0m \u001b[0minput\u001b[0m\u001b[0;34m)\u001b[0m\u001b[0;34m:\u001b[0m\u001b[0;34m\u001b[0m\u001b[0m\n\u001b[1;32m    236\u001b[0m         return F.conv2d(input, self.weight, self.bias, self.stride,\n\u001b[0;32m--> 237\u001b[0;31m                         self.padding, self.dilation, self.groups)\n\u001b[0m\u001b[1;32m    238\u001b[0m \u001b[0;34m\u001b[0m\u001b[0m\n\u001b[1;32m    239\u001b[0m \u001b[0;34m\u001b[0m\u001b[0m\n",
      "\u001b[0;32m/Users/hoangnguyen/miniconda3/envs/pydata/lib/python3.5/site-packages/torch/nn/functional.py\u001b[0m in \u001b[0;36mconv2d\u001b[0;34m(input, weight, bias, stride, padding, dilation, groups)\u001b[0m\n\u001b[1;32m     37\u001b[0m     f = ConvNd(_pair(stride), _pair(padding), _pair(dilation), False,\n\u001b[1;32m     38\u001b[0m                _pair(0), groups, torch.backends.cudnn.benchmark, torch.backends.cudnn.enabled)\n\u001b[0;32m---> 39\u001b[0;31m     \u001b[0;32mreturn\u001b[0m \u001b[0mf\u001b[0m\u001b[0;34m(\u001b[0m\u001b[0minput\u001b[0m\u001b[0;34m,\u001b[0m \u001b[0mweight\u001b[0m\u001b[0;34m,\u001b[0m \u001b[0mbias\u001b[0m\u001b[0;34m)\u001b[0m\u001b[0;34m\u001b[0m\u001b[0m\n\u001b[0m\u001b[1;32m     40\u001b[0m \u001b[0;34m\u001b[0m\u001b[0m\n\u001b[1;32m     41\u001b[0m \u001b[0;34m\u001b[0m\u001b[0m\n",
      "\u001b[0;31mKeyboardInterrupt\u001b[0m: "
     ]
    }
   ],
   "source": [
    "for epoch in range(1, args.epochs+1):\n",
    "    train(args, dataloader, netG, netD, G_optimizer, D_optimizer,\n",
    "          criterion, epoch)\n",
    "    generate(args, netG, epoch)"
   ]
  },
  {
   "cell_type": "markdown",
   "metadata": {
    "deletable": true,
    "editable": true
   },
   "source": [
    "## Get one REAL Image"
   ]
  },
  {
   "cell_type": "code",
   "execution_count": null,
   "metadata": {
    "collapsed": true,
    "deletable": true,
    "editable": true
   },
   "outputs": [],
   "source": [
    "sample, _ = iter(dataloader).next()\n",
    "save_image(sample, os.path.join(args.results, \"real_sample.png\"))"
   ]
  },
  {
   "cell_type": "code",
   "execution_count": null,
   "metadata": {
    "collapsed": true,
    "deletable": true,
    "editable": true
   },
   "outputs": [],
   "source": []
  }
 ],
 "metadata": {
  "kernelspec": {
   "display_name": "Python 3",
   "language": "python",
   "name": "python3"
  },
  "language_info": {
   "codemirror_mode": {
    "name": "ipython",
    "version": 3
   },
   "file_extension": ".py",
   "mimetype": "text/x-python",
   "name": "python",
   "nbconvert_exporter": "python",
   "pygments_lexer": "ipython3",
   "version": "3.5.2"
  },
  "toc": {
   "colors": {
    "hover_highlight": "#DAA520",
    "running_highlight": "#FF0000",
    "selected_highlight": "#FFD700"
   },
   "moveMenuLeft": true,
   "nav_menu": {
    "height": "228px",
    "width": "252px"
   },
   "navigate_menu": true,
   "number_sections": true,
   "sideBar": true,
   "threshold": 4,
   "toc_cell": false,
   "toc_section_display": "block",
   "toc_window_display": false
  }
 },
 "nbformat": 4,
 "nbformat_minor": 2
}
