{
 "cells": [
  {
   "cell_type": "markdown",
   "metadata": {},
   "source": [
    "This is the implementation of DCGAN with normalize input:\n",
    "- Number of epochs: 100\n",
    "- lr: 0.0002\n",
    "- input: normalize (0.5, 0.5, 0.5)\n",
    "- Add results dir for images and loss\n",
    "- Add weight_decay: 1e-4"
   ]
  },
  {
   "cell_type": "markdown",
   "metadata": {},
   "source": [
    "# Import"
   ]
  },
  {
   "cell_type": "code",
   "execution_count": 1,
   "metadata": {
    "collapsed": true
   },
   "outputs": [],
   "source": [
    "import argparse\n",
    "import os\n",
    "import time\n",
    "import pickle"
   ]
  },
  {
   "cell_type": "code",
   "execution_count": 2,
   "metadata": {
    "collapsed": true
   },
   "outputs": [],
   "source": [
    "import torch\n",
    "import torch.nn as nn\n",
    "import torch.nn.init as init\n",
    "from torch.autograd import Variable\n",
    "import torch.optim as optim\n",
    "from torch.utils.data import DataLoader\n",
    "import torchvision.datasets as datasets\n",
    "import torchvision.transforms as transforms\n",
    "from torchvision.utils import save_image\n",
    "from torchnet.meter import AverageValueMeter"
   ]
  },
  {
   "cell_type": "markdown",
   "metadata": {},
   "source": [
    "# Define Arguments"
   ]
  },
  {
   "cell_type": "code",
   "execution_count": 3,
   "metadata": {
    "collapsed": true
   },
   "outputs": [],
   "source": [
    "parser = {\n",
    "    'data_path': '../data/ut-zap50k/Shoes/Sneakers_and_athletic_shoes/',\n",
    "    'epochs': 100,\n",
    "    'batch_size': 64,\n",
    "    'lr': 0.0002,\n",
    "    'image_size': 136,\n",
    "    'scale_size': 64,\n",
    "    'z_dim': 100,\n",
    "    'G_features': 64,\n",
    "    'D_features': 64,\n",
    "    'image_channels': 3,\n",
    "    'beta1': 0.5,\n",
    "    'cuda': True,\n",
    "    'seed': 7,\n",
    "    'workers': 2,\n",
    "    'results': './resultsDCGAN2_0523/'    \n",
    "}\n",
    "args = argparse.Namespace(**parser)\n",
    "args.image_results = args.results + 'images/'\n",
    "args.loss_results = args.results + 'loss/'\n",
    "args.cuda = args.cuda and torch.cuda.is_available()\n",
    "\n",
    "if not os.path.isdir(args.data_path):\n",
    "    os.makedirs(args.data_path)\n",
    "if not os.path.isdir(args.results):\n",
    "    os.makedirs(args.results)\n",
    "if not os.path.isdir(args.image_results):\n",
    "    os.makedirs(args.image_results)\n",
    "if not os.path.isdir(args.loss_results):\n",
    "    os.makedirs(args.loss_results)\n",
    "    \n",
    "torch.manual_seed(args.seed)\n",
    "if args.cuda:\n",
    "    torch.cuda.manual_seed(args.seed)"
   ]
  },
  {
   "cell_type": "markdown",
   "metadata": {},
   "source": [
    "# Prepare Data"
   ]
  },
  {
   "cell_type": "markdown",
   "metadata": {},
   "source": [
    "**Note: all iamges have size 136x102**"
   ]
  },
  {
   "cell_type": "code",
   "execution_count": 7,
   "metadata": {
    "collapsed": true
   },
   "outputs": [],
   "source": [
    "from folder import ImageFolder"
   ]
  },
  {
   "cell_type": "code",
   "execution_count": 8,
   "metadata": {
    "collapsed": true
   },
   "outputs": [],
   "source": [
    "from torchvision.transforms import ToPILImage\n",
    "to_image = ToPILImage()"
   ]
  },
  {
   "cell_type": "code",
   "execution_count": 9,
   "metadata": {
    "collapsed": true
   },
   "outputs": [],
   "source": [
    "def get_loader(image_root, batch_size, scale_size, num_workers=2, shuffle=True):\n",
    "    #image_root = os.path.join(root, 'splits', split)\n",
    "    dataset = ImageFolder(root=image_root, transform=transforms.Compose([\n",
    "            transforms.Pad(34, fill=(255, 255, 255)), # padding images with (255,255,255) --> pad 255 in 3 channels\n",
    "            transforms.CenterCrop((136,136)),\n",
    "            transforms.Scale(scale_size),\n",
    "            transforms.ToTensor(),\n",
    "            transforms.Normalize((0.5, 0.5, 0.5), (0.5, 0.5, 0.5)),\n",
    "    ]))\n",
    "\n",
    "    data_loader = torch.utils.data.DataLoader(\n",
    "        dataset, batch_size=batch_size, shuffle=shuffle, num_workers=int(num_workers))\n",
    "    #data_loader.shape = [int(num) for num in dataset[0][0].size()]\n",
    "\n",
    "    return data_loader"
   ]
  },
  {
   "cell_type": "code",
   "execution_count": 10,
   "metadata": {},
   "outputs": [
    {
     "name": "stdout",
     "output_type": "stream",
     "text": [
      "Found 12856 images in subfolders of: ./data/ut-zap50k/Shoes/Sneakers_and_athletic_shoes/\n"
     ]
    }
   ],
   "source": [
    "dataloader = get_loader(args.data_path, args.batch_size, args.scale_size)"
   ]
  },
  {
   "cell_type": "markdown",
   "metadata": {},
   "source": [
    "## Test One Image"
   ]
  },
  {
   "cell_type": "code",
   "execution_count": 8,
   "metadata": {},
   "outputs": [
    {
     "name": "stdout",
     "output_type": "stream",
     "text": [
      "\n",
      "(0 ,.,.) = \n",
      "  1.0000  1.0000  1.0000  ...   1.0000  1.0000  1.0000\n",
      "  1.0000  1.0000  1.0000  ...   1.0000  1.0000  1.0000\n",
      "  1.0000  1.0000  1.0000  ...   1.0000  1.0000  1.0000\n",
      "           ...             ⋱             ...          \n",
      "  1.0000  1.0000  1.0000  ...   1.0000  1.0000  1.0000\n",
      "  1.0000  1.0000  1.0000  ...   1.0000  1.0000  1.0000\n",
      "  1.0000  1.0000  1.0000  ...   1.0000  1.0000  1.0000\n",
      "\n",
      "(1 ,.,.) = \n",
      "  1.0000  1.0000  1.0000  ...   1.0000  1.0000  1.0000\n",
      "  1.0000  1.0000  1.0000  ...   1.0000  1.0000  1.0000\n",
      "  1.0000  1.0000  1.0000  ...   1.0000  1.0000  1.0000\n",
      "           ...             ⋱             ...          \n",
      "  1.0000  1.0000  1.0000  ...   1.0000  1.0000  1.0000\n",
      "  1.0000  1.0000  1.0000  ...   1.0000  1.0000  1.0000\n",
      "  1.0000  1.0000  1.0000  ...   1.0000  1.0000  1.0000\n",
      "\n",
      "(2 ,.,.) = \n",
      "  1.0000  1.0000  1.0000  ...   1.0000  1.0000  1.0000\n",
      "  1.0000  1.0000  1.0000  ...   1.0000  1.0000  1.0000\n",
      "  1.0000  1.0000  1.0000  ...   1.0000  1.0000  1.0000\n",
      "           ...             ⋱             ...          \n",
      "  1.0000  1.0000  1.0000  ...   1.0000  1.0000  1.0000\n",
      "  1.0000  1.0000  1.0000  ...   1.0000  1.0000  1.0000\n",
      "  1.0000  1.0000  1.0000  ...   1.0000  1.0000  1.0000\n",
      "[torch.FloatTensor of size 3x64x64]\n",
      "\n"
     ]
    }
   ],
   "source": [
    "test_image = 0\n",
    "for data, _ in dataloader:\n",
    "    print(data[0])\n",
    "    test_image = data[0]\n",
    "    break"
   ]
  },
  {
   "cell_type": "code",
   "execution_count": 9,
   "metadata": {},
   "outputs": [
    {
     "data": {
      "image/png": "[encoded data removed]",
      "text/plain": [
       "<PIL.Image.Image image mode=RGB size=64x64 at 0x7F3EED508320>"
      ]
     },
     "execution_count": 9,
     "metadata": {},
     "output_type": "execute_result"
    }
   ],
   "source": [
    "to_image(test_image)"
   ]
  },
  {
   "cell_type": "markdown",
   "metadata": {},
   "source": [
    "# Define Model"
   ]
  },
  {
   "cell_type": "markdown",
   "metadata": {},
   "source": [
    "## Define G"
   ]
  },
  {
   "cell_type": "code",
   "execution_count": 10,
   "metadata": {
    "collapsed": true
   },
   "outputs": [],
   "source": [
    "class _netG(nn.Module):\n",
    "    def __init__(self):\n",
    "        super(_netG, self).__init__()\n",
    "        self.main = nn.Sequential(\n",
    "            # input is Z, going into a convolution\n",
    "            nn.ConvTranspose2d(args.z_dim, args.G_features * 8,\n",
    "                               4, 1, 0, bias=False),\n",
    "            nn.BatchNorm2d(args.G_features * 8),\n",
    "            nn.ReLU(True),\n",
    "            nn.ConvTranspose2d(args.G_features * 8, args.G_features * 4,\n",
    "                               4, 2, 1, bias=False),\n",
    "            nn.BatchNorm2d(args.G_features * 4),\n",
    "            nn.ReLU(True),\n",
    "            # state size. (ngf*8) x 4 x 4\n",
    "            nn.ConvTranspose2d(args.G_features * 4, args.G_features * 2,\n",
    "                               4, 2, 1, bias=False),\n",
    "            nn.BatchNorm2d(args.G_features * 2),\n",
    "            nn.ReLU(True),\n",
    "            # state size. (ngf*4) x 8 x 8\n",
    "            nn.ConvTranspose2d(args.G_features * 2, args.G_features,\n",
    "                               4, 2, 1, bias=False),\n",
    "            nn.BatchNorm2d(args.G_features),\n",
    "            nn.ReLU(True),\n",
    "            # state size. (ngf) x 16 x 16\n",
    "            nn.ConvTranspose2d(args.G_features, args.image_channels,\n",
    "                               4, 2, 1, bias=False),\n",
    "            nn.Tanh()\n",
    "            # state size. (nc) x 32 x 32\n",
    "        )\n",
    "        self._initialize_weights()\n",
    "        \n",
    "    # custom weight initialization\n",
    "    def _initialize_weights(self):\n",
    "        for m in self.modules():\n",
    "            if isinstance(m, nn.ConvTranspose2d):\n",
    "                n = m.kernel_size[0] * m.kernel_size[1] * m.out_channels\n",
    "                init.normal(m.weight, mean=0, std=0.02)\n",
    "            elif isinstance(m, nn.BatchNorm2d):\n",
    "                init.normal(m.weight, mean=1, std=0.02)\n",
    "                init.constant(m.bias, 0)\n",
    "\n",
    "    def forward(self, x):\n",
    "        return self.main(x)"
   ]
  },
  {
   "cell_type": "markdown",
   "metadata": {},
   "source": [
    "## Define D"
   ]
  },
  {
   "cell_type": "code",
   "execution_count": 11,
   "metadata": {
    "collapsed": true
   },
   "outputs": [],
   "source": [
    "class _netD(nn.Module):\n",
    "    def __init__(self):\n",
    "        super(_netD, self).__init__()\n",
    "        self.main = nn.Sequential(\n",
    "            # input is (nc) x 32 x 32\n",
    "            nn.Conv2d(args.image_channels, args.D_features,\n",
    "                      4, 2, 1, bias=False),\n",
    "            nn.LeakyReLU(0.2, inplace=True),\n",
    "            # state size. (ndf) x 16 x 16\n",
    "            nn.Conv2d(args.D_features, args.D_features * 2,\n",
    "                      4, 2, 1, bias=False),\n",
    "            nn.BatchNorm2d(args.D_features * 2),\n",
    "            nn.LeakyReLU(0.2, inplace=True),\n",
    "            # state size. (ndf*2) x 8 x 8\n",
    "            nn.Conv2d(args.D_features * 2, args.D_features * 4,\n",
    "                      4, 2, 1, bias=False),\n",
    "            nn.BatchNorm2d(args.D_features * 4),\n",
    "            nn.LeakyReLU(0.2, inplace=True),\n",
    "            nn.Conv2d(args.D_features * 4, args.D_features * 8,\n",
    "                      4, 2, 1, bias=False),\n",
    "            nn.BatchNorm2d(args.D_features * 8),\n",
    "            nn.LeakyReLU(0.2, inplace=True),\n",
    "            # state size. (ndf*4) x 4 x 4\n",
    "            nn.Conv2d(args.D_features * 8, 1, 4, 1, 0, bias=False),\n",
    "            nn.Sigmoid()\n",
    "        )\n",
    "        self._initialize_weights()\n",
    "        \n",
    "    # custom weight initialization\n",
    "    def _initialize_weights(self):\n",
    "        for m in self.modules():\n",
    "            if isinstance(m, nn.Conv2d):\n",
    "                n = m.kernel_size[0] * m.kernel_size[1] * m.out_channels\n",
    "                init.normal(m.weight, mean=0, std=0.02)\n",
    "            elif isinstance(m, nn.BatchNorm2d):\n",
    "                init.normal(m.weight, mean=1, std=0.02)\n",
    "                init.constant(m.bias, 0)\n",
    "\n",
    "    def forward(self, input):\n",
    "        output = self.main(input)\n",
    "        return output.view(-1, 1)"
   ]
  },
  {
   "cell_type": "markdown",
   "metadata": {},
   "source": [
    "## Save losses"
   ]
  },
  {
   "cell_type": "code",
   "execution_count": 12,
   "metadata": {
    "collapsed": true
   },
   "outputs": [],
   "source": [
    "class Results():\n",
    "    def __init__(self, results_path):\n",
    "        self.D_losses = []\n",
    "        self.G_losses = []\n",
    "        self.D_reals = []\n",
    "        self.D_fakes = []\n",
    "        self.G_reals = []\n",
    "        self.results_path = results_path\n",
    "    \n",
    "    def save_losses(self, D_loss, G_loss, D_real, D_fake, G_real):\n",
    "        self.D_losses.append(D_loss)\n",
    "        self.G_losses.append(G_loss)\n",
    "        self.D_reals.append(D_real)\n",
    "        self.D_fakes.append(D_fake)\n",
    "        self.G_reals.append(G_real)\n",
    "        \n",
    "    def save_to_disk(self):\n",
    "        f = open(self.results_path + \"D_losses.pkl\", \"wb\")\n",
    "        pickle.dump(self.D_losses, f)\n",
    "        f= open(self.results_path + \"G_losses.pkl\", \"wb\")\n",
    "        pickle.dump(self.G_losses, f)\n",
    "        f = open(self.results_path + \"D_reals.pkl\", \"wb\")\n",
    "        pickle.dump(self.D_reals, f)\n",
    "        f = open(self.results_path + \"D_fakes.pkl\", \"wb\")\n",
    "        pickle.dump(self.D_fakes, f)\n",
    "        f = open(self.results_path + \"G_reals.pkl\", \"wb\")\n",
    "        pickle.dump(self.G_reals, f)\n",
    "        "
   ]
  },
  {
   "cell_type": "markdown",
   "metadata": {},
   "source": [
    "## Define Train and Generate"
   ]
  },
  {
   "cell_type": "code",
   "execution_count": 13,
   "metadata": {
    "collapsed": true
   },
   "outputs": [],
   "source": [
    "def train(args, data_loader, netG, netD, G_optimizer, D_optimizer,\n",
    "          criterion, epoch, result_losses):\n",
    "    D_losses = AverageValueMeter()\n",
    "    G_losses = AverageValueMeter()\n",
    "    D_reals = AverageValueMeter()\n",
    "    D_fakes = AverageValueMeter()\n",
    "    G_reals = AverageValueMeter()\n",
    "    \n",
    "    start = time.time()\n",
    "    # call Variable after .cuda()\n",
    "    for i, (real, _) in enumerate(data_loader):\n",
    "        batch_size = real.size(0)\n",
    "        real_label = torch.ones(batch_size)\n",
    "        fake_label = torch.zeros(batch_size)\n",
    "        z = torch.randn(batch_size, args.z_dim, 1, 1)\n",
    "        if args.cuda:\n",
    "            real_label = real_label.cuda()\n",
    "            fake_label = fake_label.cuda()\n",
    "            real = real.cuda()\n",
    "            z = z.cuda()\n",
    "        real_label = Variable(real_label)\n",
    "        fake_label = Variable(fake_label)\n",
    "        real = Variable(real)\n",
    "        z = Variable(z)\n",
    "        \n",
    "        real_output = netD(real)\n",
    "        D_real_loss = criterion(real_output, real_label)\n",
    "        D_real = real_output.data.mean()\n",
    "        \n",
    "        fake = netG(z)\n",
    "        fake_output = netD(fake.detach())\n",
    "        D_fake_loss = criterion(fake_output, fake_label)\n",
    "        D_fake = fake_output.data.mean()\n",
    "        \n",
    "        D_loss = D_real_loss + D_fake_loss\n",
    "        netD.zero_grad()\n",
    "        D_loss.backward()\n",
    "        D_optimizer.step()\n",
    "        \n",
    "        output = netD(fake)\n",
    "        G_loss = criterion(output, real_label)\n",
    "        G_real = output.data.mean()\n",
    "        netG.zero_grad()\n",
    "        G_loss.backward()\n",
    "        G_optimizer.step()\n",
    "        \n",
    "        D_losses.add(D_loss.data.cpu()[0] * batch_size, batch_size)\n",
    "        G_losses.add(G_loss.data.cpu()[0] * batch_size, batch_size)\n",
    "        D_reals.add(D_real * batch_size, batch_size)\n",
    "        D_fakes.add(D_fake * batch_size, batch_size)\n",
    "        G_reals.add(G_real * batch_size, batch_size)\n",
    "        \n",
    "    print(\"=> EPOCH {} | Time: {}s | D_loss: {:.4f} | G_loss: {:.4f}\"\n",
    "          \" | D_real: {:.4f} | D_fake: {:.4f} | G_real: {:.4f}\"\n",
    "          .format(epoch, round(time.time()-start), D_losses.value()[0],\n",
    "                  G_losses.value()[0], D_reals.value()[0],\n",
    "                  D_fakes.value()[0], G_reals.value()[0]))\n",
    "    result_losses.save_losses(D_losses.value()[0],\n",
    "                  G_losses.value()[0], D_reals.value()[0],\n",
    "                  D_fakes.value()[0], G_reals.value()[0])"
   ]
  },
  {
   "cell_type": "code",
   "execution_count": 14,
   "metadata": {
    "collapsed": true
   },
   "outputs": [],
   "source": [
    "def generate(args, netG, epoch):\n",
    "    z = torch.randn(args.batch_size, args.z_dim, 1, 1)\n",
    "    if args.cuda:\n",
    "        z = z.cuda()\n",
    "    fake = netG(Variable(z, volatile=True))\n",
    "    save_image(fake.data.cpu(), os.path.join(args.image_results,\n",
    "        \"fake_sample_epoch_{:02d}.png\".format(epoch)), normalize=True)"
   ]
  },
  {
   "cell_type": "markdown",
   "metadata": {},
   "source": [
    "## Create Model, Define Loss and Optimizer"
   ]
  },
  {
   "cell_type": "code",
   "execution_count": 15,
   "metadata": {
    "collapsed": true
   },
   "outputs": [],
   "source": [
    "netG = _netG()\n",
    "netD = _netD()\n",
    "criterion = nn.BCELoss()\n",
    "if args.cuda:\n",
    "    netD.cuda()\n",
    "    netG.cuda()\n",
    "    criterion.cuda()"
   ]
  },
  {
   "cell_type": "code",
   "execution_count": 16,
   "metadata": {
    "collapsed": true
   },
   "outputs": [],
   "source": [
    "D_optimizer = optim.Adam(netD.parameters(), lr=args.lr,\n",
    "                         betas=(args.beta1, 0.999), weight_decay=1e-4)\n",
    "G_optimizer = optim.Adam(netG.parameters(), lr=args.lr,\n",
    "                         betas=(args.beta1, 0.999), weight_decay=1e-4)"
   ]
  },
  {
   "cell_type": "markdown",
   "metadata": {},
   "source": [
    "## Run Train"
   ]
  },
  {
   "cell_type": "code",
   "execution_count": 17,
   "metadata": {},
   "outputs": [
    {
     "name": "stdout",
     "output_type": "stream",
     "text": [
      "=> EPOCH 0 | Time: 143s | D_loss: 0.6816 | G_loss: 7.9651 | D_real: 0.8641 | D_fake: 0.1570 | G_real: 0.0257\n",
      "=> EPOCH 1 | Time: 47s | D_loss: 0.6159 | G_loss: 4.5294 | D_real: 0.8108 | D_fake: 0.1871 | G_real: 0.0678\n",
      "=> EPOCH 2 | Time: 47s | D_loss: 0.6613 | G_loss: 3.7914 | D_real: 0.7937 | D_fake: 0.2053 | G_real: 0.0852\n",
      "=> EPOCH 3 | Time: 47s | D_loss: 0.7398 | G_loss: 3.5096 | D_real: 0.7724 | D_fake: 0.2283 | G_real: 0.1017\n",
      "=> EPOCH 4 | Time: 47s | D_loss: 0.7669 | G_loss: 3.1943 | D_real: 0.7565 | D_fake: 0.2437 | G_real: 0.1195\n",
      "=> EPOCH 5 | Time: 47s | D_loss: 0.8839 | G_loss: 2.7698 | D_real: 0.7175 | D_fake: 0.2815 | G_real: 0.1407\n",
      "=> EPOCH 6 | Time: 47s | D_loss: 0.8654 | G_loss: 2.7686 | D_real: 0.7194 | D_fake: 0.2796 | G_real: 0.1409\n",
      "=> EPOCH 7 | Time: 47s | D_loss: 0.8508 | G_loss: 2.7604 | D_real: 0.7183 | D_fake: 0.2776 | G_real: 0.1429\n",
      "=> EPOCH 8 | Time: 47s | D_loss: 0.8210 | G_loss: 2.6432 | D_real: 0.7220 | D_fake: 0.2775 | G_real: 0.1498\n",
      "=> EPOCH 9 | Time: 47s | D_loss: 0.8377 | G_loss: 2.6770 | D_real: 0.7184 | D_fake: 0.2813 | G_real: 0.1457\n",
      "=> EPOCH 10 | Time: 47s | D_loss: 0.8290 | G_loss: 2.6087 | D_real: 0.7173 | D_fake: 0.2809 | G_real: 0.1488\n",
      "=> EPOCH 11 | Time: 47s | D_loss: 0.8403 | G_loss: 2.6526 | D_real: 0.7178 | D_fake: 0.2797 | G_real: 0.1519\n",
      "=> EPOCH 12 | Time: 47s | D_loss: 0.8214 | G_loss: 2.5567 | D_real: 0.7228 | D_fake: 0.2772 | G_real: 0.1565\n",
      "=> EPOCH 13 | Time: 47s | D_loss: 0.7701 | G_loss: 2.5833 | D_real: 0.7322 | D_fake: 0.2671 | G_real: 0.1508\n",
      "=> EPOCH 14 | Time: 47s | D_loss: 0.7829 | G_loss: 2.6651 | D_real: 0.7331 | D_fake: 0.2658 | G_real: 0.1472\n",
      "=> EPOCH 15 | Time: 47s | D_loss: 0.7696 | G_loss: 2.7820 | D_real: 0.7403 | D_fake: 0.2595 | G_real: 0.1377\n",
      "=> EPOCH 16 | Time: 47s | D_loss: 0.7401 | G_loss: 2.7983 | D_real: 0.7474 | D_fake: 0.2519 | G_real: 0.1375\n",
      "=> EPOCH 17 | Time: 47s | D_loss: 0.6991 | G_loss: 2.8108 | D_real: 0.7546 | D_fake: 0.2440 | G_real: 0.1291\n",
      "=> EPOCH 18 | Time: 47s | D_loss: 0.6857 | G_loss: 2.7656 | D_real: 0.7617 | D_fake: 0.2389 | G_real: 0.1371\n",
      "=> EPOCH 19 | Time: 47s | D_loss: 0.6695 | G_loss: 2.8363 | D_real: 0.7680 | D_fake: 0.2315 | G_real: 0.1284\n",
      "=> EPOCH 20 | Time: 47s | D_loss: 0.6433 | G_loss: 2.9199 | D_real: 0.7748 | D_fake: 0.2237 | G_real: 0.1229\n",
      "=> EPOCH 21 | Time: 47s | D_loss: 0.5713 | G_loss: 3.0605 | D_real: 0.7948 | D_fake: 0.2049 | G_real: 0.1123\n",
      "=> EPOCH 22 | Time: 47s | D_loss: 0.5714 | G_loss: 3.0485 | D_real: 0.7951 | D_fake: 0.2036 | G_real: 0.1132\n",
      "=> EPOCH 23 | Time: 47s | D_loss: 0.6065 | G_loss: 3.0250 | D_real: 0.7913 | D_fake: 0.2092 | G_real: 0.1226\n",
      "=> EPOCH 24 | Time: 47s | D_loss: 0.5376 | G_loss: 3.0756 | D_real: 0.8064 | D_fake: 0.1909 | G_real: 0.1085\n",
      "=> EPOCH 25 | Time: 47s | D_loss: 0.4929 | G_loss: 3.2138 | D_real: 0.8217 | D_fake: 0.1796 | G_real: 0.1010\n",
      "=> EPOCH 26 | Time: 47s | D_loss: 0.5467 | G_loss: 3.1556 | D_real: 0.8144 | D_fake: 0.1845 | G_real: 0.1074\n",
      "=> EPOCH 27 | Time: 47s | D_loss: 0.5689 | G_loss: 3.1546 | D_real: 0.8148 | D_fake: 0.1867 | G_real: 0.1141\n",
      "=> EPOCH 28 | Time: 47s | D_loss: 0.4762 | G_loss: 3.2346 | D_real: 0.8318 | D_fake: 0.1665 | G_real: 0.0967\n",
      "=> EPOCH 29 | Time: 47s | D_loss: 0.5706 | G_loss: 3.2572 | D_real: 0.8218 | D_fake: 0.1775 | G_real: 0.1080\n",
      "=> EPOCH 30 | Time: 47s | D_loss: 0.4235 | G_loss: 3.4112 | D_real: 0.8433 | D_fake: 0.1565 | G_real: 0.0885\n",
      "=> EPOCH 31 | Time: 47s | D_loss: 0.5025 | G_loss: 3.4625 | D_real: 0.8320 | D_fake: 0.1676 | G_real: 0.1022\n",
      "=> EPOCH 32 | Time: 47s | D_loss: 0.3350 | G_loss: 3.4449 | D_real: 0.8667 | D_fake: 0.1324 | G_real: 0.0767\n",
      "=> EPOCH 33 | Time: 47s | D_loss: 0.5771 | G_loss: 3.4539 | D_real: 0.8272 | D_fake: 0.1728 | G_real: 0.1082\n",
      "=> EPOCH 34 | Time: 47s | D_loss: 0.3344 | G_loss: 3.5070 | D_real: 0.8724 | D_fake: 0.1250 | G_real: 0.0773\n",
      "=> EPOCH 35 | Time: 47s | D_loss: 0.2688 | G_loss: 3.6988 | D_real: 0.8921 | D_fake: 0.1105 | G_real: 0.0576\n",
      "=> EPOCH 36 | Time: 47s | D_loss: 0.4535 | G_loss: 3.7786 | D_real: 0.8501 | D_fake: 0.1494 | G_real: 0.0858\n",
      "=> EPOCH 37 | Time: 47s | D_loss: 0.2064 | G_loss: 3.8445 | D_real: 0.9110 | D_fake: 0.0884 | G_real: 0.0492\n",
      "=> EPOCH 38 | Time: 47s | D_loss: 0.6925 | G_loss: 3.4085 | D_real: 0.8085 | D_fake: 0.1919 | G_real: 0.1292\n",
      "=> EPOCH 39 | Time: 47s | D_loss: 0.2285 | G_loss: 3.8716 | D_real: 0.9047 | D_fake: 0.0945 | G_real: 0.0542\n",
      "=> EPOCH 40 | Time: 47s | D_loss: 0.5931 | G_loss: 3.9450 | D_real: 0.8759 | D_fake: 0.1246 | G_real: 0.0911\n",
      "=> EPOCH 41 | Time: 47s | D_loss: 1.1514 | G_loss: 2.3177 | D_real: 0.6617 | D_fake: 0.3398 | G_real: 0.2471\n",
      "=> EPOCH 42 | Time: 47s | D_loss: 0.2675 | G_loss: 3.6995 | D_real: 0.8903 | D_fake: 0.1093 | G_real: 0.0633\n",
      "=> EPOCH 43 | Time: 47s | D_loss: 0.3049 | G_loss: 3.8090 | D_real: 0.8924 | D_fake: 0.1073 | G_real: 0.0639\n",
      "=> EPOCH 44 | Time: 47s | D_loss: 0.4827 | G_loss: 3.7173 | D_real: 0.8657 | D_fake: 0.1321 | G_real: 0.1027\n",
      "=> EPOCH 45 | Time: 47s | D_loss: 0.6711 | G_loss: 3.1045 | D_real: 0.7771 | D_fake: 0.2234 | G_real: 0.1545\n",
      "=> EPOCH 46 | Time: 47s | D_loss: 0.2582 | G_loss: 3.9109 | D_real: 0.9042 | D_fake: 0.0951 | G_real: 0.0579\n",
      "=> EPOCH 47 | Time: 47s | D_loss: 0.2651 | G_loss: 4.0285 | D_real: 0.8999 | D_fake: 0.1004 | G_real: 0.0573\n",
      "=> EPOCH 48 | Time: 47s | D_loss: 0.1543 | G_loss: 4.2723 | D_real: 0.9333 | D_fake: 0.0666 | G_real: 0.0359\n",
      "=> EPOCH 49 | Time: 47s | D_loss: 0.6369 | G_loss: 3.5204 | D_real: 0.8180 | D_fake: 0.1813 | G_real: 0.1325\n",
      "=> EPOCH 50 | Time: 47s | D_loss: 0.1622 | G_loss: 4.1738 | D_real: 0.9302 | D_fake: 0.0700 | G_real: 0.0377\n",
      "=> EPOCH 51 | Time: 47s | D_loss: 0.2138 | G_loss: 4.2731 | D_real: 0.9215 | D_fake: 0.0783 | G_real: 0.0486\n",
      "=> EPOCH 52 | Time: 47s | D_loss: 0.7678 | G_loss: 3.4269 | D_real: 0.8033 | D_fake: 0.1953 | G_real: 0.1567\n",
      "=> EPOCH 53 | Time: 47s | D_loss: 0.4644 | G_loss: 3.8209 | D_real: 0.8487 | D_fake: 0.1520 | G_real: 0.0846\n",
      "=> EPOCH 54 | Time: 47s | D_loss: 0.1306 | G_loss: 4.2970 | D_real: 0.9421 | D_fake: 0.0579 | G_real: 0.0329\n",
      "=> EPOCH 55 | Time: 47s | D_loss: 0.2425 | G_loss: 4.4108 | D_real: 0.9111 | D_fake: 0.0897 | G_real: 0.0499\n",
      "=> EPOCH 56 | Time: 47s | D_loss: 0.2922 | G_loss: 4.4061 | D_real: 0.9061 | D_fake: 0.0928 | G_real: 0.0577\n",
      "=> EPOCH 57 | Time: 47s | D_loss: 0.1486 | G_loss: 4.5227 | D_real: 0.9376 | D_fake: 0.0621 | G_real: 0.0339\n",
      "=> EPOCH 58 | Time: 47s | D_loss: 0.2523 | G_loss: 4.5748 | D_real: 0.9177 | D_fake: 0.0825 | G_real: 0.0498\n",
      "=> EPOCH 59 | Time: 47s | D_loss: 0.0795 | G_loss: 4.7366 | D_real: 0.9633 | D_fake: 0.0366 | G_real: 0.0212\n",
      "=> EPOCH 60 | Time: 47s | D_loss: 0.5861 | G_loss: 3.9552 | D_real: 0.8389 | D_fake: 0.1609 | G_real: 0.1137\n",
      "=> EPOCH 61 | Time: 47s | D_loss: 0.2237 | G_loss: 4.4668 | D_real: 0.9179 | D_fake: 0.0814 | G_real: 0.0455\n",
      "=> EPOCH 62 | Time: 47s | D_loss: 0.0988 | G_loss: 4.7576 | D_real: 0.9569 | D_fake: 0.0430 | G_real: 0.0258\n",
      "=> EPOCH 63 | Time: 47s | D_loss: 0.4371 | G_loss: 4.2276 | D_real: 0.8742 | D_fake: 0.1265 | G_real: 0.0813\n",
      "=> EPOCH 64 | Time: 47s | D_loss: 0.0877 | G_loss: 4.8215 | D_real: 0.9600 | D_fake: 0.0393 | G_real: 0.0228\n",
      "=> EPOCH 65 | Time: 47s | D_loss: 0.0723 | G_loss: 4.9864 | D_real: 0.9672 | D_fake: 0.0331 | G_real: 0.0197\n",
      "=> EPOCH 66 | Time: 47s | D_loss: 0.7613 | G_loss: 3.7282 | D_real: 0.8023 | D_fake: 0.1977 | G_real: 0.1513\n",
      "=> EPOCH 67 | Time: 47s | D_loss: 0.2066 | G_loss: 4.6054 | D_real: 0.9213 | D_fake: 0.0781 | G_real: 0.0388\n",
      "=> EPOCH 68 | Time: 47s | D_loss: 0.2465 | G_loss: 4.6471 | D_real: 0.9195 | D_fake: 0.0808 | G_real: 0.0496\n",
      "=> EPOCH 69 | Time: 47s | D_loss: 0.1830 | G_loss: 4.8684 | D_real: 0.9470 | D_fake: 0.0506 | G_real: 0.0385\n",
      "=> EPOCH 70 | Time: 47s | D_loss: 0.2780 | G_loss: 4.5172 | D_real: 0.9065 | D_fake: 0.0949 | G_real: 0.0542\n",
      "=> EPOCH 71 | Time: 47s | D_loss: 0.1143 | G_loss: 4.9531 | D_real: 0.9539 | D_fake: 0.0463 | G_real: 0.0259\n",
      "=> EPOCH 72 | Time: 47s | D_loss: 0.0634 | G_loss: 5.1410 | D_real: 0.9709 | D_fake: 0.0289 | G_real: 0.0173\n",
      "=> EPOCH 73 | Time: 47s | D_loss: 0.0646 | G_loss: 5.4219 | D_real: 0.9721 | D_fake: 0.0288 | G_real: 0.0175\n",
      "=> EPOCH 74 | Time: 47s | D_loss: 0.3072 | G_loss: 5.0237 | D_real: 0.9088 | D_fake: 0.0900 | G_real: 0.0554\n",
      "=> EPOCH 75 | Time: 47s | D_loss: 0.2997 | G_loss: 4.7402 | D_real: 0.9107 | D_fake: 0.0888 | G_real: 0.0512\n",
      "=> EPOCH 76 | Time: 47s | D_loss: 0.0632 | G_loss: 5.2087 | D_real: 0.9710 | D_fake: 0.0289 | G_real: 0.0163\n",
      "=> EPOCH 77 | Time: 47s | D_loss: 0.2973 | G_loss: 4.8609 | D_real: 0.9213 | D_fake: 0.0785 | G_real: 0.0513\n",
      "=> EPOCH 78 | Time: 47s | D_loss: 0.0465 | G_loss: 5.3027 | D_real: 0.9779 | D_fake: 0.0219 | G_real: 0.0124\n",
      "=> EPOCH 79 | Time: 47s | D_loss: 0.6015 | G_loss: 4.1540 | D_real: 0.8368 | D_fake: 0.1631 | G_real: 0.1176\n",
      "=> EPOCH 80 | Time: 47s | D_loss: 0.2292 | G_loss: 4.8587 | D_real: 0.9203 | D_fake: 0.0794 | G_real: 0.0423\n",
      "=> EPOCH 81 | Time: 47s | D_loss: 0.0713 | G_loss: 5.2023 | D_real: 0.9681 | D_fake: 0.0318 | G_real: 0.0184\n",
      "=> EPOCH 82 | Time: 47s | D_loss: 0.0506 | G_loss: 5.4515 | D_real: 0.9768 | D_fake: 0.0232 | G_real: 0.0124\n",
      "=> EPOCH 83 | Time: 47s | D_loss: 0.8845 | G_loss: 3.4061 | D_real: 0.7644 | D_fake: 0.2344 | G_real: 0.1853\n",
      "=> EPOCH 84 | Time: 47s | D_loss: 0.2066 | G_loss: 4.9876 | D_real: 0.9265 | D_fake: 0.0740 | G_real: 0.0395\n",
      "=> EPOCH 85 | Time: 47s | D_loss: 0.0662 | G_loss: 5.2664 | D_real: 0.9702 | D_fake: 0.0300 | G_real: 0.0173\n",
      "=> EPOCH 86 | Time: 47s | D_loss: 0.0568 | G_loss: 5.4043 | D_real: 0.9744 | D_fake: 0.0257 | G_real: 0.0150\n",
      "=> EPOCH 87 | Time: 47s | D_loss: 0.4664 | G_loss: 4.6433 | D_real: 0.8785 | D_fake: 0.1214 | G_real: 0.0958\n",
      "=> EPOCH 88 | Time: 47s | D_loss: 0.3278 | G_loss: 4.8796 | D_real: 0.8968 | D_fake: 0.1033 | G_real: 0.0594\n",
      "=> EPOCH 89 | Time: 47s | D_loss: 0.0921 | G_loss: 5.3432 | D_real: 0.9619 | D_fake: 0.0388 | G_real: 0.0207\n",
      "=> EPOCH 90 | Time: 47s | D_loss: 0.1916 | G_loss: 5.1458 | D_real: 0.9390 | D_fake: 0.0603 | G_real: 0.0388\n",
      "=> EPOCH 91 | Time: 47s | D_loss: 0.0552 | G_loss: 5.4446 | D_real: 0.9750 | D_fake: 0.0253 | G_real: 0.0145\n",
      "=> EPOCH 92 | Time: 47s | D_loss: 0.1256 | G_loss: 5.5509 | D_real: 0.9589 | D_fake: 0.0405 | G_real: 0.0265\n",
      "=> EPOCH 93 | Time: 47s | D_loss: 0.0513 | G_loss: 5.7089 | D_real: 0.9775 | D_fake: 0.0226 | G_real: 0.0113\n",
      "=> EPOCH 94 | Time: 47s | D_loss: 0.0393 | G_loss: 5.9001 | D_real: 0.9820 | D_fake: 0.0180 | G_real: 0.0101\n",
      "=> EPOCH 95 | Time: 47s | D_loss: 0.0297 | G_loss: 6.0834 | D_real: 0.9860 | D_fake: 0.0140 | G_real: 0.0082\n",
      "=> EPOCH 96 | Time: 47s | D_loss: 0.0275 | G_loss: 6.2524 | D_real: 0.9872 | D_fake: 0.0128 | G_real: 0.0075\n",
      "=> EPOCH 97 | Time: 47s | D_loss: 0.1577 | G_loss: 6.3310 | D_real: 0.9789 | D_fake: 0.0223 | G_real: 0.0179\n",
      "=> EPOCH 98 | Time: 47s | D_loss: 0.8029 | G_loss: 3.4727 | D_real: 0.7669 | D_fake: 0.2314 | G_real: 0.1687\n",
      "=> EPOCH 99 | Time: 47s | D_loss: 0.3458 | G_loss: 5.0416 | D_real: 0.8960 | D_fake: 0.1028 | G_real: 0.0629\n"
     ]
    }
   ],
   "source": [
    "result_losses = Results(args.loss_results)\n",
    "for epoch in range(0, args.epochs):\n",
    "    train(args, dataloader, netG, netD, G_optimizer, D_optimizer,\n",
    "          criterion, epoch, result_losses)\n",
    "    generate(args, netG, epoch)"
   ]
  },
  {
   "cell_type": "markdown",
   "metadata": {},
   "source": [
    "## Save loss"
   ]
  },
  {
   "cell_type": "code",
   "execution_count": 18,
   "metadata": {
    "collapsed": true
   },
   "outputs": [],
   "source": [
    "result_losses.save_to_disk()"
   ]
  },
  {
   "cell_type": "markdown",
   "metadata": {},
   "source": [
    "## Get one REAL Image"
   ]
  },
  {
   "cell_type": "code",
   "execution_count": 11,
   "metadata": {
    "collapsed": true
   },
   "outputs": [],
   "source": [
    "sample, _ = iter(dataloader).next()\n",
    "save_image(sample, os.path.join(args.results, \"real_sample.png\"))"
   ]
  },
  {
   "cell_type": "code",
   "execution_count": null,
   "metadata": {
    "collapsed": true
   },
   "outputs": [],
   "source": []
  }
 ],
 "metadata": {
  "kernelspec": {
   "display_name": "Python 3",
   "language": "python",
   "name": "python3"
  },
  "language_info": {
   "codemirror_mode": {
    "name": "ipython",
    "version": 3
   },
   "file_extension": ".py",
   "mimetype": "text/x-python",
   "name": "python",
   "nbconvert_exporter": "python",
   "pygments_lexer": "ipython3",
   "version": "3.5.3"
  },
  "toc": {
   "colors": {
    "hover_highlight": "#DAA520",
    "running_highlight": "#FF0000",
    "selected_highlight": "#FFD700"
   },
   "moveMenuLeft": true,
   "nav_menu": {
    "height": "246px",
    "width": "252px"
   },
   "navigate_menu": true,
   "number_sections": true,
   "sideBar": true,
   "threshold": 4,
   "toc_cell": false,
   "toc_section_display": "block",
   "toc_window_display": false
  }
 },
 "nbformat": 4,
 "nbformat_minor": 2
}
