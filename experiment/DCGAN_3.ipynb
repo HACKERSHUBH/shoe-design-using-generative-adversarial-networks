{
 "cells": [
  {
   "cell_type": "markdown",
   "metadata": {},
   "source": [
    "This is the implementation of DCGAN with normalize input and one-sided label smoothing:\n",
    "- Number of epochs: 100\n",
    "- lr: 0.0002\n",
    "- Add results dir for images and loss\n",
    "- Add weight_decay: 1e-4\n",
    "\n",
    "- input: normalize (0.5, 0.5, 0.5)\n",
    "- sided_label: 0.9 ```torch.from_numpy(np.full(batch_size, 0.9, np.float32))```"
   ]
  },
  {
   "cell_type": "markdown",
   "metadata": {},
   "source": [
    "# Import"
   ]
  },
  {
   "cell_type": "code",
   "execution_count": 1,
   "metadata": {
    "collapsed": true
   },
   "outputs": [],
   "source": [
    "import argparse\n",
    "import os\n",
    "import time\n",
    "import pickle\n",
    "import numpy as np"
   ]
  },
  {
   "cell_type": "code",
   "execution_count": 2,
   "metadata": {
    "collapsed": true
   },
   "outputs": [],
   "source": [
    "import torch\n",
    "import torch.nn as nn\n",
    "import torch.nn.init as init\n",
    "from torch.autograd import Variable\n",
    "import torch.optim as optim\n",
    "from torch.utils.data import DataLoader\n",
    "import torchvision.datasets as datasets\n",
    "import torchvision.transforms as transforms\n",
    "from torchvision.utils import save_image\n",
    "from torchnet.meter import AverageValueMeter"
   ]
  },
  {
   "cell_type": "markdown",
   "metadata": {},
   "source": [
    "# Define Arguments"
   ]
  },
  {
   "cell_type": "code",
   "execution_count": 3,
   "metadata": {
    "collapsed": true
   },
   "outputs": [],
   "source": [
    "parser = {\n",
    "    'data_path': '../data/ut-zap50k/Shoes/Sneakers_and_athletic_shoes/',\n",
    "    'epochs': 100,\n",
    "    'batch_size': 64,\n",
    "    'lr': 0.0002,\n",
    "    'image_size': 136,\n",
    "    'scale_size': 64,\n",
    "    'z_dim': 100,\n",
    "    'G_features': 64,\n",
    "    'D_features': 64,\n",
    "    'image_channels': 3,\n",
    "    'beta1': 0.5,\n",
    "    'cuda': True,\n",
    "    'seed': 7,\n",
    "    'workers': 2,\n",
    "    'results': './resultsDCGAN3_0523/'\n",
    "}\n",
    "args = argparse.Namespace(**parser)\n",
    "args.image_results = args.results + 'images/'\n",
    "args.loss_results = args.results + 'loss/'\n",
    "args.cuda = args.cuda and torch.cuda.is_available()\n",
    "\n",
    "if not os.path.isdir(args.data_path):\n",
    "    os.makedirs(args.data_path)\n",
    "if not os.path.isdir(args.results):\n",
    "    os.makedirs(args.results)\n",
    "if not os.path.isdir(args.image_results):\n",
    "    os.makedirs(args.image_results)\n",
    "if not os.path.isdir(args.loss_results):\n",
    "    os.makedirs(args.loss_results)\n",
    "    \n",
    "torch.manual_seed(args.seed)\n",
    "if args.cuda:\n",
    "    torch.cuda.manual_seed(args.seed)"
   ]
  },
  {
   "cell_type": "markdown",
   "metadata": {},
   "source": [
    "# Prepare Data"
   ]
  },
  {
   "cell_type": "markdown",
   "metadata": {},
   "source": [
    "**Note: all iamges have size 136x102**"
   ]
  },
  {
   "cell_type": "code",
   "execution_count": 4,
   "metadata": {
    "collapsed": true
   },
   "outputs": [],
   "source": [
    "from folder import ImageFolder"
   ]
  },
  {
   "cell_type": "code",
   "execution_count": 5,
   "metadata": {
    "collapsed": true
   },
   "outputs": [],
   "source": [
    "from torchvision.transforms import ToPILImage\n",
    "to_image = ToPILImage()"
   ]
  },
  {
   "cell_type": "code",
   "execution_count": 6,
   "metadata": {
    "collapsed": true
   },
   "outputs": [],
   "source": [
    "def get_loader(image_root, batch_size, scale_size, num_workers=2, shuffle=True):\n",
    "    #image_root = os.path.join(root, 'splits', split)\n",
    "    dataset = ImageFolder(root=image_root, transform=transforms.Compose([\n",
    "            transforms.Pad(34, fill=(255, 255, 255)), # padding images with (255,255,255) --> pad 255 in 3 channels\n",
    "            transforms.CenterCrop((136,136)),\n",
    "            transforms.Scale(scale_size),\n",
    "            transforms.ToTensor(),\n",
    "            transforms.Normalize((0.5, 0.5, 0.5), (0.5, 0.5, 0.5)),\n",
    "    ]))\n",
    "\n",
    "    data_loader = torch.utils.data.DataLoader(\n",
    "        dataset, batch_size=batch_size, shuffle=shuffle, num_workers=int(num_workers))\n",
    "    #data_loader.shape = [int(num) for num in dataset[0][0].size()]\n",
    "\n",
    "    return data_loader"
   ]
  },
  {
   "cell_type": "code",
   "execution_count": 7,
   "metadata": {},
   "outputs": [
    {
     "name": "stdout",
     "output_type": "stream",
     "text": [
      "Found 12856 images in subfolders of: ./data/ut-zap50k/Shoes/Sneakers_and_athletic_shoes/\n"
     ]
    }
   ],
   "source": [
    "dataloader = get_loader(args.data_path, args.batch_size, args.scale_size)"
   ]
  },
  {
   "cell_type": "markdown",
   "metadata": {},
   "source": [
    "## Test One Image"
   ]
  },
  {
   "cell_type": "code",
   "execution_count": 8,
   "metadata": {},
   "outputs": [
    {
     "name": "stdout",
     "output_type": "stream",
     "text": [
      "\n",
      "(0 ,.,.) = \n",
      "  1.0000  1.0000  1.0000  ...   1.0000  1.0000  1.0000\n",
      "  1.0000  1.0000  1.0000  ...   1.0000  1.0000  1.0000\n",
      "  1.0000  1.0000  1.0000  ...   1.0000  1.0000  1.0000\n",
      "           ...             ⋱             ...          \n",
      "  1.0000  1.0000  1.0000  ...   1.0000  1.0000  1.0000\n",
      "  1.0000  1.0000  1.0000  ...   1.0000  1.0000  1.0000\n",
      "  1.0000  1.0000  1.0000  ...   1.0000  1.0000  1.0000\n",
      "\n",
      "(1 ,.,.) = \n",
      "  1.0000  1.0000  1.0000  ...   1.0000  1.0000  1.0000\n",
      "  1.0000  1.0000  1.0000  ...   1.0000  1.0000  1.0000\n",
      "  1.0000  1.0000  1.0000  ...   1.0000  1.0000  1.0000\n",
      "           ...             ⋱             ...          \n",
      "  1.0000  1.0000  1.0000  ...   1.0000  1.0000  1.0000\n",
      "  1.0000  1.0000  1.0000  ...   1.0000  1.0000  1.0000\n",
      "  1.0000  1.0000  1.0000  ...   1.0000  1.0000  1.0000\n",
      "\n",
      "(2 ,.,.) = \n",
      "  1.0000  1.0000  1.0000  ...   1.0000  1.0000  1.0000\n",
      "  1.0000  1.0000  1.0000  ...   1.0000  1.0000  1.0000\n",
      "  1.0000  1.0000  1.0000  ...   1.0000  1.0000  1.0000\n",
      "           ...             ⋱             ...          \n",
      "  1.0000  1.0000  1.0000  ...   1.0000  1.0000  1.0000\n",
      "  1.0000  1.0000  1.0000  ...   1.0000  1.0000  1.0000\n",
      "  1.0000  1.0000  1.0000  ...   1.0000  1.0000  1.0000\n",
      "[torch.FloatTensor of size 3x64x64]\n",
      "\n"
     ]
    }
   ],
   "source": [
    "test_image = 0\n",
    "for data, _ in dataloader:\n",
    "    print(data[0])\n",
    "    test_image = data[0]\n",
    "    break"
   ]
  },
  {
   "cell_type": "code",
   "execution_count": 9,
   "metadata": {},
   "outputs": [
    {
     "data": {
      "image/png": "[encoded data removed]",
      "text/plain": [
       "<PIL.Image.Image image mode=RGB size=64x64 at 0x7FF1A357D2E8>"
      ]
     },
     "execution_count": 9,
     "metadata": {},
     "output_type": "execute_result"
    }
   ],
   "source": [
    "to_image(test_image)"
   ]
  },
  {
   "cell_type": "markdown",
   "metadata": {},
   "source": [
    "# Define Model"
   ]
  },
  {
   "cell_type": "markdown",
   "metadata": {},
   "source": [
    "## Define G"
   ]
  },
  {
   "cell_type": "code",
   "execution_count": 10,
   "metadata": {
    "collapsed": true
   },
   "outputs": [],
   "source": [
    "class _netG(nn.Module):\n",
    "    def __init__(self):\n",
    "        super(_netG, self).__init__()\n",
    "        self.main = nn.Sequential(\n",
    "            # input is Z, going into a convolution\n",
    "            nn.ConvTranspose2d(args.z_dim, args.G_features * 8,\n",
    "                               4, 1, 0, bias=False),\n",
    "            nn.BatchNorm2d(args.G_features * 8),\n",
    "            nn.ReLU(True),\n",
    "            nn.ConvTranspose2d(args.G_features * 8, args.G_features * 4,\n",
    "                               4, 2, 1, bias=False),\n",
    "            nn.BatchNorm2d(args.G_features * 4),\n",
    "            nn.ReLU(True),\n",
    "            # state size. (ngf*8) x 4 x 4\n",
    "            nn.ConvTranspose2d(args.G_features * 4, args.G_features * 2,\n",
    "                               4, 2, 1, bias=False),\n",
    "            nn.BatchNorm2d(args.G_features * 2),\n",
    "            nn.ReLU(True),\n",
    "            # state size. (ngf*4) x 8 x 8\n",
    "            nn.ConvTranspose2d(args.G_features * 2, args.G_features,\n",
    "                               4, 2, 1, bias=False),\n",
    "            nn.BatchNorm2d(args.G_features),\n",
    "            nn.ReLU(True),\n",
    "            # state size. (ngf) x 16 x 16\n",
    "            nn.ConvTranspose2d(args.G_features, args.image_channels,\n",
    "                               4, 2, 1, bias=False),\n",
    "            nn.Tanh()\n",
    "            # state size. (nc) x 32 x 32\n",
    "        )\n",
    "        self._initialize_weights()\n",
    "        \n",
    "    # custom weight initialization\n",
    "    def _initialize_weights(self):\n",
    "        for m in self.modules():\n",
    "            if isinstance(m, nn.ConvTranspose2d):\n",
    "                n = m.kernel_size[0] * m.kernel_size[1] * m.out_channels\n",
    "                init.normal(m.weight, mean=0, std=0.02)\n",
    "            elif isinstance(m, nn.BatchNorm2d):\n",
    "                init.normal(m.weight, mean=1, std=0.02)\n",
    "                init.constant(m.bias, 0)\n",
    "\n",
    "    def forward(self, x):\n",
    "        return self.main(x)"
   ]
  },
  {
   "cell_type": "markdown",
   "metadata": {},
   "source": [
    "## Define D"
   ]
  },
  {
   "cell_type": "code",
   "execution_count": 11,
   "metadata": {
    "collapsed": true
   },
   "outputs": [],
   "source": [
    "class _netD(nn.Module):\n",
    "    def __init__(self):\n",
    "        super(_netD, self).__init__()\n",
    "        self.main = nn.Sequential(\n",
    "            # input is (nc) x 32 x 32\n",
    "            nn.Conv2d(args.image_channels, args.D_features,\n",
    "                      4, 2, 1, bias=False),\n",
    "            nn.LeakyReLU(0.2, inplace=True),\n",
    "            # state size. (ndf) x 16 x 16\n",
    "            nn.Conv2d(args.D_features, args.D_features * 2,\n",
    "                      4, 2, 1, bias=False),\n",
    "            nn.BatchNorm2d(args.D_features * 2),\n",
    "            nn.LeakyReLU(0.2, inplace=True),\n",
    "            # state size. (ndf*2) x 8 x 8\n",
    "            nn.Conv2d(args.D_features * 2, args.D_features * 4,\n",
    "                      4, 2, 1, bias=False),\n",
    "            nn.BatchNorm2d(args.D_features * 4),\n",
    "            nn.LeakyReLU(0.2, inplace=True),\n",
    "            nn.Conv2d(args.D_features * 4, args.D_features * 8,\n",
    "                      4, 2, 1, bias=False),\n",
    "            nn.BatchNorm2d(args.D_features * 8),\n",
    "            nn.LeakyReLU(0.2, inplace=True),\n",
    "            # state size. (ndf*4) x 4 x 4\n",
    "            nn.Conv2d(args.D_features * 8, 1, 4, 1, 0, bias=False),\n",
    "            nn.Sigmoid()\n",
    "        )\n",
    "        self._initialize_weights()\n",
    "        \n",
    "    # custom weight initialization\n",
    "    def _initialize_weights(self):\n",
    "        for m in self.modules():\n",
    "            if isinstance(m, nn.Conv2d):\n",
    "                n = m.kernel_size[0] * m.kernel_size[1] * m.out_channels\n",
    "                init.normal(m.weight, mean=0, std=0.02)\n",
    "            elif isinstance(m, nn.BatchNorm2d):\n",
    "                init.normal(m.weight, mean=1, std=0.02)\n",
    "                init.constant(m.bias, 0)\n",
    "\n",
    "    def forward(self, input):\n",
    "        output = self.main(input)\n",
    "        return output.view(-1, 1)"
   ]
  },
  {
   "cell_type": "markdown",
   "metadata": {},
   "source": [
    "## Save losses"
   ]
  },
  {
   "cell_type": "code",
   "execution_count": 12,
   "metadata": {
    "collapsed": true
   },
   "outputs": [],
   "source": [
    "class Results():\n",
    "    def __init__(self, results_path):\n",
    "        self.D_losses = []\n",
    "        self.G_losses = []\n",
    "        self.D_reals = []\n",
    "        self.D_fakes = []\n",
    "        self.G_reals = []\n",
    "        self.results_path = results_path\n",
    "    \n",
    "    def save_losses(self, D_loss, G_loss, D_real, D_fake, G_real):\n",
    "        self.D_losses.append(D_loss)\n",
    "        self.G_losses.append(G_loss)\n",
    "        self.D_reals.append(D_real)\n",
    "        self.D_fakes.append(D_fake)\n",
    "        self.G_reals.append(G_real)\n",
    "        \n",
    "    def save_to_disk(self):\n",
    "        f = open(self.results_path + \"D_losses.pkl\", \"wb\")\n",
    "        pickle.dump(self.D_losses, f)\n",
    "        f= open(self.results_path + \"G_losses.pkl\", \"wb\")\n",
    "        pickle.dump(self.G_losses, f)\n",
    "        f = open(self.results_path + \"D_reals.pkl\", \"wb\")\n",
    "        pickle.dump(self.D_reals, f)\n",
    "        f = open(self.results_path + \"D_fakes.pkl\", \"wb\")\n",
    "        pickle.dump(self.D_fakes, f)\n",
    "        f = open(self.results_path + \"G_reals.pkl\", \"wb\")\n",
    "        pickle.dump(self.G_reals, f)\n",
    "        "
   ]
  },
  {
   "cell_type": "markdown",
   "metadata": {},
   "source": [
    "## Define Train and Generate"
   ]
  },
  {
   "cell_type": "code",
   "execution_count": 19,
   "metadata": {
    "collapsed": true
   },
   "outputs": [],
   "source": [
    "def train(args, data_loader, netG, netD, G_optimizer, D_optimizer,\n",
    "          criterion, epoch, result_losses):\n",
    "    D_losses = AverageValueMeter()\n",
    "    G_losses = AverageValueMeter()\n",
    "    D_reals = AverageValueMeter()\n",
    "    D_fakes = AverageValueMeter()\n",
    "    G_reals = AverageValueMeter()\n",
    "    \n",
    "    start = time.time()\n",
    "    # call Variable after .cuda()\n",
    "    for i, (real, _) in enumerate(data_loader):\n",
    "        batch_size = real.size(0)\n",
    "        real_label = torch.from_numpy(np.full(batch_size, 0.9, np.float32)) #modify here\n",
    "        fake_label = torch.zeros(batch_size)\n",
    "        z = torch.randn(batch_size, args.z_dim, 1, 1)\n",
    "        \n",
    "        if args.cuda:\n",
    "            real_label = real_label.cuda()\n",
    "            fake_label = fake_label.cuda()\n",
    "            real = real.cuda()\n",
    "            z = z.cuda()\n",
    "        real_label = Variable(real_label)\n",
    "        fake_label = Variable(fake_label)\n",
    "        real = Variable(real)\n",
    "        z = Variable(z)\n",
    "        \n",
    "        real_output = netD(real)\n",
    "        D_real_loss = criterion(real_output, real_label)\n",
    "        D_real = real_output.data.mean()\n",
    "        \n",
    "        fake = netG(z)\n",
    "        fake_output = netD(fake.detach())\n",
    "        D_fake_loss = criterion(fake_output, fake_label)\n",
    "        D_fake = fake_output.data.mean()\n",
    "        \n",
    "        D_loss = D_real_loss + D_fake_loss\n",
    "        netD.zero_grad()\n",
    "        D_loss.backward()\n",
    "        D_optimizer.step()\n",
    "        \n",
    "        output = netD(fake)\n",
    "        G_loss = criterion(output, real_label)\n",
    "        G_real = output.data.mean()\n",
    "        netG.zero_grad()\n",
    "        G_loss.backward()\n",
    "        G_optimizer.step()\n",
    "        \n",
    "        D_losses.add(D_loss.data.cpu()[0] * batch_size, batch_size)\n",
    "        G_losses.add(G_loss.data.cpu()[0] * batch_size, batch_size)\n",
    "        D_reals.add(D_real * batch_size, batch_size)\n",
    "        D_fakes.add(D_fake * batch_size, batch_size)\n",
    "        G_reals.add(G_real * batch_size, batch_size)\n",
    "        \n",
    "    print(\"=> EPOCH {} | Time: {}s | D_loss: {:.4f} | G_loss: {:.4f}\"\n",
    "          \" | D_real: {:.4f} | D_fake: {:.4f} | G_real: {:.4f}\"\n",
    "          .format(epoch, round(time.time()-start), D_losses.value()[0],\n",
    "                  G_losses.value()[0], D_reals.value()[0],\n",
    "                  D_fakes.value()[0], G_reals.value()[0]))\n",
    "    result_losses.save_losses(D_losses.value()[0],\n",
    "                  G_losses.value()[0], D_reals.value()[0],\n",
    "                  D_fakes.value()[0], G_reals.value()[0])"
   ]
  },
  {
   "cell_type": "code",
   "execution_count": 15,
   "metadata": {
    "collapsed": true
   },
   "outputs": [],
   "source": [
    "def generate(args, netG, epoch):\n",
    "    z = torch.randn(args.batch_size, args.z_dim, 1, 1)\n",
    "    if args.cuda:\n",
    "        z = z.cuda()\n",
    "    fake = netG(Variable(z, volatile=True))\n",
    "    save_image(fake.data.cpu(), os.path.join(args.image_results,\n",
    "        \"fake_sample_epoch_{:02d}.png\".format(epoch)), normalize=True)"
   ]
  },
  {
   "cell_type": "markdown",
   "metadata": {},
   "source": [
    "## Create Model, Define Loss and Optimizer"
   ]
  },
  {
   "cell_type": "code",
   "execution_count": 16,
   "metadata": {
    "collapsed": true
   },
   "outputs": [],
   "source": [
    "netG = _netG()\n",
    "netD = _netD()\n",
    "criterion = nn.BCELoss()\n",
    "if args.cuda:\n",
    "    netD.cuda()\n",
    "    netG.cuda()\n",
    "    criterion.cuda()"
   ]
  },
  {
   "cell_type": "code",
   "execution_count": 17,
   "metadata": {
    "collapsed": true
   },
   "outputs": [],
   "source": [
    "D_optimizer = optim.Adam(netD.parameters(), lr=args.lr,\n",
    "                         betas=(args.beta1, 0.999), weight_decay=1e-4)\n",
    "G_optimizer = optim.Adam(netG.parameters(), lr=args.lr,\n",
    "                         betas=(args.beta1, 0.999), weight_decay=1e-4)"
   ]
  },
  {
   "cell_type": "markdown",
   "metadata": {},
   "source": [
    "## Run Train"
   ]
  },
  {
   "cell_type": "code",
   "execution_count": 20,
   "metadata": {},
   "outputs": [
    {
     "name": "stdout",
     "output_type": "stream",
     "text": [
      "=> EPOCH 0 | Time: 143s | D_loss: 0.8236 | G_loss: 6.1953 | D_real: 0.7828 | D_fake: 0.1360 | G_real: 0.0358\n",
      "=> EPOCH 1 | Time: 46s | D_loss: 0.8170 | G_loss: 3.3177 | D_real: 0.7387 | D_fake: 0.1605 | G_real: 0.0701\n",
      "=> EPOCH 2 | Time: 46s | D_loss: 0.8356 | G_loss: 3.0205 | D_real: 0.7168 | D_fake: 0.1834 | G_real: 0.0910\n",
      "=> EPOCH 3 | Time: 46s | D_loss: 0.9164 | G_loss: 2.7835 | D_real: 0.6861 | D_fake: 0.2149 | G_real: 0.1146\n",
      "=> EPOCH 4 | Time: 46s | D_loss: 0.9850 | G_loss: 2.4746 | D_real: 0.6548 | D_fake: 0.2449 | G_real: 0.1274\n",
      "=> EPOCH 5 | Time: 46s | D_loss: 0.9868 | G_loss: 2.4790 | D_real: 0.6504 | D_fake: 0.2484 | G_real: 0.1266\n",
      "=> EPOCH 6 | Time: 47s | D_loss: 0.9846 | G_loss: 2.3675 | D_real: 0.6441 | D_fake: 0.2544 | G_real: 0.1387\n",
      "=> EPOCH 7 | Time: 46s | D_loss: 1.0194 | G_loss: 2.3158 | D_real: 0.6333 | D_fake: 0.2660 | G_real: 0.1449\n",
      "=> EPOCH 8 | Time: 47s | D_loss: 0.9751 | G_loss: 2.2334 | D_real: 0.6399 | D_fake: 0.2575 | G_real: 0.1478\n",
      "=> EPOCH 9 | Time: 47s | D_loss: 0.9758 | G_loss: 2.2285 | D_real: 0.6400 | D_fake: 0.2606 | G_real: 0.1464\n",
      "=> EPOCH 10 | Time: 47s | D_loss: 0.9746 | G_loss: 2.2478 | D_real: 0.6402 | D_fake: 0.2576 | G_real: 0.1470\n",
      "=> EPOCH 11 | Time: 47s | D_loss: 0.9665 | G_loss: 2.2236 | D_real: 0.6420 | D_fake: 0.2574 | G_real: 0.1438\n",
      "=> EPOCH 12 | Time: 47s | D_loss: 0.9434 | G_loss: 2.2216 | D_real: 0.6474 | D_fake: 0.2529 | G_real: 0.1469\n",
      "=> EPOCH 13 | Time: 46s | D_loss: 0.9529 | G_loss: 2.2377 | D_real: 0.6468 | D_fake: 0.2518 | G_real: 0.1460\n",
      "=> EPOCH 14 | Time: 47s | D_loss: 0.9290 | G_loss: 2.2109 | D_real: 0.6524 | D_fake: 0.2475 | G_real: 0.1453\n",
      "=> EPOCH 15 | Time: 47s | D_loss: 0.9187 | G_loss: 2.2295 | D_real: 0.6566 | D_fake: 0.2423 | G_real: 0.1445\n",
      "=> EPOCH 16 | Time: 46s | D_loss: 0.9029 | G_loss: 2.3207 | D_real: 0.6649 | D_fake: 0.2348 | G_real: 0.1401\n",
      "=> EPOCH 17 | Time: 47s | D_loss: 0.8762 | G_loss: 2.2885 | D_real: 0.6671 | D_fake: 0.2305 | G_real: 0.1329\n",
      "=> EPOCH 18 | Time: 47s | D_loss: 0.8620 | G_loss: 2.3266 | D_real: 0.6773 | D_fake: 0.2232 | G_real: 0.1342\n",
      "=> EPOCH 19 | Time: 47s | D_loss: 0.8810 | G_loss: 2.3155 | D_real: 0.6738 | D_fake: 0.2247 | G_real: 0.1372\n",
      "=> EPOCH 20 | Time: 47s | D_loss: 0.8519 | G_loss: 2.4226 | D_real: 0.6840 | D_fake: 0.2146 | G_real: 0.1268\n",
      "=> EPOCH 21 | Time: 47s | D_loss: 0.8041 | G_loss: 2.4303 | D_real: 0.6960 | D_fake: 0.2037 | G_real: 0.1181\n",
      "=> EPOCH 22 | Time: 47s | D_loss: 0.8054 | G_loss: 2.4488 | D_real: 0.6995 | D_fake: 0.2002 | G_real: 0.1234\n",
      "=> EPOCH 23 | Time: 47s | D_loss: 0.7536 | G_loss: 2.5279 | D_real: 0.7152 | D_fake: 0.1848 | G_real: 0.1104\n",
      "=> EPOCH 24 | Time: 47s | D_loss: 0.8188 | G_loss: 2.4921 | D_real: 0.7047 | D_fake: 0.1944 | G_real: 0.1203\n",
      "=> EPOCH 25 | Time: 47s | D_loss: 0.7292 | G_loss: 2.5701 | D_real: 0.7237 | D_fake: 0.1757 | G_real: 0.1057\n",
      "=> EPOCH 26 | Time: 47s | D_loss: 0.7223 | G_loss: 2.6772 | D_real: 0.7295 | D_fake: 0.1687 | G_real: 0.1024\n",
      "=> EPOCH 27 | Time: 47s | D_loss: 0.7111 | G_loss: 2.6681 | D_real: 0.7349 | D_fake: 0.1657 | G_real: 0.0987\n",
      "=> EPOCH 28 | Time: 47s | D_loss: 0.6872 | G_loss: 2.7797 | D_real: 0.7421 | D_fake: 0.1578 | G_real: 0.0939\n",
      "=> EPOCH 29 | Time: 47s | D_loss: 0.7075 | G_loss: 2.8282 | D_real: 0.7417 | D_fake: 0.1583 | G_real: 0.0949\n",
      "=> EPOCH 30 | Time: 47s | D_loss: 0.6269 | G_loss: 2.8416 | D_real: 0.7638 | D_fake: 0.1357 | G_real: 0.0839\n",
      "=> EPOCH 31 | Time: 47s | D_loss: 0.7682 | G_loss: 2.8623 | D_real: 0.7388 | D_fake: 0.1605 | G_real: 0.1006\n",
      "=> EPOCH 32 | Time: 47s | D_loss: 0.6601 | G_loss: 2.7514 | D_real: 0.7544 | D_fake: 0.1445 | G_real: 0.0893\n",
      "=> EPOCH 33 | Time: 47s | D_loss: 0.5756 | G_loss: 2.9569 | D_real: 0.7843 | D_fake: 0.1161 | G_real: 0.0701\n",
      "=> EPOCH 34 | Time: 47s | D_loss: 0.6064 | G_loss: 3.0107 | D_real: 0.7773 | D_fake: 0.1212 | G_real: 0.0770\n",
      "=> EPOCH 35 | Time: 47s | D_loss: 0.7364 | G_loss: 2.9546 | D_real: 0.7542 | D_fake: 0.1462 | G_real: 0.0924\n",
      "=> EPOCH 36 | Time: 47s | D_loss: 0.5353 | G_loss: 3.0547 | D_real: 0.8003 | D_fake: 0.0995 | G_real: 0.0617\n",
      "=> EPOCH 37 | Time: 47s | D_loss: 0.7075 | G_loss: 3.0331 | D_real: 0.7662 | D_fake: 0.1340 | G_real: 0.0883\n",
      "=> EPOCH 38 | Time: 46s | D_loss: 0.5399 | G_loss: 3.0652 | D_real: 0.7998 | D_fake: 0.1002 | G_real: 0.0621\n",
      "=> EPOCH 39 | Time: 46s | D_loss: 0.6265 | G_loss: 3.0679 | D_real: 0.7804 | D_fake: 0.1187 | G_real: 0.0796\n",
      "=> EPOCH 40 | Time: 47s | D_loss: 0.5243 | G_loss: 3.2318 | D_real: 0.8113 | D_fake: 0.0885 | G_real: 0.0588\n",
      "=> EPOCH 41 | Time: 46s | D_loss: 0.6325 | G_loss: 3.1205 | D_real: 0.7817 | D_fake: 0.1182 | G_real: 0.0740\n",
      "=> EPOCH 42 | Time: 46s | D_loss: 0.5398 | G_loss: 3.2649 | D_real: 0.8079 | D_fake: 0.0912 | G_real: 0.0590\n",
      "=> EPOCH 43 | Time: 47s | D_loss: 0.7056 | G_loss: 3.1725 | D_real: 0.7757 | D_fake: 0.1238 | G_real: 0.0888\n",
      "=> EPOCH 44 | Time: 47s | D_loss: 0.5870 | G_loss: 3.0227 | D_real: 0.7873 | D_fake: 0.1137 | G_real: 0.0693\n",
      "=> EPOCH 45 | Time: 47s | D_loss: 0.5233 | G_loss: 3.3087 | D_real: 0.8149 | D_fake: 0.0849 | G_real: 0.0542\n",
      "=> EPOCH 46 | Time: 47s | D_loss: 0.4728 | G_loss: 3.4248 | D_real: 0.8339 | D_fake: 0.0657 | G_real: 0.0433\n",
      "=> EPOCH 47 | Time: 47s | D_loss: 0.5386 | G_loss: 3.4824 | D_real: 0.8237 | D_fake: 0.0749 | G_real: 0.0537\n",
      "=> EPOCH 48 | Time: 47s | D_loss: 0.6604 | G_loss: 3.1636 | D_real: 0.7781 | D_fake: 0.1228 | G_real: 0.0791\n",
      "=> EPOCH 49 | Time: 47s | D_loss: 0.4743 | G_loss: 3.4505 | D_real: 0.8342 | D_fake: 0.0656 | G_real: 0.0436\n",
      "=> EPOCH 50 | Time: 47s | D_loss: 0.4665 | G_loss: 3.5753 | D_real: 0.8397 | D_fake: 0.0603 | G_real: 0.0390\n",
      "=> EPOCH 51 | Time: 47s | D_loss: 0.7412 | G_loss: 3.1400 | D_real: 0.7606 | D_fake: 0.1383 | G_real: 0.0970\n",
      "=> EPOCH 52 | Time: 47s | D_loss: 0.4721 | G_loss: 3.4739 | D_real: 0.8376 | D_fake: 0.0625 | G_real: 0.0407\n",
      "=> EPOCH 53 | Time: 47s | D_loss: 0.4581 | G_loss: 3.5823 | D_real: 0.8432 | D_fake: 0.0562 | G_real: 0.0378\n",
      "=> EPOCH 54 | Time: 47s | D_loss: 0.5489 | G_loss: 3.5157 | D_real: 0.8225 | D_fake: 0.0778 | G_real: 0.0518\n",
      "=> EPOCH 55 | Time: 47s | D_loss: 0.4952 | G_loss: 3.6239 | D_real: 0.8347 | D_fake: 0.0654 | G_real: 0.0445\n",
      "=> EPOCH 56 | Time: 47s | D_loss: 0.6206 | G_loss: 3.4591 | D_real: 0.8021 | D_fake: 0.0978 | G_real: 0.0708\n",
      "=> EPOCH 57 | Time: 47s | D_loss: 0.5262 | G_loss: 3.4676 | D_real: 0.8206 | D_fake: 0.0791 | G_real: 0.0508\n",
      "=> EPOCH 58 | Time: 47s | D_loss: 0.4628 | G_loss: 3.6310 | D_real: 0.8451 | D_fake: 0.0547 | G_real: 0.0354\n",
      "=> EPOCH 59 | Time: 47s | D_loss: 0.4363 | G_loss: 3.7602 | D_real: 0.8555 | D_fake: 0.0444 | G_real: 0.0301\n",
      "=> EPOCH 60 | Time: 47s | D_loss: 0.7502 | G_loss: 3.3010 | D_real: 0.7717 | D_fake: 0.1284 | G_real: 0.0976\n",
      "=> EPOCH 61 | Time: 47s | D_loss: 0.5048 | G_loss: 3.4409 | D_real: 0.8254 | D_fake: 0.0738 | G_real: 0.0450\n",
      "=> EPOCH 62 | Time: 46s | D_loss: 0.4517 | G_loss: 3.6919 | D_real: 0.8491 | D_fake: 0.0510 | G_real: 0.0340\n",
      "=> EPOCH 63 | Time: 47s | D_loss: 0.5450 | G_loss: 3.5356 | D_real: 0.8208 | D_fake: 0.0787 | G_real: 0.0554\n",
      "=> EPOCH 64 | Time: 47s | D_loss: 0.4454 | G_loss: 3.7565 | D_real: 0.8527 | D_fake: 0.0470 | G_real: 0.0313\n",
      "=> EPOCH 65 | Time: 47s | D_loss: 0.4452 | G_loss: 3.8029 | D_real: 0.8551 | D_fake: 0.0452 | G_real: 0.0301\n",
      "=> EPOCH 66 | Time: 47s | D_loss: 0.4881 | G_loss: 3.7841 | D_real: 0.8393 | D_fake: 0.0603 | G_real: 0.0390\n",
      "=> EPOCH 67 | Time: 47s | D_loss: 0.4618 | G_loss: 3.8034 | D_real: 0.8497 | D_fake: 0.0500 | G_real: 0.0339\n",
      "=> EPOCH 68 | Time: 47s | D_loss: 0.4403 | G_loss: 3.8887 | D_real: 0.8580 | D_fake: 0.0422 | G_real: 0.0283\n",
      "=> EPOCH 69 | Time: 47s | D_loss: 0.4386 | G_loss: 3.9264 | D_real: 0.8598 | D_fake: 0.0398 | G_real: 0.0277\n",
      "=> EPOCH 70 | Time: 47s | D_loss: 0.6767 | G_loss: 3.7305 | D_real: 0.8197 | D_fake: 0.0805 | G_real: 0.0666\n",
      "=> EPOCH 71 | Time: 47s | D_loss: 0.8570 | G_loss: 2.6788 | D_real: 0.7071 | D_fake: 0.1934 | G_real: 0.1395\n",
      "=> EPOCH 72 | Time: 47s | D_loss: 0.4492 | G_loss: 3.6446 | D_real: 0.8484 | D_fake: 0.0508 | G_real: 0.0329\n",
      "=> EPOCH 73 | Time: 47s | D_loss: 0.4271 | G_loss: 3.8200 | D_real: 0.8616 | D_fake: 0.0388 | G_real: 0.0273\n",
      "=> EPOCH 74 | Time: 47s | D_loss: 0.4166 | G_loss: 3.9133 | D_real: 0.8651 | D_fake: 0.0348 | G_real: 0.0240\n",
      "=> EPOCH 75 | Time: 48s | D_loss: 0.5055 | G_loss: 3.8183 | D_real: 0.8388 | D_fake: 0.0613 | G_real: 0.0430\n"
     ]
    },
    {
     "name": "stdout",
     "output_type": "stream",
     "text": [
      "=> EPOCH 76 | Time: 47s | D_loss: 0.4837 | G_loss: 3.7850 | D_real: 0.8422 | D_fake: 0.0578 | G_real: 0.0375\n",
      "=> EPOCH 77 | Time: 47s | D_loss: 0.4340 | G_loss: 3.8947 | D_real: 0.8610 | D_fake: 0.0383 | G_real: 0.0271\n",
      "=> EPOCH 78 | Time: 47s | D_loss: 0.6350 | G_loss: 3.6508 | D_real: 0.8107 | D_fake: 0.0897 | G_real: 0.0641\n",
      "=> EPOCH 79 | Time: 47s | D_loss: 0.4373 | G_loss: 3.7729 | D_real: 0.8567 | D_fake: 0.0430 | G_real: 0.0284\n",
      "=> EPOCH 80 | Time: 47s | D_loss: 0.4225 | G_loss: 3.9455 | D_real: 0.8650 | D_fake: 0.0351 | G_real: 0.0242\n",
      "=> EPOCH 81 | Time: 47s | D_loss: 0.4222 | G_loss: 4.0131 | D_real: 0.8654 | D_fake: 0.0344 | G_real: 0.0244\n",
      "=> EPOCH 82 | Time: 47s | D_loss: 0.4382 | G_loss: 3.9768 | D_real: 0.8616 | D_fake: 0.0382 | G_real: 0.0265\n",
      "=> EPOCH 83 | Time: 47s | D_loss: 0.4055 | G_loss: 4.0988 | D_real: 0.8732 | D_fake: 0.0272 | G_real: 0.0188\n",
      "=> EPOCH 84 | Time: 47s | D_loss: 0.5933 | G_loss: 3.7272 | D_real: 0.8212 | D_fake: 0.0780 | G_real: 0.0560\n",
      "=> EPOCH 85 | Time: 47s | D_loss: 0.4189 | G_loss: 3.9636 | D_real: 0.8669 | D_fake: 0.0330 | G_real: 0.0229\n",
      "=> EPOCH 86 | Time: 47s | D_loss: 0.4034 | G_loss: 4.1212 | D_real: 0.8737 | D_fake: 0.0264 | G_real: 0.0187\n",
      "=> EPOCH 87 | Time: 47s | D_loss: 0.4625 | G_loss: 3.9933 | D_real: 0.8534 | D_fake: 0.0465 | G_real: 0.0321\n",
      "=> EPOCH 88 | Time: 47s | D_loss: 0.4449 | G_loss: 4.0081 | D_real: 0.8600 | D_fake: 0.0393 | G_real: 0.0270\n",
      "=> EPOCH 89 | Time: 47s | D_loss: 0.4219 | G_loss: 4.1107 | D_real: 0.8706 | D_fake: 0.0302 | G_real: 0.0211\n",
      "=> EPOCH 90 | Time: 47s | D_loss: 0.5981 | G_loss: 3.9008 | D_real: 0.8281 | D_fake: 0.0730 | G_real: 0.0570\n",
      "=> EPOCH 91 | Time: 47s | D_loss: 0.4575 | G_loss: 3.8494 | D_real: 0.8511 | D_fake: 0.0468 | G_real: 0.0300\n",
      "=> EPOCH 92 | Time: 47s | D_loss: 0.4187 | G_loss: 4.0578 | D_real: 0.8686 | D_fake: 0.0313 | G_real: 0.0215\n",
      "=> EPOCH 93 | Time: 47s | D_loss: 0.4080 | G_loss: 4.1224 | D_real: 0.8733 | D_fake: 0.0266 | G_real: 0.0187\n",
      "=> EPOCH 94 | Time: 47s | D_loss: 0.4145 | G_loss: 4.1608 | D_real: 0.8728 | D_fake: 0.0279 | G_real: 0.0189\n",
      "=> EPOCH 95 | Time: 47s | D_loss: 0.7534 | G_loss: 3.3930 | D_real: 0.7664 | D_fake: 0.1336 | G_real: 0.1038\n",
      "=> EPOCH 96 | Time: 47s | D_loss: 0.4268 | G_loss: 3.9339 | D_real: 0.8640 | D_fake: 0.0359 | G_real: 0.0239\n",
      "=> EPOCH 97 | Time: 47s | D_loss: 0.4110 | G_loss: 4.0688 | D_real: 0.8714 | D_fake: 0.0284 | G_real: 0.0205\n",
      "=> EPOCH 98 | Time: 47s | D_loss: 0.4126 | G_loss: 4.1309 | D_real: 0.8720 | D_fake: 0.0278 | G_real: 0.0183\n",
      "=> EPOCH 99 | Time: 47s | D_loss: 0.7060 | G_loss: 3.4836 | D_real: 0.7852 | D_fake: 0.1147 | G_real: 0.0852\n"
     ]
    }
   ],
   "source": [
    "result_losses = Results(args.loss_results)\n",
    "for epoch in range(0, args.epochs):\n",
    "    train(args, dataloader, netG, netD, G_optimizer, D_optimizer,\n",
    "          criterion, epoch, result_losses)\n",
    "    generate(args, netG, epoch)"
   ]
  },
  {
   "cell_type": "markdown",
   "metadata": {},
   "source": [
    "## Save loss"
   ]
  },
  {
   "cell_type": "code",
   "execution_count": null,
   "metadata": {
    "collapsed": true
   },
   "outputs": [],
   "source": [
    "result_losses.save_to_disk()"
   ]
  },
  {
   "cell_type": "markdown",
   "metadata": {},
   "source": [
    "## Get one REAL Image"
   ]
  },
  {
   "cell_type": "code",
   "execution_count": 72,
   "metadata": {
    "collapsed": true
   },
   "outputs": [],
   "source": [
    "sample, _ = iter(dataloader).next()\n",
    "save_image(sample, os.path.join(args.results, \"real_sample.png\"))"
   ]
  }
 ],
 "metadata": {
  "kernelspec": {
   "display_name": "Python 3",
   "language": "python",
   "name": "python3"
  },
  "language_info": {
   "codemirror_mode": {
    "name": "ipython",
    "version": 3
   },
   "file_extension": ".py",
   "mimetype": "text/x-python",
   "name": "python",
   "nbconvert_exporter": "python",
   "pygments_lexer": "ipython3",
   "version": "3.5.3"
  },
  "toc": {
   "colors": {
    "hover_highlight": "#DAA520",
    "running_highlight": "#FF0000",
    "selected_highlight": "#FFD700"
   },
   "moveMenuLeft": true,
   "nav_menu": {
    "height": "246px",
    "width": "252px"
   },
   "navigate_menu": true,
   "number_sections": true,
   "sideBar": true,
   "threshold": 4,
   "toc_cell": false,
   "toc_section_display": "block",
   "toc_window_display": false
  }
 },
 "nbformat": 4,
 "nbformat_minor": 2
}
