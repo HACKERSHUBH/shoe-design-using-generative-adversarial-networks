{
 "cells": [
  {
   "cell_type": "markdown",
   "metadata": {},
   "source": [
    "This is the implementation of DCGAN without any improvement\n",
    "- Number of epochs: 200\n",
    "- lr: 0.0002"
   ]
  },
  {
   "cell_type": "markdown",
   "metadata": {},
   "source": [
    "# Import"
   ]
  },
  {
   "cell_type": "code",
   "execution_count": 2,
   "metadata": {
    "collapsed": true
   },
   "outputs": [],
   "source": [
    "import argparse\n",
    "import os\n",
    "import time\n",
    "import pickle"
   ]
  },
  {
   "cell_type": "code",
   "execution_count": 3,
   "metadata": {
    "collapsed": true
   },
   "outputs": [],
   "source": [
    "import torch\n",
    "import torch.nn as nn\n",
    "import torch.nn.init as init\n",
    "from torch.autograd import Variable\n",
    "import torch.optim as optim\n",
    "from torch.utils.data import DataLoader\n",
    "import torchvision.datasets as datasets\n",
    "import torchvision.transforms as transforms\n",
    "from torchvision.utils import save_image\n",
    "from torchnet.meter import AverageValueMeter"
   ]
  },
  {
   "cell_type": "markdown",
   "metadata": {},
   "source": [
    "# Define Arguments"
   ]
  },
  {
   "cell_type": "code",
   "execution_count": 4,
   "metadata": {},
   "outputs": [
    {
     "name": "stdout",
     "output_type": "stream",
     "text": [
      "total 1568\r\n",
      "drwxrwxr-x 2 hminle  4096  4월 23 13:42 \u001b[0m\u001b[01;34m7 For All Mankind Kids\u001b[0m/\r\n",
      "drwxrwxr-x 2 hminle  4096  4월 23 13:42 \u001b[01;34madidas\u001b[0m/\r\n",
      "drwxrwxr-x 2 hminle  4096  4월 23 13:42 \u001b[01;34madidas by Stella McCartney\u001b[0m/\r\n",
      "drwxrwxr-x 2 hminle  4096  4월 23 13:42 \u001b[01;34madidas Golf\u001b[0m/\r\n",
      "drwxrwxr-x 2 hminle 12288  4월 23 13:42 \u001b[01;34madidas Kids\u001b[0m/\r\n",
      "drwxrwxr-x 2 hminle 12288  4월 23 13:42 \u001b[01;34madidas Originals\u001b[0m/\r\n",
      "drwxrwxr-x 2 hminle  4096  4월 23 13:42 \u001b[01;34madidas Originals Kids\u001b[0m/\r\n",
      "drwxrwxr-x 2 hminle  4096  4월 23 13:42 \u001b[01;34madidas Outdoor\u001b[0m/\r\n",
      "drwxrwxr-x 2 hminle 12288  4월 23 13:42 \u001b[01;34madidas Running\u001b[0m/\r\n",
      "drwxrwxr-x 2 hminle  4096  4월 23 13:42 \u001b[01;34madidas Y-3 by Yohji Yamamoto\u001b[0m/\r\n",
      "drwxrwxr-x 2 hminle  4096  4월 23 13:42 \u001b[01;34mAetrex\u001b[0m/\r\n",
      "drwxrwxr-x 2 hminle  4096  4월 23 13:42 \u001b[01;34mAgatha Ruiz De La Prada Kids\u001b[0m/\r\n",
      "drwxrwxr-x 2 hminle  4096  4월 23 13:42 \u001b[01;34mAhnu\u001b[0m/\r\n",
      "drwxrwxr-x 2 hminle  4096  4월 23 13:42 \u001b[01;34mALDO\u001b[0m/\r\n",
      "drwxrwxr-x 2 hminle  4096  4월 23 13:42 \u001b[01;34mAlexander McQueen\u001b[0m/\r\n",
      "drwxrwxr-x 2 hminle  4096  4월 23 13:42 \u001b[01;34mAllrounder by Mephisto\u001b[0m/\r\n",
      "drwxrwxr-x 2 hminle  4096  4월 23 13:42 \u001b[01;34mAltra Zero Drop Footwear\u001b[0m/\r\n",
      "drwxrwxr-x 2 hminle  4096  4월 23 13:42 \u001b[01;34mAmiana\u001b[0m/\r\n",
      "drwxrwxr-x 2 hminle  4096  4월 23 13:42 \u001b[01;34mAnne Klein\u001b[0m/\r\n",
      "drwxrwxr-x 2 hminle  4096  4월 23 13:42 \u001b[01;34mArcopedico\u001b[0m/\r\n",
      "drwxrwxr-x 2 hminle  4096  4월 23 13:42 \u001b[01;34mAriat\u001b[0m/\r\n",
      "drwxrwxr-x 2 hminle  4096  4월 23 13:42 \u001b[01;34mArmani Jeans\u001b[0m/\r\n",
      "drwxrwxr-x 2 hminle  4096  4월 23 13:42 \u001b[01;34mAshworth\u001b[0m/\r\n",
      "drwxrwxr-x 2 hminle 20480  4월 23 13:42 \u001b[01;34mASICS\u001b[0m/\r\n",
      "drwxrwxr-x 2 hminle  4096  4월 23 13:42 \u001b[01;34mASICS Kids\u001b[0m/\r\n",
      "drwxrwxr-x 2 hminle  4096  4월 23 13:42 \u001b[01;34mAsolo\u001b[0m/\r\n",
      "drwxrwxr-x 2 hminle  4096  4월 23 13:42 \u001b[01;34mAster Kids\u001b[0m/\r\n",
      "drwxrwxr-x 2 hminle  4096  4월 23 13:42 \u001b[01;34mAvia\u001b[0m/\r\n",
      "drwxrwxr-x 2 hminle  4096  4월 23 13:42 \u001b[01;34mAxion\u001b[0m/\r\n",
      "drwxrwxr-x 2 hminle  4096  4월 23 13:42 \u001b[01;34mBC Footwear\u001b[0m/\r\n",
      "drwxrwxr-x 2 hminle  4096  4월 23 13:42 \u001b[01;34mBeeko\u001b[0m/\r\n",
      "drwxrwxr-x 2 hminle  4096  4월 23 13:42 \u001b[01;34mBen Sherman\u001b[0m/\r\n",
      "drwxrwxr-x 2 hminle  4096  4월 23 13:42 \u001b[01;34mBetsey Johnson\u001b[0m/\r\n",
      "drwxrwxr-x 2 hminle  4096  4월 23 13:42 \u001b[01;34mBikkembergs\u001b[0m/\r\n",
      "drwxrwxr-x 2 hminle  4096  4월 23 13:42 \u001b[01;34mBloch\u001b[0m/\r\n",
      "drwxrwxr-x 2 hminle  4096  4월 23 13:42 \u001b[01;34mBloch Kids\u001b[0m/\r\n",
      "drwxrwxr-x 2 hminle  4096  4월 23 13:42 \u001b[01;34mBlowfish\u001b[0m/\r\n",
      "drwxrwxr-x 2 hminle  4096  4월 23 13:42 \u001b[01;34mBody Glove\u001b[0m/\r\n",
      "drwxrwxr-x 2 hminle  4096  4월 23 13:42 \u001b[01;34mBogs\u001b[0m/\r\n",
      "drwxrwxr-x 2 hminle  4096  4월 23 13:42 \u001b[01;34mBorn\u001b[0m/\r\n",
      "drwxrwxr-x 2 hminle  4096  4월 23 13:42 \u001b[01;34mBOSS Green\u001b[0m/\r\n",
      "drwxrwxr-x 2 hminle  4096  4월 23 13:42 \u001b[01;34mBOSS Orange\u001b[0m/\r\n",
      "drwxrwxr-x 2 hminle  4096  4월 23 13:42 \u001b[01;34mBottega Veneta\u001b[0m/\r\n",
      "drwxrwxr-x 2 hminle 12288  4월 23 13:42 \u001b[01;34mBrooks\u001b[0m/\r\n",
      "drwxrwxr-x 2 hminle  4096  4월 23 13:42 \u001b[01;34mBrooks Kids\u001b[0m/\r\n",
      "drwxrwxr-x 2 hminle  4096  4월 23 13:42 \u001b[01;34mBurberry\u001b[0m/\r\n",
      "drwxrwxr-x 2 hminle  4096  4월 23 13:42 \u001b[01;34mCallaway\u001b[0m/\r\n",
      "drwxrwxr-x 2 hminle  4096  4월 23 13:42 \u001b[01;34mCall it SPRING\u001b[0m/\r\n",
      "drwxrwxr-x 2 hminle  4096  4월 23 13:42 \u001b[01;34mCalvin Klein\u001b[0m/\r\n",
      "drwxrwxr-x 2 hminle  4096  4월 23 13:42 \u001b[01;34mCalvin Klein Jeans\u001b[0m/\r\n",
      "drwxrwxr-x 2 hminle  4096  4월 23 13:42 \u001b[01;34mCamper\u001b[0m/\r\n",
      "drwxrwxr-x 2 hminle  4096  4월 23 13:42 \u001b[01;34mCamper Kids\u001b[0m/\r\n",
      "drwxrwxr-x 2 hminle  4096  4월 23 13:42 \u001b[01;34mCapezio\u001b[0m/\r\n",
      "drwxrwxr-x 2 hminle  4096  4월 23 13:42 \u001b[01;34mCapezio Kids\u001b[0m/\r\n",
      "drwxrwxr-x 2 hminle  4096  4월 23 13:42 \u001b[01;34mCaterpillar\u001b[0m/\r\n",
      "drwxrwxr-x 2 hminle  4096  4월 23 13:42 \u001b[01;34mChaco\u001b[0m/\r\n",
      "drwxrwxr-x 2 hminle  4096  4월 23 13:42 \u001b[01;34mChaco Kids\u001b[0m/\r\n",
      "drwxrwxr-x 2 hminle  4096  4월 23 13:42 \u001b[01;34mChicago Skates\u001b[0m/\r\n",
      "drwxrwxr-x 2 hminle  4096  4월 23 13:42 \u001b[01;34mChrome\u001b[0m/\r\n",
      "drwxrwxr-x 2 hminle  4096  4월 23 13:42 \u001b[01;34mCienta Kids Shoes\u001b[0m/\r\n",
      "drwxrwxr-x 2 hminle  4096  4월 23 13:42 \u001b[01;34mCirca\u001b[0m/\r\n",
      "drwxrwxr-x 2 hminle  4096  4월 23 13:42 \u001b[01;34mCirca Kids\u001b[0m/\r\n",
      "drwxrwxr-x 2 hminle  4096  4월 23 13:42 \u001b[01;34mClae\u001b[0m/\r\n",
      "drwxrwxr-x 2 hminle  4096  4월 23 13:42 \u001b[01;34mClarks\u001b[0m/\r\n",
      "drwxrwxr-x 2 hminle  4096  4월 23 13:42 \u001b[01;34mCobian\u001b[0m/\r\n",
      "drwxrwxr-x 2 hminle  4096  4월 23 13:42 \u001b[01;34mCole Haan\u001b[0m/\r\n",
      "drwxrwxr-x 2 hminle  4096  4월 23 13:42 \u001b[01;34mCole Haan Kids\u001b[0m/\r\n",
      "drwxrwxr-x 2 hminle  4096  4월 23 13:42 \u001b[01;34mColumbia\u001b[0m/\r\n",
      "drwxrwxr-x 2 hminle  4096  4월 23 13:42 \u001b[01;34mConverse\u001b[0m/\r\n",
      "drwxrwxr-x 2 hminle  4096  4월 23 13:42 \u001b[01;34mConverse by John Varvatos\u001b[0m/\r\n",
      "drwxrwxr-x 2 hminle  4096  4월 23 13:42 \u001b[01;34mConverse Kids\u001b[0m/\r\n",
      "drwxrwxr-x 2 hminle  4096  4월 23 13:42 \u001b[01;34mCostume National\u001b[0m/\r\n",
      "drwxrwxr-x 2 hminle  4096  4월 23 13:42 \u001b[01;34mCreative Recreation\u001b[0m/\r\n",
      "drwxrwxr-x 2 hminle  4096  4월 23 13:42 \u001b[01;34mCreative Recreation Kids\u001b[0m/\r\n",
      "drwxrwxr-x 2 hminle  4096  4월 23 13:42 \u001b[01;34mCrocs\u001b[0m/\r\n",
      "drwxrwxr-x 2 hminle  4096  4월 23 13:42 \u001b[01;34mCrocs Kids\u001b[0m/\r\n",
      "drwxrwxr-x 2 hminle  4096  4월 23 13:42 \u001b[01;34mCushe\u001b[0m/\r\n",
      "drwxrwxr-x 2 hminle  4096  4월 23 13:42 \u001b[01;34mDansko\u001b[0m/\r\n",
      "drwxrwxr-x 2 hminle  4096  4월 23 13:42 \u001b[01;34mDavid Tate\u001b[0m/\r\n",
      "drwxrwxr-x 2 hminle  4096  4월 23 13:42 \u001b[01;34mDC\u001b[0m/\r\n",
      "drwxrwxr-x 2 hminle 12288  4월 23 13:42 \u001b[01;34mDC Kids\u001b[0m/\r\n",
      "drwxrwxr-x 2 hminle  4096  4월 23 13:42 \u001b[01;34mDeer Stags\u001b[0m/\r\n",
      "drwxrwxr-x 2 hminle  4096  4월 23 13:42 \u001b[01;34mDexter Bowling\u001b[0m/\r\n",
      "drwxrwxr-x 2 hminle  4096  4월 23 13:42 \u001b[01;34mDiadora\u001b[0m/\r\n",
      "drwxrwxr-x 2 hminle  4096  4월 23 13:42 \u001b[01;34mDiadora Kids\u001b[0m/\r\n",
      "drwxrwxr-x 2 hminle  4096  4월 23 13:42 \u001b[01;34mDiesel\u001b[0m/\r\n",
      "drwxrwxr-x 2 hminle  4096  4월 23 13:42 \u001b[01;34mDirk Bikkembergs\u001b[0m/\r\n",
      "drwxrwxr-x 2 hminle  4096  4월 23 13:42 \u001b[01;34mDKNY\u001b[0m/\r\n",
      "drwxrwxr-x 2 hminle  4096  4월 23 13:42 \u001b[01;34mDolce & Gabbana\u001b[0m/\r\n",
      "drwxrwxr-x 2 hminle  4096  4월 23 13:42 \u001b[01;34mDrew\u001b[0m/\r\n",
      "drwxrwxr-x 2 hminle  4096  4월 23 13:42 \u001b[01;34mDr. Martens\u001b[0m/\r\n",
      "drwxrwxr-x 2 hminle  4096  4월 23 13:42 \u001b[01;34mDSQUARED2\u001b[0m/\r\n",
      "drwxrwxr-x 2 hminle  4096  4월 23 13:42 \u001b[01;34mDunham\u001b[0m/\r\n",
      "drwxrwxr-x 2 hminle  4096  4월 23 13:42 \u001b[01;34mDVS Shoe Company\u001b[0m/\r\n",
      "drwxrwxr-x 2 hminle  4096  4월 23 13:42 \u001b[01;34mEasy Spirit\u001b[0m/\r\n",
      "drwxrwxr-x 2 hminle  4096  4월 23 13:42 \u001b[01;34mECCO\u001b[0m/\r\n",
      "drwxrwxr-x 2 hminle  4096  4월 23 13:42 \u001b[01;34mECCO Golf\u001b[0m/\r\n",
      "drwxrwxr-x 2 hminle  4096  4월 23 13:42 \u001b[01;34mEcco Kids\u001b[0m/\r\n",
      "drwxrwxr-x 2 hminle  4096  4월 23 13:42 \u001b[01;34mECCO Sport\u001b[0m/\r\n",
      "drwxrwxr-x 2 hminle  4096  4월 23 13:42 \u001b[01;34mEd Hardy\u001b[0m/\r\n",
      "drwxrwxr-x 2 hminle  4096  4월 23 13:42 \u001b[01;34mEktelon\u001b[0m/\r\n",
      "drwxrwxr-x 2 hminle  4096  4월 23 13:42 \u001b[01;34mElement\u001b[0m/\r\n",
      "drwxrwxr-x 2 hminle  4096  4월 23 13:42 \u001b[01;34mElizabeth and James\u001b[0m/\r\n",
      "drwxrwxr-x 2 hminle  4096  4월 23 13:42 \u001b[01;34mEl Naturalista\u001b[0m/\r\n",
      "drwxrwxr-x 2 hminle  4096  4월 23 13:42 \u001b[01;34mEmerald by Element\u001b[0m/\r\n",
      "drwxrwxr-x 2 hminle  4096  4월 23 13:42 \u001b[01;34mEmerica\u001b[0m/\r\n",
      "drwxrwxr-x 2 hminle  4096  4월 23 13:42 \u001b[01;34metnies\u001b[0m/\r\n",
      "drwxrwxr-x 2 hminle  4096  4월 23 13:42 \u001b[01;34metnies Kids\u001b[0m/\r\n",
      "drwxrwxr-x 2 hminle  4096  4월 23 13:42 \u001b[01;34mEVOLV\u001b[0m/\r\n",
      "drwxrwxr-x 2 hminle  4096  4월 23 13:42 \u001b[01;34mFallen\u001b[0m/\r\n",
      "drwxrwxr-x 2 hminle  4096  4월 23 13:42 \u001b[01;34mFila\u001b[0m/\r\n",
      "drwxrwxr-x 2 hminle  4096  4월 23 13:42 \u001b[01;34mFinn Comfort\u001b[0m/\r\n",
      "drwxrwxr-x 2 hminle  4096  4월 23 13:42 \u001b[01;34mFitFlop\u001b[0m/\r\n",
      "drwxrwxr-x 2 hminle  4096  4월 23 13:42 \u001b[01;34mFive Ten\u001b[0m/\r\n",
      "drwxrwxr-x 2 hminle  4096  4월 23 13:42 \u001b[01;34mFox\u001b[0m/\r\n",
      "drwxrwxr-x 2 hminle  4096  4월 23 13:42 \u001b[01;34mFratelli Rossetti\u001b[0m/\r\n",
      "drwxrwxr-x 2 hminle  4096  4월 23 13:42 \u001b[01;34mFred Perry\u001b[0m/\r\n",
      "drwxrwxr-x 2 hminle  4096  4월 23 13:42 \u001b[01;34mFrye\u001b[0m/\r\n",
      "drwxrwxr-x 2 hminle  4096  4월 23 13:42 \u001b[01;34mFrye Kids\u001b[0m/\r\n",
      "drwxrwxr-x 2 hminle  4096  4월 23 13:42 \u001b[01;34mGabor\u001b[0m/\r\n",
      "drwxrwxr-x 2 hminle  4096  4월 23 13:42 \u001b[01;34mGarmont\u001b[0m/\r\n",
      "drwxrwxr-x 2 hminle  4096  4월 23 13:42 \u001b[01;34mGBX\u001b[0m/\r\n",
      "drwxrwxr-x 2 hminle  4096  4월 23 13:42 \u001b[01;34mGeneric Surplus\u001b[0m/\r\n",
      "drwxrwxr-x 2 hminle  4096  4월 23 13:42 \u001b[01;34mGeox Kids\u001b[0m/\r\n",
      "drwxrwxr-x 2 hminle  4096  4월 23 13:42 \u001b[01;34mGiro\u001b[0m/\r\n",
      "drwxrwxr-x 2 hminle  4096  4월 23 13:42 \u001b[01;34mGiuseppe Zanotti\u001b[0m/\r\n",
      "drwxrwxr-x 2 hminle  4096  4월 23 13:42 \u001b[01;34mGlobe\u001b[0m/\r\n",
      "drwxrwxr-x 2 hminle  4096  4월 23 13:42 \u001b[01;34mGlobe Kids\u001b[0m/\r\n",
      "drwxrwxr-x 2 hminle  4096  4월 23 13:42 \u001b[01;34mGola\u001b[0m/\r\n",
      "drwxrwxr-x 2 hminle  4096  4월 23 13:42 \u001b[01;34mGoLite\u001b[0m/\r\n",
      "drwxrwxr-x 2 hminle  4096  4월 23 13:42 \u001b[01;34mGravis\u001b[0m/\r\n",
      "drwxrwxr-x 2 hminle  4096  4월 23 13:42 \u001b[01;34mGUESS\u001b[0m/\r\n",
      "drwxrwxr-x 2 hminle  4096  4월 23 13:42 \u001b[01;34mGUESS Kids'\u001b[0m/\r\n",
      "drwxrwxr-x 2 hminle  4096  4월 23 13:42 \u001b[01;34mHabitat\u001b[0m/\r\n",
      "drwxrwxr-x 2 hminle  4096  4월 23 13:42 \u001b[01;34mHeelys\u001b[0m/\r\n",
      "drwxrwxr-x 2 hminle  4096  4월 23 13:42 \u001b[01;34mHi-Tec\u001b[0m/\r\n",
      "drwxrwxr-x 2 hminle  4096  4월 23 13:42 \u001b[01;34mHi-Tec Kids\u001b[0m/\r\n",
      "drwxrwxr-x 2 hminle  4096  4월 23 13:42 \u001b[01;34mHoka One One\u001b[0m/\r\n",
      "drwxrwxr-x 2 hminle  4096  4월 23 13:42 \u001b[01;34mHUGO\u001b[0m/\r\n",
      "drwxrwxr-x 2 hminle  4096  4월 23 13:42 \u001b[01;34mHush Puppies\u001b[0m/\r\n",
      "drwxrwxr-x 2 hminle  4096  4월 23 13:42 \u001b[01;34mHush Puppies Kids\u001b[0m/\r\n",
      "drwxrwxr-x 2 hminle  4096  4월 23 13:42 \u001b[01;34minov-8\u001b[0m/\r\n",
      "drwxrwxr-x 2 hminle  4096  4월 23 13:42 \u001b[01;34mIpath\u001b[0m/\r\n",
      "drwxrwxr-x 2 hminle  4096  4월 23 13:42 \u001b[01;34mJ-41\u001b[0m/\r\n",
      "drwxrwxr-x 2 hminle  4096  4월 23 13:42 \u001b[01;34mJambu\u001b[0m/\r\n",
      "drwxrwxr-x 2 hminle  4096  4월 23 13:42 \u001b[01;34mJambu Kids\u001b[0m/\r\n",
      "drwxrwxr-x 2 hminle  4096  4월 23 13:42 \u001b[01;34mJessica Simpson Kids\u001b[0m/\r\n",
      "drwxrwxr-x 2 hminle  4096  4월 23 13:42 \u001b[01;34mJohn Varvatos\u001b[0m/\r\n",
      "drwxrwxr-x 2 hminle  4096  4월 23 13:42 \u001b[01;34mJosef Seibel\u001b[0m/\r\n",
      "drwxrwxr-x 2 hminle  4096  4월 23 13:42 \u001b[01;34mJuicy Couture\u001b[0m/\r\n",
      "drwxrwxr-x 2 hminle  4096  4월 23 13:42 \u001b[01;34mJuicy Couture Kids\u001b[0m/\r\n",
      "drwxrwxr-x 2 hminle  4096  4월 23 13:42 \u001b[01;34mJumping Jacks Kids\u001b[0m/\r\n",
      "drwxrwxr-x 2 hminle  4096  4월 23 13:42 \u001b[01;34mJust Cavalli\u001b[0m/\r\n",
      "drwxrwxr-x 2 hminle  4096  4월 23 13:42 \u001b[01;34mK2 Skates\u001b[0m/\r\n",
      "drwxrwxr-x 2 hminle  4096  4월 23 13:42 \u001b[01;34mKalso Earth\u001b[0m/\r\n",
      "drwxrwxr-x 2 hminle  4096  4월 23 13:42 \u001b[01;34mKamik\u001b[0m/\r\n",
      "drwxrwxr-x 2 hminle  4096  4월 23 13:42 \u001b[01;34mKangaROOS\u001b[0m/\r\n",
      "drwxrwxr-x 2 hminle  4096  4월 23 13:42 \u001b[01;34mKangaROOS Kids\u001b[0m/\r\n",
      "drwxrwxr-x 2 hminle  4096  4월 23 13:42 \u001b[01;34mKeds\u001b[0m/\r\n",
      "drwxrwxr-x 2 hminle  4096  4월 23 13:42 \u001b[01;34mKeds Kids\u001b[0m/\r\n",
      "drwxrwxr-x 2 hminle  4096  4월 23 13:42 \u001b[01;34mKeen\u001b[0m/\r\n",
      "drwxrwxr-x 2 hminle  4096  4월 23 13:42 \u001b[01;34mKeen Kids\u001b[0m/\r\n",
      "drwxrwxr-x 2 hminle  4096  4월 23 13:42 \u001b[01;34mKeen Utility\u001b[0m/\r\n",
      "drwxrwxr-x 2 hminle  4096  4월 23 13:42 \u001b[01;34mKenneth Cole New York\u001b[0m/\r\n",
      "drwxrwxr-x 2 hminle  4096  4월 23 13:42 \u001b[01;34mKenneth Cole Reaction\u001b[0m/\r\n",
      "drwxrwxr-x 2 hminle  4096  4월 23 13:42 \u001b[01;34mKenneth Cole Reaction Kids\u001b[0m/\r\n",
      "drwxrwxr-x 2 hminle  4096  4월 23 13:42 \u001b[01;34mKhombu\u001b[0m/\r\n",
      "drwxrwxr-x 2 hminle  4096  4월 23 13:42 \u001b[01;34mKid Express\u001b[0m/\r\n",
      "drwxrwxr-x 2 hminle  4096  4월 23 13:42 \u001b[01;34mKORS Michael Kors Kids\u001b[0m/\r\n",
      "drwxrwxr-x 2 hminle  4096  4월 23 13:42 \u001b[01;34mK-Swiss\u001b[0m/\r\n",
      "drwxrwxr-x 2 hminle  4096  4월 23 13:42 \u001b[01;34mK-Swiss Kids\u001b[0m/\r\n",
      "drwxrwxr-x 2 hminle 12288  4월 23 13:42 \u001b[01;34mLacoste\u001b[0m/\r\n",
      "drwxrwxr-x 2 hminle  4096  4월 23 13:42 \u001b[01;34mLacoste Kids\u001b[0m/\r\n",
      "drwxrwxr-x 2 hminle  4096  4월 23 13:42 \u001b[01;34mLakai\u001b[0m/\r\n",
      "drwxrwxr-x 2 hminle  4096  4월 23 13:42 \u001b[01;34mLa Sportiva\u001b[0m/\r\n",
      "drwxrwxr-x 2 hminle  4096  4월 23 13:42 \u001b[01;34mLevi's&#174; Kids\u001b[0m/\r\n",
      "drwxrwxr-x 2 hminle  4096  4월 23 13:42 \u001b[01;34mLevi's&#174; Shoes\u001b[0m/\r\n",
      "drwxrwxr-x 2 hminle  4096  4월 23 13:42 \u001b[01;34mLowa\u001b[0m/\r\n",
      "drwxrwxr-x 2 hminle  4096  4월 23 13:42 \u001b[01;34mLugz\u001b[0m/\r\n",
      "drwxrwxr-x 2 hminle  4096  4월 23 13:42 \u001b[01;34mMacbeth\u001b[0m/\r\n",
      "drwxrwxr-x 2 hminle  4096  4월 23 13:42 \u001b[01;34mMadden Girl\u001b[0m/\r\n",
      "drwxrwxr-x 2 hminle  4096  4월 23 13:42 \u001b[01;34mMarc by Marc Jacobs\u001b[0m/\r\n",
      "drwxrwxr-x 2 hminle  4096  4월 23 13:42 \u001b[01;34mMarc Jacobs\u001b[0m/\r\n",
      "drwxrwxr-x 2 hminle  4096  4월 23 13:42 \u001b[01;34mMephisto\u001b[0m/\r\n",
      "drwxrwxr-x 2 hminle 12288  4월 23 13:42 \u001b[01;34mMerrell\u001b[0m/\r\n",
      "drwxrwxr-x 2 hminle  4096  4월 23 13:42 \u001b[01;34mMerrell Kids\u001b[0m/\r\n",
      "drwxrwxr-x 2 hminle  4096  4월 23 13:42 \u001b[01;34mMe Too Kids\u001b[0m/\r\n",
      "drwxrwxr-x 2 hminle  4096  4월 23 13:42 \u001b[01;34mMIA\u001b[0m/\r\n",
      "drwxrwxr-x 2 hminle  4096  4월 23 13:42 \u001b[01;34mMICHAEL Michael Kors\u001b[0m/\r\n",
      "drwxrwxr-x 2 hminle  4096  4월 23 13:42 \u001b[01;34mMICHAEL Michael Kors Kids\u001b[0m/\r\n",
      "drwxrwxr-x 2 hminle 12288  4월 23 13:42 \u001b[01;34mMizuno\u001b[0m/\r\n",
      "drwxrwxr-x 2 hminle  4096  4월 23 13:42 \u001b[01;34mMizuno Kids\u001b[0m/\r\n",
      "drwxrwxr-x 2 hminle  4096  4월 23 13:42 \u001b[01;34mMontrail\u001b[0m/\r\n",
      "drwxrwxr-x 2 hminle  4096  4월 23 13:42 \u001b[01;34mMorgan&Milo Kids\u001b[0m/\r\n",
      "drwxrwxr-x 2 hminle  4096  4월 23 13:42 \u001b[01;34mMoschino\u001b[0m/\r\n",
      "drwxrwxr-x 2 hminle  4096  4월 23 13:42 \u001b[01;34mMountrek\u001b[0m/\r\n",
      "drwxrwxr-x 2 hminle  4096  4월 23 13:42 \u001b[01;34mMOZO\u001b[0m/\r\n",
      "drwxrwxr-x 2 hminle  4096  4월 23 13:42 \u001b[01;34mMunro American\u001b[0m/\r\n",
      "drwxrwxr-x 2 hminle  4096  4월 23 13:42 \u001b[01;34mNative Kids Shoes\u001b[0m/\r\n",
      "drwxrwxr-x 2 hminle  4096  4월 23 13:42 \u001b[01;34mNative Shoes\u001b[0m/\r\n",
      "drwxrwxr-x 2 hminle  4096  4월 23 13:42 \u001b[01;34mNaturino\u001b[0m/\r\n",
      "drwxrwxr-x 2 hminle 20480  4월 23 13:42 \u001b[01;34mNew Balance\u001b[0m/\r\n",
      "drwxrwxr-x 2 hminle  4096  4월 23 13:42 \u001b[01;34mNew Balance Classics\u001b[0m/\r\n",
      "drwxrwxr-x 2 hminle 12288  4월 23 13:42 \u001b[01;34mNew Balance Kids\u001b[0m/\r\n",
      "drwxrwxr-x 2 hminle  4096  4월 23 13:42 \u001b[01;34mNewton Running\u001b[0m/\r\n",
      "drwxrwxr-x 2 hminle 36864  4월 23 13:42 \u001b[01;34mNike\u001b[0m/\r\n",
      "drwxrwxr-x 2 hminle  4096  4월 23 13:42 \u001b[01;34mNike Action\u001b[0m/\r\n",
      "drwxrwxr-x 2 hminle  4096  4월 23 13:42 \u001b[01;34mNike Action Kids\u001b[0m/\r\n",
      "drwxrwxr-x 2 hminle  4096  4월 23 13:42 \u001b[01;34mNike Golf\u001b[0m/\r\n",
      "drwxrwxr-x 2 hminle 20480  4월 23 13:42 \u001b[01;34mNike Kids\u001b[0m/\r\n",
      "drwxrwxr-x 2 hminle  4096  4월 23 13:42 \u001b[01;34mNine West Sneakers\u001b[0m/\r\n",
      "drwxrwxr-x 2 hminle  4096  4월 23 13:42 \u001b[01;34mNO SOX\u001b[0m/\r\n",
      "drwxrwxr-x 2 hminle  4096  4월 23 13:42 \u001b[01;34mNunn Bush\u001b[0m/\r\n",
      "drwxrwxr-x 2 hminle  4096  4월 23 13:42 \u001b[01;34mNurse Mates\u001b[0m/\r\n",
      "drwxrwxr-x 2 hminle  4096  4월 23 13:42 \u001b[01;34mOakley\u001b[0m/\r\n",
      "drwxrwxr-x 2 hminle  4096  4월 23 13:42 \u001b[01;34mOcean Minded\u001b[0m/\r\n",
      "drwxrwxr-x 2 hminle  4096  4월 23 13:42 \u001b[01;34mOluKai\u001b[0m/\r\n",
      "drwxrwxr-x 2 hminle  4096  4월 23 13:42 \u001b[01;34mOluKai Kids\u001b[0m/\r\n",
      "drwxrwxr-x 2 hminle  4096  4월 23 13:42 \u001b[01;34mO'Neill\u001b[0m/\r\n",
      "drwxrwxr-x 2 hminle  4096  4월 23 13:42 \u001b[01;34mOnitsuka Tiger by Asics\u001b[0m/\r\n",
      "drwxrwxr-x 2 hminle  4096  4월 23 13:42 \u001b[01;34mOnitsuka Tiger Kids by Asics\u001b[0m/\r\n",
      "drwxrwxr-x 2 hminle  4096  4월 23 13:42 \u001b[01;34mOriginal Penguin\u001b[0m/\r\n",
      "drwxrwxr-x 2 hminle  4096  4월 23 13:42 \u001b[01;34mOrthaheel\u001b[0m/\r\n",
      "drwxrwxr-x 2 hminle  4096  4월 23 13:42 \u001b[01;34mOsiris\u001b[0m/\r\n",
      "drwxrwxr-x 2 hminle  4096  4월 23 13:42 \u001b[01;34mOsiris Kids\u001b[0m/\r\n",
      "drwxrwxr-x 2 hminle  4096  4월 23 13:42 \u001b[01;34mPablosky Kids\u001b[0m/\r\n",
      "drwxrwxr-x 2 hminle  4096  4월 23 13:42 \u001b[01;34mPalladium\u001b[0m/\r\n",
      "drwxrwxr-x 2 hminle  4096  4월 23 13:42 \u001b[01;34mPalladium Kids\u001b[0m/\r\n",
      "drwxrwxr-x 2 hminle  4096  4월 23 13:42 \u001b[01;34mPatagonia\u001b[0m/\r\n",
      "drwxrwxr-x 2 hminle  4096  4월 23 13:42 \u001b[01;34mPaul Smith\u001b[0m/\r\n",
      "drwxrwxr-x 2 hminle  4096  4월 23 13:42 \u001b[01;34mPaul Smith Junior\u001b[0m/\r\n",
      "drwxrwxr-x 2 hminle  4096  4월 23 13:42 \u001b[01;34mPearl Izumi\u001b[0m/\r\n",
      "drwxrwxr-x 2 hminle  4096  4월 23 13:42 \u001b[01;34mpediped\u001b[0m/\r\n",
      "drwxrwxr-x 2 hminle  4096  4월 23 13:42 \u001b[01;34mPF Flyers\u001b[0m/\r\n",
      "drwxrwxr-x 2 hminle  4096  4월 23 13:42 \u001b[01;34mPF Flyers Kids\u001b[0m/\r\n",
      "drwxrwxr-x 2 hminle  4096  4월 23 13:42 \u001b[01;34mPikolinos\u001b[0m/\r\n",
      "drwxrwxr-x 2 hminle  4096  4월 23 13:42 \u001b[01;34mPolo Ralph Lauren\u001b[0m/\r\n",
      "drwxrwxr-x 2 hminle  4096  4월 23 13:42 \u001b[01;34mPolo Ralph Lauren Kids\u001b[0m/\r\n",
      "drwxrwxr-x 2 hminle  4096  4월 23 13:42 \u001b[01;34mPrimigi Kids\u001b[0m/\r\n",
      "drwxrwxr-x 2 hminle  4096  4월 23 13:42 \u001b[01;34mPrince\u001b[0m/\r\n",
      "drwxrwxr-x 2 hminle  4096  4월 23 13:42 \u001b[01;34mPrivo by Clarks\u001b[0m/\r\n",
      "drwxrwxr-x 2 hminle  4096  4월 23 13:42 \u001b[01;34mPro-Keds\u001b[0m/\r\n",
      "drwxrwxr-x 2 hminle  4096  4월 23 13:42 \u001b[01;34mPropet\u001b[0m/\r\n",
      "drwxrwxr-x 2 hminle 28672  4월 23 13:42 \u001b[01;34mPUMA\u001b[0m/\r\n",
      "drwxrwxr-x 2 hminle 12288  4월 23 13:42 \u001b[01;34mPuma Kids\u001b[0m/\r\n",
      "drwxrwxr-x 2 hminle  4096  4월 23 13:42 \u001b[01;34mPUMA Sport Fashion\u001b[0m/\r\n",
      "drwxrwxr-x 2 hminle  4096  4월 23 13:42 \u001b[01;34mQuiksilver\u001b[0m/\r\n",
      "drwxrwxr-x 2 hminle  4096  4월 23 13:42 \u001b[01;34mRachel Zoe\u001b[0m/\r\n",
      "drwxrwxr-x 2 hminle  4096  4월 23 13:42 \u001b[01;34mRagg Kids\u001b[0m/\r\n",
      "drwxrwxr-x 2 hminle  4096  4월 23 13:42 \u001b[01;34mRalph Lauren Layette Kids\u001b[0m/\r\n",
      "drwxrwxr-x 2 hminle  4096  4월 23 13:42 \u001b[01;34mReebok\u001b[0m/\r\n",
      "drwxrwxr-x 2 hminle  4096  4월 23 13:42 \u001b[01;34mReebok Kids\u001b[0m/\r\n",
      "drwxrwxr-x 2 hminle  4096  4월 23 13:42 \u001b[01;34mReebok Lifestyle\u001b[0m/\r\n",
      "drwxrwxr-x 2 hminle  4096  4월 23 13:42 \u001b[01;34mReebok Team\u001b[0m/\r\n",
      "drwxrwxr-x 2 hminle  4096  4월 23 13:42 \u001b[01;34mReef\u001b[0m/\r\n",
      "drwxrwxr-x 2 hminle  4096  4월 23 13:42 \u001b[01;34mReport\u001b[0m/\r\n",
      "drwxrwxr-x 2 hminle  4096  4월 23 13:42 \u001b[01;34mRieker\u001b[0m/\r\n",
      "drwxrwxr-x 2 hminle  4096  4월 23 13:42 \u001b[01;34mRocket Dog\u001b[0m/\r\n",
      "drwxrwxr-x 2 hminle  4096  4월 23 13:42 \u001b[01;34mRockport\u001b[0m/\r\n",
      "drwxrwxr-x 2 hminle  4096  4월 23 13:42 \u001b[01;34mRollerblade\u001b[0m/\r\n",
      "drwxrwxr-x 2 hminle  4096  4월 23 13:42 \u001b[01;34mRomika\u001b[0m/\r\n",
      "drwxrwxr-x 2 hminle  4096  4월 23 13:42 \u001b[01;34mRoxy\u001b[0m/\r\n",
      "drwxrwxr-x 2 hminle  4096  4월 23 13:42 \u001b[01;34mRyka\u001b[0m/\r\n",
      "drwxrwxr-x 2 hminle  4096  4월 23 13:42 \u001b[01;34mSalomon\u001b[0m/\r\n",
      "drwxrwxr-x 2 hminle  4096  4월 23 13:42 \u001b[01;34mSalomon Kids\u001b[0m/\r\n",
      "drwxrwxr-x 2 hminle  4096  4월 23 13:42 \u001b[01;34mSalvatore Ferragamo\u001b[0m/\r\n",
      "drwxrwxr-x 2 hminle  4096  4월 23 13:42 \u001b[01;34mSanuk\u001b[0m/\r\n",
      "drwxrwxr-x 2 hminle  4096  4월 23 13:42 \u001b[01;34mSanuk Kids\u001b[0m/\r\n",
      "drwxrwxr-x 2 hminle 12288  4월 23 13:42 \u001b[01;34mSaucony\u001b[0m/\r\n",
      "drwxrwxr-x 2 hminle  4096  4월 23 13:42 \u001b[01;34mSaucony Kids\u001b[0m/\r\n",
      "drwxrwxr-x 2 hminle  4096  4월 23 13:42 \u001b[01;34mSaucony Originals\u001b[0m/\r\n",
      "drwxrwxr-x 2 hminle  4096  4월 23 13:42 \u001b[01;34mScarpa\u001b[0m/\r\n",
      "drwxrwxr-x 2 hminle  4096  4월 23 13:42 \u001b[01;34mSchool Issue\u001b[0m/\r\n",
      "drwxrwxr-x 2 hminle  4096  4월 23 13:42 \u001b[01;34mSeaVees\u001b[0m/\r\n",
      "drwxrwxr-x 2 hminle  4096  4월 23 13:42 \u001b[01;34mSebago\u001b[0m/\r\n",
      "drwxrwxr-x 2 hminle  4096  4월 23 13:42 \u001b[01;34mSee Kai Run Kids\u001b[0m/\r\n",
      "drwxrwxr-x 2 hminle  4096  4월 23 13:42 \u001b[01;34mShimano\u001b[0m/\r\n",
      "drwxrwxr-x 2 hminle  4096  4월 23 13:42 \u001b[01;34mSIDI\u001b[0m/\r\n",
      "drwxrwxr-x 2 hminle 20480  4월 23 13:42 \u001b[01;34mSKECHERS\u001b[0m/\r\n",
      "drwxrwxr-x 2 hminle  4096  4월 23 13:42 \u001b[01;34mSKECHERS KIDS\u001b[0m/\r\n",
      "drwxrwxr-x 2 hminle  4096  4월 23 13:42 \u001b[01;34mSKECHERS Work\u001b[0m/\r\n",
      "drwxrwxr-x 2 hminle  4096  4월 23 13:42 \u001b[01;34mSLVR\u001b[0m/\r\n",
      "drwxrwxr-x 2 hminle  4096  4월 23 13:42 \u001b[01;34mSoft Style\u001b[0m/\r\n",
      "drwxrwxr-x 2 hminle  4096  4월 23 13:42 \u001b[01;34mSpeedo\u001b[0m/\r\n",
      "drwxrwxr-x 2 hminle  4096  4월 23 13:42 \u001b[01;34mSperry Kids\u001b[0m/\r\n",
      "drwxrwxr-x 2 hminle  4096  4월 23 13:42 \u001b[01;34mSperry Top-Sider\u001b[0m/\r\n",
      "drwxrwxr-x 2 hminle  4096  4월 23 13:42 \u001b[01;34mSpira\u001b[0m/\r\n",
      "drwxrwxr-x 2 hminle  4096  4월 23 13:42 \u001b[01;34mSteve Madden\u001b[0m/\r\n",
      "drwxrwxr-x 2 hminle  4096  4월 23 13:42 \u001b[01;34mSteve Madden Kids\u001b[0m/\r\n",
      "drwxrwxr-x 2 hminle  4096  4월 23 13:42 \u001b[01;34mStride Rite\u001b[0m/\r\n",
      "drwxrwxr-x 2 hminle  4096  4월 23 13:42 \u001b[01;34mStuart Weitzman\u001b[0m/\r\n",
      "drwxrwxr-x 2 hminle  4096  4월 23 13:42 \u001b[01;34mStuart Weitzman for The Cool People\u001b[0m/\r\n",
      "drwxrwxr-x 2 hminle  4096  4월 23 13:42 \u001b[01;34mSuperga\u001b[0m/\r\n",
      "drwxrwxr-x 2 hminle  4096  4월 23 13:42 \u001b[01;34mSuperga Kids\u001b[0m/\r\n",
      "drwxrwxr-x 2 hminle  4096  4월 23 13:42 \u001b[01;34mSupra\u001b[0m/\r\n",
      "drwxrwxr-x 2 hminle  4096  4월 23 13:42 \u001b[01;34mTecnica\u001b[0m/\r\n",
      "drwxrwxr-x 2 hminle  4096  4월 23 13:42 \u001b[01;34mTed Baker\u001b[0m/\r\n",
      "drwxrwxr-x 2 hminle  4096  4월 23 13:42 \u001b[01;34mTeva\u001b[0m/\r\n",
      "drwxrwxr-x 2 hminle  4096  4월 23 13:42 \u001b[01;34mTeva Kids\u001b[0m/\r\n",
      "drwxrwxr-x 2 hminle  4096  4월 23 13:42 \u001b[01;34mThe North Face\u001b[0m/\r\n",
      "drwxrwxr-x 2 hminle  4096  4월 23 13:42 \u001b[01;34mThe North Face Kids\u001b[0m/\r\n",
      "drwxrwxr-x 2 hminle  4096  4월 23 13:42 \u001b[01;34mTIC TAC TOES\u001b[0m/\r\n",
      "drwxrwxr-x 2 hminle  4096  4월 23 13:42 \u001b[01;34mTimberland\u001b[0m/\r\n",
      "drwxrwxr-x 2 hminle  4096  4월 23 13:42 \u001b[01;34mTimberland Kids\u001b[0m/\r\n",
      "drwxrwxr-x 2 hminle  4096  4월 23 13:42 \u001b[01;34mTimberland PRO\u001b[0m/\r\n",
      "drwxrwxr-x 2 hminle  4096  4월 23 13:42 \u001b[01;34mTommy Bahama\u001b[0m/\r\n",
      "drwxrwxr-x 2 hminle  4096  4월 23 13:42 \u001b[01;34mTommy Hilfiger\u001b[0m/\r\n",
      "drwxrwxr-x 2 hminle  4096  4월 23 13:42 \u001b[01;34mTommy Hilfiger Kids\u001b[0m/\r\n",
      "drwxrwxr-x 2 hminle  4096  4월 23 13:42 \u001b[01;34mTravis Mathew\u001b[0m/\r\n",
      "drwxrwxr-x 2 hminle  4096  4월 23 13:42 \u001b[01;34mTretorn\u001b[0m/\r\n",
      "drwxrwxr-x 2 hminle  4096  4월 23 13:42 \u001b[01;34mTretorn Kids\u001b[0m/\r\n",
      "drwxrwxr-x 2 hminle  4096  4월 23 13:42 \u001b[01;34mTrue Religion\u001b[0m/\r\n",
      "drwxrwxr-x 2 hminle  4096  4월 23 13:42 \u001b[01;34mTsubo\u001b[0m/\r\n",
      "drwxrwxr-x 2 hminle  4096  4월 23 13:42 \u001b[01;34mTsukihoshi Kids\u001b[0m/\r\n",
      "drwxrwxr-x 2 hminle  4096  4월 23 13:42 \u001b[01;34mTwig Kids\u001b[0m/\r\n",
      "drwxrwxr-x 2 hminle  4096  4월 23 13:42 \u001b[01;34mUGG\u001b[0m/\r\n",
      "drwxrwxr-x 2 hminle  4096  4월 23 13:42 \u001b[01;34mUGG Kids\u001b[0m/\r\n",
      "drwxrwxr-x 2 hminle  4096  4월 23 13:42 \u001b[01;34mUmi Kids\u001b[0m/\r\n",
      "drwxrwxr-x 2 hminle  4096  4월 23 13:42 \u001b[01;34mUnder Armour\u001b[0m/\r\n",
      "drwxrwxr-x 2 hminle  4096  4월 23 13:42 \u001b[01;34mUnder Armour Kids\u001b[0m/\r\n",
      "drwxrwxr-x 2 hminle 12288  4월 23 13:42 \u001b[01;34mVans\u001b[0m/\r\n",
      "drwxrwxr-x 2 hminle 12288  4월 23 13:42 \u001b[01;34mVans Kids\u001b[0m/\r\n",
      "drwxrwxr-x 2 hminle  4096  4월 23 13:42 \u001b[01;34mVasque\u001b[0m/\r\n",
      "drwxrwxr-x 2 hminle  4096  4월 23 13:42 \u001b[01;34mVenettini Kids\u001b[0m/\r\n",
      "drwxrwxr-x 2 hminle  4096  4월 23 13:42 \u001b[01;34mVersace Collection\u001b[0m/\r\n",
      "drwxrwxr-x 2 hminle  4096  4월 23 13:42 \u001b[01;34mVibram FiveFingers\u001b[0m/\r\n",
      "drwxrwxr-x 2 hminle  4096  4월 23 13:42 \u001b[01;34mVivienne Westwood\u001b[0m/\r\n",
      "drwxrwxr-x 2 hminle  4096  4월 23 13:42 \u001b[01;34mVivobarefoot\u001b[0m/\r\n",
      "drwxrwxr-x 2 hminle  4096  4월 23 13:42 \u001b[01;34mVOLATILE\u001b[0m/\r\n",
      "drwxrwxr-x 2 hminle  4096  4월 23 13:42 \u001b[01;34mVolatile Kids\u001b[0m/\r\n",
      "drwxrwxr-x 2 hminle  4096  4월 23 13:42 \u001b[01;34mWilson\u001b[0m/\r\n",
      "drwxrwxr-x 2 hminle  4096  4월 23 13:42 \u001b[01;34mWolverine\u001b[0m/\r\n",
      "drwxrwxr-x 2 hminle  4096  4월 23 13:42 \u001b[01;34mZamberlan\u001b[0m/\r\n",
      "drwxrwxr-x 2 hminle  4096  4월 23 13:42 \u001b[01;34mZero\u001b[0m/\r\n",
      "drwxrwxr-x 2 hminle  4096  4월 23 13:42 \u001b[01;34mZigi\u001b[0m/\r\n",
      "drwxrwxr-x 2 hminle  4096  4월 23 13:42 \u001b[01;34mZoot Sports\u001b[0m/\r\n"
     ]
    }
   ],
   "source": [
    "%ll ./data/ut-zap50k/Shoes/Sneakers_and_athletic_shoes/"
   ]
  },
  {
   "cell_type": "code",
   "execution_count": 5,
   "metadata": {},
   "outputs": [],
   "source": [
    "parser = {\n",
    "    'data_path': './data/ut-zap50k/Shoes/Sneakers_and_athletic_shoes/',\n",
    "    'epochs': 100,\n",
    "    'batch_size': 64,\n",
    "    'lr': 0.0002,\n",
    "    'image_size': 136,\n",
    "    'scale_size': 64,\n",
    "    'z_dim': 100,\n",
    "    'G_features': 64,\n",
    "    'D_features': 64,\n",
    "    'image_channels': 3,\n",
    "    'beta1': 0.5,\n",
    "    'cuda': True,\n",
    "    'seed': 7,\n",
    "    'workers': 2,\n",
    "    'results': './resultsDCGAN1/'\n",
    "}\n",
    "args = argparse.Namespace(**parser)\n",
    "\n",
    "args.cuda = args.cuda and torch.cuda.is_available()\n",
    "\n",
    "if not os.path.isdir(args.data_path):\n",
    "    os.makedirs(args.data_path)\n",
    "if not os.path.isdir(args.results):\n",
    "    os.makedirs(args.results)\n",
    "    \n",
    "torch.manual_seed(args.seed)\n",
    "if args.cuda:\n",
    "    torch.cuda.manual_seed(args.seed)"
   ]
  },
  {
   "cell_type": "markdown",
   "metadata": {},
   "source": [
    "# Prepare Data"
   ]
  },
  {
   "cell_type": "markdown",
   "metadata": {},
   "source": [
    "**Note: all iamges have size 136x102**"
   ]
  },
  {
   "cell_type": "code",
   "execution_count": 6,
   "metadata": {
    "collapsed": true
   },
   "outputs": [],
   "source": [
    "from folder import ImageFolder"
   ]
  },
  {
   "cell_type": "code",
   "execution_count": 7,
   "metadata": {
    "collapsed": true
   },
   "outputs": [],
   "source": [
    "from torchvision.transforms import ToPILImage\n",
    "to_image = ToPILImage()"
   ]
  },
  {
   "cell_type": "code",
   "execution_count": 8,
   "metadata": {
    "collapsed": true
   },
   "outputs": [],
   "source": [
    "def get_loader(image_root, batch_size, scale_size, num_workers=2, shuffle=True):\n",
    "    #image_root = os.path.join(root, 'splits', split)\n",
    "    dataset = ImageFolder(root=image_root, transform=transforms.Compose([\n",
    "            transforms.Pad(34, fill=(255, 255, 255)), # padding images with (255,255,255) --> pad 255 in 3 channels\n",
    "            transforms.CenterCrop((136,136)),\n",
    "            transforms.Scale(scale_size),\n",
    "            transforms.ToTensor(),\n",
    "            #transforms.Normalize((0.5, 0.5, 0.5), (0.5, 0.5, 0.5)),\n",
    "    ]))\n",
    "\n",
    "    data_loader = torch.utils.data.DataLoader(\n",
    "        dataset, batch_size=batch_size, shuffle=shuffle, num_workers=int(num_workers))\n",
    "    #data_loader.shape = [int(num) for num in dataset[0][0].size()]\n",
    "\n",
    "    return data_loader"
   ]
  },
  {
   "cell_type": "code",
   "execution_count": 9,
   "metadata": {},
   "outputs": [
    {
     "name": "stdout",
     "output_type": "stream",
     "text": [
      "Found 12856 images in subfolders of: ./data/ut-zap50k/Shoes/Sneakers_and_athletic_shoes/\n"
     ]
    }
   ],
   "source": [
    "dataloader = get_loader(args.data_path, args.batch_size, args.scale_size)"
   ]
  },
  {
   "cell_type": "markdown",
   "metadata": {},
   "source": [
    "## Test One Image"
   ]
  },
  {
   "cell_type": "code",
   "execution_count": 10,
   "metadata": {},
   "outputs": [
    {
     "name": "stdout",
     "output_type": "stream",
     "text": [
      "\n",
      "(0 ,.,.) = \n",
      "  1.0000  1.0000  1.0000  ...   1.0000  1.0000  1.0000\n",
      "  1.0000  1.0000  1.0000  ...   1.0000  1.0000  1.0000\n",
      "  1.0000  1.0000  1.0000  ...   1.0000  1.0000  1.0000\n",
      "           ...             ⋱             ...          \n",
      "  1.0000  1.0000  1.0000  ...   1.0000  1.0000  1.0000\n",
      "  1.0000  1.0000  1.0000  ...   1.0000  1.0000  1.0000\n",
      "  1.0000  1.0000  1.0000  ...   1.0000  1.0000  1.0000\n",
      "\n",
      "(1 ,.,.) = \n",
      "  1.0000  1.0000  1.0000  ...   1.0000  1.0000  1.0000\n",
      "  1.0000  1.0000  1.0000  ...   1.0000  1.0000  1.0000\n",
      "  1.0000  1.0000  1.0000  ...   1.0000  1.0000  1.0000\n",
      "           ...             ⋱             ...          \n",
      "  1.0000  1.0000  1.0000  ...   1.0000  1.0000  1.0000\n",
      "  1.0000  1.0000  1.0000  ...   1.0000  1.0000  1.0000\n",
      "  1.0000  1.0000  1.0000  ...   1.0000  1.0000  1.0000\n",
      "\n",
      "(2 ,.,.) = \n",
      "  1.0000  1.0000  1.0000  ...   1.0000  1.0000  1.0000\n",
      "  1.0000  1.0000  1.0000  ...   1.0000  1.0000  1.0000\n",
      "  1.0000  1.0000  1.0000  ...   1.0000  1.0000  1.0000\n",
      "           ...             ⋱             ...          \n",
      "  1.0000  1.0000  1.0000  ...   1.0000  1.0000  1.0000\n",
      "  1.0000  1.0000  1.0000  ...   1.0000  1.0000  1.0000\n",
      "  1.0000  1.0000  1.0000  ...   1.0000  1.0000  1.0000\n",
      "[torch.FloatTensor of size 3x64x64]\n",
      "\n"
     ]
    }
   ],
   "source": [
    "test_image = 0\n",
    "for data, _ in dataloader:\n",
    "    print(data[0])\n",
    "    test_image = data[0]\n",
    "    break"
   ]
  },
  {
   "cell_type": "code",
   "execution_count": 11,
   "metadata": {},
   "outputs": [
    {
     "data": {
      "image/png": "[encoded data removed]",
      "text/plain": [
       "<PIL.Image.Image image mode=RGB size=64x64 at 0x7FDE71860C88>"
      ]
     },
     "execution_count": 11,
     "metadata": {},
     "output_type": "execute_result"
    }
   ],
   "source": [
    "to_image(test_image)"
   ]
  },
  {
   "cell_type": "markdown",
   "metadata": {},
   "source": [
    "# Define Model"
   ]
  },
  {
   "cell_type": "markdown",
   "metadata": {},
   "source": [
    "## Define G"
   ]
  },
  {
   "cell_type": "code",
   "execution_count": 12,
   "metadata": {
    "collapsed": true
   },
   "outputs": [],
   "source": [
    "class _netG(nn.Module):\n",
    "    def __init__(self):\n",
    "        super(_netG, self).__init__()\n",
    "        self.main = nn.Sequential(\n",
    "            # input is Z, going into a convolution\n",
    "            nn.ConvTranspose2d(args.z_dim, args.G_features * 8,\n",
    "                               4, 1, 0, bias=False),\n",
    "            nn.BatchNorm2d(args.G_features * 8),\n",
    "            nn.ReLU(True),\n",
    "            nn.ConvTranspose2d(args.G_features * 8, args.G_features * 4,\n",
    "                               4, 2, 1, bias=False),\n",
    "            nn.BatchNorm2d(args.G_features * 4),\n",
    "            nn.ReLU(True),\n",
    "            # state size. (ngf*8) x 4 x 4\n",
    "            nn.ConvTranspose2d(args.G_features * 4, args.G_features * 2,\n",
    "                               4, 2, 1, bias=False),\n",
    "            nn.BatchNorm2d(args.G_features * 2),\n",
    "            nn.ReLU(True),\n",
    "            # state size. (ngf*4) x 8 x 8\n",
    "            nn.ConvTranspose2d(args.G_features * 2, args.G_features,\n",
    "                               4, 2, 1, bias=False),\n",
    "            nn.BatchNorm2d(args.G_features),\n",
    "            nn.ReLU(True),\n",
    "            # state size. (ngf) x 16 x 16\n",
    "            nn.ConvTranspose2d(args.G_features, args.image_channels,\n",
    "                               4, 2, 1, bias=False),\n",
    "            nn.Tanh()\n",
    "            # state size. (nc) x 32 x 32\n",
    "        )\n",
    "        self._initialize_weights()\n",
    "        \n",
    "    # custom weight initialization\n",
    "    def _initialize_weights(self):\n",
    "        for m in self.modules():\n",
    "            if isinstance(m, nn.ConvTranspose2d):\n",
    "                n = m.kernel_size[0] * m.kernel_size[1] * m.out_channels\n",
    "                init.normal(m.weight, mean=0, std=0.02)\n",
    "            elif isinstance(m, nn.BatchNorm2d):\n",
    "                init.normal(m.weight, mean=1, std=0.02)\n",
    "                init.constant(m.bias, 0)\n",
    "\n",
    "    def forward(self, x):\n",
    "        return self.main(x)"
   ]
  },
  {
   "cell_type": "markdown",
   "metadata": {},
   "source": [
    "## Define D"
   ]
  },
  {
   "cell_type": "code",
   "execution_count": 13,
   "metadata": {
    "collapsed": true
   },
   "outputs": [],
   "source": [
    "class _netD(nn.Module):\n",
    "    def __init__(self):\n",
    "        super(_netD, self).__init__()\n",
    "        self.main = nn.Sequential(\n",
    "            # input is (nc) x 32 x 32\n",
    "            nn.Conv2d(args.image_channels, args.D_features,\n",
    "                      4, 2, 1, bias=False),\n",
    "            nn.LeakyReLU(0.2, inplace=True),\n",
    "            # state size. (ndf) x 16 x 16\n",
    "            nn.Conv2d(args.D_features, args.D_features * 2,\n",
    "                      4, 2, 1, bias=False),\n",
    "            nn.BatchNorm2d(args.D_features * 2),\n",
    "            nn.LeakyReLU(0.2, inplace=True),\n",
    "            # state size. (ndf*2) x 8 x 8\n",
    "            nn.Conv2d(args.D_features * 2, args.D_features * 4,\n",
    "                      4, 2, 1, bias=False),\n",
    "            nn.BatchNorm2d(args.D_features * 4),\n",
    "            nn.LeakyReLU(0.2, inplace=True),\n",
    "            nn.Conv2d(args.D_features * 4, args.D_features * 8,\n",
    "                      4, 2, 1, bias=False),\n",
    "            nn.BatchNorm2d(args.D_features * 8),\n",
    "            nn.LeakyReLU(0.2, inplace=True),\n",
    "            # state size. (ndf*4) x 4 x 4\n",
    "            nn.Conv2d(args.D_features * 8, 1, 4, 1, 0, bias=False),\n",
    "            nn.Sigmoid()\n",
    "        )\n",
    "        self._initialize_weights()\n",
    "        \n",
    "    # custom weight initialization\n",
    "    def _initialize_weights(self):\n",
    "        for m in self.modules():\n",
    "            if isinstance(m, nn.Conv2d):\n",
    "                n = m.kernel_size[0] * m.kernel_size[1] * m.out_channels\n",
    "                init.normal(m.weight, mean=0, std=0.02)\n",
    "            elif isinstance(m, nn.BatchNorm2d):\n",
    "                init.normal(m.weight, mean=1, std=0.02)\n",
    "                init.constant(m.bias, 0)\n",
    "\n",
    "    def forward(self, input):\n",
    "        output = self.main(input)\n",
    "        return output.view(-1, 1)"
   ]
  },
  {
   "cell_type": "markdown",
   "metadata": {},
   "source": [
    "## Save losses"
   ]
  },
  {
   "cell_type": "code",
   "execution_count": 14,
   "metadata": {
    "collapsed": true
   },
   "outputs": [],
   "source": [
    "class Results():\n",
    "    def __init__(self):\n",
    "        self.D_losses = []\n",
    "        self.G_losses = []\n",
    "        self.D_reals = []\n",
    "        self.D_fakes = []\n",
    "        self.G_reals = []\n",
    "    \n",
    "    def save_losses(self, D_loss, G_loss, D_real, D_fake, G_real):\n",
    "        self.D_losses.append(D_loss)\n",
    "        self.G_losses.append(G_loss)\n",
    "        self.D_reals.append(D_real)\n",
    "        self.D_fakes.append(D_fake)\n",
    "        self.G_reals.append(G_real)\n",
    "        \n",
    "    def save_to_disk(self):\n",
    "        f = open(\"./D_losses.pkl\", \"wb\")\n",
    "        pickle.dump(self.D_losses, f)\n",
    "        f= open(\"./G_losses.pkl\", \"wb\")\n",
    "        pickle.dump(self.G_losses, f)\n",
    "        f = open(\"./D_reals.pkl\", \"wb\")\n",
    "        pickle.dump(self.D_reals, f)\n",
    "        f = open(\"./D_fakes.pkl\", \"wb\")\n",
    "        pickle.dump(self.D_fakes, f)\n",
    "        f = open(\"./G_reals.pkl\", \"wb\")\n",
    "        pickle.dump(self.G_reals, f)\n",
    "        "
   ]
  },
  {
   "cell_type": "markdown",
   "metadata": {},
   "source": [
    "## Define Train and Generate"
   ]
  },
  {
   "cell_type": "code",
   "execution_count": 15,
   "metadata": {
    "collapsed": true
   },
   "outputs": [],
   "source": [
    "def train(args, data_loader, netG, netD, G_optimizer, D_optimizer,\n",
    "          criterion, epoch, result_losses):\n",
    "    D_losses = AverageValueMeter()\n",
    "    G_losses = AverageValueMeter()\n",
    "    D_reals = AverageValueMeter()\n",
    "    D_fakes = AverageValueMeter()\n",
    "    G_reals = AverageValueMeter()\n",
    "    \n",
    "    start = time.time()\n",
    "    # call Variable after .cuda()\n",
    "    for i, (real, _) in enumerate(data_loader):\n",
    "        batch_size = real.size(0)\n",
    "        real_label = torch.ones(batch_size)\n",
    "        fake_label = torch.zeros(batch_size)\n",
    "        z = torch.randn(batch_size, args.z_dim, 1, 1)\n",
    "        if args.cuda:\n",
    "            real_label = real_label.cuda()\n",
    "            fake_label = fake_label.cuda()\n",
    "            real = real.cuda()\n",
    "            z = z.cuda()\n",
    "        real_label = Variable(real_label)\n",
    "        fake_label = Variable(fake_label)\n",
    "        real = Variable(real)\n",
    "        z = Variable(z)\n",
    "        \n",
    "        real_output = netD(real)\n",
    "        D_real_loss = criterion(real_output, real_label)\n",
    "        D_real = real_output.data.mean()\n",
    "        \n",
    "        fake = netG(z)\n",
    "        fake_output = netD(fake.detach())\n",
    "        D_fake_loss = criterion(fake_output, fake_label)\n",
    "        D_fake = fake_output.data.mean()\n",
    "        \n",
    "        D_loss = D_real_loss + D_fake_loss\n",
    "        netD.zero_grad()\n",
    "        D_loss.backward()\n",
    "        D_optimizer.step()\n",
    "        \n",
    "        output = netD(fake)\n",
    "        G_loss = criterion(output, real_label)\n",
    "        G_real = output.data.mean()\n",
    "        netG.zero_grad()\n",
    "        G_loss.backward()\n",
    "        G_optimizer.step()\n",
    "        \n",
    "        D_losses.add(D_loss.data.cpu()[0] * batch_size, batch_size)\n",
    "        G_losses.add(G_loss.data.cpu()[0] * batch_size, batch_size)\n",
    "        D_reals.add(D_real * batch_size, batch_size)\n",
    "        D_fakes.add(D_fake * batch_size, batch_size)\n",
    "        G_reals.add(G_real * batch_size, batch_size)\n",
    "        \n",
    "    print(\"=> EPOCH {} | Time: {}s | D_loss: {:.4f} | G_loss: {:.4f}\"\n",
    "          \" | D_real: {:.4f} | D_fake: {:.4f} | G_real: {:.4f}\"\n",
    "          .format(epoch, round(time.time()-start), D_losses.value()[0],\n",
    "                  G_losses.value()[0], D_reals.value()[0],\n",
    "                  D_fakes.value()[0], G_reals.value()[0]))\n",
    "    result_losses.save_losses(D_losses.value()[0],\n",
    "                  G_losses.value()[0], D_reals.value()[0],\n",
    "                  D_fakes.value()[0], G_reals.value()[0])"
   ]
  },
  {
   "cell_type": "code",
   "execution_count": 16,
   "metadata": {
    "collapsed": true
   },
   "outputs": [],
   "source": [
    "def generate(args, netG, epoch):\n",
    "    z = torch.randn(args.batch_size, args.z_dim, 1, 1)\n",
    "    if args.cuda:\n",
    "        z = z.cuda()\n",
    "    fake = netG(Variable(z, volatile=True))\n",
    "    save_image(fake.data.cpu(), os.path.join(args.results,\n",
    "        \"fake_sample_epoch_{:02d}.png\".format(epoch)), normalize=True)"
   ]
  },
  {
   "cell_type": "markdown",
   "metadata": {},
   "source": [
    "## Create Model, Define Loss and Optimizer"
   ]
  },
  {
   "cell_type": "code",
   "execution_count": 17,
   "metadata": {
    "collapsed": true
   },
   "outputs": [],
   "source": [
    "netG = _netG()\n",
    "netD = _netD()\n",
    "criterion = nn.BCELoss()\n",
    "if args.cuda:\n",
    "    netD.cuda()\n",
    "    netG.cuda()\n",
    "    criterion.cuda()"
   ]
  },
  {
   "cell_type": "code",
   "execution_count": 20,
   "metadata": {
    "collapsed": true
   },
   "outputs": [],
   "source": [
    "D_optimizer = optim.Adam(netD.parameters(), lr=args.lr,\n",
    "                         betas=(args.beta1, 0.999), weight_decay=1e-4)\n",
    "G_optimizer = optim.Adam(netG.parameters(), lr=args.lr,\n",
    "                         betas=(args.beta1, 0.999), weight_decay=1e-4)"
   ]
  },
  {
   "cell_type": "markdown",
   "metadata": {},
   "source": [
    "## Run Train"
   ]
  },
  {
   "cell_type": "code",
   "execution_count": 21,
   "metadata": {},
   "outputs": [
    {
     "name": "stdout",
     "output_type": "stream",
     "text": [
      "=> EPOCH 0 | Time: 143s | D_loss: 0.2206 | G_loss: 23.9915 | D_real: 0.9859 | D_fake: 0.0303 | G_real: 0.0013\n",
      "=> EPOCH 1 | Time: 47s | D_loss: 1.0799 | G_loss: 4.3799 | D_real: 0.7409 | D_fake: 0.2624 | G_real: 0.0902\n",
      "=> EPOCH 2 | Time: 47s | D_loss: 0.8152 | G_loss: 3.4816 | D_real: 0.7461 | D_fake: 0.2510 | G_real: 0.1079\n",
      "=> EPOCH 3 | Time: 47s | D_loss: 0.9464 | G_loss: 2.9468 | D_real: 0.7090 | D_fake: 0.2914 | G_real: 0.1425\n",
      "=> EPOCH 4 | Time: 47s | D_loss: 0.9055 | G_loss: 2.6887 | D_real: 0.7041 | D_fake: 0.2923 | G_real: 0.1438\n",
      "=> EPOCH 5 | Time: 47s | D_loss: 0.8779 | G_loss: 2.6318 | D_real: 0.7065 | D_fake: 0.2927 | G_real: 0.1446\n",
      "=> EPOCH 6 | Time: 47s | D_loss: 0.8918 | G_loss: 2.5981 | D_real: 0.7023 | D_fake: 0.2969 | G_real: 0.1486\n",
      "=> EPOCH 7 | Time: 47s | D_loss: 0.8839 | G_loss: 2.5348 | D_real: 0.7012 | D_fake: 0.2951 | G_real: 0.1534\n",
      "=> EPOCH 8 | Time: 47s | D_loss: 0.8784 | G_loss: 2.4825 | D_real: 0.7043 | D_fake: 0.2963 | G_real: 0.1561\n",
      "=> EPOCH 9 | Time: 47s | D_loss: 0.8769 | G_loss: 2.5812 | D_real: 0.7064 | D_fake: 0.2925 | G_real: 0.1541\n",
      "=> EPOCH 10 | Time: 47s | D_loss: 0.8629 | G_loss: 2.4370 | D_real: 0.7075 | D_fake: 0.2911 | G_real: 0.1617\n",
      "=> EPOCH 11 | Time: 47s | D_loss: 0.8614 | G_loss: 2.5457 | D_real: 0.7084 | D_fake: 0.2899 | G_real: 0.1535\n",
      "=> EPOCH 12 | Time: 47s | D_loss: 0.8869 | G_loss: 2.4629 | D_real: 0.7007 | D_fake: 0.2982 | G_real: 0.1639\n",
      "=> EPOCH 13 | Time: 47s | D_loss: 0.8848 | G_loss: 2.4384 | D_real: 0.7023 | D_fake: 0.2974 | G_real: 0.1615\n",
      "=> EPOCH 14 | Time: 47s | D_loss: 0.8495 | G_loss: 2.4766 | D_real: 0.7085 | D_fake: 0.2905 | G_real: 0.1566\n",
      "=> EPOCH 15 | Time: 47s | D_loss: 0.8399 | G_loss: 2.4673 | D_real: 0.7129 | D_fake: 0.2856 | G_real: 0.1582\n",
      "=> EPOCH 16 | Time: 47s | D_loss: 0.8339 | G_loss: 2.5531 | D_real: 0.7162 | D_fake: 0.2836 | G_real: 0.1486\n",
      "=> EPOCH 17 | Time: 47s | D_loss: 0.8435 | G_loss: 2.4309 | D_real: 0.7167 | D_fake: 0.2823 | G_real: 0.1595\n",
      "=> EPOCH 18 | Time: 47s | D_loss: 0.7591 | G_loss: 2.5851 | D_real: 0.7353 | D_fake: 0.2626 | G_real: 0.1458\n",
      "=> EPOCH 19 | Time: 47s | D_loss: 0.7264 | G_loss: 2.6646 | D_real: 0.7438 | D_fake: 0.2564 | G_real: 0.1375\n",
      "=> EPOCH 20 | Time: 47s | D_loss: 0.7826 | G_loss: 2.6414 | D_real: 0.7385 | D_fake: 0.2605 | G_real: 0.1470\n",
      "=> EPOCH 21 | Time: 47s | D_loss: 0.6352 | G_loss: 2.7624 | D_real: 0.7689 | D_fake: 0.2285 | G_real: 0.1254\n",
      "=> EPOCH 22 | Time: 47s | D_loss: 0.6561 | G_loss: 2.9216 | D_real: 0.7668 | D_fake: 0.2326 | G_real: 0.1207\n",
      "=> EPOCH 23 | Time: 47s | D_loss: 0.6263 | G_loss: 2.9080 | D_real: 0.7774 | D_fake: 0.2225 | G_real: 0.1216\n",
      "=> EPOCH 24 | Time: 47s | D_loss: 0.6145 | G_loss: 2.9434 | D_real: 0.7836 | D_fake: 0.2154 | G_real: 0.1182\n",
      "=> EPOCH 25 | Time: 47s | D_loss: 0.5396 | G_loss: 3.0490 | D_real: 0.8004 | D_fake: 0.1986 | G_real: 0.1085\n",
      "=> EPOCH 26 | Time: 47s | D_loss: 0.6619 | G_loss: 3.0109 | D_real: 0.7806 | D_fake: 0.2187 | G_real: 0.1257\n",
      "=> EPOCH 27 | Time: 47s | D_loss: 0.5295 | G_loss: 3.0608 | D_real: 0.8092 | D_fake: 0.1902 | G_real: 0.1047\n",
      "=> EPOCH 28 | Time: 47s | D_loss: 0.5237 | G_loss: 3.1191 | D_real: 0.8115 | D_fake: 0.1871 | G_real: 0.1043\n",
      "=> EPOCH 29 | Time: 47s | D_loss: 0.4700 | G_loss: 3.2751 | D_real: 0.8253 | D_fake: 0.1745 | G_real: 0.0965\n",
      "=> EPOCH 30 | Time: 47s | D_loss: 0.4781 | G_loss: 3.3895 | D_real: 0.8252 | D_fake: 0.1733 | G_real: 0.0936\n",
      "=> EPOCH 31 | Time: 47s | D_loss: 0.5192 | G_loss: 3.3813 | D_real: 0.8209 | D_fake: 0.1795 | G_real: 0.0981\n",
      "=> EPOCH 32 | Time: 47s | D_loss: 0.5041 | G_loss: 3.3512 | D_real: 0.8263 | D_fake: 0.1721 | G_real: 0.0958\n",
      "=> EPOCH 33 | Time: 47s | D_loss: 0.3525 | G_loss: 3.5186 | D_real: 0.8636 | D_fake: 0.1362 | G_real: 0.0736\n",
      "=> EPOCH 34 | Time: 47s | D_loss: 0.7511 | G_loss: 3.4246 | D_real: 0.8225 | D_fake: 0.1788 | G_real: 0.1248\n",
      "=> EPOCH 35 | Time: 47s | D_loss: 0.5863 | G_loss: 3.1153 | D_real: 0.7976 | D_fake: 0.2013 | G_real: 0.1177\n",
      "=> EPOCH 36 | Time: 47s | D_loss: 0.3156 | G_loss: 3.5711 | D_real: 0.8748 | D_fake: 0.1247 | G_real: 0.0679\n",
      "=> EPOCH 37 | Time: 47s | D_loss: 0.5850 | G_loss: 3.4176 | D_real: 0.8270 | D_fake: 0.1729 | G_real: 0.1121\n",
      "=> EPOCH 38 | Time: 47s | D_loss: 0.2718 | G_loss: 3.6507 | D_real: 0.8885 | D_fake: 0.1107 | G_real: 0.0629\n",
      "=> EPOCH 39 | Time: 47s | D_loss: 0.4323 | G_loss: 3.6769 | D_real: 0.8551 | D_fake: 0.1451 | G_real: 0.0851\n",
      "=> EPOCH 40 | Time: 47s | D_loss: 0.2962 | G_loss: 3.9142 | D_real: 0.8849 | D_fake: 0.1129 | G_real: 0.0610\n",
      "=> EPOCH 41 | Time: 47s | D_loss: 0.4506 | G_loss: 3.7676 | D_real: 0.8627 | D_fake: 0.1379 | G_real: 0.0826\n",
      "=> EPOCH 42 | Time: 47s | D_loss: 0.2559 | G_loss: 3.9129 | D_real: 0.8967 | D_fake: 0.1030 | G_real: 0.0567\n",
      "=> EPOCH 43 | Time: 47s | D_loss: 0.2450 | G_loss: 4.1300 | D_real: 0.9044 | D_fake: 0.0951 | G_real: 0.0531\n",
      "=> EPOCH 44 | Time: 47s | D_loss: 0.5811 | G_loss: 3.8122 | D_real: 0.8435 | D_fake: 0.1562 | G_real: 0.1094\n",
      "=> EPOCH 45 | Time: 47s | D_loss: 0.4010 | G_loss: 3.8415 | D_real: 0.8590 | D_fake: 0.1402 | G_real: 0.0747\n",
      "=> EPOCH 46 | Time: 47s | D_loss: 0.1737 | G_loss: 4.0509 | D_real: 0.9252 | D_fake: 0.0741 | G_real: 0.0414\n",
      "=> EPOCH 47 | Time: 47s | D_loss: 0.5973 | G_loss: 3.6141 | D_real: 0.8334 | D_fake: 0.1669 | G_real: 0.1228\n",
      "=> EPOCH 48 | Time: 47s | D_loss: 0.2551 | G_loss: 4.1071 | D_real: 0.9000 | D_fake: 0.1000 | G_real: 0.0543\n",
      "=> EPOCH 49 | Time: 47s | D_loss: 0.2703 | G_loss: 4.2085 | D_real: 0.9089 | D_fake: 0.0904 | G_real: 0.0576\n",
      "=> EPOCH 50 | Time: 47s | D_loss: 0.1998 | G_loss: 4.3238 | D_real: 0.9183 | D_fake: 0.0815 | G_real: 0.0434\n",
      "=> EPOCH 51 | Time: 47s | D_loss: 0.3647 | G_loss: 4.3420 | D_real: 0.8900 | D_fake: 0.1089 | G_real: 0.0723\n",
      "=> EPOCH 52 | Time: 47s | D_loss: 0.2555 | G_loss: 4.2130 | D_real: 0.9029 | D_fake: 0.0971 | G_real: 0.0510\n",
      "=> EPOCH 53 | Time: 47s | D_loss: 0.1346 | G_loss: 4.5032 | D_real: 0.9419 | D_fake: 0.0584 | G_real: 0.0304\n",
      "=> EPOCH 54 | Time: 47s | D_loss: 0.3843 | G_loss: 4.3013 | D_real: 0.8899 | D_fake: 0.1087 | G_real: 0.0771\n",
      "=> EPOCH 55 | Time: 47s | D_loss: 0.2061 | G_loss: 4.5085 | D_real: 0.9194 | D_fake: 0.0814 | G_real: 0.0407\n",
      "=> EPOCH 56 | Time: 47s | D_loss: 0.1182 | G_loss: 4.7595 | D_real: 0.9488 | D_fake: 0.0511 | G_real: 0.0264\n",
      "=> EPOCH 57 | Time: 47s | D_loss: 0.9216 | G_loss: 3.2775 | D_real: 0.7563 | D_fake: 0.2460 | G_real: 0.1814\n",
      "=> EPOCH 58 | Time: 47s | D_loss: 0.2623 | G_loss: 4.2870 | D_real: 0.9022 | D_fake: 0.0962 | G_real: 0.0528\n",
      "=> EPOCH 59 | Time: 47s | D_loss: 0.1455 | G_loss: 4.6465 | D_real: 0.9395 | D_fake: 0.0599 | G_real: 0.0325\n",
      "=> EPOCH 60 | Time: 47s | D_loss: 0.3025 | G_loss: 4.4923 | D_real: 0.9077 | D_fake: 0.0928 | G_real: 0.0601\n",
      "=> EPOCH 61 | Time: 47s | D_loss: 0.1667 | G_loss: 4.6357 | D_real: 0.9321 | D_fake: 0.0669 | G_real: 0.0345\n",
      "=> EPOCH 62 | Time: 47s | D_loss: 0.1366 | G_loss: 4.9086 | D_real: 0.9452 | D_fake: 0.0546 | G_real: 0.0309\n",
      "=> EPOCH 63 | Time: 47s | D_loss: 0.1433 | G_loss: 4.9705 | D_real: 0.9428 | D_fake: 0.0564 | G_real: 0.0303\n",
      "=> EPOCH 64 | Time: 47s | D_loss: 0.4344 | G_loss: 4.5697 | D_real: 0.8841 | D_fake: 0.1165 | G_real: 0.0774\n",
      "=> EPOCH 65 | Time: 47s | D_loss: 0.1702 | G_loss: 4.7317 | D_real: 0.9318 | D_fake: 0.0675 | G_real: 0.0348\n",
      "=> EPOCH 66 | Time: 47s | D_loss: 0.2662 | G_loss: 4.6779 | D_real: 0.9180 | D_fake: 0.0817 | G_real: 0.0540\n",
      "=> EPOCH 67 | Time: 47s | D_loss: 0.1142 | G_loss: 4.9505 | D_real: 0.9511 | D_fake: 0.0489 | G_real: 0.0253\n",
      "=> EPOCH 68 | Time: 47s | D_loss: 0.5589 | G_loss: 4.2564 | D_real: 0.8564 | D_fake: 0.1410 | G_real: 0.1118\n",
      "=> EPOCH 69 | Time: 47s | D_loss: 0.2649 | G_loss: 4.6040 | D_real: 0.9065 | D_fake: 0.0957 | G_real: 0.0484\n",
      "=> EPOCH 70 | Time: 47s | D_loss: 0.1773 | G_loss: 4.8394 | D_real: 0.9400 | D_fake: 0.0576 | G_real: 0.0379\n",
      "=> EPOCH 71 | Time: 47s | D_loss: 0.3207 | G_loss: 4.4266 | D_real: 0.8951 | D_fake: 0.1066 | G_real: 0.0600\n",
      "=> EPOCH 72 | Time: 47s | D_loss: 0.0771 | G_loss: 5.1141 | D_real: 0.9654 | D_fake: 0.0345 | G_real: 0.0186\n",
      "=> EPOCH 73 | Time: 47s | D_loss: 0.0507 | G_loss: 5.2943 | D_real: 0.9760 | D_fake: 0.0238 | G_real: 0.0133\n",
      "=> EPOCH 74 | Time: 47s | D_loss: 0.0534 | G_loss: 5.4917 | D_real: 0.9752 | D_fake: 0.0245 | G_real: 0.0137\n",
      "=> EPOCH 75 | Time: 47s | D_loss: 0.9413 | G_loss: 3.3537 | D_real: 0.7512 | D_fake: 0.2486 | G_real: 0.2033\n"
     ]
    },
    {
     "name": "stdout",
     "output_type": "stream",
     "text": [
      "=> EPOCH 76 | Time: 47s | D_loss: 0.1660 | G_loss: 4.9477 | D_real: 0.9342 | D_fake: 0.0657 | G_real: 0.0332\n",
      "=> EPOCH 77 | Time: 47s | D_loss: 0.1014 | G_loss: 5.2597 | D_real: 0.9576 | D_fake: 0.0424 | G_real: 0.0241\n",
      "=> EPOCH 78 | Time: 47s | D_loss: 0.0602 | G_loss: 5.3877 | D_real: 0.9726 | D_fake: 0.0272 | G_real: 0.0142\n",
      "=> EPOCH 79 | Time: 47s | D_loss: 0.0450 | G_loss: 5.5616 | D_real: 0.9788 | D_fake: 0.0211 | G_real: 0.0118\n",
      "=> EPOCH 80 | Time: 47s | D_loss: 0.5045 | G_loss: 4.6389 | D_real: 0.8637 | D_fake: 0.1358 | G_real: 0.1063\n",
      "=> EPOCH 81 | Time: 47s | D_loss: 0.5861 | G_loss: 4.0626 | D_real: 0.8260 | D_fake: 0.1739 | G_real: 0.1040\n",
      "=> EPOCH 82 | Time: 47s | D_loss: 0.1653 | G_loss: 4.9000 | D_real: 0.9359 | D_fake: 0.0636 | G_real: 0.0360\n",
      "=> EPOCH 83 | Time: 47s | D_loss: 0.0838 | G_loss: 5.2158 | D_real: 0.9635 | D_fake: 0.0368 | G_real: 0.0180\n",
      "=> EPOCH 84 | Time: 47s | D_loss: 0.0575 | G_loss: 5.4234 | D_real: 0.9739 | D_fake: 0.0261 | G_real: 0.0150\n",
      "=> EPOCH 85 | Time: 47s | D_loss: 0.0516 | G_loss: 5.5983 | D_real: 0.9764 | D_fake: 0.0233 | G_real: 0.0135\n",
      "=> EPOCH 86 | Time: 47s | D_loss: 0.3986 | G_loss: 4.8689 | D_real: 0.8910 | D_fake: 0.1088 | G_real: 0.0734\n",
      "=> EPOCH 87 | Time: 47s | D_loss: 0.2146 | G_loss: 5.3395 | D_real: 0.9281 | D_fake: 0.0721 | G_real: 0.0415\n",
      "=> EPOCH 88 | Time: 47s | D_loss: 0.0667 | G_loss: 5.4986 | D_real: 0.9702 | D_fake: 0.0294 | G_real: 0.0160\n",
      "=> EPOCH 89 | Time: 47s | D_loss: 0.0492 | G_loss: 5.7053 | D_real: 0.9774 | D_fake: 0.0225 | G_real: 0.0125\n",
      "=> EPOCH 90 | Time: 47s | D_loss: 0.3433 | G_loss: 5.1363 | D_real: 0.9125 | D_fake: 0.0872 | G_real: 0.0700\n",
      "=> EPOCH 91 | Time: 47s | D_loss: 0.1743 | G_loss: 5.3763 | D_real: 0.9355 | D_fake: 0.0647 | G_real: 0.0341\n",
      "=> EPOCH 92 | Time: 47s | D_loss: 0.2667 | G_loss: 5.3383 | D_real: 0.9184 | D_fake: 0.0812 | G_real: 0.0494\n",
      "=> EPOCH 93 | Time: 47s | D_loss: 0.0652 | G_loss: 5.6374 | D_real: 0.9711 | D_fake: 0.0286 | G_real: 0.0133\n",
      "=> EPOCH 94 | Time: 47s | D_loss: 0.0396 | G_loss: 5.7952 | D_real: 0.9815 | D_fake: 0.0184 | G_real: 0.0101\n",
      "=> EPOCH 95 | Time: 47s | D_loss: 0.3100 | G_loss: 5.4380 | D_real: 0.9114 | D_fake: 0.0889 | G_real: 0.0581\n",
      "=> EPOCH 96 | Time: 47s | D_loss: 0.0589 | G_loss: 5.7987 | D_real: 0.9742 | D_fake: 0.0258 | G_real: 0.0122\n",
      "=> EPOCH 97 | Time: 47s | D_loss: 0.1637 | G_loss: 5.8301 | D_real: 0.9460 | D_fake: 0.0536 | G_real: 0.0318\n",
      "=> EPOCH 98 | Time: 47s | D_loss: 0.3017 | G_loss: 5.3876 | D_real: 0.9166 | D_fake: 0.0831 | G_real: 0.0517\n",
      "=> EPOCH 99 | Time: 47s | D_loss: 0.0855 | G_loss: 5.7178 | D_real: 0.9642 | D_fake: 0.0360 | G_real: 0.0180\n"
     ]
    }
   ],
   "source": [
    "result_losses = Results()\n",
    "for epoch in range(0, args.epochs):\n",
    "    train(args, dataloader, netG, netD, G_optimizer, D_optimizer,\n",
    "          criterion, epoch, result_losses)\n",
    "    generate(args, netG, epoch)"
   ]
  },
  {
   "cell_type": "markdown",
   "metadata": {},
   "source": [
    "## Save loss"
   ]
  },
  {
   "cell_type": "code",
   "execution_count": 22,
   "metadata": {
    "collapsed": true
   },
   "outputs": [],
   "source": [
    "result_losses.save_to_disk()"
   ]
  },
  {
   "cell_type": "markdown",
   "metadata": {},
   "source": [
    "## Get one REAL Image"
   ]
  },
  {
   "cell_type": "code",
   "execution_count": 72,
   "metadata": {
    "collapsed": true
   },
   "outputs": [],
   "source": [
    "sample, _ = iter(dataloader).next()\n",
    "save_image(sample, os.path.join(args.results, \"real_sample.png\"))"
   ]
  }
 ],
 "metadata": {
  "kernelspec": {
   "display_name": "Python 3",
   "language": "python",
   "name": "python3"
  },
  "language_info": {
   "codemirror_mode": {
    "name": "ipython",
    "version": 3
   },
   "file_extension": ".py",
   "mimetype": "text/x-python",
   "name": "python",
   "nbconvert_exporter": "python",
   "pygments_lexer": "ipython3",
   "version": "3.5.3"
  },
  "toc": {
   "colors": {
    "hover_highlight": "#DAA520",
    "running_highlight": "#FF0000",
    "selected_highlight": "#FFD700"
   },
   "moveMenuLeft": true,
   "nav_menu": {
    "height": "246px",
    "width": "252px"
   },
   "navigate_menu": true,
   "number_sections": true,
   "sideBar": true,
   "threshold": 4,
   "toc_cell": false,
   "toc_section_display": "block",
   "toc_window_display": false
  }
 },
 "nbformat": 4,
 "nbformat_minor": 2
}
