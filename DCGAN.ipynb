{
 "cells": [
  {
   "cell_type": "markdown",
   "metadata": {},
   "source": [
    "# Build DCGAN"
   ]
  },
  {
   "cell_type": "markdown",
   "metadata": {},
   "source": [
    "## Import"
   ]
  },
  {
   "cell_type": "code",
   "execution_count": 1,
   "metadata": {
    "collapsed": true
   },
   "outputs": [],
   "source": [
    "import argparse\n",
    "import os\n",
    "import time"
   ]
  },
  {
   "cell_type": "code",
   "execution_count": 2,
   "metadata": {
    "collapsed": true
   },
   "outputs": [],
   "source": [
    "import torch\n",
    "import torch.nn as nn\n",
    "import torch.nn.init as init\n",
    "from torch.autograd import Variable\n",
    "import torch.optim as optim\n",
    "from torch.utils.data import DataLoader\n",
    "import torchvision.datasets as datasets\n",
    "import torchvision.transforms as transforms\n",
    "from torchvision.utils import save_image\n",
    "from torchnet.meter import AverageValueMeter"
   ]
  },
  {
   "cell_type": "markdown",
   "metadata": {},
   "source": [
    "## Define Arguments"
   ]
  },
  {
   "cell_type": "code",
   "execution_count": 8,
   "metadata": {
    "collapsed": true
   },
   "outputs": [
    {
     "name": "stdout",
     "output_type": "stream",
     "text": [
      "total 1564\r\n",
      "drwxrwxr-x 2 hminle  4096 Apr 22 21:32 \u001b[0m\u001b[01;34m7 For All Mankind Kids\u001b[0m/\r\n",
      "drwxrwxr-x 2 hminle  4096 Apr 22 21:32 \u001b[01;34madidas\u001b[0m/\r\n",
      "drwxrwxr-x 2 hminle  4096 Apr 22 21:32 \u001b[01;34madidas by Stella McCartney\u001b[0m/\r\n",
      "drwxrwxr-x 2 hminle  4096 Apr 22 21:32 \u001b[01;34madidas Golf\u001b[0m/\r\n",
      "drwxrwxr-x 2 hminle 12288 Apr 22 21:32 \u001b[01;34madidas Kids\u001b[0m/\r\n",
      "drwxrwxr-x 2 hminle 12288 Apr 22 21:32 \u001b[01;34madidas Originals\u001b[0m/\r\n",
      "drwxrwxr-x 2 hminle  4096 Apr 22 21:32 \u001b[01;34madidas Originals Kids\u001b[0m/\r\n",
      "drwxrwxr-x 2 hminle  4096 Apr 22 21:32 \u001b[01;34madidas Outdoor\u001b[0m/\r\n",
      "drwxrwxr-x 2 hminle 12288 Apr 22 21:32 \u001b[01;34madidas Running\u001b[0m/\r\n",
      "drwxrwxr-x 2 hminle  4096 Apr 22 21:32 \u001b[01;34madidas Y-3 by Yohji Yamamoto\u001b[0m/\r\n",
      "drwxrwxr-x 2 hminle  4096 Apr 22 21:32 \u001b[01;34mAetrex\u001b[0m/\r\n",
      "drwxrwxr-x 2 hminle  4096 Apr 22 21:32 \u001b[01;34mAgatha Ruiz De La Prada Kids\u001b[0m/\r\n",
      "drwxrwxr-x 2 hminle  4096 Apr 22 21:32 \u001b[01;34mAhnu\u001b[0m/\r\n",
      "drwxrwxr-x 2 hminle  4096 Apr 22 21:32 \u001b[01;34mALDO\u001b[0m/\r\n",
      "drwxrwxr-x 2 hminle  4096 Apr 22 21:32 \u001b[01;34mAlexander McQueen\u001b[0m/\r\n",
      "drwxrwxr-x 2 hminle  4096 Apr 22 21:32 \u001b[01;34mAllrounder by Mephisto\u001b[0m/\r\n",
      "drwxrwxr-x 2 hminle  4096 Apr 22 21:32 \u001b[01;34mAltra Zero Drop Footwear\u001b[0m/\r\n",
      "drwxrwxr-x 2 hminle  4096 Apr 22 21:32 \u001b[01;34mAmiana\u001b[0m/\r\n",
      "drwxrwxr-x 2 hminle  4096 Apr 22 21:32 \u001b[01;34mAnne Klein\u001b[0m/\r\n",
      "drwxrwxr-x 2 hminle  4096 Apr 22 21:32 \u001b[01;34mArcopedico\u001b[0m/\r\n",
      "drwxrwxr-x 2 hminle  4096 Apr 22 21:32 \u001b[01;34mAriat\u001b[0m/\r\n",
      "drwxrwxr-x 2 hminle  4096 Apr 22 21:32 \u001b[01;34mArmani Jeans\u001b[0m/\r\n",
      "drwxrwxr-x 2 hminle  4096 Apr 22 21:32 \u001b[01;34mAshworth\u001b[0m/\r\n",
      "drwxrwxr-x 2 hminle 20480 Apr 22 21:32 \u001b[01;34mASICS\u001b[0m/\r\n",
      "drwxrwxr-x 2 hminle  4096 Apr 22 21:32 \u001b[01;34mASICS Kids\u001b[0m/\r\n",
      "drwxrwxr-x 2 hminle  4096 Apr 22 21:32 \u001b[01;34mAsolo\u001b[0m/\r\n",
      "drwxrwxr-x 2 hminle  4096 Apr 22 21:32 \u001b[01;34mAster Kids\u001b[0m/\r\n",
      "drwxrwxr-x 2 hminle  4096 Apr 22 21:32 \u001b[01;34mAvia\u001b[0m/\r\n",
      "drwxrwxr-x 2 hminle  4096 Apr 22 21:32 \u001b[01;34mAxion\u001b[0m/\r\n",
      "drwxrwxr-x 2 hminle  4096 Apr 22 21:32 \u001b[01;34mBC Footwear\u001b[0m/\r\n",
      "drwxrwxr-x 2 hminle  4096 Apr 22 21:32 \u001b[01;34mBeeko\u001b[0m/\r\n",
      "drwxrwxr-x 2 hminle  4096 Apr 22 21:32 \u001b[01;34mBen Sherman\u001b[0m/\r\n",
      "drwxrwxr-x 2 hminle  4096 Apr 22 21:32 \u001b[01;34mBetsey Johnson\u001b[0m/\r\n",
      "drwxrwxr-x 2 hminle  4096 Apr 22 21:32 \u001b[01;34mBikkembergs\u001b[0m/\r\n",
      "drwxrwxr-x 2 hminle  4096 Apr 22 21:32 \u001b[01;34mBloch\u001b[0m/\r\n",
      "drwxrwxr-x 2 hminle  4096 Apr 22 21:32 \u001b[01;34mBloch Kids\u001b[0m/\r\n",
      "drwxrwxr-x 2 hminle  4096 Apr 22 21:32 \u001b[01;34mBlowfish\u001b[0m/\r\n",
      "drwxrwxr-x 2 hminle  4096 Apr 22 21:32 \u001b[01;34mBody Glove\u001b[0m/\r\n",
      "drwxrwxr-x 2 hminle  4096 Apr 22 21:32 \u001b[01;34mBogs\u001b[0m/\r\n",
      "drwxrwxr-x 2 hminle  4096 Apr 22 21:32 \u001b[01;34mBorn\u001b[0m/\r\n",
      "drwxrwxr-x 2 hminle  4096 Apr 22 21:32 \u001b[01;34mBOSS Green\u001b[0m/\r\n",
      "drwxrwxr-x 2 hminle  4096 Apr 22 21:32 \u001b[01;34mBOSS Orange\u001b[0m/\r\n",
      "drwxrwxr-x 2 hminle  4096 Apr 22 21:32 \u001b[01;34mBottega Veneta\u001b[0m/\r\n",
      "drwxrwxr-x 2 hminle 12288 Apr 22 21:32 \u001b[01;34mBrooks\u001b[0m/\r\n",
      "drwxrwxr-x 2 hminle  4096 Apr 22 21:32 \u001b[01;34mBrooks Kids\u001b[0m/\r\n",
      "drwxrwxr-x 2 hminle  4096 Apr 22 21:32 \u001b[01;34mBurberry\u001b[0m/\r\n",
      "drwxrwxr-x 2 hminle  4096 Apr 22 21:32 \u001b[01;34mCallaway\u001b[0m/\r\n",
      "drwxrwxr-x 2 hminle  4096 Apr 22 21:32 \u001b[01;34mCall it SPRING\u001b[0m/\r\n",
      "drwxrwxr-x 2 hminle  4096 Apr 22 21:32 \u001b[01;34mCalvin Klein\u001b[0m/\r\n",
      "drwxrwxr-x 2 hminle  4096 Apr 22 21:32 \u001b[01;34mCalvin Klein Jeans\u001b[0m/\r\n",
      "drwxrwxr-x 2 hminle  4096 Apr 22 21:32 \u001b[01;34mCamper\u001b[0m/\r\n",
      "drwxrwxr-x 2 hminle  4096 Apr 22 21:32 \u001b[01;34mCamper Kids\u001b[0m/\r\n",
      "drwxrwxr-x 2 hminle  4096 Apr 22 21:32 \u001b[01;34mCapezio\u001b[0m/\r\n",
      "drwxrwxr-x 2 hminle  4096 Apr 22 21:32 \u001b[01;34mCapezio Kids\u001b[0m/\r\n",
      "drwxrwxr-x 2 hminle  4096 Apr 22 21:32 \u001b[01;34mCaterpillar\u001b[0m/\r\n",
      "drwxrwxr-x 2 hminle  4096 Apr 22 21:32 \u001b[01;34mChaco\u001b[0m/\r\n",
      "drwxrwxr-x 2 hminle  4096 Apr 22 21:32 \u001b[01;34mChaco Kids\u001b[0m/\r\n",
      "drwxrwxr-x 2 hminle  4096 Apr 22 21:32 \u001b[01;34mChicago Skates\u001b[0m/\r\n",
      "drwxrwxr-x 2 hminle  4096 Apr 22 21:32 \u001b[01;34mChrome\u001b[0m/\r\n",
      "drwxrwxr-x 2 hminle  4096 Apr 22 21:32 \u001b[01;34mCienta Kids Shoes\u001b[0m/\r\n",
      "drwxrwxr-x 2 hminle  4096 Apr 22 21:32 \u001b[01;34mCirca\u001b[0m/\r\n",
      "drwxrwxr-x 2 hminle  4096 Apr 22 21:32 \u001b[01;34mCirca Kids\u001b[0m/\r\n",
      "drwxrwxr-x 2 hminle  4096 Apr 22 21:32 \u001b[01;34mClae\u001b[0m/\r\n",
      "drwxrwxr-x 2 hminle  4096 Apr 22 21:32 \u001b[01;34mClarks\u001b[0m/\r\n",
      "drwxrwxr-x 2 hminle  4096 Apr 22 21:32 \u001b[01;34mCobian\u001b[0m/\r\n",
      "drwxrwxr-x 2 hminle  4096 Apr 22 21:32 \u001b[01;34mCole Haan\u001b[0m/\r\n",
      "drwxrwxr-x 2 hminle  4096 Apr 22 21:32 \u001b[01;34mCole Haan Kids\u001b[0m/\r\n",
      "drwxrwxr-x 2 hminle  4096 Apr 22 21:32 \u001b[01;34mColumbia\u001b[0m/\r\n",
      "drwxrwxr-x 2 hminle  4096 Apr 22 21:32 \u001b[01;34mConverse\u001b[0m/\r\n",
      "drwxrwxr-x 2 hminle  4096 Apr 22 21:32 \u001b[01;34mConverse by John Varvatos\u001b[0m/\r\n",
      "drwxrwxr-x 2 hminle  4096 Apr 22 21:32 \u001b[01;34mConverse Kids\u001b[0m/\r\n",
      "drwxrwxr-x 2 hminle  4096 Apr 22 21:32 \u001b[01;34mCostume National\u001b[0m/\r\n",
      "drwxrwxr-x 2 hminle  4096 Apr 22 21:32 \u001b[01;34mCreative Recreation\u001b[0m/\r\n",
      "drwxrwxr-x 2 hminle  4096 Apr 22 21:32 \u001b[01;34mCreative Recreation Kids\u001b[0m/\r\n",
      "drwxrwxr-x 2 hminle  4096 Apr 22 21:32 \u001b[01;34mCrocs\u001b[0m/\r\n",
      "drwxrwxr-x 2 hminle  4096 Apr 22 21:32 \u001b[01;34mCrocs Kids\u001b[0m/\r\n",
      "drwxrwxr-x 2 hminle  4096 Apr 22 21:32 \u001b[01;34mCushe\u001b[0m/\r\n",
      "drwxrwxr-x 2 hminle  4096 Apr 22 21:32 \u001b[01;34mDansko\u001b[0m/\r\n",
      "drwxrwxr-x 2 hminle  4096 Apr 22 21:32 \u001b[01;34mDavid Tate\u001b[0m/\r\n",
      "drwxrwxr-x 2 hminle  4096 Apr 22 21:32 \u001b[01;34mDC\u001b[0m/\r\n",
      "drwxrwxr-x 2 hminle 12288 Apr 22 21:32 \u001b[01;34mDC Kids\u001b[0m/\r\n",
      "drwxrwxr-x 2 hminle  4096 Apr 22 21:32 \u001b[01;34mDeer Stags\u001b[0m/\r\n",
      "drwxrwxr-x 2 hminle  4096 Apr 22 21:32 \u001b[01;34mDexter Bowling\u001b[0m/\r\n",
      "drwxrwxr-x 2 hminle  4096 Apr 22 21:32 \u001b[01;34mDiadora\u001b[0m/\r\n",
      "drwxrwxr-x 2 hminle  4096 Apr 22 21:32 \u001b[01;34mDiadora Kids\u001b[0m/\r\n",
      "drwxrwxr-x 2 hminle  4096 Apr 22 21:32 \u001b[01;34mDiesel\u001b[0m/\r\n",
      "drwxrwxr-x 2 hminle  4096 Apr 22 21:32 \u001b[01;34mDirk Bikkembergs\u001b[0m/\r\n",
      "drwxrwxr-x 2 hminle  4096 Apr 22 21:32 \u001b[01;34mDKNY\u001b[0m/\r\n",
      "drwxrwxr-x 2 hminle  4096 Apr 22 21:32 \u001b[01;34mDolce & Gabbana\u001b[0m/\r\n",
      "drwxrwxr-x 2 hminle  4096 Apr 22 21:32 \u001b[01;34mDrew\u001b[0m/\r\n",
      "drwxrwxr-x 2 hminle  4096 Apr 22 21:32 \u001b[01;34mDr. Martens\u001b[0m/\r\n",
      "drwxrwxr-x 2 hminle  4096 Apr 22 21:32 \u001b[01;34mDSQUARED2\u001b[0m/\r\n",
      "drwxrwxr-x 2 hminle  4096 Apr 22 21:32 \u001b[01;34mDunham\u001b[0m/\r\n",
      "drwxrwxr-x 2 hminle  4096 Apr 22 21:32 \u001b[01;34mDVS Shoe Company\u001b[0m/\r\n",
      "drwxrwxr-x 2 hminle  4096 Apr 22 21:32 \u001b[01;34mEasy Spirit\u001b[0m/\r\n",
      "drwxrwxr-x 2 hminle  4096 Apr 22 21:32 \u001b[01;34mECCO\u001b[0m/\r\n",
      "drwxrwxr-x 2 hminle  4096 Apr 22 21:32 \u001b[01;34mECCO Golf\u001b[0m/\r\n",
      "drwxrwxr-x 2 hminle  4096 Apr 22 21:32 \u001b[01;34mEcco Kids\u001b[0m/\r\n",
      "drwxrwxr-x 2 hminle  4096 Apr 22 21:32 \u001b[01;34mECCO Sport\u001b[0m/\r\n",
      "drwxrwxr-x 2 hminle  4096 Apr 22 21:32 \u001b[01;34mEd Hardy\u001b[0m/\r\n",
      "drwxrwxr-x 2 hminle  4096 Apr 22 21:32 \u001b[01;34mEktelon\u001b[0m/\r\n",
      "drwxrwxr-x 2 hminle  4096 Apr 22 21:32 \u001b[01;34mElement\u001b[0m/\r\n",
      "drwxrwxr-x 2 hminle  4096 Apr 22 21:32 \u001b[01;34mElizabeth and James\u001b[0m/\r\n",
      "drwxrwxr-x 2 hminle  4096 Apr 22 21:32 \u001b[01;34mEl Naturalista\u001b[0m/\r\n",
      "drwxrwxr-x 2 hminle  4096 Apr 22 21:32 \u001b[01;34mEmerald by Element\u001b[0m/\r\n",
      "drwxrwxr-x 2 hminle  4096 Apr 22 21:32 \u001b[01;34mEmerica\u001b[0m/\r\n",
      "drwxrwxr-x 2 hminle  4096 Apr 22 21:32 \u001b[01;34metnies\u001b[0m/\r\n",
      "drwxrwxr-x 2 hminle  4096 Apr 22 21:32 \u001b[01;34metnies Kids\u001b[0m/\r\n",
      "drwxrwxr-x 2 hminle  4096 Apr 22 21:32 \u001b[01;34mEVOLV\u001b[0m/\r\n",
      "drwxrwxr-x 2 hminle  4096 Apr 22 21:32 \u001b[01;34mFallen\u001b[0m/\r\n",
      "drwxrwxr-x 2 hminle  4096 Apr 22 21:32 \u001b[01;34mFila\u001b[0m/\r\n",
      "drwxrwxr-x 2 hminle  4096 Apr 22 21:32 \u001b[01;34mFinn Comfort\u001b[0m/\r\n",
      "drwxrwxr-x 2 hminle  4096 Apr 22 21:32 \u001b[01;34mFitFlop\u001b[0m/\r\n",
      "drwxrwxr-x 2 hminle  4096 Apr 22 21:32 \u001b[01;34mFive Ten\u001b[0m/\r\n",
      "drwxrwxr-x 2 hminle  4096 Apr 22 21:32 \u001b[01;34mFox\u001b[0m/\r\n",
      "drwxrwxr-x 2 hminle  4096 Apr 22 21:32 \u001b[01;34mFratelli Rossetti\u001b[0m/\r\n",
      "drwxrwxr-x 2 hminle  4096 Apr 22 21:32 \u001b[01;34mFred Perry\u001b[0m/\r\n",
      "drwxrwxr-x 2 hminle  4096 Apr 22 21:32 \u001b[01;34mFrye\u001b[0m/\r\n",
      "drwxrwxr-x 2 hminle  4096 Apr 22 21:32 \u001b[01;34mFrye Kids\u001b[0m/\r\n",
      "drwxrwxr-x 2 hminle  4096 Apr 22 21:32 \u001b[01;34mGabor\u001b[0m/\r\n",
      "drwxrwxr-x 2 hminle  4096 Apr 22 21:32 \u001b[01;34mGarmont\u001b[0m/\r\n",
      "drwxrwxr-x 2 hminle  4096 Apr 22 21:32 \u001b[01;34mGBX\u001b[0m/\r\n",
      "drwxrwxr-x 2 hminle  4096 Apr 22 21:32 \u001b[01;34mGeneric Surplus\u001b[0m/\r\n",
      "drwxrwxr-x 2 hminle  4096 Apr 22 21:32 \u001b[01;34mGeox Kids\u001b[0m/\r\n",
      "drwxrwxr-x 2 hminle  4096 Apr 22 21:32 \u001b[01;34mGiro\u001b[0m/\r\n",
      "drwxrwxr-x 2 hminle  4096 Apr 22 21:32 \u001b[01;34mGiuseppe Zanotti\u001b[0m/\r\n",
      "drwxrwxr-x 2 hminle  4096 Apr 22 21:32 \u001b[01;34mGlobe\u001b[0m/\r\n",
      "drwxrwxr-x 2 hminle  4096 Apr 22 21:32 \u001b[01;34mGlobe Kids\u001b[0m/\r\n",
      "drwxrwxr-x 2 hminle  4096 Apr 22 21:32 \u001b[01;34mGola\u001b[0m/\r\n",
      "drwxrwxr-x 2 hminle  4096 Apr 22 21:32 \u001b[01;34mGoLite\u001b[0m/\r\n",
      "drwxrwxr-x 2 hminle  4096 Apr 22 21:32 \u001b[01;34mGravis\u001b[0m/\r\n",
      "drwxrwxr-x 2 hminle  4096 Apr 22 21:32 \u001b[01;34mGUESS\u001b[0m/\r\n",
      "drwxrwxr-x 2 hminle  4096 Apr 22 21:32 \u001b[01;34mGUESS Kids'\u001b[0m/\r\n",
      "drwxrwxr-x 2 hminle  4096 Apr 22 21:32 \u001b[01;34mHabitat\u001b[0m/\r\n",
      "drwxrwxr-x 2 hminle  4096 Apr 22 21:32 \u001b[01;34mHeelys\u001b[0m/\r\n",
      "drwxrwxr-x 2 hminle  4096 Apr 22 21:32 \u001b[01;34mHi-Tec\u001b[0m/\r\n",
      "drwxrwxr-x 2 hminle  4096 Apr 22 21:32 \u001b[01;34mHi-Tec Kids\u001b[0m/\r\n",
      "drwxrwxr-x 2 hminle  4096 Apr 22 21:32 \u001b[01;34mHoka One One\u001b[0m/\r\n",
      "drwxrwxr-x 2 hminle  4096 Apr 22 21:32 \u001b[01;34mHUGO\u001b[0m/\r\n",
      "drwxrwxr-x 2 hminle  4096 Apr 22 21:32 \u001b[01;34mHush Puppies\u001b[0m/\r\n",
      "drwxrwxr-x 2 hminle  4096 Apr 22 21:32 \u001b[01;34mHush Puppies Kids\u001b[0m/\r\n",
      "drwxrwxr-x 2 hminle  4096 Apr 22 21:32 \u001b[01;34minov-8\u001b[0m/\r\n",
      "drwxrwxr-x 2 hminle  4096 Apr 22 21:32 \u001b[01;34mIpath\u001b[0m/\r\n",
      "drwxrwxr-x 2 hminle  4096 Apr 22 21:32 \u001b[01;34mJ-41\u001b[0m/\r\n",
      "drwxrwxr-x 2 hminle  4096 Apr 22 21:32 \u001b[01;34mJambu\u001b[0m/\r\n",
      "drwxrwxr-x 2 hminle  4096 Apr 22 21:32 \u001b[01;34mJambu Kids\u001b[0m/\r\n",
      "drwxrwxr-x 2 hminle  4096 Apr 22 21:32 \u001b[01;34mJessica Simpson Kids\u001b[0m/\r\n",
      "drwxrwxr-x 2 hminle  4096 Apr 22 21:32 \u001b[01;34mJohn Varvatos\u001b[0m/\r\n",
      "drwxrwxr-x 2 hminle  4096 Apr 22 21:32 \u001b[01;34mJosef Seibel\u001b[0m/\r\n",
      "drwxrwxr-x 2 hminle  4096 Apr 22 21:32 \u001b[01;34mJuicy Couture\u001b[0m/\r\n",
      "drwxrwxr-x 2 hminle  4096 Apr 22 21:32 \u001b[01;34mJuicy Couture Kids\u001b[0m/\r\n",
      "drwxrwxr-x 2 hminle  4096 Apr 22 21:32 \u001b[01;34mJumping Jacks Kids\u001b[0m/\r\n",
      "drwxrwxr-x 2 hminle  4096 Apr 22 21:32 \u001b[01;34mJust Cavalli\u001b[0m/\r\n",
      "drwxrwxr-x 2 hminle  4096 Apr 22 21:32 \u001b[01;34mK2 Skates\u001b[0m/\r\n",
      "drwxrwxr-x 2 hminle  4096 Apr 22 21:32 \u001b[01;34mKalso Earth\u001b[0m/\r\n",
      "drwxrwxr-x 2 hminle  4096 Apr 22 21:32 \u001b[01;34mKamik\u001b[0m/\r\n",
      "drwxrwxr-x 2 hminle  4096 Apr 22 21:32 \u001b[01;34mKangaROOS\u001b[0m/\r\n",
      "drwxrwxr-x 2 hminle  4096 Apr 22 21:32 \u001b[01;34mKangaROOS Kids\u001b[0m/\r\n",
      "drwxrwxr-x 2 hminle  4096 Apr 22 21:32 \u001b[01;34mKeds\u001b[0m/\r\n",
      "drwxrwxr-x 2 hminle  4096 Apr 22 21:32 \u001b[01;34mKeds Kids\u001b[0m/\r\n",
      "drwxrwxr-x 2 hminle  4096 Apr 22 21:32 \u001b[01;34mKeen\u001b[0m/\r\n",
      "drwxrwxr-x 2 hminle  4096 Apr 22 21:32 \u001b[01;34mKeen Kids\u001b[0m/\r\n",
      "drwxrwxr-x 2 hminle  4096 Apr 22 21:32 \u001b[01;34mKeen Utility\u001b[0m/\r\n",
      "drwxrwxr-x 2 hminle  4096 Apr 22 21:32 \u001b[01;34mKenneth Cole New York\u001b[0m/\r\n",
      "drwxrwxr-x 2 hminle  4096 Apr 22 21:32 \u001b[01;34mKenneth Cole Reaction\u001b[0m/\r\n",
      "drwxrwxr-x 2 hminle  4096 Apr 22 21:32 \u001b[01;34mKenneth Cole Reaction Kids\u001b[0m/\r\n",
      "drwxrwxr-x 2 hminle  4096 Apr 22 21:32 \u001b[01;34mKhombu\u001b[0m/\r\n",
      "drwxrwxr-x 2 hminle  4096 Apr 22 21:32 \u001b[01;34mKid Express\u001b[0m/\r\n",
      "drwxrwxr-x 2 hminle  4096 Apr 22 21:32 \u001b[01;34mKORS Michael Kors Kids\u001b[0m/\r\n",
      "drwxrwxr-x 2 hminle  4096 Apr 22 21:32 \u001b[01;34mK-Swiss\u001b[0m/\r\n",
      "drwxrwxr-x 2 hminle  4096 Apr 22 21:32 \u001b[01;34mK-Swiss Kids\u001b[0m/\r\n",
      "drwxrwxr-x 2 hminle 12288 Apr 22 21:32 \u001b[01;34mLacoste\u001b[0m/\r\n",
      "drwxrwxr-x 2 hminle  4096 Apr 22 21:32 \u001b[01;34mLacoste Kids\u001b[0m/\r\n",
      "drwxrwxr-x 2 hminle  4096 Apr 22 21:32 \u001b[01;34mLakai\u001b[0m/\r\n",
      "drwxrwxr-x 2 hminle  4096 Apr 22 21:32 \u001b[01;34mLa Sportiva\u001b[0m/\r\n",
      "drwxrwxr-x 2 hminle  4096 Apr 22 21:32 \u001b[01;34mLevi's&#174; Kids\u001b[0m/\r\n",
      "drwxrwxr-x 2 hminle  4096 Apr 22 21:32 \u001b[01;34mLevi's&#174; Shoes\u001b[0m/\r\n",
      "drwxrwxr-x 2 hminle  4096 Apr 22 21:32 \u001b[01;34mLowa\u001b[0m/\r\n",
      "drwxrwxr-x 2 hminle  4096 Apr 22 21:32 \u001b[01;34mLugz\u001b[0m/\r\n",
      "drwxrwxr-x 2 hminle  4096 Apr 22 21:32 \u001b[01;34mMacbeth\u001b[0m/\r\n",
      "drwxrwxr-x 2 hminle  4096 Apr 22 21:32 \u001b[01;34mMadden Girl\u001b[0m/\r\n",
      "drwxrwxr-x 2 hminle  4096 Apr 22 21:32 \u001b[01;34mMarc by Marc Jacobs\u001b[0m/\r\n",
      "drwxrwxr-x 2 hminle  4096 Apr 22 21:32 \u001b[01;34mMarc Jacobs\u001b[0m/\r\n",
      "drwxrwxr-x 2 hminle  4096 Apr 22 21:32 \u001b[01;34mMephisto\u001b[0m/\r\n",
      "drwxrwxr-x 2 hminle 12288 Apr 22 21:32 \u001b[01;34mMerrell\u001b[0m/\r\n",
      "drwxrwxr-x 2 hminle  4096 Apr 22 21:32 \u001b[01;34mMerrell Kids\u001b[0m/\r\n",
      "drwxrwxr-x 2 hminle  4096 Apr 22 21:32 \u001b[01;34mMe Too Kids\u001b[0m/\r\n",
      "drwxrwxr-x 2 hminle  4096 Apr 22 21:32 \u001b[01;34mMIA\u001b[0m/\r\n",
      "drwxrwxr-x 2 hminle  4096 Apr 22 21:32 \u001b[01;34mMICHAEL Michael Kors\u001b[0m/\r\n",
      "drwxrwxr-x 2 hminle  4096 Apr 22 21:32 \u001b[01;34mMICHAEL Michael Kors Kids\u001b[0m/\r\n",
      "drwxrwxr-x 2 hminle 12288 Apr 22 21:32 \u001b[01;34mMizuno\u001b[0m/\r\n",
      "drwxrwxr-x 2 hminle  4096 Apr 22 21:32 \u001b[01;34mMizuno Kids\u001b[0m/\r\n",
      "drwxrwxr-x 2 hminle  4096 Apr 22 21:32 \u001b[01;34mMontrail\u001b[0m/\r\n",
      "drwxrwxr-x 2 hminle  4096 Apr 22 21:32 \u001b[01;34mMorgan&Milo Kids\u001b[0m/\r\n",
      "drwxrwxr-x 2 hminle  4096 Apr 22 21:32 \u001b[01;34mMoschino\u001b[0m/\r\n",
      "drwxrwxr-x 2 hminle  4096 Apr 22 21:32 \u001b[01;34mMountrek\u001b[0m/\r\n",
      "drwxrwxr-x 2 hminle  4096 Apr 22 21:32 \u001b[01;34mMOZO\u001b[0m/\r\n",
      "drwxrwxr-x 2 hminle  4096 Apr 22 21:32 \u001b[01;34mMunro American\u001b[0m/\r\n",
      "drwxrwxr-x 2 hminle  4096 Apr 22 21:32 \u001b[01;34mNative Kids Shoes\u001b[0m/\r\n",
      "drwxrwxr-x 2 hminle  4096 Apr 22 21:32 \u001b[01;34mNative Shoes\u001b[0m/\r\n",
      "drwxrwxr-x 2 hminle  4096 Apr 22 21:32 \u001b[01;34mNaturino\u001b[0m/\r\n",
      "drwxrwxr-x 2 hminle 20480 Apr 22 21:32 \u001b[01;34mNew Balance\u001b[0m/\r\n",
      "drwxrwxr-x 2 hminle  4096 Apr 22 21:32 \u001b[01;34mNew Balance Classics\u001b[0m/\r\n",
      "drwxrwxr-x 2 hminle 12288 Apr 22 21:32 \u001b[01;34mNew Balance Kids\u001b[0m/\r\n",
      "drwxrwxr-x 2 hminle  4096 Apr 22 21:32 \u001b[01;34mNewton Running\u001b[0m/\r\n",
      "drwxrwxr-x 2 hminle 36864 Apr 22 21:32 \u001b[01;34mNike\u001b[0m/\r\n",
      "drwxrwxr-x 2 hminle  4096 Apr 22 21:32 \u001b[01;34mNike Action\u001b[0m/\r\n",
      "drwxrwxr-x 2 hminle  4096 Apr 22 21:32 \u001b[01;34mNike Action Kids\u001b[0m/\r\n",
      "drwxrwxr-x 2 hminle  4096 Apr 22 21:32 \u001b[01;34mNike Golf\u001b[0m/\r\n",
      "drwxrwxr-x 2 hminle 20480 Apr 22 21:32 \u001b[01;34mNike Kids\u001b[0m/\r\n",
      "drwxrwxr-x 2 hminle  4096 Apr 22 21:32 \u001b[01;34mNine West Sneakers\u001b[0m/\r\n",
      "drwxrwxr-x 2 hminle  4096 Apr 22 21:32 \u001b[01;34mNO SOX\u001b[0m/\r\n",
      "drwxrwxr-x 2 hminle  4096 Apr 22 21:32 \u001b[01;34mNunn Bush\u001b[0m/\r\n",
      "drwxrwxr-x 2 hminle  4096 Apr 22 21:32 \u001b[01;34mNurse Mates\u001b[0m/\r\n",
      "drwxrwxr-x 2 hminle  4096 Apr 22 21:32 \u001b[01;34mOakley\u001b[0m/\r\n",
      "drwxrwxr-x 2 hminle  4096 Apr 22 21:32 \u001b[01;34mOcean Minded\u001b[0m/\r\n",
      "drwxrwxr-x 2 hminle  4096 Apr 22 21:32 \u001b[01;34mOluKai\u001b[0m/\r\n",
      "drwxrwxr-x 2 hminle  4096 Apr 22 21:32 \u001b[01;34mOluKai Kids\u001b[0m/\r\n",
      "drwxrwxr-x 2 hminle  4096 Apr 22 21:32 \u001b[01;34mO'Neill\u001b[0m/\r\n",
      "drwxrwxr-x 2 hminle  4096 Apr 22 21:32 \u001b[01;34mOnitsuka Tiger by Asics\u001b[0m/\r\n",
      "drwxrwxr-x 2 hminle  4096 Apr 22 21:32 \u001b[01;34mOnitsuka Tiger Kids by Asics\u001b[0m/\r\n",
      "drwxrwxr-x 2 hminle  4096 Apr 22 21:32 \u001b[01;34mOriginal Penguin\u001b[0m/\r\n",
      "drwxrwxr-x 2 hminle  4096 Apr 22 21:32 \u001b[01;34mOrthaheel\u001b[0m/\r\n",
      "drwxrwxr-x 2 hminle  4096 Apr 22 21:32 \u001b[01;34mOsiris\u001b[0m/\r\n",
      "drwxrwxr-x 2 hminle  4096 Apr 22 21:32 \u001b[01;34mOsiris Kids\u001b[0m/\r\n",
      "drwxrwxr-x 2 hminle  4096 Apr 22 21:32 \u001b[01;34mPablosky Kids\u001b[0m/\r\n",
      "drwxrwxr-x 2 hminle  4096 Apr 22 21:32 \u001b[01;34mPalladium\u001b[0m/\r\n",
      "drwxrwxr-x 2 hminle  4096 Apr 22 21:32 \u001b[01;34mPalladium Kids\u001b[0m/\r\n",
      "drwxrwxr-x 2 hminle  4096 Apr 22 21:32 \u001b[01;34mPatagonia\u001b[0m/\r\n",
      "drwxrwxr-x 2 hminle  4096 Apr 22 21:32 \u001b[01;34mPaul Smith\u001b[0m/\r\n",
      "drwxrwxr-x 2 hminle  4096 Apr 22 21:32 \u001b[01;34mPaul Smith Junior\u001b[0m/\r\n",
      "drwxrwxr-x 2 hminle  4096 Apr 22 21:32 \u001b[01;34mPearl Izumi\u001b[0m/\r\n",
      "drwxrwxr-x 2 hminle  4096 Apr 22 21:32 \u001b[01;34mpediped\u001b[0m/\r\n",
      "drwxrwxr-x 2 hminle  4096 Apr 22 21:32 \u001b[01;34mPF Flyers\u001b[0m/\r\n",
      "drwxrwxr-x 2 hminle  4096 Apr 22 21:32 \u001b[01;34mPF Flyers Kids\u001b[0m/\r\n",
      "drwxrwxr-x 2 hminle  4096 Apr 22 21:32 \u001b[01;34mPikolinos\u001b[0m/\r\n",
      "drwxrwxr-x 2 hminle  4096 Apr 22 21:32 \u001b[01;34mPolo Ralph Lauren\u001b[0m/\r\n",
      "drwxrwxr-x 2 hminle  4096 Apr 22 21:32 \u001b[01;34mPolo Ralph Lauren Kids\u001b[0m/\r\n",
      "drwxrwxr-x 2 hminle  4096 Apr 22 21:32 \u001b[01;34mPrimigi Kids\u001b[0m/\r\n",
      "drwxrwxr-x 2 hminle  4096 Apr 22 21:32 \u001b[01;34mPrince\u001b[0m/\r\n",
      "drwxrwxr-x 2 hminle  4096 Apr 22 21:32 \u001b[01;34mPrivo by Clarks\u001b[0m/\r\n",
      "drwxrwxr-x 2 hminle  4096 Apr 22 21:32 \u001b[01;34mPro-Keds\u001b[0m/\r\n",
      "drwxrwxr-x 2 hminle  4096 Apr 22 21:32 \u001b[01;34mPropet\u001b[0m/\r\n",
      "drwxrwxr-x 2 hminle 24576 Apr 22 21:32 \u001b[01;34mPUMA\u001b[0m/\r\n",
      "drwxrwxr-x 2 hminle 12288 Apr 22 21:32 \u001b[01;34mPuma Kids\u001b[0m/\r\n",
      "drwxrwxr-x 2 hminle  4096 Apr 22 21:32 \u001b[01;34mPUMA Sport Fashion\u001b[0m/\r\n",
      "drwxrwxr-x 2 hminle  4096 Apr 22 21:32 \u001b[01;34mQuiksilver\u001b[0m/\r\n",
      "drwxrwxr-x 2 hminle  4096 Apr 22 21:32 \u001b[01;34mRachel Zoe\u001b[0m/\r\n",
      "drwxrwxr-x 2 hminle  4096 Apr 22 21:32 \u001b[01;34mRagg Kids\u001b[0m/\r\n",
      "drwxrwxr-x 2 hminle  4096 Apr 22 21:32 \u001b[01;34mRalph Lauren Layette Kids\u001b[0m/\r\n",
      "drwxrwxr-x 2 hminle  4096 Apr 22 21:32 \u001b[01;34mReebok\u001b[0m/\r\n",
      "drwxrwxr-x 2 hminle  4096 Apr 22 21:32 \u001b[01;34mReebok Kids\u001b[0m/\r\n",
      "drwxrwxr-x 2 hminle  4096 Apr 22 21:32 \u001b[01;34mReebok Lifestyle\u001b[0m/\r\n",
      "drwxrwxr-x 2 hminle  4096 Apr 22 21:32 \u001b[01;34mReebok Team\u001b[0m/\r\n",
      "drwxrwxr-x 2 hminle  4096 Apr 22 21:32 \u001b[01;34mReef\u001b[0m/\r\n",
      "drwxrwxr-x 2 hminle  4096 Apr 22 21:32 \u001b[01;34mReport\u001b[0m/\r\n",
      "drwxrwxr-x 2 hminle  4096 Apr 22 21:32 \u001b[01;34mRieker\u001b[0m/\r\n",
      "drwxrwxr-x 2 hminle  4096 Apr 22 21:32 \u001b[01;34mRocket Dog\u001b[0m/\r\n",
      "drwxrwxr-x 2 hminle  4096 Apr 22 21:32 \u001b[01;34mRockport\u001b[0m/\r\n",
      "drwxrwxr-x 2 hminle  4096 Apr 22 21:32 \u001b[01;34mRollerblade\u001b[0m/\r\n",
      "drwxrwxr-x 2 hminle  4096 Apr 22 21:32 \u001b[01;34mRomika\u001b[0m/\r\n",
      "drwxrwxr-x 2 hminle  4096 Apr 22 21:32 \u001b[01;34mRoxy\u001b[0m/\r\n",
      "drwxrwxr-x 2 hminle  4096 Apr 22 21:32 \u001b[01;34mRyka\u001b[0m/\r\n",
      "drwxrwxr-x 2 hminle  4096 Apr 22 21:32 \u001b[01;34mSalomon\u001b[0m/\r\n",
      "drwxrwxr-x 2 hminle  4096 Apr 22 21:32 \u001b[01;34mSalomon Kids\u001b[0m/\r\n",
      "drwxrwxr-x 2 hminle  4096 Apr 22 21:32 \u001b[01;34mSalvatore Ferragamo\u001b[0m/\r\n",
      "drwxrwxr-x 2 hminle  4096 Apr 22 21:32 \u001b[01;34mSanuk\u001b[0m/\r\n",
      "drwxrwxr-x 2 hminle  4096 Apr 22 21:32 \u001b[01;34mSanuk Kids\u001b[0m/\r\n",
      "drwxrwxr-x 2 hminle 12288 Apr 22 21:32 \u001b[01;34mSaucony\u001b[0m/\r\n",
      "drwxrwxr-x 2 hminle  4096 Apr 22 21:32 \u001b[01;34mSaucony Kids\u001b[0m/\r\n",
      "drwxrwxr-x 2 hminle  4096 Apr 22 21:32 \u001b[01;34mSaucony Originals\u001b[0m/\r\n",
      "drwxrwxr-x 2 hminle  4096 Apr 22 21:32 \u001b[01;34mScarpa\u001b[0m/\r\n",
      "drwxrwxr-x 2 hminle  4096 Apr 22 21:32 \u001b[01;34mSchool Issue\u001b[0m/\r\n",
      "drwxrwxr-x 2 hminle  4096 Apr 22 21:32 \u001b[01;34mSeaVees\u001b[0m/\r\n",
      "drwxrwxr-x 2 hminle  4096 Apr 22 21:32 \u001b[01;34mSebago\u001b[0m/\r\n",
      "drwxrwxr-x 2 hminle  4096 Apr 22 21:32 \u001b[01;34mSee Kai Run Kids\u001b[0m/\r\n",
      "drwxrwxr-x 2 hminle  4096 Apr 22 21:32 \u001b[01;34mShimano\u001b[0m/\r\n",
      "drwxrwxr-x 2 hminle  4096 Apr 22 21:32 \u001b[01;34mSIDI\u001b[0m/\r\n",
      "drwxrwxr-x 2 hminle 20480 Apr 22 21:32 \u001b[01;34mSKECHERS\u001b[0m/\r\n",
      "drwxrwxr-x 2 hminle  4096 Apr 22 21:32 \u001b[01;34mSKECHERS KIDS\u001b[0m/\r\n",
      "drwxrwxr-x 2 hminle  4096 Apr 22 21:32 \u001b[01;34mSKECHERS Work\u001b[0m/\r\n",
      "drwxrwxr-x 2 hminle  4096 Apr 22 21:32 \u001b[01;34mSLVR\u001b[0m/\r\n",
      "drwxrwxr-x 2 hminle  4096 Apr 22 21:32 \u001b[01;34mSoft Style\u001b[0m/\r\n",
      "drwxrwxr-x 2 hminle  4096 Apr 22 21:32 \u001b[01;34mSpeedo\u001b[0m/\r\n",
      "drwxrwxr-x 2 hminle  4096 Apr 22 21:32 \u001b[01;34mSperry Kids\u001b[0m/\r\n",
      "drwxrwxr-x 2 hminle  4096 Apr 22 21:32 \u001b[01;34mSperry Top-Sider\u001b[0m/\r\n",
      "drwxrwxr-x 2 hminle  4096 Apr 22 21:32 \u001b[01;34mSpira\u001b[0m/\r\n",
      "drwxrwxr-x 2 hminle  4096 Apr 22 21:32 \u001b[01;34mSteve Madden\u001b[0m/\r\n",
      "drwxrwxr-x 2 hminle  4096 Apr 22 21:32 \u001b[01;34mSteve Madden Kids\u001b[0m/\r\n",
      "drwxrwxr-x 2 hminle  4096 Apr 22 21:32 \u001b[01;34mStride Rite\u001b[0m/\r\n",
      "drwxrwxr-x 2 hminle  4096 Apr 22 21:32 \u001b[01;34mStuart Weitzman\u001b[0m/\r\n",
      "drwxrwxr-x 2 hminle  4096 Apr 22 21:32 \u001b[01;34mStuart Weitzman for The Cool People\u001b[0m/\r\n",
      "drwxrwxr-x 2 hminle  4096 Apr 22 21:32 \u001b[01;34mSuperga\u001b[0m/\r\n",
      "drwxrwxr-x 2 hminle  4096 Apr 22 21:32 \u001b[01;34mSuperga Kids\u001b[0m/\r\n",
      "drwxrwxr-x 2 hminle  4096 Apr 22 21:33 \u001b[01;34mSupra\u001b[0m/\r\n",
      "drwxrwxr-x 2 hminle  4096 Apr 22 21:33 \u001b[01;34mTecnica\u001b[0m/\r\n",
      "drwxrwxr-x 2 hminle  4096 Apr 22 21:33 \u001b[01;34mTed Baker\u001b[0m/\r\n",
      "drwxrwxr-x 2 hminle  4096 Apr 22 21:33 \u001b[01;34mTeva\u001b[0m/\r\n",
      "drwxrwxr-x 2 hminle  4096 Apr 22 21:33 \u001b[01;34mTeva Kids\u001b[0m/\r\n",
      "drwxrwxr-x 2 hminle  4096 Apr 22 21:33 \u001b[01;34mThe North Face\u001b[0m/\r\n",
      "drwxrwxr-x 2 hminle  4096 Apr 22 21:33 \u001b[01;34mThe North Face Kids\u001b[0m/\r\n",
      "drwxrwxr-x 2 hminle  4096 Apr 22 21:33 \u001b[01;34mTIC TAC TOES\u001b[0m/\r\n",
      "drwxrwxr-x 2 hminle  4096 Apr 22 21:33 \u001b[01;34mTimberland\u001b[0m/\r\n",
      "drwxrwxr-x 2 hminle  4096 Apr 22 21:33 \u001b[01;34mTimberland Kids\u001b[0m/\r\n",
      "drwxrwxr-x 2 hminle  4096 Apr 22 21:33 \u001b[01;34mTimberland PRO\u001b[0m/\r\n",
      "drwxrwxr-x 2 hminle  4096 Apr 22 21:33 \u001b[01;34mTommy Bahama\u001b[0m/\r\n",
      "drwxrwxr-x 2 hminle  4096 Apr 22 21:33 \u001b[01;34mTommy Hilfiger\u001b[0m/\r\n",
      "drwxrwxr-x 2 hminle  4096 Apr 22 21:33 \u001b[01;34mTommy Hilfiger Kids\u001b[0m/\r\n",
      "drwxrwxr-x 2 hminle  4096 Apr 22 21:33 \u001b[01;34mTravis Mathew\u001b[0m/\r\n",
      "drwxrwxr-x 2 hminle  4096 Apr 22 21:33 \u001b[01;34mTretorn\u001b[0m/\r\n",
      "drwxrwxr-x 2 hminle  4096 Apr 22 21:33 \u001b[01;34mTretorn Kids\u001b[0m/\r\n",
      "drwxrwxr-x 2 hminle  4096 Apr 22 21:33 \u001b[01;34mTrue Religion\u001b[0m/\r\n",
      "drwxrwxr-x 2 hminle  4096 Apr 22 21:33 \u001b[01;34mTsubo\u001b[0m/\r\n",
      "drwxrwxr-x 2 hminle  4096 Apr 22 21:33 \u001b[01;34mTsukihoshi Kids\u001b[0m/\r\n",
      "drwxrwxr-x 2 hminle  4096 Apr 22 21:33 \u001b[01;34mTwig Kids\u001b[0m/\r\n",
      "drwxrwxr-x 2 hminle  4096 Apr 22 21:33 \u001b[01;34mUGG\u001b[0m/\r\n",
      "drwxrwxr-x 2 hminle  4096 Apr 22 21:33 \u001b[01;34mUGG Kids\u001b[0m/\r\n",
      "drwxrwxr-x 2 hminle  4096 Apr 22 21:33 \u001b[01;34mUmi Kids\u001b[0m/\r\n",
      "drwxrwxr-x 2 hminle  4096 Apr 22 21:33 \u001b[01;34mUnder Armour\u001b[0m/\r\n",
      "drwxrwxr-x 2 hminle  4096 Apr 22 21:33 \u001b[01;34mUnder Armour Kids\u001b[0m/\r\n",
      "drwxrwxr-x 2 hminle 12288 Apr 22 21:33 \u001b[01;34mVans\u001b[0m/\r\n",
      "drwxrwxr-x 2 hminle 12288 Apr 22 21:33 \u001b[01;34mVans Kids\u001b[0m/\r\n",
      "drwxrwxr-x 2 hminle  4096 Apr 22 21:33 \u001b[01;34mVasque\u001b[0m/\r\n",
      "drwxrwxr-x 2 hminle  4096 Apr 22 21:33 \u001b[01;34mVenettini Kids\u001b[0m/\r\n",
      "drwxrwxr-x 2 hminle  4096 Apr 22 21:33 \u001b[01;34mVersace Collection\u001b[0m/\r\n",
      "drwxrwxr-x 2 hminle  4096 Apr 22 21:33 \u001b[01;34mVibram FiveFingers\u001b[0m/\r\n",
      "drwxrwxr-x 2 hminle  4096 Apr 22 21:33 \u001b[01;34mVivienne Westwood\u001b[0m/\r\n",
      "drwxrwxr-x 2 hminle  4096 Apr 22 21:33 \u001b[01;34mVivobarefoot\u001b[0m/\r\n",
      "drwxrwxr-x 2 hminle  4096 Apr 22 21:33 \u001b[01;34mVOLATILE\u001b[0m/\r\n",
      "drwxrwxr-x 2 hminle  4096 Apr 22 21:33 \u001b[01;34mVolatile Kids\u001b[0m/\r\n",
      "drwxrwxr-x 2 hminle  4096 Apr 22 21:33 \u001b[01;34mWilson\u001b[0m/\r\n",
      "drwxrwxr-x 2 hminle  4096 Apr 22 21:33 \u001b[01;34mWolverine\u001b[0m/\r\n",
      "drwxrwxr-x 2 hminle  4096 Apr 22 21:33 \u001b[01;34mZamberlan\u001b[0m/\r\n",
      "drwxrwxr-x 2 hminle  4096 Apr 22 21:33 \u001b[01;34mZero\u001b[0m/\r\n",
      "drwxrwxr-x 2 hminle  4096 Apr 22 21:33 \u001b[01;34mZigi\u001b[0m/\r\n",
      "drwxrwxr-x 2 hminle  4096 Apr 22 21:33 \u001b[01;34mZoot Sports\u001b[0m/\r\n"
     ]
    }
   ],
   "source": [
    "%ll ./data/ut-zap50k/Shoes/Sneakers_and_athletic_shoes/"
   ]
  },
  {
   "cell_type": "code",
   "execution_count": 62,
   "metadata": {
    "collapsed": false
   },
   "outputs": [],
   "source": [
    "parser = {\n",
    "    'data_path': './data/ut-zap50k/Shoes/Sneakers_and_athletic_shoes/',\n",
    "    'epochs': 2,\n",
    "    'batch_size': 64,\n",
    "    'lr': 0.0002,\n",
    "    'image_size': 136,\n",
    "    'scale_size': 64,\n",
    "    'z_dim': 100,\n",
    "    'G_features': 64,\n",
    "    'D_features': 64,\n",
    "    'image_channels': 3,\n",
    "    'beta1': 0.5,\n",
    "    'cuda': False,\n",
    "    'seed': 7,\n",
    "    'workers': 2,\n",
    "    'results': './results/'\n",
    "}\n",
    "args = argparse.Namespace(**parser)\n",
    "\n",
    "args.cuda = args.cuda and torch.cuda.is_available()\n",
    "\n",
    "if not os.path.isdir(args.data_path):\n",
    "    os.makedirs(args.data_path)\n",
    "if not os.path.isdir(args.results):\n",
    "    os.makedirs(args.results)\n",
    "    \n",
    "torch.manual_seed(args.seed)\n",
    "if args.cuda:\n",
    "    torch.cuda.manual_seed(args.seed)"
   ]
  },
  {
   "cell_type": "markdown",
   "metadata": {},
   "source": [
    "## Prepare Data"
   ]
  },
  {
   "cell_type": "markdown",
   "metadata": {},
   "source": [
    "**Note: all iamges have size 136x102**"
   ]
  },
  {
   "cell_type": "code",
   "execution_count": 49,
   "metadata": {
    "collapsed": true
   },
   "outputs": [],
   "source": [
    "from folder import ImageFolder"
   ]
  },
  {
   "cell_type": "code",
   "execution_count": 50,
   "metadata": {
    "collapsed": false
   },
   "outputs": [],
   "source": [
    "from torchvision.transforms import ToPILImage\n",
    "to_image = ToPILImage()"
   ]
  },
  {
   "cell_type": "code",
   "execution_count": 63,
   "metadata": {
    "collapsed": true
   },
   "outputs": [],
   "source": [
    "def get_loader(image_root, batch_size, scale_size, num_workers=2, shuffle=True):\n",
    "    #image_root = os.path.join(root, 'splits', split)\n",
    "    dataset = ImageFolder(root=image_root, transform=transforms.Compose([\n",
    "            transforms.Pad(35, fill=(255, 255, 255)), # padding images with (255,255,255) --> pad 255 in 3 channels\n",
    "            transforms.CenterCrop((136,136)),\n",
    "            transforms.Scale(scale_size),\n",
    "            transforms.ToTensor(),\n",
    "            #transforms.Normalize((0.5, 0.5, 0.5), (0.5, 0.5, 0.5)),\n",
    "    ]))\n",
    "\n",
    "    data_loader = torch.utils.data.DataLoader(\n",
    "        dataset, batch_size=batch_size, shuffle=shuffle, num_workers=int(num_workers))\n",
    "    #data_loader.shape = [int(num) for num in dataset[0][0].size()]\n",
    "\n",
    "    return data_loader"
   ]
  },
  {
   "cell_type": "code",
   "execution_count": 64,
   "metadata": {
    "collapsed": false
   },
   "outputs": [
    {
     "name": "stdout",
     "output_type": "stream",
     "text": [
      "Found 12856 images in subfolders of: ./data/ut-zap50k/Shoes/Sneakers_and_athletic_shoes/\n"
     ]
    }
   ],
   "source": [
    "dataloader = get_loader(args.data_path, args.batch_size, args.scale_size)"
   ]
  },
  {
   "cell_type": "markdown",
   "metadata": {},
   "source": [
    "### Test One Image"
   ]
  },
  {
   "cell_type": "code",
   "execution_count": 65,
   "metadata": {
    "collapsed": false
   },
   "outputs": [
    {
     "name": "stdout",
     "output_type": "stream",
     "text": [
      "\n",
      "(0 ,.,.) = \n",
      "  1.0000  1.0000  1.0000  ...   1.0000  1.0000  1.0000\n",
      "  1.0000  1.0000  1.0000  ...   1.0000  1.0000  1.0000\n",
      "  1.0000  1.0000  1.0000  ...   1.0000  1.0000  1.0000\n",
      "           ...             ⋱             ...          \n",
      "  1.0000  1.0000  1.0000  ...   1.0000  1.0000  1.0000\n",
      "  1.0000  1.0000  1.0000  ...   1.0000  1.0000  1.0000\n",
      "  1.0000  1.0000  1.0000  ...   1.0000  1.0000  1.0000\n",
      "\n",
      "(1 ,.,.) = \n",
      "  1.0000  1.0000  1.0000  ...   1.0000  1.0000  1.0000\n",
      "  1.0000  1.0000  1.0000  ...   1.0000  1.0000  1.0000\n",
      "  1.0000  1.0000  1.0000  ...   1.0000  1.0000  1.0000\n",
      "           ...             ⋱             ...          \n",
      "  1.0000  1.0000  1.0000  ...   1.0000  1.0000  1.0000\n",
      "  1.0000  1.0000  1.0000  ...   1.0000  1.0000  1.0000\n",
      "  1.0000  1.0000  1.0000  ...   1.0000  1.0000  1.0000\n",
      "\n",
      "(2 ,.,.) = \n",
      "  1.0000  1.0000  1.0000  ...   1.0000  1.0000  1.0000\n",
      "  1.0000  1.0000  1.0000  ...   1.0000  1.0000  1.0000\n",
      "  1.0000  1.0000  1.0000  ...   1.0000  1.0000  1.0000\n",
      "           ...             ⋱             ...          \n",
      "  1.0000  1.0000  1.0000  ...   1.0000  1.0000  1.0000\n",
      "  1.0000  1.0000  1.0000  ...   1.0000  1.0000  1.0000\n",
      "  1.0000  1.0000  1.0000  ...   1.0000  1.0000  1.0000\n",
      "[torch.FloatTensor of size 3x64x64]\n",
      "\n"
     ]
    }
   ],
   "source": [
    "test_image = 0\n",
    "for data, _ in dataloader:\n",
    "    print(data[0])\n",
    "    test_image = data[0]\n",
    "    break"
   ]
  },
  {
   "cell_type": "code",
   "execution_count": 66,
   "metadata": {
    "collapsed": false
   },
   "outputs": [
    {
     "data": {
      "image/png": "[encoded data removed]",
      "text/plain": [
       "<PIL.Image.Image image mode=RGB size=64x64 at 0x7FDE6BE38F98>"
      ]
     },
     "execution_count": 66,
     "metadata": {},
     "output_type": "execute_result"
    }
   ],
   "source": [
    "to_image(test_image)"
   ]
  },
  {
   "cell_type": "markdown",
   "metadata": {},
   "source": [
    "## Define Model"
   ]
  },
  {
   "cell_type": "markdown",
   "metadata": {},
   "source": [
    "### Define G"
   ]
  },
  {
   "cell_type": "code",
   "execution_count": 38,
   "metadata": {
    "collapsed": false
   },
   "outputs": [],
   "source": [
    "class _netG(nn.Module):\n",
    "    def __init__(self):\n",
    "        super(_netG, self).__init__()\n",
    "        self.main = nn.Sequential(\n",
    "            # input is Z, going into a convolution\n",
    "            nn.ConvTranspose2d(args.z_dim, args.G_features * 8,\n",
    "                               4, 1, 0, bias=False),\n",
    "            nn.BatchNorm2d(args.G_features * 8),\n",
    "            nn.ReLU(True),\n",
    "            nn.ConvTranspose2d(args.G_features * 8, args.G_features * 4,\n",
    "                               4, 2, 1, bias=False),\n",
    "            nn.BatchNorm2d(args.G_features * 4),\n",
    "            nn.ReLU(True),\n",
    "            # state size. (ngf*8) x 4 x 4\n",
    "            nn.ConvTranspose2d(args.G_features * 4, args.G_features * 2,\n",
    "                               4, 2, 1, bias=False),\n",
    "            nn.BatchNorm2d(args.G_features * 2),\n",
    "            nn.ReLU(True),\n",
    "            # state size. (ngf*4) x 8 x 8\n",
    "            nn.ConvTranspose2d(args.G_features * 2, args.G_features,\n",
    "                               4, 2, 1, bias=False),\n",
    "            nn.BatchNorm2d(args.G_features),\n",
    "            nn.ReLU(True),\n",
    "            # state size. (ngf) x 16 x 16\n",
    "            nn.ConvTranspose2d(args.G_features, args.image_channels,\n",
    "                               4, 2, 1, bias=False),\n",
    "            nn.Tanh()\n",
    "            # state size. (nc) x 32 x 32\n",
    "        )\n",
    "        self._initialize_weights()\n",
    "        \n",
    "    # custom weight initialization\n",
    "    def _initialize_weights(self):\n",
    "        for m in self.modules():\n",
    "            if isinstance(m, nn.ConvTranspose2d):\n",
    "                n = m.kernel_size[0] * m.kernel_size[1] * m.out_channels\n",
    "                init.normal(m.weight, mean=0, std=0.02)\n",
    "            elif isinstance(m, nn.BatchNorm2d):\n",
    "                init.normal(m.weight, mean=1, std=0.02)\n",
    "                init.constant(m.bias, 0)\n",
    "\n",
    "    def forward(self, x):\n",
    "        return self.main(x)"
   ]
  },
  {
   "cell_type": "markdown",
   "metadata": {},
   "source": [
    "### Define D"
   ]
  },
  {
   "cell_type": "code",
   "execution_count": 39,
   "metadata": {
    "collapsed": true
   },
   "outputs": [],
   "source": [
    "class _netD(nn.Module):\n",
    "    def __init__(self):\n",
    "        super(_netD, self).__init__()\n",
    "        self.main = nn.Sequential(\n",
    "            # input is (nc) x 32 x 32\n",
    "            nn.Conv2d(args.image_channels, args.D_features,\n",
    "                      4, 2, 1, bias=False),\n",
    "            nn.LeakyReLU(0.2, inplace=True),\n",
    "            # state size. (ndf) x 16 x 16\n",
    "            nn.Conv2d(args.D_features, args.D_features * 2,\n",
    "                      4, 2, 1, bias=False),\n",
    "            nn.BatchNorm2d(args.D_features * 2),\n",
    "            nn.LeakyReLU(0.2, inplace=True),\n",
    "            # state size. (ndf*2) x 8 x 8\n",
    "            nn.Conv2d(args.D_features * 2, args.D_features * 4,\n",
    "                      4, 2, 1, bias=False),\n",
    "            nn.BatchNorm2d(args.D_features * 4),\n",
    "            nn.LeakyReLU(0.2, inplace=True),\n",
    "            nn.Conv2d(args.D_features * 4, args.D_features * 8,\n",
    "                      4, 2, 1, bias=False),\n",
    "            nn.BatchNorm2d(args.D_features * 8),\n",
    "            nn.LeakyReLU(0.2, inplace=True),\n",
    "            # state size. (ndf*4) x 4 x 4\n",
    "            nn.Conv2d(args.D_features * 8, 1, 4, 1, 0, bias=False),\n",
    "            nn.Sigmoid()\n",
    "        )\n",
    "        self._initialize_weights()\n",
    "        \n",
    "    # custom weight initialization\n",
    "    def _initialize_weights(self):\n",
    "        for m in self.modules():\n",
    "            if isinstance(m, nn.Conv2d):\n",
    "                n = m.kernel_size[0] * m.kernel_size[1] * m.out_channels\n",
    "                init.normal(m.weight, mean=0, std=0.02)\n",
    "            elif isinstance(m, nn.BatchNorm2d):\n",
    "                init.normal(m.weight, mean=1, std=0.02)\n",
    "                init.constant(m.bias, 0)\n",
    "\n",
    "    def forward(self, input):\n",
    "        output = self.main(input)\n",
    "        return output.view(-1, 1)"
   ]
  },
  {
   "cell_type": "markdown",
   "metadata": {},
   "source": [
    "## Define Train and Generate"
   ]
  },
  {
   "cell_type": "code",
   "execution_count": 40,
   "metadata": {
    "collapsed": true
   },
   "outputs": [],
   "source": [
    "def train(args, data_loader, netG, netD, G_optimizer, D_optimizer,\n",
    "          criterion, epoch):\n",
    "    D_losses = AverageValueMeter()\n",
    "    G_losses = AverageValueMeter()\n",
    "    D_reals = AverageValueMeter()\n",
    "    D_fakes = AverageValueMeter()\n",
    "    G_reals = AverageValueMeter()\n",
    "    \n",
    "    start = time.time()\n",
    "    # call Variable after .cuda()\n",
    "    for i, (real, _) in enumerate(data_loader):\n",
    "        batch_size = real.size(0)\n",
    "        real_label = torch.ones(batch_size)\n",
    "        fake_label = torch.zeros(batch_size)\n",
    "        z = torch.randn(batch_size, args.z_dim, 1, 1)\n",
    "        if args.cuda:\n",
    "            real_label = real_label.cuda()\n",
    "            fake_label = fake_label.cuda()\n",
    "            real = real.cuda()\n",
    "            z = z.cuda()\n",
    "        real_label = Variable(real_label)\n",
    "        fake_label = Variable(fake_label)\n",
    "        real = Variable(real)\n",
    "        z = Variable(z)\n",
    "        \n",
    "        real_output = netD(real)\n",
    "        D_real_loss = criterion(real_output, real_label)\n",
    "        D_real = real_output.data.mean()\n",
    "        \n",
    "        fake = netG(z)\n",
    "        fake_output = netD(fake.detach())\n",
    "        D_fake_loss = criterion(fake_output, fake_label)\n",
    "        D_fake = fake_output.data.mean()\n",
    "        \n",
    "        D_loss = D_real_loss + D_fake_loss\n",
    "        netD.zero_grad()\n",
    "        D_loss.backward()\n",
    "        D_optimizer.step()\n",
    "        \n",
    "        output = netD(fake)\n",
    "        G_loss = criterion(output, real_label)\n",
    "        G_real = output.data.mean()\n",
    "        netG.zero_grad()\n",
    "        G_loss.backward()\n",
    "        G_optimizer.step()\n",
    "        \n",
    "        D_losses.add(D_loss.data.cpu()[0] * batch_size, batch_size)\n",
    "        G_losses.add(G_loss.data.cpu()[0] * batch_size, batch_size)\n",
    "        D_reals.add(D_real * batch_size, batch_size)\n",
    "        D_fakes.add(D_fake * batch_size, batch_size)\n",
    "        G_reals.add(G_real * batch_size, batch_size)\n",
    "        \n",
    "    print(\"=> EPOCH {} | Time: {}s | D_loss: {:.4f} | G_loss: {:.4f}\"\n",
    "          \" | D_real: {:.4f} | D_fake: {:.4f} | G_real: {:.4f}\"\n",
    "          .format(epoch, round(time.time()-start), D_losses.value()[0],\n",
    "                  G_losses.value()[0], D_reals.value()[0],\n",
    "                  D_fakes.value()[0], G_reals.value()[0]))"
   ]
  },
  {
   "cell_type": "code",
   "execution_count": 70,
   "metadata": {
    "collapsed": true
   },
   "outputs": [],
   "source": [
    "def generate(args, netG, epoch):\n",
    "    z = torch.randn(args.batch_size, args.z_dim, 1, 1)\n",
    "    if args.cuda:\n",
    "        z = z.cuda()\n",
    "    fake = netG(Variable(z, volatile=True))\n",
    "    save_image(fake.data.cpu(), os.path.join(args.results,\n",
    "        \"fake_sample_epoch_{:02d}.png\".format(epoch)), normalize=True)"
   ]
  },
  {
   "cell_type": "markdown",
   "metadata": {},
   "source": [
    "## Create Model, Define Loss and Optimizer"
   ]
  },
  {
   "cell_type": "code",
   "execution_count": 67,
   "metadata": {
    "collapsed": true
   },
   "outputs": [],
   "source": [
    "netG = _netG()\n",
    "netD = _netD()\n",
    "criterion = nn.BCELoss()\n",
    "if args.cuda:\n",
    "    netD.cuda()\n",
    "    netG.cuda()\n",
    "    criterion.cuda()"
   ]
  },
  {
   "cell_type": "code",
   "execution_count": 68,
   "metadata": {
    "collapsed": true
   },
   "outputs": [],
   "source": [
    "D_optimizer = optim.Adam(netD.parameters(), lr=args.lr,\n",
    "                         betas=(args.beta1, 0.999))\n",
    "G_optimizer = optim.Adam(netG.parameters(), lr=args.lr,\n",
    "                         betas=(args.beta1, 0.999))"
   ]
  },
  {
   "cell_type": "markdown",
   "metadata": {},
   "source": [
    "## Run Train"
   ]
  },
  {
   "cell_type": "code",
   "execution_count": 69,
   "metadata": {
    "collapsed": false,
    "scrolled": true
   },
   "outputs": [
    {
     "name": "stdout",
     "output_type": "stream",
     "text": [
      "=> EPOCH 1 | Time: 874s | D_loss: 0.7784 | G_loss: 8.1453 | D_real: 0.8407 | D_fake: 0.1764 | G_real: 0.0300\n"
     ]
    },
    {
     "ename": "AttributeError",
     "evalue": "'Namespace' object has no attribute 'intermediate_path'",
     "output_type": "error",
     "traceback": [
      "\u001b[0;31m---------------------------------------------------------------------------\u001b[0m",
      "\u001b[0;31mAttributeError\u001b[0m                            Traceback (most recent call last)",
      "\u001b[0;32m<ipython-input-69-28de20aa8390>\u001b[0m in \u001b[0;36m<module>\u001b[0;34m()\u001b[0m\n\u001b[1;32m      2\u001b[0m     train(args, dataloader, netG, netD, G_optimizer, D_optimizer,\n\u001b[1;32m      3\u001b[0m           criterion, epoch)\n\u001b[0;32m----> 4\u001b[0;31m     \u001b[0mgenerate\u001b[0m\u001b[0;34m(\u001b[0m\u001b[0margs\u001b[0m\u001b[0;34m,\u001b[0m \u001b[0mnetG\u001b[0m\u001b[0;34m,\u001b[0m \u001b[0mepoch\u001b[0m\u001b[0;34m)\u001b[0m\u001b[0;34m\u001b[0m\u001b[0m\n\u001b[0m",
      "\u001b[0;32m<ipython-input-41-61272a491513>\u001b[0m in \u001b[0;36mgenerate\u001b[0;34m(args, netG, epoch)\u001b[0m\n\u001b[1;32m      4\u001b[0m         \u001b[0mz\u001b[0m \u001b[0;34m=\u001b[0m \u001b[0mz\u001b[0m\u001b[0;34m.\u001b[0m\u001b[0mcuda\u001b[0m\u001b[0;34m(\u001b[0m\u001b[0;34m)\u001b[0m\u001b[0;34m\u001b[0m\u001b[0m\n\u001b[1;32m      5\u001b[0m     \u001b[0mfake\u001b[0m \u001b[0;34m=\u001b[0m \u001b[0mnetG\u001b[0m\u001b[0;34m(\u001b[0m\u001b[0mVariable\u001b[0m\u001b[0;34m(\u001b[0m\u001b[0mz\u001b[0m\u001b[0;34m,\u001b[0m \u001b[0mvolatile\u001b[0m\u001b[0;34m=\u001b[0m\u001b[0;32mTrue\u001b[0m\u001b[0;34m)\u001b[0m\u001b[0;34m)\u001b[0m\u001b[0;34m\u001b[0m\u001b[0m\n\u001b[0;32m----> 6\u001b[0;31m     save_image(fake.data.cpu(), os.path.join(args.intermediate_path,\n\u001b[0m\u001b[1;32m      7\u001b[0m         \"fake_sample_epoch_{:02d}.png\".format(epoch)), normalize=True)\n",
      "\u001b[0;31mAttributeError\u001b[0m: 'Namespace' object has no attribute 'intermediate_path'"
     ]
    }
   ],
   "source": [
    "for epoch in range(1, args.epochs+1):\n",
    "    train(args, dataloader, netG, netD, G_optimizer, D_optimizer,\n",
    "          criterion, epoch)\n",
    "    generate(args, netG, epoch)"
   ]
  },
  {
   "cell_type": "markdown",
   "metadata": {},
   "source": [
    "## Get one REAL Image"
   ]
  },
  {
   "cell_type": "code",
   "execution_count": 72,
   "metadata": {
    "collapsed": true
   },
   "outputs": [],
   "source": [
    "sample, _ = iter(dataloader).next()\n",
    "save_image(sample, os.path.join(args.results, \"real_sample.png\"))"
   ]
  },
  {
   "cell_type": "code",
   "execution_count": null,
   "metadata": {
    "collapsed": true
   },
   "outputs": [],
   "source": []
  }
 ],
 "metadata": {
  "kernelspec": {
   "display_name": "Python 3",
   "language": "python",
   "name": "python3"
  },
  "language_info": {
   "codemirror_mode": {
    "name": "ipython",
    "version": 3
   },
   "file_extension": ".py",
   "mimetype": "text/x-python",
   "name": "python",
   "nbconvert_exporter": "python",
   "pygments_lexer": "ipython3",
   "version": "3.5.2"
  }
 },
 "nbformat": 4,
 "nbformat_minor": 2
}
